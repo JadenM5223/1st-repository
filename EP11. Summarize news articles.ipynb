{
 "cells": [
  {
   "cell_type": "markdown",
   "metadata": {},
   "source": [
    "# Summarize news articles"
   ]
  },
  {
   "cell_type": "code",
   "execution_count": null,
   "metadata": {},
   "outputs": [],
   "source": []
  },
  {
   "cell_type": "markdown",
   "metadata": {},
   "source": [
    "## 1. 데이터 수집"
   ]
  },
  {
   "cell_type": "code",
   "execution_count": 1,
   "metadata": {},
   "outputs": [
    {
     "name": "stderr",
     "output_type": "stream",
     "text": [
      "[nltk_data] Downloading package stopwords to /home/aiffel/nltk_data...\n",
      "[nltk_data]   Package stopwords is already up-to-date!\n"
     ]
    }
   ],
   "source": [
    "import nltk\n",
    "nltk.download('stopwords')\n",
    "\n",
    "import numpy as np\n",
    "import pandas as pd\n",
    "import os\n",
    "import re\n",
    "import matplotlib.pyplot as plt\n",
    "from nltk.corpus import stopwords\n",
    "from bs4 import BeautifulSoup \n",
    "from tensorflow.keras.preprocessing.text import Tokenizer \n",
    "from tensorflow.keras.preprocessing.sequence import pad_sequences\n",
    "import urllib.request"
   ]
  },
  {
   "cell_type": "code",
   "execution_count": 2,
   "metadata": {},
   "outputs": [],
   "source": [
    "import urllib.request\n",
    "urllib.request.urlretrieve(\"https://raw.githubusercontent.com/sunnysai12345/News_Summary/master/news_summary_more.csv\", filename=\"news_summary_more.csv\")\n",
    "data = pd.read_csv('news_summary_more.csv', encoding='iso-8859-1')"
   ]
  },
  {
   "cell_type": "code",
   "execution_count": 3,
   "metadata": {},
   "outputs": [
    {
     "data": {
      "text/html": [
       "<div>\n",
       "<style scoped>\n",
       "    .dataframe tbody tr th:only-of-type {\n",
       "        vertical-align: middle;\n",
       "    }\n",
       "\n",
       "    .dataframe tbody tr th {\n",
       "        vertical-align: top;\n",
       "    }\n",
       "\n",
       "    .dataframe thead th {\n",
       "        text-align: right;\n",
       "    }\n",
       "</style>\n",
       "<table border=\"1\" class=\"dataframe\">\n",
       "  <thead>\n",
       "    <tr style=\"text-align: right;\">\n",
       "      <th></th>\n",
       "      <th>headlines</th>\n",
       "      <th>text</th>\n",
       "    </tr>\n",
       "  </thead>\n",
       "  <tbody>\n",
       "    <tr>\n",
       "      <th>61681</th>\n",
       "      <td>Govt announces Ã¢ÂÂ¹6k crore World Bank-backe...</td>\n",
       "      <td>Union Minister Nitin Gadkari on Friday announc...</td>\n",
       "    </tr>\n",
       "    <tr>\n",
       "      <th>18887</th>\n",
       "      <td>Jacqueline, Kartik to star in Hindi remake of ...</td>\n",
       "      <td>Jacqueline Fernandez will star opposite Kartik...</td>\n",
       "    </tr>\n",
       "    <tr>\n",
       "      <th>34024</th>\n",
       "      <td>Snapchat tests rolling back its redesign after...</td>\n",
       "      <td>Photo-sharing app Snapchat has said it is test...</td>\n",
       "    </tr>\n",
       "    <tr>\n",
       "      <th>12255</th>\n",
       "      <td>Windies' 2-time WT20 winner Bravo retires from...</td>\n",
       "      <td>All-rounder Dwayne Bravo, who won World T20 in...</td>\n",
       "    </tr>\n",
       "    <tr>\n",
       "      <th>34576</th>\n",
       "      <td>India's 4 CWG medals winner recommended for Ar...</td>\n",
       "      <td>The Table Tennis Federation of India (TTFI) ha...</td>\n",
       "    </tr>\n",
       "    <tr>\n",
       "      <th>34573</th>\n",
       "      <td>Walmart nominates McDonald's CEO to its board</td>\n",
       "      <td>US-based retail giant Walmart has nominated Mc...</td>\n",
       "    </tr>\n",
       "    <tr>\n",
       "      <th>3650</th>\n",
       "      <td>Netflix's new CFO had been barred from job sho...</td>\n",
       "      <td>Netflix's new CFO Spencer Neumann, who was fir...</td>\n",
       "    </tr>\n",
       "    <tr>\n",
       "      <th>7275</th>\n",
       "      <td>How much money does govt spend to make Ã¢ÂÂ¹1...</td>\n",
       "      <td>The average cost of manufacturing a single one...</td>\n",
       "    </tr>\n",
       "    <tr>\n",
       "      <th>15899</th>\n",
       "      <td>India lifting millions out of poverty: US Pres...</td>\n",
       "      <td>US President Donald Trump today lauded India a...</td>\n",
       "    </tr>\n",
       "    <tr>\n",
       "      <th>33625</th>\n",
       "      <td>Felt sorry for Aussies, especially Smith: ABD ...</td>\n",
       "      <td>South African batsman AB de Villiers said he f...</td>\n",
       "    </tr>\n",
       "    <tr>\n",
       "      <th>73690</th>\n",
       "      <td>Mobile internet ban in Punjab, Haryana, Chandi...</td>\n",
       "      <td>Mobile internet and data services have been su...</td>\n",
       "    </tr>\n",
       "    <tr>\n",
       "      <th>678</th>\n",
       "      <td>Mine dam collapses in Brazil; 7 dead, 200 missing</td>\n",
       "      <td>At least seven people have died and around 200...</td>\n",
       "    </tr>\n",
       "    <tr>\n",
       "      <th>65335</th>\n",
       "      <td>Termination of Iran nuclear deal a real possib...</td>\n",
       "      <td>US President Donald Trump on Monday said that ...</td>\n",
       "    </tr>\n",
       "    <tr>\n",
       "      <th>51971</th>\n",
       "      <td>US once lost an active Hydrogen bomb near Spain</td>\n",
       "      <td>On January 17, 1966, a B-52 bomber crashed int...</td>\n",
       "    </tr>\n",
       "    <tr>\n",
       "      <th>36086</th>\n",
       "      <td>India to host Asia Cup in the UAE over Indo-Pa...</td>\n",
       "      <td>India will host the Asia Cup 2018 in the Unite...</td>\n",
       "    </tr>\n",
       "    <tr>\n",
       "      <th>7901</th>\n",
       "      <td>2 women pilgrims aged under 50 denied entry in...</td>\n",
       "      <td>Two women pilgrims from Andhra Pradesh, who we...</td>\n",
       "    </tr>\n",
       "    <tr>\n",
       "      <th>60966</th>\n",
       "      <td>Billionaire Warren Buffett lowers stake in IBM...</td>\n",
       "      <td>Billionaire Warren Buffett's Berkshire Hathawa...</td>\n",
       "    </tr>\n",
       "    <tr>\n",
       "      <th>66316</th>\n",
       "      <td>Woman delivers baby onboard Mumbai local train</td>\n",
       "      <td>A 26-year-old woman on Monday night gave birth...</td>\n",
       "    </tr>\n",
       "    <tr>\n",
       "      <th>53394</th>\n",
       "      <td>Startup develops world's first self-driving gr...</td>\n",
       "      <td>US-based startup Robomart has developed an on-...</td>\n",
       "    </tr>\n",
       "    <tr>\n",
       "      <th>4931</th>\n",
       "      <td>I don't believe in categorising humans: Malala...</td>\n",
       "      <td>Pakistan's Nobel laureate Malala Yousafzai sai...</td>\n",
       "    </tr>\n",
       "  </tbody>\n",
       "</table>\n",
       "</div>"
      ],
      "text/plain": [
       "                                               headlines  \\\n",
       "61681  Govt announces Ã¢ÂÂ¹6k crore World Bank-backe...   \n",
       "18887  Jacqueline, Kartik to star in Hindi remake of ...   \n",
       "34024  Snapchat tests rolling back its redesign after...   \n",
       "12255  Windies' 2-time WT20 winner Bravo retires from...   \n",
       "34576  India's 4 CWG medals winner recommended for Ar...   \n",
       "34573      Walmart nominates McDonald's CEO to its board   \n",
       "3650   Netflix's new CFO had been barred from job sho...   \n",
       "7275   How much money does govt spend to make Ã¢ÂÂ¹1...   \n",
       "15899  India lifting millions out of poverty: US Pres...   \n",
       "33625  Felt sorry for Aussies, especially Smith: ABD ...   \n",
       "73690  Mobile internet ban in Punjab, Haryana, Chandi...   \n",
       "678    Mine dam collapses in Brazil; 7 dead, 200 missing   \n",
       "65335  Termination of Iran nuclear deal a real possib...   \n",
       "51971    US once lost an active Hydrogen bomb near Spain   \n",
       "36086  India to host Asia Cup in the UAE over Indo-Pa...   \n",
       "7901   2 women pilgrims aged under 50 denied entry in...   \n",
       "60966  Billionaire Warren Buffett lowers stake in IBM...   \n",
       "66316     Woman delivers baby onboard Mumbai local train   \n",
       "53394  Startup develops world's first self-driving gr...   \n",
       "4931   I don't believe in categorising humans: Malala...   \n",
       "\n",
       "                                                    text  \n",
       "61681  Union Minister Nitin Gadkari on Friday announc...  \n",
       "18887  Jacqueline Fernandez will star opposite Kartik...  \n",
       "34024  Photo-sharing app Snapchat has said it is test...  \n",
       "12255  All-rounder Dwayne Bravo, who won World T20 in...  \n",
       "34576  The Table Tennis Federation of India (TTFI) ha...  \n",
       "34573  US-based retail giant Walmart has nominated Mc...  \n",
       "3650   Netflix's new CFO Spencer Neumann, who was fir...  \n",
       "7275   The average cost of manufacturing a single one...  \n",
       "15899  US President Donald Trump today lauded India a...  \n",
       "33625  South African batsman AB de Villiers said he f...  \n",
       "73690  Mobile internet and data services have been su...  \n",
       "678    At least seven people have died and around 200...  \n",
       "65335  US President Donald Trump on Monday said that ...  \n",
       "51971  On January 17, 1966, a B-52 bomber crashed int...  \n",
       "36086  India will host the Asia Cup 2018 in the Unite...  \n",
       "7901   Two women pilgrims from Andhra Pradesh, who we...  \n",
       "60966  Billionaire Warren Buffett's Berkshire Hathawa...  \n",
       "66316  A 26-year-old woman on Monday night gave birth...  \n",
       "53394  US-based startup Robomart has developed an on-...  \n",
       "4931   Pakistan's Nobel laureate Malala Yousafzai sai...  "
      ]
     },
     "execution_count": 3,
     "metadata": {},
     "output_type": "execute_result"
    }
   ],
   "source": [
    "data.sample(20)"
   ]
  },
  {
   "cell_type": "code",
   "execution_count": 4,
   "metadata": {},
   "outputs": [
    {
     "data": {
      "text/plain": [
       "98401"
      ]
     },
     "execution_count": 4,
     "metadata": {},
     "output_type": "execute_result"
    }
   ],
   "source": [
    "len(data)"
   ]
  },
  {
   "cell_type": "code",
   "execution_count": null,
   "metadata": {},
   "outputs": [],
   "source": []
  },
  {
   "cell_type": "markdown",
   "metadata": {},
   "source": [
    "## 2. 데이터 전처리"
   ]
  },
  {
   "cell_type": "markdown",
   "metadata": {},
   "source": [
    "### 데이터 정리"
   ]
  },
  {
   "cell_type": "code",
   "execution_count": 5,
   "metadata": {},
   "outputs": [
    {
     "name": "stdout",
     "output_type": "stream",
     "text": [
      "text 열에서 중복을 배제한 유일한 샘플의 수 : 98360\n",
      "headlines 열에서 중복을 배제한 유일한 샘플의 수 : 98280\n"
     ]
    }
   ],
   "source": [
    "# 데이터 중복 샘플 유무 확인\n",
    "print('text 열에서 중복을 배제한 유일한 샘플의 수 :', data['text'].nunique())\n",
    "print('headlines 열에서 중복을 배제한 유일한 샘플의 수 :', data['headlines'].nunique())"
   ]
  },
  {
   "cell_type": "code",
   "execution_count": 6,
   "metadata": {},
   "outputs": [
    {
     "name": "stdout",
     "output_type": "stream",
     "text": [
      "전체 샘플수 : 98360\n"
     ]
    }
   ],
   "source": [
    "# 중복 샘플 제거\n",
    "data.drop_duplicates(subset = ['text'], inplace = True)\n",
    "print('전체 샘플수 :',(len(data)))"
   ]
  },
  {
   "cell_type": "code",
   "execution_count": 7,
   "metadata": {},
   "outputs": [
    {
     "name": "stdout",
     "output_type": "stream",
     "text": [
      "headlines    0\n",
      "text         0\n",
      "dtype: int64\n"
     ]
    }
   ],
   "source": [
    "print(data.isnull().sum())"
   ]
  },
  {
   "cell_type": "code",
   "execution_count": 8,
   "metadata": {},
   "outputs": [
    {
     "name": "stdout",
     "output_type": "stream",
     "text": [
      "정규화 사전의 수:  120\n"
     ]
    }
   ],
   "source": [
    "# 불용어 제거\n",
    "contractions = {\"ain't\": \"is not\", \"aren't\": \"are not\",\"can't\": \"cannot\", \"'cause\": \"because\", \"could've\": \"could have\", \"couldn't\": \"could not\",\n",
    "                           \"didn't\": \"did not\",  \"doesn't\": \"does not\", \"don't\": \"do not\", \"hadn't\": \"had not\", \"hasn't\": \"has not\", \"haven't\": \"have not\",\n",
    "                           \"he'd\": \"he would\",\"he'll\": \"he will\", \"he's\": \"he is\", \"how'd\": \"how did\", \"how'd'y\": \"how do you\", \"how'll\": \"how will\", \"how's\": \"how is\",\n",
    "                           \"I'd\": \"I would\", \"I'd've\": \"I would have\", \"I'll\": \"I will\", \"I'll've\": \"I will have\",\"I'm\": \"I am\", \"I've\": \"I have\", \"i'd\": \"i would\",\n",
    "                           \"i'd've\": \"i would have\", \"i'll\": \"i will\",  \"i'll've\": \"i will have\",\"i'm\": \"i am\", \"i've\": \"i have\", \"isn't\": \"is not\", \"it'd\": \"it would\",\n",
    "                           \"it'd've\": \"it would have\", \"it'll\": \"it will\", \"it'll've\": \"it will have\",\"it's\": \"it is\", \"let's\": \"let us\", \"ma'am\": \"madam\",\n",
    "                           \"mayn't\": \"may not\", \"might've\": \"might have\",\"mightn't\": \"might not\",\"mightn't've\": \"might not have\", \"must've\": \"must have\",\n",
    "                           \"mustn't\": \"must not\", \"mustn't've\": \"must not have\", \"needn't\": \"need not\", \"needn't've\": \"need not have\",\"o'clock\": \"of the clock\",\n",
    "                           \"oughtn't\": \"ought not\", \"oughtn't've\": \"ought not have\", \"shan't\": \"shall not\", \"sha'n't\": \"shall not\", \"shan't've\": \"shall not have\",\n",
    "                           \"she'd\": \"she would\", \"she'd've\": \"she would have\", \"she'll\": \"she will\", \"she'll've\": \"she will have\", \"she's\": \"she is\",\n",
    "                           \"should've\": \"should have\", \"shouldn't\": \"should not\", \"shouldn't've\": \"should not have\", \"so've\": \"so have\",\"so's\": \"so as\",\n",
    "                           \"this's\": \"this is\",\"that'd\": \"that would\", \"that'd've\": \"that would have\", \"that's\": \"that is\", \"there'd\": \"there would\",\n",
    "                           \"there'd've\": \"there would have\", \"there's\": \"there is\", \"here's\": \"here is\",\"they'd\": \"they would\", \"they'd've\": \"they would have\",\n",
    "                           \"they'll\": \"they will\", \"they'll've\": \"they will have\", \"they're\": \"they are\", \"they've\": \"they have\", \"to've\": \"to have\",\n",
    "                           \"wasn't\": \"was not\", \"we'd\": \"we would\", \"we'd've\": \"we would have\", \"we'll\": \"we will\", \"we'll've\": \"we will have\", \"we're\": \"we are\",\n",
    "                           \"we've\": \"we have\", \"weren't\": \"were not\", \"what'll\": \"what will\", \"what'll've\": \"what will have\", \"what're\": \"what are\",\n",
    "                           \"what's\": \"what is\", \"what've\": \"what have\", \"when's\": \"when is\", \"when've\": \"when have\", \"where'd\": \"where did\", \"where's\": \"where is\",\n",
    "                           \"where've\": \"where have\", \"who'll\": \"who will\", \"who'll've\": \"who will have\", \"who's\": \"who is\", \"who've\": \"who have\",\n",
    "                           \"why's\": \"why is\", \"why've\": \"why have\", \"will've\": \"will have\", \"won't\": \"will not\", \"won't've\": \"will not have\",\n",
    "                           \"would've\": \"would have\", \"wouldn't\": \"would not\", \"wouldn't've\": \"would not have\", \"y'all\": \"you all\",\n",
    "                           \"y'all'd\": \"you all would\",\"y'all'd've\": \"you all would have\",\"y'all're\": \"you all are\",\"y'all've\": \"you all have\",\n",
    "                           \"you'd\": \"you would\", \"you'd've\": \"you would have\", \"you'll\": \"you will\", \"you'll've\": \"you will have\",\n",
    "                           \"you're\": \"you are\", \"you've\": \"you have\"}\n",
    "\n",
    "print(\"정규화 사전의 수: \",len(contractions))"
   ]
  },
  {
   "cell_type": "code",
   "execution_count": 9,
   "metadata": {},
   "outputs": [
    {
     "name": "stdout",
     "output_type": "stream",
     "text": [
      "불용어 개수 : 179\n",
      "['i', 'me', 'my', 'myself', 'we', 'our', 'ours', 'ourselves', 'you', \"you're\", \"you've\", \"you'll\", \"you'd\", 'your', 'yours', 'yourself', 'yourselves', 'he', 'him', 'his', 'himself', 'she', \"she's\", 'her', 'hers', 'herself', 'it', \"it's\", 'its', 'itself', 'they', 'them', 'their', 'theirs', 'themselves', 'what', 'which', 'who', 'whom', 'this', 'that', \"that'll\", 'these', 'those', 'am', 'is', 'are', 'was', 'were', 'be', 'been', 'being', 'have', 'has', 'had', 'having', 'do', 'does', 'did', 'doing', 'a', 'an', 'the', 'and', 'but', 'if', 'or', 'because', 'as', 'until', 'while', 'of', 'at', 'by', 'for', 'with', 'about', 'against', 'between', 'into', 'through', 'during', 'before', 'after', 'above', 'below', 'to', 'from', 'up', 'down', 'in', 'out', 'on', 'off', 'over', 'under', 'again', 'further', 'then', 'once', 'here', 'there', 'when', 'where', 'why', 'how', 'all', 'any', 'both', 'each', 'few', 'more', 'most', 'other', 'some', 'such', 'no', 'nor', 'not', 'only', 'own', 'same', 'so', 'than', 'too', 'very', 's', 't', 'can', 'will', 'just', 'don', \"don't\", 'should', \"should've\", 'now', 'd', 'll', 'm', 'o', 're', 've', 'y', 'ain', 'aren', \"aren't\", 'couldn', \"couldn't\", 'didn', \"didn't\", 'doesn', \"doesn't\", 'hadn', \"hadn't\", 'hasn', \"hasn't\", 'haven', \"haven't\", 'isn', \"isn't\", 'ma', 'mightn', \"mightn't\", 'mustn', \"mustn't\", 'needn', \"needn't\", 'shan', \"shan't\", 'shouldn', \"shouldn't\", 'wasn', \"wasn't\", 'weren', \"weren't\", 'won', \"won't\", 'wouldn', \"wouldn't\"]\n"
     ]
    }
   ],
   "source": [
    "print('불용어 개수 :', len(stopwords.words('english') ))\n",
    "print(stopwords.words('english'))"
   ]
  },
  {
   "cell_type": "code",
   "execution_count": 10,
   "metadata": {},
   "outputs": [],
   "source": [
    "#데이터 전처리 함수\n",
    "def preprocess_sentence(sentence, remove_stopwords=True):\n",
    "    sentence = sentence.lower() # 텍스트 소문자화\n",
    "    sentence = BeautifulSoup(sentence, \"lxml\").text # <br />, <a href = ...> 등의 html 태그 제거\n",
    "    sentence = re.sub(r'\\([^)]*\\)', '', sentence) # 괄호로 닫힌 문자열 (...) 제거 Ex) my husband (and myself!) for => my husband for\n",
    "    sentence = re.sub('\"','', sentence) # 쌍따옴표 \" 제거\n",
    "    sentence = ' '.join([contractions[t] if t in contractions else t for t in sentence.split(\" \")]) # 약어 정규화\n",
    "    sentence = re.sub(r\"'s\\b\",\"\",sentence) # 소유격 제거. Ex) roland's -> roland\n",
    "    sentence = re.sub(\"[^a-zA-Z]\", \" \", sentence) # 영어 외 문자(숫자, 특수문자 등) 공백으로 변환\n",
    "    sentence = re.sub('[m]{2,}', 'mm', sentence) # m이 3개 이상이면 2개로 변경. Ex) ummmmmmm yeah -> umm yeah\n",
    "    \n",
    "    # 불용어 제거 (Text)\n",
    "    if remove_stopwords:\n",
    "        tokens = ' '.join(word for word in sentence.split() if not word in stopwords.words('english') if len(word) > 1)\n",
    "    # 불용어 미제거 (Summary)\n",
    "    else:\n",
    "        tokens = ' '.join(word for word in sentence.split() if len(word) > 1)\n",
    "    return tokens"
   ]
  },
  {
   "cell_type": "code",
   "execution_count": 11,
   "metadata": {},
   "outputs": [
    {
     "name": "stdout",
     "output_type": "stream",
     "text": [
      "everything bought great infact ordered twice third ordered wasfor mother father\n",
      "great way to start the day\n"
     ]
    }
   ],
   "source": [
    "temp_text = 'Everything I bought was great, infact I ordered twice and the third ordered was<br />for my mother and father.'\n",
    "temp_headlines = 'Great way to start (or finish) the day!!!'\n",
    "\n",
    "print(preprocess_sentence(temp_text))\n",
    "print(preprocess_sentence(temp_headlines, False))  # 불용어를 제거하지 않습니다."
   ]
  },
  {
   "cell_type": "code",
   "execution_count": 12,
   "metadata": {},
   "outputs": [
    {
     "data": {
      "text/plain": [
       "['saurav kant alumnus upgrad iiit pg program machine learning artificial intelligence sr systems engineer infosys almost years work experience program upgrad degree career support helped transition data scientist tech mahindra salary hike upgrad online power learning powered lakh careers',\n",
       " 'kunal shah credit card bill payment platform cred gave users chance win free food swiggy one year pranav kaushik delhi techie bagged reward spending cred coins users get one cred coin per rupee bill paid used avail rewards brands like ixigo bookmyshow ubereats cult fit',\n",
       " 'new zealand defeated india wickets fourth odi hamilton thursday win first match five match odi series india lost international match rohit sharma captaincy consecutive victories dating back march match witnessed india getting seventh lowest total odi cricket history',\n",
       " 'aegon life iterm insurance plan customers enjoy tax benefits premiums paid save taxes plan provides life cover age years also customers options insure critical illnesses disability accidental death benefit rider life cover age years',\n",
       " 'speaking sexual harassment allegations rajkumar hirani sonam kapoor said known hirani many years true metoo movement get derailed metoo movement always believe woman case need reserve judgment added hirani accused assistant worked sanju']"
      ]
     },
     "execution_count": 12,
     "metadata": {},
     "output_type": "execute_result"
    }
   ],
   "source": [
    "# 불용어 제거(text)\n",
    "clean_text = []\n",
    "\n",
    "# 전체 Text 데이터에 대한 전처리 : 10분 이상 시간이 걸릴 수 있습니다. \n",
    "for s in data['text']:\n",
    "    clean_text.append(preprocess_sentence(s))\n",
    "\n",
    "# 전처리 후 출력\n",
    "clean_text[:5]"
   ]
  },
  {
   "cell_type": "code",
   "execution_count": 13,
   "metadata": {},
   "outputs": [
    {
     "data": {
      "text/plain": [
       "['upgrad learner switches to career in ml al with salary hike',\n",
       " 'delhi techie wins free food from swiggy for one year on cred',\n",
       " 'new zealand end rohit sharma led india match winning streak',\n",
       " 'aegon life iterm insurance plan helps customers save tax',\n",
       " 'have known hirani for yrs what if metoo claims are not true sonam']"
      ]
     },
     "execution_count": 13,
     "metadata": {},
     "output_type": "execute_result"
    }
   ],
   "source": [
    "# # 불용어 제거(headlines)\n",
    "clean_summary = []\n",
    "\n",
    "# 전체 Summary 데이터에 대한 전처리 : 5분 이상 시간이 걸릴 수 있습니다. \n",
    "for s in data['headlines']:\n",
    "    clean_summary.append(preprocess_sentence(s, False))\n",
    "\n",
    "clean_summary[:5]"
   ]
  },
  {
   "cell_type": "code",
   "execution_count": 14,
   "metadata": {},
   "outputs": [],
   "source": [
    "# Null값 확인\n",
    "data['text'] = clean_text\n",
    "data['headlines'] = clean_summary\n",
    "\n",
    "# 빈 값을 Null 값으로 변환\n",
    "data.replace('', np.nan, inplace=True)"
   ]
  },
  {
   "cell_type": "code",
   "execution_count": 15,
   "metadata": {},
   "outputs": [
    {
     "data": {
      "text/plain": [
       "headlines    0\n",
       "text         0\n",
       "dtype: int64"
      ]
     },
     "execution_count": 15,
     "metadata": {},
     "output_type": "execute_result"
    }
   ],
   "source": [
    "data.isnull().sum()"
   ]
  },
  {
   "cell_type": "markdown",
   "metadata": {},
   "source": [
    "### 샘플의 최대 길이 정하기"
   ]
  },
  {
   "cell_type": "code",
   "execution_count": 16,
   "metadata": {},
   "outputs": [
    {
     "name": "stdout",
     "output_type": "stream",
     "text": [
      "텍스트의 최소 길이 : 1\n",
      "텍스트의 최대 길이 : 60\n",
      "텍스트의 평균 길이 : 35.09968483123221\n",
      "요약의 최소 길이 : 1\n",
      "요약의 최대 길이 : 16\n",
      "요약의 평균 길이 : 9.299532330215534\n"
     ]
    },
    {
     "data": {
      "image/png": "[encoded data removed]",
      "text/plain": [
       "<Figure size 432x288 with 2 Axes>"
      ]
     },
     "metadata": {
      "needs_background": "light"
     },
     "output_type": "display_data"
    },
    {
     "data": {
      "image/png": "[encoded data removed]",
      "text/plain": [
       "<Figure size 432x288 with 1 Axes>"
      ]
     },
     "metadata": {
      "needs_background": "light"
     },
     "output_type": "display_data"
    },
    {
     "data": {
      "image/png": "[encoded data removed]",
      "text/plain": [
       "<Figure size 432x288 with 1 Axes>"
      ]
     },
     "metadata": {
      "needs_background": "light"
     },
     "output_type": "display_data"
    }
   ],
   "source": [
    "# 길이 분포 출력\n",
    "import matplotlib.pyplot as plt\n",
    "\n",
    "text_len = [len(s.split()) for s in data['text']]\n",
    "headlines_len = [len(s.split()) for s in data['headlines']]\n",
    "\n",
    "print('텍스트의 최소 길이 : {}'.format(np.min(text_len)))\n",
    "print('텍스트의 최대 길이 : {}'.format(np.max(text_len)))\n",
    "print('텍스트의 평균 길이 : {}'.format(np.mean(text_len)))\n",
    "print('요약의 최소 길이 : {}'.format(np.min(headlines_len)))\n",
    "print('요약의 최대 길이 : {}'.format(np.max(headlines_len)))\n",
    "print('요약의 평균 길이 : {}'.format(np.mean(headlines_len)))\n",
    "\n",
    "plt.subplot(1,2,1)\n",
    "plt.boxplot(headlines_len)\n",
    "plt.title('headlines')\n",
    "plt.subplot(1,2,2)\n",
    "plt.boxplot(text_len)\n",
    "plt.title('text')\n",
    "plt.tight_layout()\n",
    "plt.show()\n",
    "\n",
    "plt.title('headlines')\n",
    "plt.hist(headlines_len, bins = 40)\n",
    "plt.xlabel('length of samples')\n",
    "plt.ylabel('number of samples')\n",
    "plt.show()\n",
    "\n",
    "plt.title('text')\n",
    "plt.hist(text_len, bins = 40)\n",
    "plt.xlabel('length of samples')\n",
    "plt.ylabel('number of samples')\n",
    "plt.show()"
   ]
  },
  {
   "cell_type": "code",
   "execution_count": 17,
   "metadata": {},
   "outputs": [],
   "source": [
    "text_max_len = 40\n",
    "headlines_max_len = 10"
   ]
  },
  {
   "cell_type": "code",
   "execution_count": 18,
   "metadata": {},
   "outputs": [],
   "source": [
    "def below_threshold_len(max_len, nested_list):\n",
    "  cnt = 0\n",
    "  for s in nested_list:\n",
    "    if(len(s.split()) <= max_len):\n",
    "        cnt = cnt + 1\n",
    "  print('전체 샘플 중 길이가 %s 이하인 샘플의 비율: %s'%(max_len, (cnt / len(nested_list))))"
   ]
  },
  {
   "cell_type": "code",
   "execution_count": 19,
   "metadata": {},
   "outputs": [
    {
     "name": "stdout",
     "output_type": "stream",
     "text": [
      "전체 샘플 중 길이가 40 이하인 샘플의 비율: 0.9238714924766165\n",
      "전체 샘플 중 길이가 10 이하인 샘플의 비율: 0.8162972753151687\n"
     ]
    }
   ],
   "source": [
    "below_threshold_len(text_max_len, data['text'])\n",
    "below_threshold_len(headlines_max_len,  data['headlines'])"
   ]
  },
  {
   "cell_type": "code",
   "execution_count": 20,
   "metadata": {},
   "outputs": [
    {
     "name": "stdout",
     "output_type": "stream",
     "text": [
      "전체 샘플수 : 74102\n"
     ]
    }
   ],
   "source": [
    "data = data[data['text'].apply(lambda x: len(x.split()) <= text_max_len)]\n",
    "data = data[data['headlines'].apply(lambda x: len(x.split()) <= headlines_max_len)]\n",
    "print('전체 샘플수 :',(len(data)))"
   ]
  },
  {
   "cell_type": "markdown",
   "metadata": {},
   "source": [
    "### 시작 토큰과 종료 토큰 추가"
   ]
  },
  {
   "cell_type": "code",
   "execution_count": 21,
   "metadata": {},
   "outputs": [
    {
     "data": {
      "text/html": [
       "<div>\n",
       "<style scoped>\n",
       "    .dataframe tbody tr th:only-of-type {\n",
       "        vertical-align: middle;\n",
       "    }\n",
       "\n",
       "    .dataframe tbody tr th {\n",
       "        vertical-align: top;\n",
       "    }\n",
       "\n",
       "    .dataframe thead th {\n",
       "        text-align: right;\n",
       "    }\n",
       "</style>\n",
       "<table border=\"1\" class=\"dataframe\">\n",
       "  <thead>\n",
       "    <tr style=\"text-align: right;\">\n",
       "      <th></th>\n",
       "      <th>headlines</th>\n",
       "      <th>text</th>\n",
       "      <th>decoder_input</th>\n",
       "      <th>decoder_target</th>\n",
       "    </tr>\n",
       "  </thead>\n",
       "  <tbody>\n",
       "    <tr>\n",
       "      <th>2</th>\n",
       "      <td>new zealand end rohit sharma led india match w...</td>\n",
       "      <td>new zealand defeated india wickets fourth odi ...</td>\n",
       "      <td>sostoken new zealand end rohit sharma led indi...</td>\n",
       "      <td>new zealand end rohit sharma led india match w...</td>\n",
       "    </tr>\n",
       "    <tr>\n",
       "      <th>3</th>\n",
       "      <td>aegon life iterm insurance plan helps customer...</td>\n",
       "      <td>aegon life iterm insurance plan customers enjo...</td>\n",
       "      <td>sostoken aegon life iterm insurance plan helps...</td>\n",
       "      <td>aegon life iterm insurance plan helps customer...</td>\n",
       "    </tr>\n",
       "    <tr>\n",
       "      <th>5</th>\n",
       "      <td>rahat fateh ali khan denies getting notice for...</td>\n",
       "      <td>pakistani singer rahat fateh ali khan denied r...</td>\n",
       "      <td>sostoken rahat fateh ali khan denies getting n...</td>\n",
       "      <td>rahat fateh ali khan denies getting notice for...</td>\n",
       "    </tr>\n",
       "    <tr>\n",
       "      <th>9</th>\n",
       "      <td>cong wins ramgarh bypoll in rajasthan takes to...</td>\n",
       "      <td>congress candidate shafia zubair ramgarh assem...</td>\n",
       "      <td>sostoken cong wins ramgarh bypoll in rajasthan...</td>\n",
       "      <td>cong wins ramgarh bypoll in rajasthan takes to...</td>\n",
       "    </tr>\n",
       "    <tr>\n",
       "      <th>10</th>\n",
       "      <td>up cousins fed human excreta for friendship wi...</td>\n",
       "      <td>two minor cousins uttar pradesh gorakhpur alle...</td>\n",
       "      <td>sostoken up cousins fed human excreta for frie...</td>\n",
       "      <td>up cousins fed human excreta for friendship wi...</td>\n",
       "    </tr>\n",
       "  </tbody>\n",
       "</table>\n",
       "</div>"
      ],
      "text/plain": [
       "                                            headlines  \\\n",
       "2   new zealand end rohit sharma led india match w...   \n",
       "3   aegon life iterm insurance plan helps customer...   \n",
       "5   rahat fateh ali khan denies getting notice for...   \n",
       "9   cong wins ramgarh bypoll in rajasthan takes to...   \n",
       "10  up cousins fed human excreta for friendship wi...   \n",
       "\n",
       "                                                 text  \\\n",
       "2   new zealand defeated india wickets fourth odi ...   \n",
       "3   aegon life iterm insurance plan customers enjo...   \n",
       "5   pakistani singer rahat fateh ali khan denied r...   \n",
       "9   congress candidate shafia zubair ramgarh assem...   \n",
       "10  two minor cousins uttar pradesh gorakhpur alle...   \n",
       "\n",
       "                                        decoder_input  \\\n",
       "2   sostoken new zealand end rohit sharma led indi...   \n",
       "3   sostoken aegon life iterm insurance plan helps...   \n",
       "5   sostoken rahat fateh ali khan denies getting n...   \n",
       "9   sostoken cong wins ramgarh bypoll in rajasthan...   \n",
       "10  sostoken up cousins fed human excreta for frie...   \n",
       "\n",
       "                                       decoder_target  \n",
       "2   new zealand end rohit sharma led india match w...  \n",
       "3   aegon life iterm insurance plan helps customer...  \n",
       "5   rahat fateh ali khan denies getting notice for...  \n",
       "9   cong wins ramgarh bypoll in rajasthan takes to...  \n",
       "10  up cousins fed human excreta for friendship wi...  "
      ]
     },
     "execution_count": 21,
     "metadata": {},
     "output_type": "execute_result"
    }
   ],
   "source": [
    "#요약 데이터에는 시작 토큰과 종료 토큰을 추가한다.\n",
    "data['decoder_input'] = data['headlines'].apply(lambda x : 'sostoken '+ x)\n",
    "data['decoder_target'] = data['headlines'].apply(lambda x : x + ' eostoken')\n",
    "data.head()"
   ]
  },
  {
   "cell_type": "code",
   "execution_count": 22,
   "metadata": {},
   "outputs": [],
   "source": [
    "# Numpy 타입으로 저장\n",
    "encoder_input = np.array(data['text']) # 인코더의 입력\n",
    "decoder_input = np.array(data['decoder_input']) # 디코더의 입력\n",
    "decoder_target = np.array(data['decoder_target']) # 디코더의 레이블"
   ]
  },
  {
   "cell_type": "markdown",
   "metadata": {},
   "source": [
    "### 훈련데이터와 테스트데이터 나누기"
   ]
  },
  {
   "cell_type": "code",
   "execution_count": 23,
   "metadata": {},
   "outputs": [
    {
     "name": "stdout",
     "output_type": "stream",
     "text": [
      "[60430  1290 52352 ... 33394 12214 46551]\n"
     ]
    }
   ],
   "source": [
    "# 정수 시퀀스 만들어 주기\n",
    "indices = np.arange(encoder_input.shape[0])\n",
    "np.random.shuffle(indices)\n",
    "print(indices)"
   ]
  },
  {
   "cell_type": "code",
   "execution_count": 24,
   "metadata": {},
   "outputs": [],
   "source": [
    "# 정수 시퀀스를 이용해 데이터의 샘플 순서를 정의\n",
    "encoder_input = encoder_input[indices]\n",
    "decoder_input = decoder_input[indices]\n",
    "decoder_target = decoder_target[indices]"
   ]
  },
  {
   "cell_type": "code",
   "execution_count": 25,
   "metadata": {},
   "outputs": [
    {
     "name": "stdout",
     "output_type": "stream",
     "text": [
      "테스트 데이터의 수 : 14820\n"
     ]
    }
   ],
   "source": [
    "# 훈련데이터, 테스트데이터 분리\n",
    "n_of_val = int(len(encoder_input)*0.2)\n",
    "print('테스트 데이터의 수 :',n_of_val)"
   ]
  },
  {
   "cell_type": "code",
   "execution_count": 26,
   "metadata": {},
   "outputs": [
    {
     "name": "stdout",
     "output_type": "stream",
     "text": [
      "훈련 데이터의 개수 : 59282\n",
      "훈련 레이블의 개수 : 59282\n",
      "테스트 데이터의 개수 : 14820\n",
      "테스트 레이블의 개수 : 14820\n"
     ]
    }
   ],
   "source": [
    "encoder_input_train = encoder_input[:-n_of_val]\n",
    "decoder_input_train = decoder_input[:-n_of_val]\n",
    "decoder_target_train = decoder_target[:-n_of_val]\n",
    "\n",
    "encoder_input_test = encoder_input[-n_of_val:]\n",
    "decoder_input_test = decoder_input[-n_of_val:]\n",
    "decoder_target_test = decoder_target[-n_of_val:]\n",
    "\n",
    "print('훈련 데이터의 개수 :', len(encoder_input_train))\n",
    "print('훈련 레이블의 개수 :',len(decoder_input_train))\n",
    "print('테스트 데이터의 개수 :',len(encoder_input_test))\n",
    "print('테스트 레이블의 개수 :',len(decoder_input_test))"
   ]
  },
  {
   "cell_type": "markdown",
   "metadata": {},
   "source": [
    "### 단어 집합 만들기"
   ]
  },
  {
   "cell_type": "code",
   "execution_count": 27,
   "metadata": {},
   "outputs": [],
   "source": [
    "src_tokenizer = Tokenizer() # 토크나이저 정의\n",
    "src_tokenizer.fit_on_texts(encoder_input_train) # 입력된 데이터로부터 단어 집합 생성"
   ]
  },
  {
   "cell_type": "code",
   "execution_count": 28,
   "metadata": {},
   "outputs": [
    {
     "name": "stdout",
     "output_type": "stream",
     "text": [
      "단어 집합(vocabulary)의 크기 : 61459\n",
      "등장 빈도가 3번 이하인 희귀 단어의 수: 35513\n",
      "단어 집합에서 희귀 단어를 제외시킬 경우의 단어 집합의 크기 25946\n",
      "단어 집합에서 희귀 단어의 비율: 57.78323760555818\n",
      "전체 등장 빈도에서 희귀 단어 등장 빈도 비율: 2.61823504299567\n"
     ]
    }
   ],
   "source": [
    "# 단어의 빈도 수 확인(text)\n",
    "threshold = 4\n",
    "total_cnt = len(src_tokenizer.word_index) # 단어의 수\n",
    "rare_cnt = 0 # 등장 빈도수가 threshold보다 작은 단어의 개수를 카운트\n",
    "total_freq = 0 # 훈련 데이터의 전체 단어 빈도수 총 합\n",
    "rare_freq = 0 # 등장 빈도수가 threshold보다 작은 단어의 등장 빈도수의 총 합\n",
    "\n",
    "# 단어와 빈도수의 쌍(pair)을 key와 value로 받는다.\n",
    "for key, value in src_tokenizer.word_counts.items():\n",
    "    total_freq = total_freq + value\n",
    "\n",
    "    # 단어의 등장 빈도수가 threshold보다 작으면\n",
    "    if(value < threshold):\n",
    "        rare_cnt = rare_cnt + 1\n",
    "        rare_freq = rare_freq + value\n",
    "\n",
    "print('단어 집합(vocabulary)의 크기 :',total_cnt)\n",
    "print('등장 빈도가 %s번 이하인 희귀 단어의 수: %s'%(threshold - 1, rare_cnt))\n",
    "print('단어 집합에서 희귀 단어를 제외시킬 경우의 단어 집합의 크기 %s'%(total_cnt - rare_cnt))\n",
    "print(\"단어 집합에서 희귀 단어의 비율:\", (rare_cnt / total_cnt)*100)\n",
    "print(\"전체 등장 빈도에서 희귀 단어 등장 빈도 비율:\", (rare_freq / total_freq)*100)"
   ]
  },
  {
   "cell_type": "code",
   "execution_count": 29,
   "metadata": {},
   "outputs": [],
   "source": [
    "# 단어 집합의 크기 제한\n",
    "src_vocab = 27000\n",
    "src_tokenizer = Tokenizer(num_words = src_vocab) # 단어 집합의 크기를 27,000으로 제한\n",
    "src_tokenizer.fit_on_texts(encoder_input_train) # 단어 집합 재생성."
   ]
  },
  {
   "cell_type": "code",
   "execution_count": 30,
   "metadata": {},
   "outputs": [
    {
     "name": "stdout",
     "output_type": "stream",
     "text": [
      "[[435, 11340, 10367, 462, 3777, 2909, 140, 43, 3777, 20993, 1423, 327, 1463, 5, 19, 4046, 507, 4502, 1, 521, 196, 337, 24, 3777, 1423, 277, 7111, 3777, 727, 3230, 86, 435, 1, 26, 1247, 25947], [172, 5091, 21, 4228, 630, 3740, 378, 378, 106, 5, 9, 3905, 630, 6309, 540, 4228, 3686, 97, 20994, 4754, 6866, 630, 5573, 4366, 3454, 6131, 654, 60, 2388, 106, 540, 7506, 7781, 189, 4228, 4593], [1608, 968, 111, 324, 41, 275, 883, 4846, 283, 712, 73, 1632, 29, 18, 1653, 390, 58, 31, 109, 125, 442, 5961, 1111, 1111, 700, 96, 120, 968, 1608, 217, 1566, 3153, 824, 2566]]\n"
     ]
    }
   ],
   "source": [
    "# 텍스트 시퀀스를 정수 시퀀스로 변환\n",
    "encoder_input_train = src_tokenizer.texts_to_sequences(encoder_input_train) \n",
    "encoder_input_test = src_tokenizer.texts_to_sequences(encoder_input_test)\n",
    "\n",
    "#잘 진행되었는지 샘플 출력\n",
    "print(encoder_input_train[:3])"
   ]
  },
  {
   "cell_type": "code",
   "execution_count": 31,
   "metadata": {},
   "outputs": [],
   "source": [
    "# 전체 단어 집합과 각 단어에 대한 빈도 수 계산\n",
    "tar_tokenizer = Tokenizer()\n",
    "tar_tokenizer.fit_on_texts(decoder_input_train)"
   ]
  },
  {
   "cell_type": "code",
   "execution_count": 32,
   "metadata": {},
   "outputs": [
    {
     "name": "stdout",
     "output_type": "stream",
     "text": [
      "단어 집합(vocabulary)의 크기 : 27238\n",
      "등장 빈도가 4번 이하인 희귀 단어의 수: 17104\n",
      "단어 집합에서 희귀 단어를 제외시킬 경우의 단어 집합의 크기 10134\n",
      "단어 집합에서 희귀 단어의 비율: 62.79462515603201\n",
      "전체 등장 빈도에서 희귀 단어 등장 빈도 비율: 5.032550541708277\n"
     ]
    }
   ],
   "source": [
    "# 단어의 빈도 수 확인(headlines)\n",
    "threshold = 5\n",
    "total_cnt = len(tar_tokenizer.word_index) # 단어의 수\n",
    "rare_cnt = 0 # 등장 빈도수가 threshold보다 작은 단어의 개수를 카운트\n",
    "total_freq = 0 # 훈련 데이터의 전체 단어 빈도수 총 합\n",
    "rare_freq = 0 # 등장 빈도수가 threshold보다 작은 단어의 등장 빈도수의 총 합\n",
    "\n",
    "# 단어와 빈도수의 쌍(pair)을 key와 value로 받는다.\n",
    "for key, value in tar_tokenizer.word_counts.items():\n",
    "    total_freq = total_freq + value\n",
    "\n",
    "    # 단어의 등장 빈도수가 threshold보다 작으면\n",
    "    if(value < threshold):\n",
    "        rare_cnt = rare_cnt + 1\n",
    "        rare_freq = rare_freq + value\n",
    "\n",
    "print('단어 집합(vocabulary)의 크기 :',total_cnt)\n",
    "print('등장 빈도가 %s번 이하인 희귀 단어의 수: %s'%(threshold - 1, rare_cnt))\n",
    "print('단어 집합에서 희귀 단어를 제외시킬 경우의 단어 집합의 크기 %s'%(total_cnt - rare_cnt))\n",
    "print(\"단어 집합에서 희귀 단어의 비율:\", (rare_cnt / total_cnt)*100)\n",
    "print(\"전체 등장 빈도에서 희귀 단어 등장 빈도 비율:\", (rare_freq / total_freq)*100)"
   ]
  },
  {
   "cell_type": "code",
   "execution_count": 33,
   "metadata": {},
   "outputs": [
    {
     "name": "stdout",
     "output_type": "stream",
     "text": [
      "input\n",
      "input  [[1, 334, 49, 4895, 233, 4, 2407, 2524, 173], [1, 6104, 9031, 648, 3576, 279, 1638, 11, 14, 2594], [1, 808, 999, 115, 177, 152, 320, 3, 214, 6105, 1036], [1, 8201, 335, 583, 368, 3, 496, 3, 293, 765, 4495], [1, 1013, 34, 63, 2140, 842, 1083, 8202, 12, 21, 260]]\n",
      "target\n",
      "decoder  [[334, 49, 4895, 233, 4, 2407, 2524, 173, 2], [6104, 9031, 648, 3576, 279, 1638, 11, 14, 2594, 2], [808, 999, 115, 177, 152, 320, 3, 214, 6105, 1036, 2], [8201, 335, 583, 368, 3, 496, 3, 293, 765, 4495, 2], [1013, 34, 63, 2140, 842, 1083, 8202, 12, 21, 260, 2]]\n"
     ]
    }
   ],
   "source": [
    "# 단어 집합의 크기 제한\n",
    "tar_vocab = 10500\n",
    "tar_tokenizer = Tokenizer(num_words = tar_vocab) \n",
    "tar_tokenizer.fit_on_texts(decoder_input_train)\n",
    "tar_tokenizer.fit_on_texts(decoder_target_train)\n",
    "\n",
    "# 텍스트 시퀀스를 정수 시퀀스로 변환\n",
    "decoder_input_train = tar_tokenizer.texts_to_sequences(decoder_input_train) \n",
    "decoder_target_train = tar_tokenizer.texts_to_sequences(decoder_target_train)\n",
    "decoder_input_test = tar_tokenizer.texts_to_sequences(decoder_input_test)\n",
    "decoder_target_test = tar_tokenizer.texts_to_sequences(decoder_target_test)\n",
    "\n",
    "#잘 변환되었는지 확인\n",
    "print('input')\n",
    "print('input ',decoder_input_train[:5])\n",
    "print('target')\n",
    "print('decoder ',decoder_target_train[:5])"
   ]
  },
  {
   "cell_type": "code",
   "execution_count": 34,
   "metadata": {},
   "outputs": [
    {
     "name": "stdout",
     "output_type": "stream",
     "text": [
      "삭제할 훈련 데이터의 개수 : 0\n",
      "삭제할 테스트 데이터의 개수 : 0\n",
      "훈련 데이터의 개수 : 59282\n",
      "훈련 레이블의 개수 : 59282\n",
      "테스트 데이터의 개수 : 14820\n",
      "테스트 레이블의 개수 : 14820\n"
     ]
    },
    {
     "name": "stderr",
     "output_type": "stream",
     "text": [
      "/home/aiffel/anaconda3/lib/python3.7/site-packages/numpy/core/_asarray.py:83: VisibleDeprecationWarning: Creating an ndarray from ragged nested sequences (which is a list-or-tuple of lists-or-tuples-or ndarrays with different lengths or shapes) is deprecated. If you meant to do this, you must specify 'dtype=object' when creating the ndarray\n",
      "  return array(a, dtype, copy=False, order=order)\n"
     ]
    }
   ],
   "source": [
    "# 길이가 1인 경우의 인덱스 샘플 제거\n",
    "drop_train = [index for index, sentence in enumerate(decoder_input_train) if len(sentence) == 1]\n",
    "drop_test = [index for index, sentence in enumerate(decoder_input_test) if len(sentence) == 1]\n",
    "\n",
    "print('삭제할 훈련 데이터의 개수 :',len(drop_train))\n",
    "print('삭제할 테스트 데이터의 개수 :',len(drop_test))\n",
    "\n",
    "encoder_input_train = np.delete(encoder_input_train, drop_train, axis=0)\n",
    "decoder_input_train = np.delete(decoder_input_train, drop_train, axis=0)\n",
    "decoder_target_train = np.delete(decoder_target_train, drop_train, axis=0)\n",
    "\n",
    "encoder_input_test = np.delete(encoder_input_test, drop_test, axis=0)\n",
    "decoder_input_test = np.delete(decoder_input_test, drop_test, axis=0)\n",
    "decoder_target_test = np.delete(decoder_target_test, drop_test, axis=0)\n",
    "\n",
    "print('훈련 데이터의 개수 :', len(encoder_input_train))\n",
    "print('훈련 레이블의 개수 :',len(decoder_input_train))\n",
    "print('테스트 데이터의 개수 :',len(encoder_input_test))\n",
    "print('테스트 레이블의 개수 :',len(decoder_input_test))"
   ]
  },
  {
   "cell_type": "code",
   "execution_count": 35,
   "metadata": {},
   "outputs": [],
   "source": [
    "# 샘플 병렬 처리를 위한 패딩작업(길이 맞추기)\n",
    "encoder_input_train = pad_sequences(encoder_input_train, maxlen = text_max_len, padding='post')\n",
    "encoder_input_test = pad_sequences(encoder_input_test, maxlen = text_max_len, padding='post')\n",
    "decoder_input_train = pad_sequences(decoder_input_train, maxlen = headlines_max_len, padding='post')\n",
    "decoder_target_train = pad_sequences(decoder_target_train, maxlen = headlines_max_len, padding='post')\n",
    "decoder_input_test = pad_sequences(decoder_input_test, maxlen = headlines_max_len, padding='post')\n",
    "decoder_target_test = pad_sequences(decoder_target_test, maxlen = headlines_max_len, padding='post')"
   ]
  },
  {
   "cell_type": "markdown",
   "metadata": {},
   "source": []
  },
  {
   "cell_type": "markdown",
   "metadata": {},
   "source": [
    "## 3. 어텐션 매커니증 사용"
   ]
  },
  {
   "cell_type": "code",
   "execution_count": 36,
   "metadata": {},
   "outputs": [
    {
     "name": "stdout",
     "output_type": "stream",
     "text": [
      "WARNING:tensorflow:Layer lstm will not use cuDNN kernel since it doesn't meet the cuDNN kernel criteria. It will use generic GPU kernel as fallback when running on GPU\n",
      "WARNING:tensorflow:Layer lstm_1 will not use cuDNN kernel since it doesn't meet the cuDNN kernel criteria. It will use generic GPU kernel as fallback when running on GPU\n",
      "WARNING:tensorflow:Layer lstm_2 will not use cuDNN kernel since it doesn't meet the cuDNN kernel criteria. It will use generic GPU kernel as fallback when running on GPU\n"
     ]
    }
   ],
   "source": [
    "# 인코더 설계\n",
    "\n",
    "from tensorflow.keras.layers import Input, LSTM, Embedding, Dense, Concatenate\n",
    "from tensorflow.keras.models import Model\n",
    "from tensorflow.keras.callbacks import EarlyStopping, ModelCheckpoint\n",
    "\n",
    "\n",
    "# 인코더 설계 시작\n",
    "embedding_dim = 128\n",
    "hidden_size = 256\n",
    "\n",
    "# 인코더\n",
    "encoder_inputs = Input(shape=(text_max_len,))\n",
    "\n",
    "# 인코더의 임베딩 층\n",
    "enc_emb = Embedding(src_vocab, embedding_dim)(encoder_inputs)\n",
    "\n",
    "# 인코더의 LSTM 1\n",
    "encoder_lstm1 = LSTM(hidden_size, return_sequences=True, return_state=True ,dropout = 0.4, recurrent_dropout = 0.4)\n",
    "encoder_output1, state_h1, state_c1 = encoder_lstm1(enc_emb)\n",
    "\n",
    "# 인코더의 LSTM 2\n",
    "encoder_lstm2 = LSTM(hidden_size, return_sequences=True, return_state=True, dropout=0.4, recurrent_dropout=0.4)\n",
    "encoder_output2, state_h2, state_c2 = encoder_lstm2(encoder_output1)\n",
    "\n",
    "# 인코더의 LSTM 3\n",
    "encoder_lstm3 = LSTM(hidden_size, return_state=True, return_sequences=True, dropout=0.4, recurrent_dropout=0.4)\n",
    "encoder_outputs, state_h, state_c= encoder_lstm3(encoder_output2)"
   ]
  },
  {
   "cell_type": "code",
   "execution_count": 37,
   "metadata": {},
   "outputs": [
    {
     "name": "stdout",
     "output_type": "stream",
     "text": [
      "WARNING:tensorflow:Layer lstm_3 will not use cuDNN kernel since it doesn't meet the cuDNN kernel criteria. It will use generic GPU kernel as fallback when running on GPU\n"
     ]
    }
   ],
   "source": [
    "# 디코더 설계\n",
    "\n",
    "decoder_inputs = Input(shape=(None,))\n",
    "\n",
    "# 디코더의 임베딩 층\n",
    "dec_emb_layer = Embedding(tar_vocab, embedding_dim)\n",
    "dec_emb = dec_emb_layer(decoder_inputs)\n",
    "\n",
    "# 디코더의 LSTM\n",
    "decoder_lstm = LSTM(hidden_size, return_sequences = True, return_state = True, dropout = 0.4, recurrent_dropout=0.2)\n",
    "decoder_outputs, _, _ = decoder_lstm(dec_emb, initial_state = [state_h, state_c])"
   ]
  },
  {
   "cell_type": "markdown",
   "metadata": {},
   "source": [
    "### 어텐션 매커니즘 설계"
   ]
  },
  {
   "cell_type": "code",
   "execution_count": 38,
   "metadata": {},
   "outputs": [],
   "source": [
    "# 어텐션 함수 다운로드\n",
    "urllib.request.urlretrieve(\"https://raw.githubusercontent.com/thushv89/attention_keras/master/src/layers/attention.py\", filename=\"attention.py\")\n",
    "from attention import AttentionLayer"
   ]
  },
  {
   "cell_type": "code",
   "execution_count": 39,
   "metadata": {},
   "outputs": [
    {
     "name": "stdout",
     "output_type": "stream",
     "text": [
      "Model: \"model\"\n",
      "__________________________________________________________________________________________________\n",
      "Layer (type)                    Output Shape         Param #     Connected to                     \n",
      "==================================================================================================\n",
      "input_1 (InputLayer)            [(None, 40)]         0                                            \n",
      "__________________________________________________________________________________________________\n",
      "embedding (Embedding)           (None, 40, 128)      3456000     input_1[0][0]                    \n",
      "__________________________________________________________________________________________________\n",
      "lstm (LSTM)                     [(None, 40, 256), (N 394240      embedding[0][0]                  \n",
      "__________________________________________________________________________________________________\n",
      "input_2 (InputLayer)            [(None, None)]       0                                            \n",
      "__________________________________________________________________________________________________\n",
      "lstm_1 (LSTM)                   [(None, 40, 256), (N 525312      lstm[0][0]                       \n",
      "__________________________________________________________________________________________________\n",
      "embedding_1 (Embedding)         (None, None, 128)    1344000     input_2[0][0]                    \n",
      "__________________________________________________________________________________________________\n",
      "lstm_2 (LSTM)                   [(None, 40, 256), (N 525312      lstm_1[0][0]                     \n",
      "__________________________________________________________________________________________________\n",
      "lstm_3 (LSTM)                   [(None, None, 256),  394240      embedding_1[0][0]                \n",
      "                                                                 lstm_2[0][1]                     \n",
      "                                                                 lstm_2[0][2]                     \n",
      "__________________________________________________________________________________________________\n",
      "attention_layer (AttentionLayer ((None, None, 256),  131328      lstm_2[0][0]                     \n",
      "                                                                 lstm_3[0][0]                     \n",
      "__________________________________________________________________________________________________\n",
      "concat_layer (Concatenate)      (None, None, 512)    0           lstm_3[0][0]                     \n",
      "                                                                 attention_layer[0][0]            \n",
      "__________________________________________________________________________________________________\n",
      "dense (Dense)                   (None, None, 10500)  5386500     concat_layer[0][0]               \n",
      "==================================================================================================\n",
      "Total params: 12,156,932\n",
      "Trainable params: 12,156,932\n",
      "Non-trainable params: 0\n",
      "__________________________________________________________________________________________________\n"
     ]
    }
   ],
   "source": [
    "# 어텐션 층(어텐션 함수)\n",
    "attn_layer = AttentionLayer(name='attention_layer')\n",
    "# 인코더와 디코더의 모든 time step의 hidden state를 어텐션 층에 전달하고 결과를 리턴\n",
    "attn_out, attn_states = attn_layer([encoder_outputs, decoder_outputs])\n",
    "\n",
    "# 어텐션의 결과와 디코더의 hidden state들을 연결\n",
    "decoder_concat_input = Concatenate(axis = -1, name='concat_layer')([decoder_outputs, attn_out])\n",
    "\n",
    "# 디코더의 출력층\n",
    "decoder_softmax_layer = Dense(tar_vocab, activation='softmax')\n",
    "decoder_softmax_outputs = decoder_softmax_layer(decoder_concat_input)\n",
    "\n",
    "# 모델 정의\n",
    "model = Model([encoder_inputs, decoder_inputs], decoder_softmax_outputs)\n",
    "model.summary()"
   ]
  },
  {
   "cell_type": "markdown",
   "metadata": {},
   "source": [
    "### 모델 훈련하기"
   ]
  },
  {
   "cell_type": "code",
   "execution_count": 40,
   "metadata": {},
   "outputs": [
    {
     "name": "stdout",
     "output_type": "stream",
     "text": [
      "Epoch 1/50\n",
      "232/232 [==============================] - 75s 325ms/step - loss: 6.4502 - val_loss: 6.0076\n",
      "Epoch 2/50\n",
      "232/232 [==============================] - 80s 347ms/step - loss: 5.9281 - val_loss: 5.6737\n",
      "Epoch 3/50\n",
      "232/232 [==============================] - 83s 357ms/step - loss: 5.5917 - val_loss: 5.3891\n",
      "Epoch 4/50\n",
      "232/232 [==============================] - 81s 350ms/step - loss: 5.2920 - val_loss: 5.1568\n",
      "Epoch 5/50\n",
      "232/232 [==============================] - 82s 354ms/step - loss: 5.0347 - val_loss: 4.9902\n",
      "Epoch 6/50\n",
      "232/232 [==============================] - 85s 366ms/step - loss: 4.8240 - val_loss: 4.8558\n",
      "Epoch 7/50\n",
      "232/232 [==============================] - 87s 376ms/step - loss: 4.6409 - val_loss: 4.7399\n",
      "Epoch 8/50\n",
      "232/232 [==============================] - 102s 438ms/step - loss: 4.4788 - val_loss: 4.6552\n",
      "Epoch 9/50\n",
      "232/232 [==============================] - 93s 403ms/step - loss: 4.3355 - val_loss: 4.5831\n",
      "Epoch 10/50\n",
      "232/232 [==============================] - 86s 369ms/step - loss: 4.2066 - val_loss: 4.5174\n",
      "Epoch 11/50\n",
      "232/232 [==============================] - 79s 342ms/step - loss: 4.0899 - val_loss: 4.4670\n",
      "Epoch 12/50\n",
      "232/232 [==============================] - 80s 344ms/step - loss: 3.9859 - val_loss: 4.4252\n",
      "Epoch 13/50\n",
      "232/232 [==============================] - 79s 342ms/step - loss: 3.8910 - val_loss: 4.3897\n",
      "Epoch 14/50\n",
      "232/232 [==============================] - 79s 342ms/step - loss: 3.7996 - val_loss: 4.3603\n",
      "Epoch 15/50\n",
      "232/232 [==============================] - 80s 343ms/step - loss: 3.7138 - val_loss: 4.3301\n",
      "Epoch 16/50\n",
      "232/232 [==============================] - 85s 366ms/step - loss: 3.6321 - val_loss: 4.3126\n",
      "Epoch 17/50\n",
      "232/232 [==============================] - 80s 345ms/step - loss: 3.5572 - val_loss: 4.2911\n",
      "Epoch 18/50\n",
      "232/232 [==============================] - 82s 354ms/step - loss: 3.4836 - val_loss: 4.2795\n",
      "Epoch 19/50\n",
      "232/232 [==============================] - 89s 383ms/step - loss: 3.4174 - val_loss: 4.2652\n",
      "Epoch 20/50\n",
      "232/232 [==============================] - 93s 400ms/step - loss: 3.3570 - val_loss: 4.2598\n",
      "Epoch 21/50\n",
      "232/232 [==============================] - 90s 386ms/step - loss: 3.3016 - val_loss: 4.2548\n",
      "Epoch 22/50\n",
      "232/232 [==============================] - 92s 397ms/step - loss: 3.2502 - val_loss: 4.2446\n",
      "Epoch 23/50\n",
      "232/232 [==============================] - 91s 393ms/step - loss: 3.1966 - val_loss: 4.2380\n",
      "Epoch 24/50\n",
      "232/232 [==============================] - 92s 397ms/step - loss: 3.1476 - val_loss: 4.2279\n",
      "Epoch 25/50\n",
      "232/232 [==============================] - 88s 380ms/step - loss: 3.0994 - val_loss: 4.2287\n",
      "Epoch 26/50\n",
      "232/232 [==============================] - 91s 391ms/step - loss: 3.0552 - val_loss: 4.2343\n",
      "Epoch 00026: early stopping\n"
     ]
    }
   ],
   "source": [
    "model.compile(optimizer='rmsprop', loss='sparse_categorical_crossentropy')\n",
    "es = EarlyStopping(monitor='val_loss', mode='min', verbose=1, patience = 2)\n",
    "history = model.fit(x = [encoder_input_train, decoder_input_train], y = decoder_target_train, \\\n",
    "          validation_data = ([encoder_input_test, decoder_input_test], decoder_target_test),\n",
    "          batch_size = 256, callbacks=[es], epochs = 50)"
   ]
  },
  {
   "cell_type": "code",
   "execution_count": 41,
   "metadata": {},
   "outputs": [
    {
     "data": {
      "image/png": "[encoded data removed]",
      "text/plain": [
       "<Figure size 432x288 with 1 Axes>"
      ]
     },
     "metadata": {
      "needs_background": "light"
     },
     "output_type": "display_data"
    }
   ],
   "source": [
    "# 시각화\n",
    "plt.plot(history.history['loss'], label='train')\n",
    "plt.plot(history.history['val_loss'], label='test')\n",
    "plt.legend()\n",
    "plt.show()"
   ]
  },
  {
   "cell_type": "code",
   "execution_count": 42,
   "metadata": {},
   "outputs": [],
   "source": [
    "# 필요한 사전 준비\n",
    "src_index_to_word = src_tokenizer.index_word # 원문 단어 집합에서 정수 -> 단어를 얻음\n",
    "tar_word_to_index = tar_tokenizer.word_index # 요약 단어 집합에서 단어 -> 정수를 얻음\n",
    "tar_index_to_word = tar_tokenizer.index_word # 요약 단어 집합에서 정수 -> 단어를 얻음"
   ]
  },
  {
   "cell_type": "code",
   "execution_count": 47,
   "metadata": {},
   "outputs": [],
   "source": [
    "# 인코더 모델과 디코더 모델을 분리해서 설계\n",
    "\n",
    "# 인코더 설계\n",
    "encoder_model = Model(inputs=encoder_inputs, outputs=[encoder_outputs, state_h, state_c])\n",
    "\n",
    "# 이전 시점의 상태들을 저장하는 텐서\n",
    "decoder_state_input_h = Input(shape=(hidden_size,))\n",
    "decoder_state_input_c = Input(shape=(hidden_size,))\n",
    "\n",
    "dec_emb2 = dec_emb_layer(decoder_inputs)\n",
    "# 문장의 다음 단어를 예측하기 위해서 초기 상태(initial_state)를 이전 시점의 상태로 사용. 이는 뒤의 함수 decode_sequence()에 구현\n",
    "# 훈련 과정에서와 달리 LSTM의 리턴하는 은닉 상태와 셀 상태인 state_h와 state_c를 버리지 않음.\n",
    "decoder_outputs2, state_h2, state_c2 = decoder_lstm(dec_emb2, initial_state=[decoder_state_input_h, decoder_state_input_c])"
   ]
  },
  {
   "cell_type": "code",
   "execution_count": 48,
   "metadata": {},
   "outputs": [],
   "source": [
    "# 어텐션 메커니즘을 사용하는 출력층을 설계\n",
    "\n",
    "# 어텐션 함수\n",
    "decoder_hidden_state_input = Input(shape=(text_max_len, hidden_size))\n",
    "attn_out_inf, attn_states_inf = attn_layer([decoder_hidden_state_input, decoder_outputs2])\n",
    "decoder_inf_concat = Concatenate(axis=-1, name='concat')([decoder_outputs2, attn_out_inf])\n",
    "\n",
    "# 디코더의 출력층\n",
    "decoder_outputs2 = decoder_softmax_layer(decoder_inf_concat) \n",
    "\n",
    "# 최종 디코더 모델\n",
    "decoder_model = Model(\n",
    "    [decoder_inputs] + [decoder_hidden_state_input,decoder_state_input_h, decoder_state_input_c],\n",
    "    [decoder_outputs2] + [state_h2, state_c2])"
   ]
  },
  {
   "cell_type": "code",
   "execution_count": 60,
   "metadata": {},
   "outputs": [],
   "source": [
    "def decode_sequence(input_seq):\n",
    "    # 입력으로부터 인코더의 상태를 얻음\n",
    "    e_out, e_h, e_c = encoder_model.predict(input_seq)\n",
    "\n",
    "     # <SOS>에 해당하는 토큰 생성\n",
    "    target_seq = np.zeros((1,1))\n",
    "    target_seq[0, 0] = tar_word_to_index['sostoken']\n",
    "\n",
    "    stop_condition = False\n",
    "    decoded_sentence = ''\n",
    "    while not stop_condition: # stop_condition이 True가 될 때까지 루프 반복\n",
    "\n",
    "        output_tokens, h, c = decoder_model.predict([target_seq] + [e_out, e_h, e_c])\n",
    "        sampled_token_index = np.argmax(output_tokens[0, -1, :])\n",
    "        sampled_token = tar_index_to_word[sampled_token_index]\n",
    "\n",
    "        if(sampled_token!='eostoken'):\n",
    "            decoded_sentence += ' '+sampled_token\n",
    "\n",
    "        #  <eos>에 도달하거나 최대 길이를 넘으면 중단.\n",
    "        if (sampled_token == 'eostoken'):\n",
    "            stop_condition = True\n",
    "\n",
    "        # 길이가 1인 타겟 시퀀스를 업데이트\n",
    "        target_seq = np.zeros((1,1))\n",
    "        target_seq[0, 0] = sampled_token_index\n",
    "\n",
    "        # 상태를 업데이트 합니다.\n",
    "        e_h, e_c = h, c\n",
    "\n",
    "    return decoded_sentence"
   ]
  },
  {
   "cell_type": "markdown",
   "metadata": {},
   "source": []
  },
  {
   "cell_type": "markdown",
   "metadata": {},
   "source": [
    "## 4. 실제 결과와 요약문 비교"
   ]
  },
  {
   "cell_type": "code",
   "execution_count": 61,
   "metadata": {},
   "outputs": [],
   "source": [
    "# 원문의 정수 시퀀스를 텍스트 시퀀스로 변환\n",
    "def seq2text(input_seq):\n",
    "    temp=''\n",
    "    for i in input_seq:\n",
    "        if(i!=0):\n",
    "            temp = temp + src_index_to_word[i]+' '\n",
    "    return temp\n",
    "\n",
    "# 요약문의 정수 시퀀스를 텍스트 시퀀스로 변환\n",
    "def seq2summary(input_seq):\n",
    "    temp=''\n",
    "    for i in input_seq:\n",
    "        if((i!=0 and i!=tar_word_to_index['sostoken']) and i!=tar_word_to_index['eostoken']):\n",
    "            temp = temp + tar_index_to_word[i] + ' '\n",
    "    return temp"
   ]
  },
  {
   "cell_type": "code",
   "execution_count": 62,
   "metadata": {
    "scrolled": false
   },
   "outputs": [
    {
     "name": "stdout",
     "output_type": "stream",
     "text": [
      "원문 : supreme court said lakh bogus pan cards individual income tax accounting total number pan cards cannot termed number harm indian economy made observations upholding validity income tax provision making aadhaar mandatory allotment pan cards filing tax returns \n",
      "실제 요약 : sc says over lakh pan cards not number \n",
      "예측 요약 :  sc asks jaypee to deposit gst penalty on june\n",
      "\n",
      "\n",
      "원문 : mahmood shah chief terrorist organisation lashkar taiba official statement said sacrifice let commander junaid militants killed encounter indian armed forces go vain meanwhile let spokesperson dr abdullah called india cancer humanity adding shall soon witness india burning ashes \n",
      "실제 요약 : commander sacrifice will not go in lashkar chief \n",
      "예측 요약 :  let terrorists killed in encounter in kashmir\n",
      "\n",
      "\n",
      "원문 : first poster madhur bhandarkar short film mumbai mist unveiled national award winning filmmaker bhandarkar representing india short film brics film festival china starring annu kapoor child artiste revolves around story upper middle class man year old ragpicker \n",
      "실제 요약 : first poster of madhur bhandarkar mumbai out \n",
      "예측 요약 :  first poster of sidharth starrer the first film released\n",
      "\n",
      "\n",
      "원문 : ball hair weighing kg removed year old woman stomach three hour long surgery government hospital indore monday suffered mental disorder leading tear hair hair would caused serious medical problem removed doctor said \n",
      "실제 요약 : doctors remove kg ball of hair from woman stomach \n",
      "예측 요약 :  footballer undergoes surgery surgery to surgery\n",
      "\n",
      "\n",
      "원문 : bruhat bengaluru mahanagara palike extended three month deadline regarding mandatory inclusion kannada signboards shops malls across bengaluru month civic body plans cancel trade licenses shops fail comply deadline new licenses would issued shops implemented rule bbmp said \n",
      "실제 요약 : sets month deadline for shops to get kannada boards \n",
      "예측 요약 :  luru civic body to shut down after liquor shops\n",
      "\n",
      "\n",
      "원문 : countering claims farmers commit suicide due drinking habits independent mla maharashtra kadu friday asked actor hema malini drinks heavily daily commit suicide absolutely incorrect say farmers commit suicide due drinking even mlas drink journalists drink added \n",
      "실제 요약 : hema malini drinks daily does she commit suicide asks mla \n",
      "예측 요약 :  farmer commits suicide suicide in mp over suicide\n",
      "\n",
      "\n",
      "원문 : video surfaced shows year old man clearing snow skywalk metres ground china zhang snow metre long path located one china five great mountains hour uses attached cable rock safety measure \n",
      "실제 요약 : man snow from above ground in china \n",
      "예측 요약 :  man builds own storey to break himself\n",
      "\n",
      "\n",
      "원문 : speaking starring upcoming sequel aamir khan john abraham said honour stepping role big history aamir someone deeply fond big fan added earlier talking sequel john said different story ethos \n",
      "실제 요약 : honour to be stepping into aamir role for john \n",
      "예측 요약 :  sara is the of the golmaal of golmaal\n",
      "\n",
      "\n",
      "원문 : north south korea connected road across shared border inside korean demilitarised zone first time years south korea defence ministry said road used transport equipment personnel inter korean operation next year recover remains korean war \n",
      "실제 요약 : north south korea connect road across border after years \n",
      "예측 요약 :  korea building declared korea seized in korea\n",
      "\n",
      "\n",
      "원문 : delhi police thursday arrested mba graduate allegedly printing fake appreciation letter former president pranab mukherjee digitally market book author arrested bengaluru almost year complaint filed rashtrapati bhavan accused fled us evade arrest returned india recently police said \n",
      "실제 요약 : author held for publishing fake letter from ex prez mukherjee \n",
      "예측 요약 :  arrested for running ex ex pm modi\n",
      "\n",
      "\n",
      "원문 : union minister radhakrishnan said government cleared foreign direct investment proposals worth crore first nine months fiscal mauritius largest source fdi india according rbi census government cleared proposal allowing fdi single brand retail via automatic route \n",
      "실제 요약 : fdi worth crore cleared in apr dec \n",
      "예측 요약 :  govt approves cr investment in debt\n",
      "\n",
      "\n",
      "원문 : student political parties telangana hired priest performed last rites several atms protest cash crunch state protestors claimed cash crunch result demonetisation policy implemented november states elections held surplus cash whereas telangana still facing severe cash shortage added \n",
      "실제 요약 : funeral conducted for atms to protest cash crunch in gana \n",
      "예측 요약 :  telangana student gets protest after liquor debt\n",
      "\n",
      "\n",
      "원문 : days karnataka cm hd kumaraswamy broke tears karnataka congress chief dinesh gundu rao said think chief minister leader state person wipe people tears however added told main reason negativity social media \n",
      "실제 요약 : cm should wipe tears of people says karnataka congress \n",
      "예측 요약 :  siddaramaiah is siddaramaiah on karnataka cm\n",
      "\n",
      "\n",
      "원문 : death toll four storey building collapse mumbai risen rescuers removed debris searching still trapped around people reported injured collapse rescue operation still progress notably shiv sena leader owned building ground floor arrested allegedly causing collapse \n",
      "실제 요약 : death toll in mumbai building collapse rises to \n",
      "예측 요약 :  death toll in storey building collapse rises to\n",
      "\n",
      "\n",
      "원문 : woman indonesian province west burned husband alive refused give passcode mobile phone year old refusal sparked argument hit poured petrol set fire man died hospital two days incident \n",
      "실제 요약 : wife burns husband alive after he denies sharing mobile \n",
      "예측 요약 :  woman husband found dead in her\n",
      "\n",
      "\n",
      "원문 : low cost carrier spicejet monday signed initial pact us aircraft maker boeing new max planes agreement aircraft valued billion current list prices spicejet become inaugural customer aircraft designed cut strong sales boeing rival airbus \n",
      "실제 요약 : spicejet to buy planes from boeing in billion deal \n",
      "예측 요약 :  indigo to buy boeing for billion in us\n",
      "\n",
      "\n",
      "원문 : foot tall lord ganesh sculpture made kg recycled car parts eco product manufacturing company workshop metal artist mumbai sculpture reportedly took days build unveiled automaker ford notably spare parts like disc brakes chains gears clutch plates used make sculpture \n",
      "실제 요약 : foot tall ganesh sculpture made using kg parts \n",
      "예측 요약 :  foot long fish built in mp on sale\n",
      "\n",
      "\n",
      "원문 : bar council india slammed former judge chelameswar making controversial statements retiring post adding statements cannot tolerated advocates slamming former judge using controversial terms bench fixing council added agreement hear certain matters led beginning wrong practice \n",
      "실제 요약 : controversial claim by retired judge cannot be \n",
      "예측 요약 :  zimbabwe prez resigns after criticism\n",
      "\n",
      "\n",
      "원문 : indian navy rescued four crew members stuck waters raj bhavan mumbai monday night run rocks low tide begun flood following crew members rescued indian navy helicopter taken ins medical help \n",
      "실제 요약 : indian navy rescues stranded off mumbai coast \n",
      "예측 요약 :  navy rescues indian navy in mumbai\n",
      "\n",
      "\n",
      "원문 : merger flipkart ebay india approved competition commission india earlier year ebay invested million flipkart sold india business company pick stake cci approval necessary formal completion acquisition merger deals country \n",
      "실제 요약 : flipkart ebay india merger gets cci approval \n",
      "예측 요약 :  flipkart to acquire flipkart business business for years\n",
      "\n",
      "\n",
      "원문 : thousands women shared experiences sexual assault harassment using metoo hashtag kolkata police wrote facebook hear every single one police added want angry threats asking afraid report police every time \n",
      "실제 요약 : we hear you kolkata police after reading metoo posts \n",
      "예측 요약 :  women accuse of harassment by men in\n",
      "\n",
      "\n",
      "원문 : actor salman khan said katrina kaif one best dancers today adding priyanka chopra deepika padukone girls considered dancers think beats hollow knows limitations works hard achieve cannot joined industry could dance salman added \n",
      "실제 요약 : katrina beats priyanka deepika in dancing salman \n",
      "예측 요약 :  katrina kaif is the katrina on instagram\n",
      "\n",
      "\n",
      "원문 : russian teenager friday attacked group students axe injuring six people setting school fire city ude officials said attacker reportedly used petrol bomb set building fire detained hospitalised following suicide attempt \n",
      "실제 요약 : russian teen injures in axe attack sets school on fire \n",
      "예측 요약 :  russian man dies after being rams into gorge\n",
      "\n",
      "\n",
      "원문 : brazilian football legend advised brazil year old forward gabriel jesus enough sex ahead world cup said making days concentration match days games key wc success believe jesus quite aware football represents brazil added \n",
      "실제 요약 : have enough sex brazil legend advises youngster ahead of wc \n"
     ]
    },
    {
     "name": "stdout",
     "output_type": "stream",
     "text": [
      "예측 요약 :  footballer who was banned for months in france\n",
      "\n",
      "\n",
      "원문 : year old para teacher died night long protest outside house jharkhand welfare minister louis dumka teacher declared dead doctors sunday protestors claimed died cold para teachers staging indefinite rotation outside house since november demanding regularisation services among demands \n",
      "실제 요약 : yr old teacher protesting outside khand minister house dies \n",
      "예측 요약 :  year old girl dies after death of student dead\n",
      "\n",
      "\n",
      "원문 : video showing chief trust rajasthan barmer dragging mentally unsound woman hair kicking surfaced online accused said despite given food woman kept coming back trust runs free food facility wherein reimbursed per meal municipal authorities government scheme \n",
      "실제 요약 : video shows trust chief dragging woman by hair kicking her \n",
      "예측 요약 :  doctor delivers baby inside hospital in hospital\n",
      "\n",
      "\n",
      "원문 : cost delhi metro phase project reduced crore goods services tax detailed project report drafted estimated cost project crore however revised report submitted delhi government year put cost crore accounting gst rates \n",
      "실제 요약 : gst brings down cost of delhi metro expansion by cr \n",
      "예측 요약 :  delhi metro to get crore tax on petrol loan\n",
      "\n",
      "\n",
      "원문 : bjp mps submitted leave applications received current lok sabha three years followed nine applications trinamool congress four congress bjd mps submit applications speaker longer leaves non permitted absence days lead disqualification house \n",
      "실제 요약 : bjp mps most leave applications in th lok sabha \n",
      "예측 요약 :  bjp mps to launch lok sabha elections in rajya sabha\n",
      "\n",
      "\n",
      "원문 : file hosting service dropbox india born chief technology officer aditya agarwal friday announced leaving company five year stint dropbox agarwal held cto role months previously vp engineering milestones metrics team culture built wrote facebook \n",
      "실제 요약 : india born cto aditya agarwal quits \n",
      "예측 요약 :  indian origin ceo appoints its first company\n",
      "\n",
      "\n",
      "원문 : six afghan girls denied visas travel us international robotics competition robot built allowed entry asked girls banned official cited regulations prohibiting agency discussing individual visa cases girls watch robot compete via live streaming contest organisers said \n",
      "실제 요약 : afghan all girl robotics team denied us entry robot allowed \n",
      "예측 요약 :  us women to allow abortion to operate via migrants\n",
      "\n",
      "\n",
      "원문 : two four historians named rajput organisation karni sena panel watch padmaavat said film hurt sentiments community historians however said personal opinion film release karni sena appointed four historians six member panel demanded film screened \n",
      "실제 요약 : padmaavat does not hurt sentiments post screening \n",
      "예측 요약 :  karni sena group to launch padmavati padmaavat\n",
      "\n",
      "\n",
      "원문 : supreme court friday decided examine section indian penal code holds men responsible adultery women punishable law petitioner advocate argued section framed time women considered man property court termed provision quite archaic \n",
      "실제 요약 : sc to examine adultery law holding only men guilty \n",
      "예측 요약 :  women should be sc to women in sc\n",
      "\n",
      "\n",
      "원문 : petrol price monday touched time high litre litre mumbai diesel hit fresh high litre litre latest fuel prices new high city also highest metro cities daily revision fuel prices implemented june last year \n",
      "실제 요약 : petrol price hits all time high of litre in mumbai \n",
      "예측 요약 :  petrol price cut for all time in mumbai\n",
      "\n",
      "\n",
      "원문 : congress president rahul gandhi thursday posted prime minister narendra modi report card gave subject agriculture karnataka added contribution bjp congress led state government crore farm loan waiver farmers suffering pm crop insurance scheme \n",
      "실제 요약 : rahul posts report card on pm gives in agriculture \n",
      "예측 요약 :  pm modi is in the of corruption rahul\n",
      "\n",
      "\n",
      "원문 : karan johar shah rukh khan gauri khan produced sonakshi sinha sidharth malhotra starrer ittefaq served strict compliance notice delhi health department promoting smoking film one promotional posters show akshaye khanna lighting cigarette encourages younger generation promotes tobacco said official department \n",
      "실제 요약 : johar srk served notice for promotion of smoking in ittefaq \n",
      "예측 요약 :  srk sara starrer srk starrer kedarnath unveiled\n",
      "\n",
      "\n",
      "원문 : actor shahid kapoor joked past actress kareena kapoor really secret rather world secret joked asked secret past woman recent event joking shahid told woman spying cannot confess secret past \n",
      "실제 요약 : my past with kareena kapoor is world secret jokes shahid \n",
      "예측 요약 :  shahid kapoor shraddha shraddha shraddha kapoor kaif\n",
      "\n",
      "\n",
      "원문 : state owned bus carrying pilgrims fell gorge hills telangana district claiming lives pm narendra modi tweeted accident shocking beyond words anguished loss lives thoughts solidarity bereaved families tweeted police suspect accident took place due failure brakes \n",
      "실제 요약 : telangana bus accident is shocking beyond words pm modi \n",
      "예측 요약 :  bus workers killed during road accident in andhra pradesh\n",
      "\n",
      "\n",
      "원문 : flipkart owned online fashion portal jabong reportedly planning fire employees next three months deciding terminate around employees part restructuring flipkart company employees also reported move bengaluru earlier announced jabong would merge myntra another fashion portal owned flipkart \n",
      "실제 요약 : jabong to fire more employees in next months report \n",
      "예측 요약 :  flipkart shares fall after wage cuts\n",
      "\n",
      "\n",
      "원문 : us close completing series arms deals saudi arabia totalling billion could surpass billion decade white house officials said friday notably saudi arabia leading military coalition yemen accused un carrying attacks may amount war crimes \n",
      "실제 요약 : us nears billion arms deal with saudi arabia \n",
      "예측 요약 :  us pledges bn billion to aid over rohingya crisis\n",
      "\n",
      "\n",
      "원문 : actor jim carrey late former girlfriend cathriona white accused giving newly discovered note wrote two years suicide note read introduced cocaine prostitutes mental abuse disease good things broke person nnn \n",
      "실제 요약 : jim carrey late ex girlfriend accused him of giving \n",
      "예측 요약 :  actor ex actor wife arrested for cheating\n",
      "\n",
      "\n",
      "원문 : people killed various disasters last three years odisha many died snake bites deputy special relief commissioner pr mohapatra revealed saturday asserting accounted around disaster deaths added odisha government declared snake bites state specific disaster \n",
      "실제 요약 : snake bites caused over deaths in odisha in years \n",
      "예측 요약 :  swine flu kills in bihar in last days\n",
      "\n",
      "\n",
      "원문 : amid ongoing controversy mohammad ali jinnah portrait aligarh muslim university bjp mp savitri bai phule said jinnah maha always remain one actively participated freedom struggle india mp added earlier bjp leader swami prasad maurya also referred jinnah maha \n",
      "실제 요약 : jinnah was maha and will remain one bjp mp \n",
      "예측 요약 :  bjp mp calls for dalit dalit dalit dalit leader\n",
      "\n",
      "\n",
      "원문 : australia become first country world recognise orphanage trafficking form modern slavery children smaller countries recruited orphanages west purpose profit foreign aid per estimates children living world orphanages least one living parent \n",
      "실제 요약 : australia st to recognise orphanage trafficking as slavery \n",
      "예측 요약 :  australia to become world first children since\n",
      "\n",
      "\n",
      "원문 : vending machines snack kiosks schools across south korea stop selling coffee products september ban part campaign discourage consumption food drinks high calories ban follows media reports students suffering dizziness increased heartbeat sleep disorders drinking coffee \n",
      "실제 요약 : coffee banned in schools across south korea \n",
      "예측 요약 :  iit kharagpur launches plastic bags in south korea\n",
      "\n",
      "\n",
      "원문 : actress disha known portraying character ben television show mehta ka ooltah given birth baby girl disha first child husband mayur mumbai based chartered accountant disha mayur got married year \n",
      "실제 요약 : mehta ka actress gives birth to girl \n",
      "예측 요약 :  disha patani shares picture with her daughter\n",
      "\n",
      "\n",
      "원문 : sachin tendulkar sunday took twitter share old picture team india coach ravi shastri occasion latter th birthday picture young sachin seen shastri standing beside happy birthday someone encouraged right beginning career sachin wrote \n",
      "실제 요약 : sachin shares throwback picture on ravi shastri birthday \n",
      "예측 요약 :  sachin wishes sachin tendulkar on his birthday\n",
      "\n",
      "\n",
      "원문 : ruling aadhaar supreme court quoted former prime minister rajiv gandhi remark paise every rupee spent welfare reaches needy apex court said aadhaar take care problem duplicate beneficiaries benefits welfare schemes meant genuine deprived class \n",
      "실제 요약 : only paise reaches poor sc quotes rajiv in verdict \n"
     ]
    },
    {
     "name": "stdout",
     "output_type": "stream",
     "text": [
      "예측 요약 :  govt has not going to make crore pm modi\n",
      "\n",
      "\n",
      "원문 : former indian cricketer sachin tendulkar spent time bhutan playing football cricket school kids thing better playing cricket playing cricket mountains enjoyed back pitch bhutan cricket team sachin tweeted sachin visiting bhutan unicef goodwill ambassador promote organisation hand washing initiative \n",
      "실제 요약 : sachin plays cricket in bhutan meets bhutan cricket team \n",
      "예측 요약 :  sachin tendulkar to play in india odi cricket team\n",
      "\n",
      "\n",
      "원문 : apple admitted slows old iphone models low capacity batteries avoid unexpected shutdowns statement company said lithium ion batteries lose charge age result device unexpectedly shutting protect components earlier users reported perceived smartphones due new ios updates \n",
      "실제 요약 : apple admits to slowing older iphones due to battery issues \n",
      "예측 요약 :  apple to launch battery factory in cold\n",
      "\n",
      "\n",
      "원문 : alia bhatt said would love play role goddess sita film made amish tripathi upcoming book sita warrior mithila added story get know book known many amish said ranveer singh would able justice lord ram role \n",
      "실제 요약 : would love to play role of goddess onscreen alia \n",
      "예측 요약 :  alia sidharth ek prem katha as actor\n",
      "\n",
      "\n"
     ]
    }
   ],
   "source": [
    "# 샘플 50개 출력\n",
    "for i in range(50, 100):\n",
    "    print(\"원문 :\", seq2text(encoder_input_test[i]))\n",
    "    print(\"실제 요약 :\", seq2summary(decoder_input_test[i]))\n",
    "    print(\"예측 요약 :\", decode_sequence(encoder_input_test[i].reshape(1, text_max_len)))\n",
    "    print(\"\\n\")"
   ]
  },
  {
   "cell_type": "code",
   "execution_count": null,
   "metadata": {},
   "outputs": [],
   "source": []
  }
 ],
 "metadata": {
  "kernelspec": {
   "display_name": "aiffel",
   "language": "python",
   "name": "aiffel"
  },
  "language_info": {
   "codemirror_mode": {
    "name": "ipython",
    "version": 3
   },
   "file_extension": ".py",
   "mimetype": "text/x-python",
   "name": "python",
   "nbconvert_exporter": "python",
   "pygments_lexer": "ipython3",
   "version": "3.7.6"
  }
 },
 "nbformat": 4,
 "nbformat_minor": 4
}
