{
 "cells": [
  {
   "cell_type": "markdown",
   "id": "colored-bulgarian",
   "metadata": {},
   "source": [
    "### 리스트 자료형"
   ]
  },
  {
   "cell_type": "code",
   "execution_count": 1,
   "id": "unexpected-palmer",
   "metadata": {},
   "outputs": [
    {
     "name": "stdout",
     "output_type": "stream",
     "text": [
      "[0, 0, 0, 0, 0, 0, 0, 0, 0, 0]\n"
     ]
    }
   ],
   "source": [
    "# 리스트 초기화\n",
    "n = 10\n",
    "a = [0]*10\n",
    "print (a)"
   ]
  },
  {
   "cell_type": "code",
   "execution_count": 3,
   "id": "partial-republican",
   "metadata": {},
   "outputs": [
    {
     "name": "stdout",
     "output_type": "stream",
     "text": [
      "[1, 3, 5, 7, 9, 11, 13, 15, 17, 19]\n",
      "[1, 4, 9, 16, 25, 36, 49, 64, 81]\n"
     ]
    }
   ],
   "source": [
    "# 리스트 컴프리헨션\n",
    "array = [i for i in range(20) if i % 2 ==1]\n",
    "print (array)\n",
    "\n",
    "array = [i * i for i in range(1,10)]\n",
    "print (array)"
   ]
  },
  {
   "cell_type": "code",
   "execution_count": 6,
   "id": "narrow-austin",
   "metadata": {},
   "outputs": [
    {
     "name": "stdout",
     "output_type": "stream",
     "text": [
      "[[0, 0, 0, 0], [0, 0, 0, 0], [0, 0, 0, 0]]\n",
      "Hello World Hello World Hello World Hello World Hello World "
     ]
    }
   ],
   "source": [
    "# N X M 크기의 2차원 리스트 초기화\n",
    "n = 3\n",
    "m = 4\n",
    "array =[[0] * m for _ in range(n)]\n",
    "print (array)\n",
    "\n",
    "for _ in range(5):\n",
    "    print(\"Hello World\", end=' ')"
   ]
  },
  {
   "cell_type": "code",
   "execution_count": 7,
   "id": "wicked-skirt",
   "metadata": {},
   "outputs": [
    {
     "name": "stdout",
     "output_type": "stream",
     "text": [
      "[1, 2, 4]\n"
     ]
    }
   ],
   "source": [
    "a = [1,2,3,4,5,5,5]\n",
    "remove_set = {3,5}\n",
    "\n",
    "# remove_set에 포함되지 않은 값만을 저장\n",
    "result = [i for i in a if i not in remove_set]\n",
    "print (result)"
   ]
  },
  {
   "cell_type": "markdown",
   "id": "concerned-decrease",
   "metadata": {},
   "source": [
    "### 사전 자료형"
   ]
  },
  {
   "cell_type": "code",
   "execution_count": 8,
   "id": "operational-singing",
   "metadata": {},
   "outputs": [
    {
     "name": "stdout",
     "output_type": "stream",
     "text": [
      "{'사과': 'Apple', '바나나': 'Banana', '코코넛': 'Coconut'}\n"
     ]
    }
   ],
   "source": [
    "data  = dict()\n",
    "data['사과'] = 'Apple'\n",
    "data['바나나'] = 'Banana'\n",
    "data['코코넛'] = 'Coconut'\n",
    "\n",
    "print(data)"
   ]
  },
  {
   "cell_type": "code",
   "execution_count": 13,
   "id": "funny-queen",
   "metadata": {},
   "outputs": [
    {
     "name": "stdout",
     "output_type": "stream",
     "text": [
      "'사과'를 키로 가지는 데이터가 존재합니다.\n"
     ]
    }
   ],
   "source": [
    "if '사과' in data:\n",
    "    print(\"'사과'를 키로 가지는 데이터가 존재합니다.\")\n",
    "else:\n",
    "    print('그런 거 없습니다.')"
   ]
  },
  {
   "cell_type": "code",
   "execution_count": 15,
   "id": "fitted-template",
   "metadata": {},
   "outputs": [
    {
     "data": {
      "text/plain": [
       "dict_items([('사과', 'Apple'), ('바나나', 'Banana'), ('코코넛', 'Coconut')])"
      ]
     },
     "execution_count": 15,
     "metadata": {},
     "output_type": "execute_result"
    }
   ],
   "source": [
    "data.items()"
   ]
  },
  {
   "cell_type": "markdown",
   "id": "historic-short",
   "metadata": {},
   "source": [
    "### 집합 자료형"
   ]
  },
  {
   "cell_type": "code",
   "execution_count": 17,
   "id": "coral-cross",
   "metadata": {},
   "outputs": [
    {
     "name": "stdout",
     "output_type": "stream",
     "text": [
      "{1, 2, 3, 4, 5, 6, 7}\n",
      "{3, 4, 5}\n",
      "{1, 2}\n"
     ]
    }
   ],
   "source": [
    "# 집합 자료형의 연산\n",
    "a = set([1,2,3,4,5])\n",
    "b = set([3,4,5,6,7])\n",
    "\n",
    "print(a | b) # 합집합\n",
    "print(a & b) # 교집합\n",
    "print(a - b) # 차집합"
   ]
  },
  {
   "cell_type": "code",
   "execution_count": 18,
   "id": "adolescent-solid",
   "metadata": {},
   "outputs": [
    {
     "name": "stdout",
     "output_type": "stream",
     "text": [
      "{1, 2, 3}\n",
      "{1, 2, 3, 4}\n",
      "{1, 2, 3, 4, 5, 6}\n",
      "{1, 2, 4, 5, 6}\n"
     ]
    }
   ],
   "source": [
    "data = set([1,2,3])\n",
    "print (data)\n",
    "\n",
    "# 새로운 원소 추가\n",
    "data.add(4)\n",
    "print(data)\n",
    "\n",
    "# 새로운 원소 여러 개 추가\n",
    "data.update([5,6])\n",
    "print(data)\n",
    "\n",
    "# 특정한 값을 갖는 원소 삭제\n",
    "data.remove(3)\n",
    "print(data)"
   ]
  },
  {
   "cell_type": "markdown",
   "id": "promotional-porcelain",
   "metadata": {},
   "source": []
  },
  {
   "cell_type": "markdown",
   "id": "separated-mentor",
   "metadata": {},
   "source": [
    "## 조건문"
   ]
  },
  {
   "cell_type": "code",
   "execution_count": 20,
   "id": "prepared-nudist",
   "metadata": {},
   "outputs": [
    {
     "name": "stdout",
     "output_type": "stream",
     "text": [
      "성적이 좀 모자라네요\n",
      "프로그램을 종료합니다\n"
     ]
    }
   ],
   "source": [
    "score = 79\n",
    "\n",
    "if score >= 80:\n",
    "    pass\n",
    "else:\n",
    "    print(\"성적이 좀 모자라네요\")\n",
    "    \n",
    "print(\"프로그램을 종료합니다\")"
   ]
  },
  {
   "cell_type": "code",
   "execution_count": 23,
   "id": "chicken-powder",
   "metadata": {},
   "outputs": [
    {
     "name": "stdout",
     "output_type": "stream",
     "text": [
      "Success\n"
     ]
    }
   ],
   "source": [
    "score = 85\n",
    "if score >= 80: result = \"Success\"\n",
    "else: result = \"Fail\"\n",
    "\n",
    "print(result)"
   ]
  },
  {
   "cell_type": "code",
   "execution_count": 24,
   "id": "entitled-upgrade",
   "metadata": {},
   "outputs": [
    {
     "name": "stdout",
     "output_type": "stream",
     "text": [
      "Success\n"
     ]
    }
   ],
   "source": [
    "result = \"Success\" if score >= 80 else \"Fail\"\n",
    "print(result)"
   ]
  },
  {
   "cell_type": "code",
   "execution_count": 25,
   "id": "junior-adams",
   "metadata": {},
   "outputs": [
    {
     "name": "stdout",
     "output_type": "stream",
     "text": [
      "[1, 2, 4]\n"
     ]
    }
   ],
   "source": [
    "a = [1,2,3,4,5,5,5]\n",
    "remove_set = {3,5}\n",
    "\n",
    "result = []\n",
    "for i in a:\n",
    "    if i not in remove_set:\n",
    "        result.append(i)\n",
    "print(result)"
   ]
  },
  {
   "cell_type": "code",
   "execution_count": 26,
   "id": "caring-disorder",
   "metadata": {},
   "outputs": [
    {
     "name": "stdout",
     "output_type": "stream",
     "text": [
      "[1, 2, 4]\n"
     ]
    }
   ],
   "source": [
    "result = [i for i in a if i not in remove_set]\n",
    "print(result)"
   ]
  },
  {
   "cell_type": "markdown",
   "id": "vital-grammar",
   "metadata": {},
   "source": []
  },
  {
   "cell_type": "markdown",
   "id": "infrared-hudson",
   "metadata": {},
   "source": [
    "## 반복문"
   ]
  },
  {
   "cell_type": "markdown",
   "id": "otherwise-subdivision",
   "metadata": {},
   "source": [
    "### while문"
   ]
  },
  {
   "cell_type": "code",
   "execution_count": 29,
   "id": "apparent-consortium",
   "metadata": {},
   "outputs": [
    {
     "name": "stdout",
     "output_type": "stream",
     "text": [
      "45\n"
     ]
    }
   ],
   "source": [
    "i = 1\n",
    "result = 0\n",
    "\n",
    "while i <= 9:\n",
    "    result += i\n",
    "    i += 1\n",
    "print(result)"
   ]
  },
  {
   "cell_type": "code",
   "execution_count": 31,
   "id": "covered-morgan",
   "metadata": {},
   "outputs": [
    {
     "name": "stdout",
     "output_type": "stream",
     "text": [
      "25\n"
     ]
    }
   ],
   "source": [
    "i = 1\n",
    "result = 0\n",
    "\n",
    "while i <= 9:\n",
    "    if i % 2 ==1:\n",
    "        result += i\n",
    "    i += 1\n",
    "print(result)"
   ]
  },
  {
   "cell_type": "markdown",
   "id": "immediate-thomson",
   "metadata": {},
   "source": [
    "### for문"
   ]
  },
  {
   "cell_type": "code",
   "execution_count": 32,
   "id": "bottom-conspiracy",
   "metadata": {},
   "outputs": [
    {
     "name": "stdout",
     "output_type": "stream",
     "text": [
      "45\n"
     ]
    }
   ],
   "source": [
    "result = 0\n",
    "\n",
    "for i in range(1,10):\n",
    "    result += i\n",
    "print(result)"
   ]
  },
  {
   "cell_type": "code",
   "execution_count": 33,
   "id": "fossil-benefit",
   "metadata": {},
   "outputs": [
    {
     "name": "stdout",
     "output_type": "stream",
     "text": [
      "1 번 학생은 합격입니다.\n",
      "2 번 학생은 합격입니다.\n",
      "5 번 학생은 합격입니다.\n"
     ]
    }
   ],
   "source": [
    "scores = [90,85,77,65,97]\n",
    "\n",
    "for i in range(5):\n",
    "    if scores[i] >= 80:\n",
    "        print(i + 1,\"번 학생은 합격입니다.\")\n"
   ]
  },
  {
   "cell_type": "code",
   "execution_count": 36,
   "id": "discrete-skiing",
   "metadata": {
    "scrolled": true
   },
   "outputs": [
    {
     "name": "stdout",
     "output_type": "stream",
     "text": [
      "2 x 1 = 2\n",
      "2 x 2 = 4\n",
      "2 x 3 = 6\n",
      "2 x 4 = 8\n",
      "2 x 5 = 10\n",
      "2 x 6 = 12\n",
      "2 x 7 = 14\n",
      "2 x 8 = 16\n",
      "2 x 9 = 18\n",
      "\n",
      "3 x 1 = 3\n",
      "3 x 2 = 6\n",
      "3 x 3 = 9\n",
      "3 x 4 = 12\n",
      "3 x 5 = 15\n",
      "3 x 6 = 18\n",
      "3 x 7 = 21\n",
      "3 x 8 = 24\n",
      "3 x 9 = 27\n",
      "\n",
      "4 x 1 = 4\n",
      "4 x 2 = 8\n",
      "4 x 3 = 12\n",
      "4 x 4 = 16\n",
      "4 x 5 = 20\n",
      "4 x 6 = 24\n",
      "4 x 7 = 28\n",
      "4 x 8 = 32\n",
      "4 x 9 = 36\n",
      "\n",
      "5 x 1 = 5\n",
      "5 x 2 = 10\n",
      "5 x 3 = 15\n",
      "5 x 4 = 20\n",
      "5 x 5 = 25\n",
      "5 x 6 = 30\n",
      "5 x 7 = 35\n",
      "5 x 8 = 40\n",
      "5 x 9 = 45\n",
      "\n",
      "6 x 1 = 6\n",
      "6 x 2 = 12\n",
      "6 x 3 = 18\n",
      "6 x 4 = 24\n",
      "6 x 5 = 30\n",
      "6 x 6 = 36\n",
      "6 x 7 = 42\n",
      "6 x 8 = 48\n",
      "6 x 9 = 54\n",
      "\n",
      "7 x 1 = 7\n",
      "7 x 2 = 14\n",
      "7 x 3 = 21\n",
      "7 x 4 = 28\n",
      "7 x 5 = 35\n",
      "7 x 6 = 42\n",
      "7 x 7 = 49\n",
      "7 x 8 = 56\n",
      "7 x 9 = 63\n",
      "\n",
      "8 x 1 = 8\n",
      "8 x 2 = 16\n",
      "8 x 3 = 24\n",
      "8 x 4 = 32\n",
      "8 x 5 = 40\n",
      "8 x 6 = 48\n",
      "8 x 7 = 56\n",
      "8 x 8 = 64\n",
      "8 x 9 = 72\n",
      "\n",
      "9 x 1 = 9\n",
      "9 x 2 = 18\n",
      "9 x 3 = 27\n",
      "9 x 4 = 36\n",
      "9 x 5 = 45\n",
      "9 x 6 = 54\n",
      "9 x 7 = 63\n",
      "9 x 8 = 72\n",
      "9 x 9 = 81\n",
      "\n"
     ]
    }
   ],
   "source": [
    "# 구구단\n",
    "for i in range(2,10):\n",
    "    for j in range(1,10):\n",
    "        print(i, 'x', j,\"=\", i*j)\n",
    "    print()"
   ]
  },
  {
   "cell_type": "markdown",
   "id": "solid-tonight",
   "metadata": {},
   "source": []
  },
  {
   "cell_type": "markdown",
   "id": "tested-restoration",
   "metadata": {},
   "source": [
    "### itertools"
   ]
  },
  {
   "cell_type": "code",
   "execution_count": 37,
   "id": "boring-albert",
   "metadata": {},
   "outputs": [
    {
     "name": "stdout",
     "output_type": "stream",
     "text": [
      "[('A', 'B', 'C'), ('A', 'C', 'B'), ('B', 'A', 'C'), ('B', 'C', 'A'), ('C', 'A', 'B'), ('C', 'B', 'A')]\n",
      "6\n"
     ]
    }
   ],
   "source": [
    "from itertools import permutations\n",
    "\n",
    "data = ['A', 'B', 'C'] # 데이터 준비\n",
    "\n",
    "result = list(permutations(data, 3)) # 모든 순열 구하기\n",
    "\n",
    "print(result)\n",
    "print(len(result))"
   ]
  },
  {
   "cell_type": "code",
   "execution_count": 38,
   "id": "geological-explorer",
   "metadata": {},
   "outputs": [
    {
     "name": "stdout",
     "output_type": "stream",
     "text": [
      "[('A', 'B'), ('A', 'C'), ('B', 'C')]\n"
     ]
    }
   ],
   "source": [
    "from itertools import combinations\n",
    "\n",
    "data = ['A','B','C']\n",
    "\n",
    "result = list(combinations(data, 2))\n",
    "\n",
    "print (result)"
   ]
  },
  {
   "cell_type": "code",
   "execution_count": 41,
   "id": "regular-greece",
   "metadata": {},
   "outputs": [
    {
     "name": "stdout",
     "output_type": "stream",
     "text": [
      "[('A', 'A'), ('A', 'B'), ('A', 'C'), ('B', 'A'), ('B', 'B'), ('B', 'C'), ('C', 'A'), ('C', 'B'), ('C', 'C')]\n",
      "9\n",
      "<class 'list'>\n"
     ]
    }
   ],
   "source": [
    "from itertools import product\n",
    "\n",
    "data = ['A','B','C']\n",
    "\n",
    "result = list(product(data, repeat=2))\n",
    "\n",
    "print(result)\n",
    "print(len(result))\n",
    "print(type(result))"
   ]
  },
  {
   "cell_type": "code",
   "execution_count": null,
   "id": "internal-compromise",
   "metadata": {},
   "outputs": [],
   "source": []
  }
 ],
 "metadata": {
  "kernelspec": {
   "display_name": "aiffel",
   "language": "python",
   "name": "aiffel"
  },
  "language_info": {
   "codemirror_mode": {
    "name": "ipython",
    "version": 3
   },
   "file_extension": ".py",
   "mimetype": "text/x-python",
   "name": "python",
   "nbconvert_exporter": "python",
   "pygments_lexer": "ipython3",
   "version": "3.7.6"
  }
 },
 "nbformat": 4,
 "nbformat_minor": 5
}
