{
 "cells": [
  {
   "cell_type": "markdown",
   "metadata": {},
   "source": [
    "# $$Python-practice$$"
   ]
  },
  {
   "cell_type": "markdown",
   "metadata": {},
   "source": []
  },
  {
   "cell_type": "markdown",
   "metadata": {},
   "source": [
    "### 탈출문자"
   ]
  },
  {
   "cell_type": "code",
   "execution_count": 11,
   "metadata": {},
   "outputs": [
    {
     "name": "stdout",
     "output_type": "stream",
     "text": [
      "백문이 불여일견 \n",
      "백견이 불여일타\n",
      "저는 \"나도코딩\"입니다.\n",
      "https:\\www.naver.com\\cafe\\jungonara\n",
      "Red Apple\r",
      "Pine\n"
     ]
    }
   ],
   "source": [
    "# \\n - 붙이면 줄바꿈을 실행한다.\n",
    "print (\"백문이 불여일견 \\n백견이 불여일타\")\n",
    "\n",
    "# 문자열 안에 큰따옴표(작은따옴표) 앞에 \\를 붙이면 문자열 내에 입력된 큰따옴표(작은따옴표)를 출력할 수 있다.\n",
    "print (\"저는 \\\"나도코딩\\\"입니다.\")\n",
    "\n",
    "# \\\\ - 문장 내에서 하나의 \\로 표현 됨\n",
    "print (\"https:\\\\www.naver.com\\\\cafe\\\\jungonara\")\n",
    "\n",
    "# \\r - 커서를 맨 앞으로 옮겨서 r 뒤에 입력된 데이터로 대체한다.\n",
    "print (\"Red Apple\\rPine\")"
   ]
  },
  {
   "cell_type": "markdown",
   "metadata": {},
   "source": []
  },
  {
   "cell_type": "markdown",
   "metadata": {},
   "source": [
    "### $Quiz$"
   ]
  },
  {
   "cell_type": "markdown",
   "metadata": {},
   "source": [
    "각종 사이트의 비밀번호를 만들어 주는 프로그램을 작성해 보십시오.\n",
    "\n",
    "예제) http://naver.com  \n",
    "**규칙1** : 예제의 http:// 부분은 제외  \n",
    "**규칙2** : 처음 만나는 점(.) 이후의 부분은 제외  \n",
    "**규칙3** : 남은 글자 중 처음 세자리 + 글자 갯수 + 글자 내 'e' 갯수 + \"!\" 로 구성\n",
    "\n",
    "Output : nav51!"
   ]
  },
  {
   "cell_type": "code",
   "execution_count": 27,
   "metadata": {},
   "outputs": [
    {
     "name": "stdout",
     "output_type": "stream",
     "text": [
      "nate\n",
      "http://nate.com의 비밀번호는 nat41!입니다.\n"
     ]
    }
   ],
   "source": [
    "url = \"http://nate.com\" # 사이트가 바뀔 때마다 비밀번호가 바뀐다.\n",
    "except_ = url.replace(\"http://\", \"\") #규칙1 - url 문자열에서 \"http://\"를 \"\"(빈칸)으로 대체\n",
    "except_ = except_[:except_.index(\".\")] #규칙2 - 문자열에서 처음(:)부터 \".\" 직전까지 출력\n",
    "print (except_)\n",
    "\n",
    "password = except_[0:3] + str(len(except_)) + str(except_.count(\"e\")) + \"!\"\n",
    "\n",
    "print (\"{0}의 비밀번호는 {1}입니다.\".format(url, password))"
   ]
  },
  {
   "cell_type": "markdown",
   "metadata": {},
   "source": []
  },
  {
   "cell_type": "markdown",
   "metadata": {},
   "source": [
    "### 리스트 (list)"
   ]
  },
  {
   "cell_type": "code",
   "execution_count": 48,
   "metadata": {},
   "outputs": [
    {
     "name": "stdout",
     "output_type": "stream",
     "text": [
      "[10, 20, 30]\n",
      "<class 'list'>\n",
      "2\n",
      "['유재석', '조세호', '이광수', '조정석']\n",
      "['유재석', '조세호', '갤가돗', '이광수', '조정석']\n",
      "['유재석', '조세호', '갤가돗', '이광수']\n",
      "['유재석', '조세호', '갤가돗', '이광수', '갤가돗']\n",
      "2\n"
     ]
    }
   ],
   "source": [
    "subway1 = 10\n",
    "subway2 = 20\n",
    "subway3 = 30\n",
    "\n",
    "subway = [10, 20, 30]\n",
    "\n",
    "print (subway)\n",
    "print (type(subway))\n",
    "\n",
    "subway = [\"유재석\", \"조세호\", \"이광수\"]\n",
    "print (subway.index(\"이광수\")) # 이광수가 몇번째에 있는가?\n",
    "\n",
    "subway.append(\"조정석\") # 조정석을 맨 뒤에 추가해줌\n",
    "print (subway)\n",
    "\n",
    "subway.insert(2, \"갤가돗\") # insert 함수를 쓰면 원하는 위치에 인자를 추가 할 수 있다.\n",
    "print (subway)\n",
    "\n",
    "subway.pop() # pop 함수를 쓰면 맨 뒤의 인자를 하나씩 제거해서 출력한다.\n",
    "print (subway)\n",
    "\n",
    "subway.append(\"갤가돗\") # 갤가돗을 한번 더 추가해주고\n",
    "print (subway)\n",
    "print (subway.count(\"갤가돗\")) # 갤가돗이 몇명인지 카운트"
   ]
  },
  {
   "cell_type": "code",
   "execution_count": 52,
   "metadata": {},
   "outputs": [
    {
     "name": "stdout",
     "output_type": "stream",
     "text": [
      "[1, 2, 3, 4, 5]\n",
      "[5, 4, 3, 2, 1]\n",
      "[]\n"
     ]
    }
   ],
   "source": [
    "num_list = [5, 4, 3, 2, 1]\n",
    "num_list.sort() # sort 함수를 쓰면 변수를 정렬해서 출력한다.\n",
    "print (num_list)\n",
    "\n",
    "num_list.reverse() # reverse 함수를 쓰면 변수를 뒤집어서 출력한다.\n",
    "print (num_list)\n",
    "\n",
    "num_list.clear()\n",
    "print (num_list)"
   ]
  },
  {
   "cell_type": "code",
   "execution_count": 55,
   "metadata": {},
   "outputs": [
    {
     "name": "stdout",
     "output_type": "stream",
     "text": [
      "['미하엘', 20, True]\n",
      "[5, 4, 3, 2, 1, '미하엘', 20, True]\n"
     ]
    }
   ],
   "source": [
    "# list는 다양한 자료형을 함께 사용할 수 있다.\n",
    "mix_list = [\"미하엘\", 20, True]\n",
    "print (mix_list)\n",
    "\n",
    "\n",
    "num_list = [5, 4, 3, 2, 1]\n",
    "mix_list = [\"미하엘\", 20, True]\n",
    "\n",
    "num_list.extend(mix_list)\n",
    "print (num_list)"
   ]
  },
  {
   "cell_type": "markdown",
   "metadata": {},
   "source": []
  },
  {
   "cell_type": "markdown",
   "metadata": {},
   "source": [
    "### 딕셔너리(dict)"
   ]
  },
  {
   "cell_type": "code",
   "execution_count": 70,
   "metadata": {},
   "outputs": [
    {
     "name": "stdout",
     "output_type": "stream",
     "text": [
      "스타크\n",
      "톰하디\n",
      "True\n",
      "False\n",
      "스타크\n",
      "{'A-3': '톰하디', 'A-100': '스타크'}\n",
      "{'A-3': '톰하디', 'A-100': '스타크', 'C-156': '앤트맨'}\n",
      "{'A-100': '스타크', 'C-156': '앤트맨'}\n",
      "dict_keys(['A-100', 'C-156'])\n",
      "dict_values(['스타크', '앤트맨'])\n"
     ]
    }
   ],
   "source": [
    "# 딕셔너리에선 key값과 value값이 있다.\n",
    "# key값은 중복될 수 없다.\n",
    "\n",
    "\n",
    "cabinet = {3:\"톰하디\", 100:\"스타크\"} # key: [3], [100]  value: \"톰하디\", \"스타크\"\n",
    "print (cabinet[100])\n",
    "\n",
    "print (cabinet.get(3)) # 대괄호 대신 get 함수로도 불러올 수 있다.\n",
    "#get 함수를 쓰면 오류 대신 None이 출력되고 다음 명령이 실행된다.\n",
    "\n",
    "print (3 in cabinet)\n",
    "print (5 in cabinet)\n",
    "\n",
    "# key값에 정수 대신 문자열을 넣어서 사용할 수도 있다.\n",
    "cabinet = {\"A-3\":\"톰하디\", \"A-100\":\"스타크\"}\n",
    "print (cabinet[\"A-100\"])\n",
    "\n",
    "print (cabinet)\n",
    "cabinet[\"C-156\"] = \"앤트맨\"\n",
    "\n",
    "print (cabinet)\n",
    "\n",
    "del cabinet[\"A-3\"]\n",
    "print (cabinet)\n",
    "\n",
    "# key 값만 출력\n",
    "print (cabinet.keys())\n",
    "\n",
    "# value 값만 출력\n",
    "print (cabinet.values())"
   ]
  },
  {
   "cell_type": "markdown",
   "metadata": {},
   "source": []
  },
  {
   "cell_type": "markdown",
   "metadata": {},
   "source": [
    "### 튜플(tuple)"
   ]
  },
  {
   "cell_type": "code",
   "execution_count": 88,
   "metadata": {},
   "outputs": [
    {
     "name": "stdout",
     "output_type": "stream",
     "text": [
      "테슬라\n",
      "재규어 15 drive\n",
      "재규어 15 drive\n"
     ]
    }
   ],
   "source": [
    "menu = (\"테슬라\", \"페라리\")\n",
    "print (menu[0])\n",
    "\n",
    "#menu.add(\"포드\") # 튜플은 값을 변경할 수 없다\n",
    "#menu.appent(\"포드\") # 마찬가지\n",
    "\n",
    "name = \"재규어\"\n",
    "age = 15\n",
    "hobby = \"drive\"\n",
    "\n",
    "print (name, age, hobby)\n",
    "\n",
    "#이런식으로도 사용 가능\n",
    "(name, age, hobby) = (\"재규어\", 15, \"drive\")\n",
    "print (name, age, hobby)\n"
   ]
  },
  {
   "cell_type": "markdown",
   "metadata": {},
   "source": []
  },
  {
   "cell_type": "markdown",
   "metadata": {},
   "source": [
    "### 집합(set)"
   ]
  },
  {
   "cell_type": "code",
   "execution_count": 101,
   "metadata": {},
   "outputs": [
    {
     "name": "stdout",
     "output_type": "stream",
     "text": [
      "{1, 2, 3, 4}\n",
      "{'유재석'}\n",
      "{'유재석'}\n",
      "{'주지훈', '고소영', '유재석', '장동건'}\n",
      "{'주지훈', '고소영', '유재석', '장동건'}\n",
      "{'장동건', '고소영'}\n",
      "{'장동건', '고소영'}\n",
      "{'주지훈', '유재석', '닥터지'}\n",
      "{'고소영', '유재석'}\n"
     ]
    }
   ],
   "source": [
    "# 집합은 중복이 안되고 순서가 없다\n",
    "my_car = {1, 2, 3, 4, 4, 4}\n",
    "print (my_car)\n",
    "\n",
    "\n",
    "java = {\"유재석\", \"장동건\", \"고소영\"}\n",
    "python = set([\"유재석\", \"주지훈\"])\n",
    "\n",
    "# 교집합 (java와 python을 모두 할 수 있는 개발자)\n",
    "print (java & python)\n",
    "print (java.intersection(python))\n",
    "\n",
    "# 합집합 (java나 python 중 하나를 할 수 있는 사람)\n",
    "print (java | python)\n",
    "print (java.union(python)) # 값의 순서와 상관없이 출력됨\n",
    "\n",
    "# 차집합 (java는 할 수 있지만 python은 못하는 개발자)\n",
    "print (java - python)\n",
    "print (java.difference(python))\n",
    "\n",
    "# python을 배워서 옴\n",
    "python.add(\"닥터지\")\n",
    "print (python)\n",
    "\n",
    "# 갑자기 java를 까먹었다고 함;;\n",
    "java.remove(\"장동건\")\n",
    "print (java)"
   ]
  },
  {
   "cell_type": "markdown",
   "metadata": {},
   "source": []
  },
  {
   "cell_type": "markdown",
   "metadata": {},
   "source": [
    "### 자료구조의 변형"
   ]
  },
  {
   "cell_type": "code",
   "execution_count": 105,
   "metadata": {},
   "outputs": [
    {
     "name": "stdout",
     "output_type": "stream",
     "text": [
      "{'레노버', 'mac', 'msi'} <class 'set'>\n",
      "['레노버', 'mac', 'msi'] <class 'list'>\n",
      "('레노버', 'mac', 'msi') <class 'tuple'>\n",
      "{'레노버', 'mac', 'msi'} <class 'set'>\n"
     ]
    }
   ],
   "source": [
    "# 집합(set)으로 먼저 생성\n",
    "menu = {\"mac\", \"레노버\", \"msi\"}\n",
    "print (menu, type(menu))\n",
    "\n",
    "# set을 list로 변경\n",
    "menu = list(menu)\n",
    "print (menu, type(menu))\n",
    "\n",
    "#list를 tuple로 변경\n",
    "menu = tuple(menu)\n",
    "print (menu, type(menu))\n",
    "\n",
    "#다시 set으로 변경\n",
    "menu = set(menu)\n",
    "print (menu, type(menu))"
   ]
  },
  {
   "cell_type": "markdown",
   "metadata": {},
   "source": []
  },
  {
   "cell_type": "markdown",
   "metadata": {},
   "source": [
    "### $Quiz$"
   ]
  },
  {
   "cell_type": "markdown",
   "metadata": {},
   "source": [
    "**싱어게인 참가자 대모집**  \n",
    "댓글 이벤트 런칭!.  댓글 작성자들 중 추첨을 통하여 1명은 에어팟, 3명은 케이스를 증정합니다.  \n",
    "추천 프로그램을 작성해 보십시오.\n",
    "\n",
    "**조건1**: 20명의 댓글 참가자, 아이디는 1~20이라고 가정  \n",
    "**조건2**: 내용 상관없이 무작위 추첨, 중복 불가  \n",
    "**조건3**: random module의 suffle과 sample을 활용하라."
   ]
  },
  {
   "cell_type": "code",
   "execution_count": 134,
   "metadata": {},
   "outputs": [
    {
     "name": "stdout",
     "output_type": "stream",
     "text": [
      "--당첨자 발표--\n",
      "에어팟 당첨자 : 13\n",
      "케이스 당첨자 : [19, 8, 18]\n",
      "--Congraturation!!!!--\n"
     ]
    }
   ],
   "source": [
    "from random import *\n",
    "\n",
    "part_ = range(1, 21)\n",
    "part_ = list(part_)\n",
    "\n",
    "shuffle(part_)\n",
    "\n",
    "\n",
    "winners = sample(part_, 4)\n",
    "\n",
    "print (\"--당첨자 발표--\")\n",
    "\n",
    "print (\"에어팟 당첨자 : {}\" .format(winners[0]))\n",
    "print (\"케이스 당첨자 : {}\" .format(winners[1:4]))\n",
    "\n",
    "print (\"--Congraturation!!!!--\")"
   ]
  }
 ],
 "metadata": {
  "kernelspec": {
   "display_name": "Python 3",
   "language": "python",
   "name": "python3"
  },
  "language_info": {
   "codemirror_mode": {
    "name": "ipython",
    "version": 3
   },
   "file_extension": ".py",
   "mimetype": "text/x-python",
   "name": "python",
   "nbconvert_exporter": "python",
   "pygments_lexer": "ipython3",
   "version": "3.7.9"
  }
 },
 "nbformat": 4,
 "nbformat_minor": 4
}
