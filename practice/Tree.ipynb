{
 "cells": [
  {
   "cell_type": "code",
   "execution_count": 9,
   "id": "powered-austin",
   "metadata": {},
   "outputs": [],
   "source": [
    "# Binary Search Tree\n",
    "class Node:\n",
    "    def __init__(self, value):\n",
    "        self.value = value\n",
    "        self.left = None\n",
    "        self.right = None"
   ]
  },
  {
   "cell_type": "code",
   "execution_count": 10,
   "id": "packed-surgeon",
   "metadata": {},
   "outputs": [
    {
     "data": {
      "text/plain": [
       "<__main__.Node at 0x7f6c082da750>"
      ]
     },
     "execution_count": 10,
     "metadata": {},
     "output_type": "execute_result"
    }
   ],
   "source": [
    "Node(1)"
   ]
  },
  {
   "cell_type": "code",
   "execution_count": 11,
   "id": "historical-bottle",
   "metadata": {},
   "outputs": [],
   "source": [
    "class BinarySearchTree:\n",
    "    def __init__(self, head):\n",
    "        self.head = head\n",
    "        \n",
    "    def insert(self, insert_value):\n",
    "        current_node = self.head\n",
    "        \n",
    "        while True:\n",
    "            # 삽입한 밸류가 현재 노드의 밸류보다 작으면 왼쪽으로\n",
    "            if insert_value < current_node.value:\n",
    "                # 이미 왼쪽에 브랜치가 존재한다면 왼쪽 브랜치로 현재노드의 위치를 변경\n",
    "                if current_node.left != None:\n",
    "                    current_node = current_node.left\n",
    "                else:\n",
    "                    # 비어있으면 밸류를 넣어준다\n",
    "                    current_node.left = Node(insert_value)\n",
    "                    break\n",
    "            elif insert_value > current_node.value:\n",
    "                # 삽입한 밸류가 현재 노드의 밸류보다 크면 오른쪽으로\n",
    "                # 오른쪽이 비어있지 않다면 현재 노드를 오른쪽 노드로 바꿔준다.\n",
    "                if current_node.right != None:\n",
    "                    current_node = current_node.right\n",
    "                else:\n",
    "                    current_node.right = Node(insert_value)\n",
    "                    break\n",
    "            else:\n",
    "                raise ValueError(\"이진 검색 트리는 값의 중복을 허용하지 않습니다.\")\n",
    "                \n",
    "    def search(self, search_value):\n",
    "        current_node = self.head\n",
    "        level = 0\n",
    "        left = 0\n",
    "        right = 0\n",
    "        \n",
    "        while current_node:\n",
    "            if current_node.value == search_value:\n",
    "                return True, level, left, right\n",
    "            elif search_value < current_node.value:\n",
    "                current_node = current_node.left\n",
    "                level += 1\n",
    "                left += 1\n",
    "                print(\"<-\")\n",
    "            else:\n",
    "                current_node = current_node.right\n",
    "                level += 1\n",
    "                right += 1\n",
    "                print(\"->\")\n",
    "        return False, level, left, right"
   ]
  },
  {
   "cell_type": "code",
   "execution_count": 12,
   "id": "interim-delicious",
   "metadata": {},
   "outputs": [],
   "source": [
    "head = Node(10)"
   ]
  },
  {
   "cell_type": "code",
   "execution_count": 13,
   "id": "informal-columbus",
   "metadata": {},
   "outputs": [],
   "source": [
    "BST = BinarySearchTree(head)"
   ]
  },
  {
   "cell_type": "code",
   "execution_count": 14,
   "id": "chemical-flooring",
   "metadata": {},
   "outputs": [],
   "source": [
    "for i in [5,9,3,12,17,15,35,32]:\n",
    "    BST.insert(i)"
   ]
  },
  {
   "cell_type": "code",
   "execution_count": 15,
   "id": "black-dining",
   "metadata": {},
   "outputs": [
    {
     "name": "stdout",
     "output_type": "stream",
     "text": [
      "->\n",
      "->\n",
      "->\n",
      "<-\n"
     ]
    },
    {
     "data": {
      "text/plain": [
       "(True, 4, 1, 3)"
      ]
     },
     "execution_count": 15,
     "metadata": {},
     "output_type": "execute_result"
    }
   ],
   "source": [
    "BST.search(32)"
   ]
  },
  {
   "cell_type": "code",
   "execution_count": null,
   "id": "smaller-transmission",
   "metadata": {},
   "outputs": [],
   "source": []
  }
 ],
 "metadata": {
  "kernelspec": {
   "display_name": "Python 3",
   "language": "python",
   "name": "python3"
  },
  "language_info": {
   "codemirror_mode": {
    "name": "ipython",
    "version": 3
   },
   "file_extension": ".py",
   "mimetype": "text/x-python",
   "name": "python",
   "nbconvert_exporter": "python",
   "pygments_lexer": "ipython3",
   "version": "3.7.9"
  }
 },
 "nbformat": 4,
 "nbformat_minor": 5
}
