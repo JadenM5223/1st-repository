{
 "cells": [
  {
   "cell_type": "code",
   "execution_count": 43,
   "metadata": {},
   "outputs": [],
   "source": [
    "import numpy as np\n",
    "import pandas as pd"
   ]
  },
  {
   "cell_type": "code",
   "execution_count": 44,
   "metadata": {},
   "outputs": [],
   "source": [
    "uniform = np.random.uniform(size=(10,10))"
   ]
  },
  {
   "cell_type": "code",
   "execution_count": 45,
   "metadata": {},
   "outputs": [],
   "source": [
    "data = pd.DataFrame(uniform, columns='a b c d e f g h i j'.split())"
   ]
  },
  {
   "cell_type": "code",
   "execution_count": 46,
   "metadata": {},
   "outputs": [],
   "source": [
    "class PandasData:\n",
    "    def __init__(self, data):\n",
    "        self.data = data"
   ]
  },
  {
   "cell_type": "code",
   "execution_count": 47,
   "metadata": {},
   "outputs": [],
   "source": [
    "pd_data = PandasData"
   ]
  },
  {
   "cell_type": "code",
   "execution_count": 48,
   "metadata": {},
   "outputs": [],
   "source": [
    "class PandasData:\n",
    "    def __init__(self, data):\n",
    "        self.data = data\n",
    "        \n",
    "    # 객체를 문자열로 나타내줌\n",
    "    def __str__(self):\n",
    "        return \"안녕 나는 헤라클래스!\"\n",
    "    \n",
    "    # index를 출력할 수 있도록 해줌\n",
    "    def __getitem__(self, idx):\n",
    "        return self.data[idx]\n",
    "    \n",
    "    # 길이를 출력\n",
    "    def __len__(self):\n",
    "        return len(self.data)\n",
    "    \n",
    "    # 클래스를 함수처럼 호출할 수 있게 해줌\n",
    "    def __call__(self):\n",
    "        # 호출을 하면 head를 찍어보는 걸로 한 번 만들어 보자\n",
    "        return self.data.tail()"
   ]
  },
  {
   "cell_type": "code",
   "execution_count": 49,
   "metadata": {},
   "outputs": [],
   "source": [
    "# 인스턴스 생성\n",
    "pd_data = PandasData(data)"
   ]
  },
  {
   "cell_type": "code",
   "execution_count": 50,
   "metadata": {},
   "outputs": [
    {
     "name": "stdout",
     "output_type": "stream",
     "text": [
      "안녕 나는 헤라클래스!\n"
     ]
    }
   ],
   "source": [
    "print(pd_data)"
   ]
  },
  {
   "cell_type": "code",
   "execution_count": 51,
   "metadata": {},
   "outputs": [
    {
     "data": {
      "text/plain": [
       "'안녕 나는 헤라클래스!'"
      ]
     },
     "execution_count": 51,
     "metadata": {},
     "output_type": "execute_result"
    }
   ],
   "source": [
    "str(pd_data)"
   ]
  },
  {
   "cell_type": "code",
   "execution_count": 52,
   "metadata": {},
   "outputs": [
    {
     "data": {
      "text/plain": [
       "0.49093050643723424"
      ]
     },
     "execution_count": 52,
     "metadata": {},
     "output_type": "execute_result"
    }
   ],
   "source": [
    "data[\"a\"][0]"
   ]
  },
  {
   "cell_type": "code",
   "execution_count": 53,
   "metadata": {},
   "outputs": [
    {
     "data": {
      "text/html": [
       "<div>\n",
       "<style scoped>\n",
       "    .dataframe tbody tr th:only-of-type {\n",
       "        vertical-align: middle;\n",
       "    }\n",
       "\n",
       "    .dataframe tbody tr th {\n",
       "        vertical-align: top;\n",
       "    }\n",
       "\n",
       "    .dataframe thead th {\n",
       "        text-align: right;\n",
       "    }\n",
       "</style>\n",
       "<table border=\"1\" class=\"dataframe\">\n",
       "  <thead>\n",
       "    <tr style=\"text-align: right;\">\n",
       "      <th></th>\n",
       "      <th>a</th>\n",
       "      <th>b</th>\n",
       "      <th>c</th>\n",
       "      <th>d</th>\n",
       "      <th>e</th>\n",
       "      <th>f</th>\n",
       "      <th>g</th>\n",
       "      <th>h</th>\n",
       "      <th>i</th>\n",
       "      <th>j</th>\n",
       "    </tr>\n",
       "  </thead>\n",
       "  <tbody>\n",
       "    <tr>\n",
       "      <th>3</th>\n",
       "      <td>0.822473</td>\n",
       "      <td>0.442845</td>\n",
       "      <td>0.749607</td>\n",
       "      <td>0.975008</td>\n",
       "      <td>0.928250</td>\n",
       "      <td>0.137773</td>\n",
       "      <td>0.916243</td>\n",
       "      <td>0.190099</td>\n",
       "      <td>0.122698</td>\n",
       "      <td>0.177940</td>\n",
       "    </tr>\n",
       "    <tr>\n",
       "      <th>4</th>\n",
       "      <td>0.273348</td>\n",
       "      <td>0.587199</td>\n",
       "      <td>0.431852</td>\n",
       "      <td>0.561297</td>\n",
       "      <td>0.747268</td>\n",
       "      <td>0.990932</td>\n",
       "      <td>0.607604</td>\n",
       "      <td>0.151989</td>\n",
       "      <td>0.229444</td>\n",
       "      <td>0.295326</td>\n",
       "    </tr>\n",
       "  </tbody>\n",
       "</table>\n",
       "</div>"
      ],
      "text/plain": [
       "          a         b         c         d         e         f         g  \\\n",
       "3  0.822473  0.442845  0.749607  0.975008  0.928250  0.137773  0.916243   \n",
       "4  0.273348  0.587199  0.431852  0.561297  0.747268  0.990932  0.607604   \n",
       "\n",
       "          h         i         j  \n",
       "3  0.190099  0.122698  0.177940  \n",
       "4  0.151989  0.229444  0.295326  "
      ]
     },
     "execution_count": 53,
     "metadata": {},
     "output_type": "execute_result"
    }
   ],
   "source": [
    "pd_data[3:5]"
   ]
  },
  {
   "cell_type": "code",
   "execution_count": 54,
   "metadata": {},
   "outputs": [
    {
     "data": {
      "text/plain": [
       "10"
      ]
     },
     "execution_count": 54,
     "metadata": {},
     "output_type": "execute_result"
    }
   ],
   "source": [
    "len(pd_data)"
   ]
  },
  {
   "cell_type": "code",
   "execution_count": 55,
   "metadata": {},
   "outputs": [
    {
     "data": {
      "text/html": [
       "<div>\n",
       "<style scoped>\n",
       "    .dataframe tbody tr th:only-of-type {\n",
       "        vertical-align: middle;\n",
       "    }\n",
       "\n",
       "    .dataframe tbody tr th {\n",
       "        vertical-align: top;\n",
       "    }\n",
       "\n",
       "    .dataframe thead th {\n",
       "        text-align: right;\n",
       "    }\n",
       "</style>\n",
       "<table border=\"1\" class=\"dataframe\">\n",
       "  <thead>\n",
       "    <tr style=\"text-align: right;\">\n",
       "      <th></th>\n",
       "      <th>a</th>\n",
       "      <th>b</th>\n",
       "      <th>c</th>\n",
       "      <th>d</th>\n",
       "      <th>e</th>\n",
       "      <th>f</th>\n",
       "      <th>g</th>\n",
       "      <th>h</th>\n",
       "      <th>i</th>\n",
       "      <th>j</th>\n",
       "    </tr>\n",
       "  </thead>\n",
       "  <tbody>\n",
       "    <tr>\n",
       "      <th>0</th>\n",
       "      <td>0.490931</td>\n",
       "      <td>0.798145</td>\n",
       "      <td>0.369205</td>\n",
       "      <td>0.337213</td>\n",
       "      <td>0.089832</td>\n",
       "      <td>0.538217</td>\n",
       "      <td>0.213409</td>\n",
       "      <td>0.835282</td>\n",
       "      <td>0.703280</td>\n",
       "      <td>0.183609</td>\n",
       "    </tr>\n",
       "    <tr>\n",
       "      <th>1</th>\n",
       "      <td>0.342320</td>\n",
       "      <td>0.110358</td>\n",
       "      <td>0.329303</td>\n",
       "      <td>0.200641</td>\n",
       "      <td>0.358563</td>\n",
       "      <td>0.132686</td>\n",
       "      <td>0.259946</td>\n",
       "      <td>0.502630</td>\n",
       "      <td>0.124713</td>\n",
       "      <td>0.777048</td>\n",
       "    </tr>\n",
       "    <tr>\n",
       "      <th>2</th>\n",
       "      <td>0.406546</td>\n",
       "      <td>0.400724</td>\n",
       "      <td>0.084855</td>\n",
       "      <td>0.465807</td>\n",
       "      <td>0.980129</td>\n",
       "      <td>0.871105</td>\n",
       "      <td>0.527233</td>\n",
       "      <td>0.502613</td>\n",
       "      <td>0.556894</td>\n",
       "      <td>0.778169</td>\n",
       "    </tr>\n",
       "    <tr>\n",
       "      <th>3</th>\n",
       "      <td>0.822473</td>\n",
       "      <td>0.442845</td>\n",
       "      <td>0.749607</td>\n",
       "      <td>0.975008</td>\n",
       "      <td>0.928250</td>\n",
       "      <td>0.137773</td>\n",
       "      <td>0.916243</td>\n",
       "      <td>0.190099</td>\n",
       "      <td>0.122698</td>\n",
       "      <td>0.177940</td>\n",
       "    </tr>\n",
       "    <tr>\n",
       "      <th>4</th>\n",
       "      <td>0.273348</td>\n",
       "      <td>0.587199</td>\n",
       "      <td>0.431852</td>\n",
       "      <td>0.561297</td>\n",
       "      <td>0.747268</td>\n",
       "      <td>0.990932</td>\n",
       "      <td>0.607604</td>\n",
       "      <td>0.151989</td>\n",
       "      <td>0.229444</td>\n",
       "      <td>0.295326</td>\n",
       "    </tr>\n",
       "    <tr>\n",
       "      <th>5</th>\n",
       "      <td>0.863766</td>\n",
       "      <td>0.588007</td>\n",
       "      <td>0.037971</td>\n",
       "      <td>0.963160</td>\n",
       "      <td>0.268123</td>\n",
       "      <td>0.530880</td>\n",
       "      <td>0.931787</td>\n",
       "      <td>0.860124</td>\n",
       "      <td>0.933815</td>\n",
       "      <td>0.923336</td>\n",
       "    </tr>\n",
       "    <tr>\n",
       "      <th>6</th>\n",
       "      <td>0.568105</td>\n",
       "      <td>0.270825</td>\n",
       "      <td>0.411842</td>\n",
       "      <td>0.011616</td>\n",
       "      <td>0.107343</td>\n",
       "      <td>0.936577</td>\n",
       "      <td>0.875857</td>\n",
       "      <td>0.391063</td>\n",
       "      <td>0.144297</td>\n",
       "      <td>0.294253</td>\n",
       "    </tr>\n",
       "    <tr>\n",
       "      <th>7</th>\n",
       "      <td>0.116349</td>\n",
       "      <td>0.206168</td>\n",
       "      <td>0.636735</td>\n",
       "      <td>0.939419</td>\n",
       "      <td>0.668287</td>\n",
       "      <td>0.019006</td>\n",
       "      <td>0.619156</td>\n",
       "      <td>0.652777</td>\n",
       "      <td>0.636786</td>\n",
       "      <td>0.987807</td>\n",
       "    </tr>\n",
       "    <tr>\n",
       "      <th>8</th>\n",
       "      <td>0.487573</td>\n",
       "      <td>0.042358</td>\n",
       "      <td>0.000766</td>\n",
       "      <td>0.678771</td>\n",
       "      <td>0.209054</td>\n",
       "      <td>0.221766</td>\n",
       "      <td>0.728587</td>\n",
       "      <td>0.725210</td>\n",
       "      <td>0.118333</td>\n",
       "      <td>0.186661</td>\n",
       "    </tr>\n",
       "    <tr>\n",
       "      <th>9</th>\n",
       "      <td>0.486882</td>\n",
       "      <td>0.710628</td>\n",
       "      <td>0.377286</td>\n",
       "      <td>0.460922</td>\n",
       "      <td>0.001621</td>\n",
       "      <td>0.332872</td>\n",
       "      <td>0.491135</td>\n",
       "      <td>0.557694</td>\n",
       "      <td>0.752697</td>\n",
       "      <td>0.426548</td>\n",
       "    </tr>\n",
       "  </tbody>\n",
       "</table>\n",
       "</div>"
      ],
      "text/plain": [
       "          a         b         c         d         e         f         g  \\\n",
       "0  0.490931  0.798145  0.369205  0.337213  0.089832  0.538217  0.213409   \n",
       "1  0.342320  0.110358  0.329303  0.200641  0.358563  0.132686  0.259946   \n",
       "2  0.406546  0.400724  0.084855  0.465807  0.980129  0.871105  0.527233   \n",
       "3  0.822473  0.442845  0.749607  0.975008  0.928250  0.137773  0.916243   \n",
       "4  0.273348  0.587199  0.431852  0.561297  0.747268  0.990932  0.607604   \n",
       "5  0.863766  0.588007  0.037971  0.963160  0.268123  0.530880  0.931787   \n",
       "6  0.568105  0.270825  0.411842  0.011616  0.107343  0.936577  0.875857   \n",
       "7  0.116349  0.206168  0.636735  0.939419  0.668287  0.019006  0.619156   \n",
       "8  0.487573  0.042358  0.000766  0.678771  0.209054  0.221766  0.728587   \n",
       "9  0.486882  0.710628  0.377286  0.460922  0.001621  0.332872  0.491135   \n",
       "\n",
       "          h         i         j  \n",
       "0  0.835282  0.703280  0.183609  \n",
       "1  0.502630  0.124713  0.777048  \n",
       "2  0.502613  0.556894  0.778169  \n",
       "3  0.190099  0.122698  0.177940  \n",
       "4  0.151989  0.229444  0.295326  \n",
       "5  0.860124  0.933815  0.923336  \n",
       "6  0.391063  0.144297  0.294253  \n",
       "7  0.652777  0.636786  0.987807  \n",
       "8  0.725210  0.118333  0.186661  \n",
       "9  0.557694  0.752697  0.426548  "
      ]
     },
     "execution_count": 55,
     "metadata": {},
     "output_type": "execute_result"
    }
   ],
   "source": [
    "pd_data[:10]"
   ]
  },
  {
   "cell_type": "code",
   "execution_count": 56,
   "metadata": {},
   "outputs": [
    {
     "data": {
      "text/html": [
       "<div>\n",
       "<style scoped>\n",
       "    .dataframe tbody tr th:only-of-type {\n",
       "        vertical-align: middle;\n",
       "    }\n",
       "\n",
       "    .dataframe tbody tr th {\n",
       "        vertical-align: top;\n",
       "    }\n",
       "\n",
       "    .dataframe thead th {\n",
       "        text-align: right;\n",
       "    }\n",
       "</style>\n",
       "<table border=\"1\" class=\"dataframe\">\n",
       "  <thead>\n",
       "    <tr style=\"text-align: right;\">\n",
       "      <th></th>\n",
       "      <th>a</th>\n",
       "      <th>b</th>\n",
       "      <th>c</th>\n",
       "      <th>d</th>\n",
       "      <th>e</th>\n",
       "      <th>f</th>\n",
       "      <th>g</th>\n",
       "      <th>h</th>\n",
       "      <th>i</th>\n",
       "      <th>j</th>\n",
       "    </tr>\n",
       "  </thead>\n",
       "  <tbody>\n",
       "    <tr>\n",
       "      <th>5</th>\n",
       "      <td>0.863766</td>\n",
       "      <td>0.588007</td>\n",
       "      <td>0.037971</td>\n",
       "      <td>0.963160</td>\n",
       "      <td>0.268123</td>\n",
       "      <td>0.530880</td>\n",
       "      <td>0.931787</td>\n",
       "      <td>0.860124</td>\n",
       "      <td>0.933815</td>\n",
       "      <td>0.923336</td>\n",
       "    </tr>\n",
       "    <tr>\n",
       "      <th>6</th>\n",
       "      <td>0.568105</td>\n",
       "      <td>0.270825</td>\n",
       "      <td>0.411842</td>\n",
       "      <td>0.011616</td>\n",
       "      <td>0.107343</td>\n",
       "      <td>0.936577</td>\n",
       "      <td>0.875857</td>\n",
       "      <td>0.391063</td>\n",
       "      <td>0.144297</td>\n",
       "      <td>0.294253</td>\n",
       "    </tr>\n",
       "    <tr>\n",
       "      <th>7</th>\n",
       "      <td>0.116349</td>\n",
       "      <td>0.206168</td>\n",
       "      <td>0.636735</td>\n",
       "      <td>0.939419</td>\n",
       "      <td>0.668287</td>\n",
       "      <td>0.019006</td>\n",
       "      <td>0.619156</td>\n",
       "      <td>0.652777</td>\n",
       "      <td>0.636786</td>\n",
       "      <td>0.987807</td>\n",
       "    </tr>\n",
       "    <tr>\n",
       "      <th>8</th>\n",
       "      <td>0.487573</td>\n",
       "      <td>0.042358</td>\n",
       "      <td>0.000766</td>\n",
       "      <td>0.678771</td>\n",
       "      <td>0.209054</td>\n",
       "      <td>0.221766</td>\n",
       "      <td>0.728587</td>\n",
       "      <td>0.725210</td>\n",
       "      <td>0.118333</td>\n",
       "      <td>0.186661</td>\n",
       "    </tr>\n",
       "    <tr>\n",
       "      <th>9</th>\n",
       "      <td>0.486882</td>\n",
       "      <td>0.710628</td>\n",
       "      <td>0.377286</td>\n",
       "      <td>0.460922</td>\n",
       "      <td>0.001621</td>\n",
       "      <td>0.332872</td>\n",
       "      <td>0.491135</td>\n",
       "      <td>0.557694</td>\n",
       "      <td>0.752697</td>\n",
       "      <td>0.426548</td>\n",
       "    </tr>\n",
       "  </tbody>\n",
       "</table>\n",
       "</div>"
      ],
      "text/plain": [
       "          a         b         c         d         e         f         g  \\\n",
       "5  0.863766  0.588007  0.037971  0.963160  0.268123  0.530880  0.931787   \n",
       "6  0.568105  0.270825  0.411842  0.011616  0.107343  0.936577  0.875857   \n",
       "7  0.116349  0.206168  0.636735  0.939419  0.668287  0.019006  0.619156   \n",
       "8  0.487573  0.042358  0.000766  0.678771  0.209054  0.221766  0.728587   \n",
       "9  0.486882  0.710628  0.377286  0.460922  0.001621  0.332872  0.491135   \n",
       "\n",
       "          h         i         j  \n",
       "5  0.860124  0.933815  0.923336  \n",
       "6  0.391063  0.144297  0.294253  \n",
       "7  0.652777  0.636786  0.987807  \n",
       "8  0.725210  0.118333  0.186661  \n",
       "9  0.557694  0.752697  0.426548  "
      ]
     },
     "execution_count": 56,
     "metadata": {},
     "output_type": "execute_result"
    }
   ],
   "source": [
    "pd_data()"
   ]
  },
  {
   "cell_type": "code",
   "execution_count": null,
   "metadata": {},
   "outputs": [],
   "source": []
  }
 ],
 "metadata": {
  "kernelspec": {
   "display_name": "Python 3",
   "language": "python",
   "name": "python3"
  },
  "language_info": {
   "codemirror_mode": {
    "name": "ipython",
    "version": 3
   },
   "file_extension": ".py",
   "mimetype": "text/x-python",
   "name": "python",
   "nbconvert_exporter": "python",
   "pygments_lexer": "ipython3",
   "version": "3.7.9"
  }
 },
 "nbformat": 4,
 "nbformat_minor": 4
}
