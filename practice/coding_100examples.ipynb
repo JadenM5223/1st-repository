{
 "cells": [
  {
   "cell_type": "code",
   "execution_count": 2,
   "id": "expensive-screen",
   "metadata": {},
   "outputs": [
    {
     "name": "stdout",
     "output_type": "stream",
     "text": [
      "Hello\n"
     ]
    }
   ],
   "source": [
    "print ('Hello')"
   ]
  },
  {
   "cell_type": "code",
   "execution_count": 3,
   "id": "robust-gender",
   "metadata": {},
   "outputs": [
    {
     "name": "stdout",
     "output_type": "stream",
     "text": [
      "Hello World\n"
     ]
    }
   ],
   "source": [
    "print ('Hello World')"
   ]
  },
  {
   "cell_type": "code",
   "execution_count": 4,
   "id": "charitable-excuse",
   "metadata": {},
   "outputs": [
    {
     "name": "stdout",
     "output_type": "stream",
     "text": [
      "Hello\n",
      "World\n"
     ]
    }
   ],
   "source": [
    "print ('Hello\\nWorld')"
   ]
  },
  {
   "cell_type": "code",
   "execution_count": 5,
   "id": "pleased-albania",
   "metadata": {},
   "outputs": [
    {
     "name": "stdout",
     "output_type": "stream",
     "text": [
      "\"!@#$%^&*()'\n"
     ]
    }
   ],
   "source": [
    "print(\"\\\"!@#$%^&*()\\'\")"
   ]
  },
  {
   "cell_type": "code",
   "execution_count": 6,
   "id": "automatic-cross",
   "metadata": {},
   "outputs": [
    {
     "name": "stdout",
     "output_type": "stream",
     "text": [
      "\"C:\\Download\\'hello'.py\"\n"
     ]
    }
   ],
   "source": [
    "print(\"\\\"C:\\\\Download\\\\\\'hello\\'.py\\\"\")"
   ]
  },
  {
   "cell_type": "code",
   "execution_count": 7,
   "id": "sexual-student",
   "metadata": {},
   "outputs": [
    {
     "name": "stdout",
     "output_type": "stream",
     "text": [
      "print(\"Hello\\nWorld\")\n"
     ]
    }
   ],
   "source": [
    "print(\"print(\\\"Hello\\\\nWorld\\\")\")"
   ]
  },
  {
   "cell_type": "code",
   "execution_count": 14,
   "id": "stock-ghana",
   "metadata": {},
   "outputs": [
    {
     "name": "stdout",
     "output_type": "stream",
     "text": [
      "2\n",
      "1\n",
      "1\n",
      "2\n"
     ]
    }
   ],
   "source": [
    "x = input()\n",
    "y = input()\n",
    "print (y)\n",
    "print (x)"
   ]
  },
  {
   "cell_type": "code",
   "execution_count": 10,
   "id": "minor-redhead",
   "metadata": {},
   "outputs": [
    {
     "name": "stdout",
     "output_type": "stream",
     "text": [
      "1.5\n"
     ]
    }
   ],
   "source": [
    "x = input()\n",
    "print(x)\n",
    "print(x)\n",
    "print(x)"
   ]
  },
  {
   "cell_type": "code",
   "execution_count": 16,
   "id": "super-jamaica",
   "metadata": {},
   "outputs": [
    {
     "name": "stdout",
     "output_type": "stream",
     "text": [
      "1 2\n",
      "2 1\n"
     ]
    }
   ],
   "source": [
    "x, y = input().split()\n",
    "print(y, x)"
   ]
  },
  {
   "cell_type": "code",
   "execution_count": 18,
   "id": "tracked-perfume",
   "metadata": {},
   "outputs": [
    {
     "name": "stdout",
     "output_type": "stream",
     "text": [
      "computer\n",
      "computer computer computer\n"
     ]
    }
   ],
   "source": [
    "x = input()\n",
    "print(x, x, x)"
   ]
  },
  {
   "cell_type": "code",
   "execution_count": 22,
   "id": "opposed-means",
   "metadata": {},
   "outputs": [
    {
     "name": "stdout",
     "output_type": "stream",
     "text": [
      "24:00\n",
      "24:00\n"
     ]
    }
   ],
   "source": [
    "x, y = input().split(\":\")\n",
    "print(x, y, sep=\":\")"
   ]
  },
  {
   "cell_type": "code",
   "execution_count": 23,
   "id": "utility-watch",
   "metadata": {},
   "outputs": [
    {
     "name": "stdout",
     "output_type": "stream",
     "text": [
      "2021.3.5\n",
      "5-3-2021\n"
     ]
    }
   ],
   "source": [
    "y, m, d = input().split(\".\")\n",
    "print(d, m, y, sep=\"-\")"
   ]
  },
  {
   "cell_type": "code",
   "execution_count": 24,
   "id": "living-prescription",
   "metadata": {},
   "outputs": [
    {
     "name": "stdout",
     "output_type": "stream",
     "text": [
      "920811-1842619\n",
      "9208111842619\n"
     ]
    }
   ],
   "source": [
    "x, y = input().split(\"-\")\n",
    "print(x, y, sep=\"\")"
   ]
  },
  {
   "cell_type": "code",
   "execution_count": 25,
   "id": "dependent-devon",
   "metadata": {},
   "outputs": [
    {
     "name": "stdout",
     "output_type": "stream",
     "text": [
      "Hello\n",
      "H\n",
      "e\n",
      "l\n",
      "l\n",
      "o\n"
     ]
    }
   ],
   "source": [
    "x = input()\n",
    "print(x[0])\n",
    "print(x[1])\n",
    "print(x[2])\n",
    "print(x[3])\n",
    "print(x[4])"
   ]
  },
  {
   "cell_type": "code",
   "execution_count": 26,
   "id": "molecular-dinner",
   "metadata": {},
   "outputs": [
    {
     "name": "stdout",
     "output_type": "stream",
     "text": [
      "210305\n",
      "21 03 05\n"
     ]
    }
   ],
   "source": [
    "x = input()\n",
    "print(x[0:2], x[2:4], x[4:])"
   ]
  },
  {
   "cell_type": "code",
   "execution_count": 27,
   "id": "asian-regulation",
   "metadata": {},
   "outputs": [
    {
     "name": "stdout",
     "output_type": "stream",
     "text": [
      "17:23:57\n",
      "23\n"
     ]
    }
   ],
   "source": [
    "x, y, z = input().split(\":\")\n",
    "print(y)"
   ]
  },
  {
   "cell_type": "code",
   "execution_count": 1,
   "id": "laughing-norwegian",
   "metadata": {},
   "outputs": [
    {
     "name": "stdout",
     "output_type": "stream",
     "text": [
      "son7 kane10\n",
      "son7kane10\n"
     ]
    }
   ],
   "source": [
    "w1, w2 = input().split()\n",
    "s = w1 + w2\n",
    "print(s)"
   ]
  },
  {
   "cell_type": "code",
   "execution_count": 4,
   "id": "brazilian-carroll",
   "metadata": {},
   "outputs": [
    {
     "name": "stdout",
     "output_type": "stream",
     "text": [
      "3 4\n",
      "7\n"
     ]
    }
   ],
   "source": [
    "# 25\n",
    "x, y = input().split()\n",
    "z = int(x) + int(y)\n",
    "print (z)"
   ]
  },
  {
   "cell_type": "code",
   "execution_count": 7,
   "id": "independent-lewis",
   "metadata": {},
   "outputs": [
    {
     "name": "stdout",
     "output_type": "stream",
     "text": [
      "3.12\n",
      "6.42\n",
      "9.54\n"
     ]
    }
   ],
   "source": [
    "# 26\n",
    "x = input()\n",
    "y = input()\n",
    "z = float(x) + float(y)\n",
    "print (z)"
   ]
  },
  {
   "cell_type": "code",
   "execution_count": 11,
   "id": "stunning-disposal",
   "metadata": {},
   "outputs": [
    {
     "name": "stdout",
     "output_type": "stream",
     "text": [
      "9052\n",
      "235c\n"
     ]
    }
   ],
   "source": [
    "# 27\n",
    "x = input()\n",
    "n = int(x)\n",
    "print ('%x'%n)"
   ]
  },
  {
   "cell_type": "code",
   "execution_count": 12,
   "id": "lesser-brown",
   "metadata": {},
   "outputs": [
    {
     "name": "stdout",
     "output_type": "stream",
     "text": [
      "45000\n",
      "AFC8\n"
     ]
    }
   ],
   "source": [
    "# 28\n",
    "x = input()\n",
    "n = int(x)\n",
    "print ('%X'%n)"
   ]
  },
  {
   "cell_type": "code",
   "execution_count": 14,
   "id": "recorded-fifty",
   "metadata": {},
   "outputs": [
    {
     "name": "stdout",
     "output_type": "stream",
     "text": [
      "3579\n",
      "32571\n"
     ]
    }
   ],
   "source": [
    "# 29\n",
    "x = input()\n",
    "n = int(x, 16)\n",
    "print ('%o'%n)"
   ]
  },
  {
   "cell_type": "code",
   "execution_count": 16,
   "id": "shaped-mustang",
   "metadata": {},
   "outputs": [
    {
     "name": "stdout",
     "output_type": "stream",
     "text": [
      "K\n",
      "75\n"
     ]
    }
   ],
   "source": [
    "# 30\n",
    "x = ord(input())\n",
    "print (x)"
   ]
  },
  {
   "cell_type": "code",
   "execution_count": 17,
   "id": "exotic-identification",
   "metadata": {},
   "outputs": [
    {
     "name": "stdout",
     "output_type": "stream",
     "text": [
      "85\n",
      "U\n"
     ]
    }
   ],
   "source": [
    "# 31\n",
    "x = int(input())\n",
    "print (chr(x))"
   ]
  },
  {
   "cell_type": "code",
   "execution_count": 19,
   "id": "fixed-capital",
   "metadata": {},
   "outputs": [
    {
     "name": "stdout",
     "output_type": "stream",
     "text": [
      "-64\n",
      "64\n"
     ]
    }
   ],
   "source": [
    "# 32\n",
    "x = int(input())\n",
    "print (-x)"
   ]
  },
  {
   "cell_type": "code",
   "execution_count": 22,
   "id": "random-cholesterol",
   "metadata": {},
   "outputs": [
    {
     "name": "stdout",
     "output_type": "stream",
     "text": [
      "k\n",
      "l\n"
     ]
    }
   ],
   "source": [
    "# 33 문자 1개 입력받아 다음 문자 출력하기\n",
    "x = ord(input())\n",
    "print (chr(x+1))"
   ]
  },
  {
   "cell_type": "code",
   "execution_count": 26,
   "id": "political-impossible",
   "metadata": {},
   "outputs": [
    {
     "name": "stdout",
     "output_type": "stream",
     "text": [
      "12 8\n",
      "4\n"
     ]
    }
   ],
   "source": [
    "# 34 정수 2개 입력받아 차 계산하기\n",
    "x, y = input().split()\n",
    "z = int(x) - int(y)\n",
    "print (z)"
   ]
  },
  {
   "cell_type": "code",
   "execution_count": 27,
   "id": "engaged-swaziland",
   "metadata": {},
   "outputs": [
    {
     "name": "stdout",
     "output_type": "stream",
     "text": [
      "3.12 6.42\n",
      "20.0304\n"
     ]
    }
   ],
   "source": [
    "# 35 실수 2개 입력받아 곱 계산하기\n",
    "x, y = input().split()\n",
    "z = float(x) * float(y)\n",
    "print (z)"
   ]
  },
  {
   "cell_type": "code",
   "execution_count": 29,
   "id": "conceptual-period",
   "metadata": {},
   "outputs": [
    {
     "name": "stdout",
     "output_type": "stream",
     "text": [
      "good 6\n",
      "goodgoodgoodgoodgoodgood\n"
     ]
    }
   ],
   "source": [
    "# 36 단어 여러 번 출력하기\n",
    "x, y = input().split()\n",
    "print (x*int(y))"
   ]
  },
  {
   "cell_type": "code",
   "execution_count": 31,
   "id": "sporting-gravity",
   "metadata": {},
   "outputs": [
    {
     "name": "stdout",
     "output_type": "stream",
     "text": [
      "3\n",
      "Ian good fellow\n",
      "Ian good fellowIan good fellowIan good fellow\n"
     ]
    }
   ],
   "source": [
    "# 37 문장 여러 번 출력하기\n",
    "x = input()\n",
    "y = input()\n",
    "print (int(x)*y)"
   ]
  },
  {
   "cell_type": "code",
   "execution_count": 32,
   "id": "rural-greenhouse",
   "metadata": {},
   "outputs": [
    {
     "name": "stdout",
     "output_type": "stream",
     "text": [
      "2 4\n",
      "16\n"
     ]
    }
   ],
   "source": [
    "# 38 정수 2개 입력받아 거듭제곱 계산하기\n",
    "x, y = input().split()\n",
    "z = int(x)**int(y)\n",
    "print (z)"
   ]
  },
  {
   "cell_type": "code",
   "execution_count": 33,
   "id": "sound-bikini",
   "metadata": {},
   "outputs": [
    {
     "name": "stdout",
     "output_type": "stream",
     "text": [
      "3.12 4\n",
      "94.75854336000002\n"
     ]
    }
   ],
   "source": [
    "# 39 실수 2개 입력받아 거듭제곱 계산하기\n",
    "x, y = input().split()\n",
    "z = float(x)**float(y)\n",
    "print(z)"
   ]
  },
  {
   "cell_type": "code",
   "execution_count": 35,
   "id": "therapeutic-paint",
   "metadata": {},
   "outputs": [
    {
     "name": "stdout",
     "output_type": "stream",
     "text": [
      "9 3\n",
      "3\n"
     ]
    }
   ],
   "source": [
    "# 40 정수 2개 입력받아 나눈 몫 계산하기\n",
    "x, y = input().split()\n",
    "z = int(x)//int(y)\n",
    "print (z)"
   ]
  },
  {
   "cell_type": "code",
   "execution_count": 36,
   "id": "brave-explosion",
   "metadata": {},
   "outputs": [
    {
     "name": "stdout",
     "output_type": "stream",
     "text": [
      "8 3\n",
      "2\n"
     ]
    }
   ],
   "source": [
    "# 41 정수 2개 입력받아 나눈 나머지 계산하기\n",
    "x, y = input().split()\n",
    "z = int(x)%int(y)\n",
    "print(z)"
   ]
  },
  {
   "cell_type": "code",
   "execution_count": 44,
   "id": "handled-coalition",
   "metadata": {},
   "outputs": [
    {
     "name": "stdout",
     "output_type": "stream",
     "text": [
      "3.4678\n",
      "3.47\n"
     ]
    }
   ],
   "source": [
    "# 42 실수 1개 입력받아 소숫점이하 자리 변환하기\n",
    "x = float(input())\n",
    "print(round(x, 2))"
   ]
  },
  {
   "cell_type": "code",
   "execution_count": 50,
   "id": "hawaiian-portable",
   "metadata": {},
   "outputs": [
    {
     "name": "stdout",
     "output_type": "stream",
     "text": [
      "10 3\n",
      "3.333\n"
     ]
    }
   ],
   "source": [
    "# 43 실수 2개 입력받아 나눈 결과 계산하기\n",
    "x, y = input().split()\n",
    "z = float(x)/float(y)\n",
    "print('%.3f'%z)"
   ]
  },
  {
   "cell_type": "code",
   "execution_count": 55,
   "id": "precious-pantyhose",
   "metadata": {},
   "outputs": [
    {
     "name": "stdout",
     "output_type": "stream",
     "text": [
      "10 3\n",
      "13\n",
      "7\n",
      "30\n",
      "3\n",
      "1\n",
      "3.33\n"
     ]
    }
   ],
   "source": [
    "# 44 정수 2개 입력받아 자동 계산하기\n",
    "x, y = input().split()\n",
    "a = int(x) + int(y)\n",
    "b = int(x) - int(y)\n",
    "c = int(x) * int(y)\n",
    "d = int(x) // int(y)\n",
    "e = int(x) % int(y)\n",
    "f = int(x) / int(y)\n",
    "print (a)\n",
    "print (b)\n",
    "print (c)\n",
    "print (d)\n",
    "print (e)\n",
    "print (round(f, 2))"
   ]
  },
  {
   "cell_type": "code",
   "execution_count": 57,
   "id": "turkish-librarian",
   "metadata": {},
   "outputs": [
    {
     "name": "stdout",
     "output_type": "stream",
     "text": [
      "2 3 4\n",
      "9 3.0\n"
     ]
    }
   ],
   "source": [
    "# 45 정수 3개 입력받아 합과 평균 출력하기\n",
    "x, y, z = input().split()\n",
    "a = int(x)+int(y)+int(z)\n",
    "b = a / 3\n",
    "print (a, round(b, 2))"
   ]
  },
  {
   "cell_type": "code",
   "execution_count": 60,
   "id": "quick-power",
   "metadata": {},
   "outputs": [
    {
     "name": "stdout",
     "output_type": "stream",
     "text": [
      "10\n",
      "20\n"
     ]
    }
   ],
   "source": [
    "# 46 정수 1개 입력받아 2배 곱해 출력하기\n",
    "x = int(input())\n",
    "print (x<<1)"
   ]
  },
  {
   "cell_type": "code",
   "execution_count": 62,
   "id": "verbal-rachel",
   "metadata": {},
   "outputs": [
    {
     "name": "stdout",
     "output_type": "stream",
     "text": [
      "2 3\n",
      "16\n"
     ]
    }
   ],
   "source": [
    "# 47 2의 거듭제곱 배로 곱해 출력하기\n",
    "x, y = input().split()\n",
    "z = int(x)<<int(y)\n",
    "print (z)"
   ]
  },
  {
   "cell_type": "code",
   "execution_count": 64,
   "id": "heard-editor",
   "metadata": {},
   "outputs": [
    {
     "name": "stdout",
     "output_type": "stream",
     "text": [
      "1 9\n",
      "True\n"
     ]
    }
   ],
   "source": [
    "# 48 정수 2개 입력받아 비교하기1\n",
    "x, y = input().split()\n",
    "z = int(x) < int(y)\n",
    "print(z)"
   ]
  },
  {
   "cell_type": "code",
   "execution_count": 66,
   "id": "indie-burst",
   "metadata": {},
   "outputs": [
    {
     "name": "stdout",
     "output_type": "stream",
     "text": [
      "4 4\n",
      "True\n",
      "<class 'bool'>\n"
     ]
    }
   ],
   "source": [
    "# 49 정수 2개 입력받아 비교하기2\n",
    "x, y = input().split()\n",
    "z = int(x) == int(y)\n",
    "print(z)\n",
    "print(type(z))"
   ]
  },
  {
   "cell_type": "code",
   "execution_count": 67,
   "id": "brilliant-regard",
   "metadata": {},
   "outputs": [
    {
     "name": "stdout",
     "output_type": "stream",
     "text": [
      "4 6\n",
      "True\n"
     ]
    }
   ],
   "source": [
    "# 50 정수 2개 입력받아 비교하기3\n",
    "x, y = input().split()\n",
    "z = int(x) <= int(y)\n",
    "print(z)"
   ]
  },
  {
   "cell_type": "code",
   "execution_count": 68,
   "id": "hybrid-turner",
   "metadata": {},
   "outputs": [
    {
     "name": "stdout",
     "output_type": "stream",
     "text": [
      "4 6\n",
      "True\n"
     ]
    }
   ],
   "source": [
    "# 51 정수 2개 입력받아 비교하기4\n",
    "x, y = input().split()\n",
    "z = int(x) != int(y)\n",
    "print(z)"
   ]
  },
  {
   "cell_type": "code",
   "execution_count": 73,
   "id": "printable-third",
   "metadata": {},
   "outputs": [
    {
     "name": "stdout",
     "output_type": "stream",
     "text": [
      "45\n",
      "False\n"
     ]
    }
   ],
   "source": [
    "# 52 정수 입력받아 참 거짓 평가하기\n",
    "x = input()\n",
    "z = int(x) != 0\n",
    "print(bool(z))"
   ]
  },
  {
   "cell_type": "code",
   "execution_count": 74,
   "id": "conscious-aberdeen",
   "metadata": {},
   "outputs": [
    {
     "name": "stdout",
     "output_type": "stream",
     "text": [
      "0\n",
      "True\n"
     ]
    }
   ],
   "source": [
    "# 53 참 거짓 바꾸기\n",
    "x = bool(int(input()))\n",
    "z = int(x) != 0\n",
    "print(not z)"
   ]
  },
  {
   "cell_type": "code",
   "execution_count": 75,
   "id": "protected-latino",
   "metadata": {},
   "outputs": [
    {
     "name": "stdout",
     "output_type": "stream",
     "text": [
      "1 1\n",
      "True\n"
     ]
    }
   ],
   "source": [
    "# 54 둘 다 참일 경우만 참 출력하기\n",
    "x, y = input().split()\n",
    "z = int(x) != 0 and int(y) != 0\n",
    "print(bool(z))"
   ]
  },
  {
   "cell_type": "code",
   "execution_count": 77,
   "id": "prospective-great",
   "metadata": {},
   "outputs": [
    {
     "name": "stdout",
     "output_type": "stream",
     "text": [
      "0 1\n",
      "True\n"
     ]
    }
   ],
   "source": [
    "# 55 하나라도 참이면 참 출력하기\n",
    "x, y = input().split()\n",
    "z = int(x) != 0\n",
    "a = int(y) != 0\n",
    "print((z and (not a)) or ((not z) and a))"
   ]
  },
  {
   "cell_type": "code",
   "execution_count": 78,
   "id": "medieval-trinity",
   "metadata": {},
   "outputs": [
    {
     "name": "stdout",
     "output_type": "stream",
     "text": [
      "0 1\n",
      "False\n"
     ]
    }
   ],
   "source": [
    "# 56 참/거짓이 서로 같을 때에만 참 출력하기\n",
    "x, y = input().split()\n",
    "z = int(x) != 0\n",
    "a = int(y) != 0\n",
    "print(((not z) and (not a)) or (z and a))"
   ]
  },
  {
   "cell_type": "code",
   "execution_count": 80,
   "id": "bound-circle",
   "metadata": {},
   "outputs": [
    {
     "name": "stdout",
     "output_type": "stream",
     "text": [
      "0 0\n",
      "True\n"
     ]
    }
   ],
   "source": [
    "# 58 둘 다 거짓일 경우만 참 출력하기\n",
    "x, y = input().split()\n",
    "z = int(x) != 0\n",
    "a = int(y) != 0\n",
    "print(not(z or a))"
   ]
  },
  {
   "cell_type": "code",
   "execution_count": 3,
   "id": "applied-dispute",
   "metadata": {},
   "outputs": [
    {
     "name": "stdout",
     "output_type": "stream",
     "text": [
      "6\n",
      "-7\n"
     ]
    }
   ],
   "source": [
    "#59 비트단위로 NOT 하여 출력하기\n",
    "x = int(input())\n",
    "print (~x)"
   ]
  },
  {
   "cell_type": "code",
   "execution_count": 10,
   "id": "sweet-bottom",
   "metadata": {},
   "outputs": [
    {
     "name": "stdout",
     "output_type": "stream",
     "text": [
      "465 464\n",
      "464\n"
     ]
    }
   ],
   "source": [
    "# 60 비트단위로 AND 하여 출력하기\n",
    "x, y = input().split()\n",
    "z = int(x) & int(y)\n",
    "print (z)"
   ]
  },
  {
   "cell_type": "code",
   "execution_count": 11,
   "id": "sensitive-density",
   "metadata": {},
   "outputs": [
    {
     "name": "stdout",
     "output_type": "stream",
     "text": [
      "4 6\n",
      "6\n"
     ]
    }
   ],
   "source": [
    "# 61 비트단위로 OR 하여 출력하기\n",
    "x, y = input().split()\n",
    "z = int(x) | int(y)\n",
    "print (z)"
   ]
  },
  {
   "cell_type": "code",
   "execution_count": 12,
   "id": "loaded-building",
   "metadata": {},
   "outputs": [
    {
     "name": "stdout",
     "output_type": "stream",
     "text": [
      "3 5\n",
      "6\n"
     ]
    }
   ],
   "source": [
    "# 62 비트단위로 XOR 하여 출력하기\n",
    "x, y = input().split()\n",
    "z = int(x) ^ int(y)\n",
    "print (z)"
   ]
  },
  {
   "cell_type": "code",
   "execution_count": 14,
   "id": "informed-burton",
   "metadata": {},
   "outputs": [
    {
     "name": "stdout",
     "output_type": "stream",
     "text": [
      "68 45\n",
      "68\n"
     ]
    }
   ],
   "source": [
    "# 63 정수 2개 입력받아 큰 값 출력하기\n",
    "x, y = input().split()\n",
    "x = int(x)\n",
    "y = int(y)\n",
    "z = (x if (x>=y) else y)\n",
    "print (z)"
   ]
  },
  {
   "cell_type": "code",
   "execution_count": 16,
   "id": "viral-suspension",
   "metadata": {},
   "outputs": [
    {
     "name": "stdout",
     "output_type": "stream",
     "text": [
      "-1 -56 56\n",
      "-56\n"
     ]
    }
   ],
   "source": [
    "# 64 정수 3개 입력받아 가장 작은 값 출력하기\n",
    "x, y, z = input().split()\n",
    "x = int(x)\n",
    "y = int(y)\n",
    "z = int(z)\n",
    "a = (x if x<y else y) if ((x if x<y else y)<z) else z\n",
    "print (a)"
   ]
  },
  {
   "cell_type": "code",
   "execution_count": 18,
   "id": "hazardous-balloon",
   "metadata": {},
   "outputs": [
    {
     "name": "stdout",
     "output_type": "stream",
     "text": [
      "7 8 9\n",
      "8\n"
     ]
    }
   ],
   "source": [
    "# 65 정수 3개 입력받아 짝수만 출력하기\n",
    "x, y, z = input().split()\n",
    "x = int(x)\n",
    "y = int(y)\n",
    "z = int(z)\n",
    "if x % 2 == 0:\n",
    "    print(x)\n",
    "if y % 2 == 0:\n",
    "    print(y)\n",
    "if z % 2 == 0:\n",
    "    print(z)"
   ]
  },
  {
   "cell_type": "code",
   "execution_count": 19,
   "id": "wanted-formula",
   "metadata": {},
   "outputs": [
    {
     "name": "stdout",
     "output_type": "stream",
     "text": [
      "4 5 6\n",
      "even\n",
      "odd\n",
      "even\n"
     ]
    }
   ],
   "source": [
    "# 66 정수 3개 입력받아 짝/홀 출력하기\n",
    "x, y, z = input().split()\n",
    "x = int(x)\n",
    "y = int(y)\n",
    "z = int(z)\n",
    "if x % 2 == 0:\n",
    "    print('even')\n",
    "else:\n",
    "    print('odd')\n",
    "if y % 2 == 0:\n",
    "    print('even')\n",
    "else:\n",
    "    print('odd')\n",
    "if z % 2 == 0:\n",
    "    print('even')\n",
    "else:\n",
    "    print('odd')"
   ]
  },
  {
   "cell_type": "code",
   "execution_count": 22,
   "id": "fourth-administration",
   "metadata": {},
   "outputs": [
    {
     "name": "stdout",
     "output_type": "stream",
     "text": [
      "-6\n",
      "A\n"
     ]
    }
   ],
   "source": [
    "# 67 정수 1개 입력받아 분류하기\n",
    "x = input()\n",
    "x = int(x)\n",
    "if x < 0:\n",
    "    if x % 2 == 0:\n",
    "        print('A')\n",
    "    else:\n",
    "        print('B')\n",
    "else:\n",
    "    if x % 2 == 0:\n",
    "        print('C')\n",
    "    else:\n",
    "        print('D')"
   ]
  },
  {
   "cell_type": "code",
   "execution_count": 26,
   "id": "organized-favor",
   "metadata": {},
   "outputs": [
    {
     "name": "stdout",
     "output_type": "stream",
     "text": [
      "35\n",
      "D\n"
     ]
    }
   ],
   "source": [
    "# 68 점수 입력받아 평가 출력하기\n",
    "x = int(input())\n",
    "if x >= 90:\n",
    "    print('A')\n",
    "else:\n",
    "    if x >= 70:\n",
    "        print('B')\n",
    "    else:\n",
    "        if x >= 40:\n",
    "            print('C')\n",
    "        else:\n",
    "            print('D')"
   ]
  },
  {
   "cell_type": "code",
   "execution_count": 31,
   "id": "exciting-remedy",
   "metadata": {},
   "outputs": [
    {
     "name": "stdout",
     "output_type": "stream",
     "text": [
      "V\n",
      "what?\n"
     ]
    }
   ],
   "source": [
    "# 69 평가 입력받아 다르게 출력하기\n",
    "x = input()\n",
    "if x is 'A':\n",
    "    print('best!!!')\n",
    "elif x is 'B':\n",
    "    print('good!!')\n",
    "elif x is 'C':\n",
    "    print('run!')\n",
    "elif x is 'D':\n",
    "    print('slowly~')\n",
    "else:\n",
    "    print('what?')"
   ]
  },
  {
   "cell_type": "code",
   "execution_count": 36,
   "id": "running-literature",
   "metadata": {},
   "outputs": [
    {
     "name": "stdout",
     "output_type": "stream",
     "text": [
      "10\n",
      "fall\n"
     ]
    }
   ],
   "source": [
    "# 70 월 입력받아 계절 출력하기\n",
    "x = int(input())\n",
    "if x // 3 ==1:\n",
    "    print(\"spring\")\n",
    "elif x // 3 ==2:\n",
    "    print('summer')\n",
    "elif x // 3 ==3:\n",
    "    print('fall')\n",
    "else:\n",
    "    print('winter')"
   ]
  },
  {
   "cell_type": "code",
   "execution_count": 36,
   "id": "south-louisville",
   "metadata": {},
   "outputs": [
    {
     "name": "stdout",
     "output_type": "stream",
     "text": [
      "5\n",
      "5\n"
     ]
    }
   ],
   "source": [
    "# 71 0 입력될 때까지 무한 출력하기\n",
    "a = input().split()\n",
    "for i in a:\n",
    "    if int(i)==0:\n",
    "        break\n",
    "    else:\n",
    "        print(int(i))"
   ]
  },
  {
   "cell_type": "code",
   "execution_count": 15,
   "id": "intensive-portugal",
   "metadata": {},
   "outputs": [
    {
     "name": "stdout",
     "output_type": "stream",
     "text": [
      "6\n",
      "6\n",
      "5\n",
      "4\n",
      "3\n",
      "2\n",
      "1\n"
     ]
    }
   ],
   "source": [
    "# 72 정수 1개 입력받아 카운트다운 출력하기1\n",
    "x = int(input())\n",
    "while x!=0 :\n",
    "    print(x)\n",
    "    n = n-1"
   ]
  },
  {
   "cell_type": "code",
   "execution_count": 17,
   "id": "medium-alert",
   "metadata": {},
   "outputs": [
    {
     "name": "stdout",
     "output_type": "stream",
     "text": [
      "5\n",
      "4\n",
      "3\n",
      "2\n",
      "1\n",
      "0\n"
     ]
    }
   ],
   "source": [
    "# 73 정수 1개 입력받아 카운트다운 출력하기2\n",
    "x = int(input())\n",
    "while x>0 :\n",
    "    if x == 0:\n",
    "        break\n",
    "    else:\n",
    "        print (x-1)\n",
    "    x -= 1"
   ]
  },
  {
   "cell_type": "code",
   "execution_count": 21,
   "id": "ethical-stadium",
   "metadata": {},
   "outputs": [
    {
     "name": "stdout",
     "output_type": "stream",
     "text": [
      "h\n",
      "a b c d e f g h "
     ]
    }
   ],
   "source": [
    "# 74 문자 1개 입력받아 알파벳 출력하기\n",
    "ascii_a = 97\n",
    "num = ord(input())\n",
    "\n",
    "while ascii_a <= num:\n",
    "  print(chr(ascii_a), end=' ')\n",
    "  ascii_a += 1"
   ]
  },
  {
   "cell_type": "code",
   "execution_count": 23,
   "id": "according-adjustment",
   "metadata": {},
   "outputs": [
    {
     "name": "stdout",
     "output_type": "stream",
     "text": [
      "5\n",
      "0\n",
      "1\n",
      "2\n",
      "3\n",
      "4\n",
      "5\n"
     ]
    }
   ],
   "source": [
    "# 75 정수 1개 입력받아 그 수까지 출력하기1\n",
    "x = 0\n",
    "y = int(input())\n",
    "while x <= y:\n",
    "    print(x)\n",
    "    x += 1"
   ]
  },
  {
   "cell_type": "code",
   "execution_count": 24,
   "id": "substantial-three",
   "metadata": {},
   "outputs": [
    {
     "name": "stdout",
     "output_type": "stream",
     "text": [
      "6\n",
      "0\n",
      "1\n",
      "2\n",
      "3\n",
      "4\n",
      "5\n",
      "6\n"
     ]
    }
   ],
   "source": [
    "# 76 정수 1개 입력받아 그 수까지 출력하기2\n",
    "x = 0\n",
    "y = int(input())\n",
    "while x <= y:\n",
    "    print(x)\n",
    "    x += 1"
   ]
  },
  {
   "cell_type": "code",
   "execution_count": 29,
   "id": "described-administrator",
   "metadata": {},
   "outputs": [
    {
     "name": "stdout",
     "output_type": "stream",
     "text": [
      "9\n",
      "20\n"
     ]
    }
   ],
   "source": [
    "# 77 짝수 합 구하기\n",
    "x = int(input())\n",
    "y = 0\n",
    "for i in range(1, x+1) :\n",
    "  if i%2==0 :\n",
    "    y += i\n",
    "\n",
    "print(y)"
   ]
  },
  {
   "cell_type": "code",
   "execution_count": 35,
   "id": "sharp-pioneer",
   "metadata": {},
   "outputs": [
    {
     "name": "stdout",
     "output_type": "stream",
     "text": [
      "a b q\n",
      "a\n",
      "b\n",
      "q\n"
     ]
    }
   ],
   "source": [
    "# 78 원하는 문자가 입력될 때까지 반복 출력하기\n",
    "string = input().split()\n",
    "\n",
    "for i in string:\n",
    "    print(i)\n",
    "    if 'q' in i:\n",
    "        break"
   ]
  },
  {
   "cell_type": "code",
   "execution_count": null,
   "id": "outer-cleaner",
   "metadata": {},
   "outputs": [],
   "source": [
    "# 79 언제까지 더해야 할까?\n",
    "a=int(input())\n",
    "s=0\n",
    "i=1\n",
    "while True:\n",
    "    s+=i\n",
    "    if(a<=s):\n",
    "        print(i)\n",
    "        break\n",
    "    i+=1"
   ]
  },
  {
   "cell_type": "code",
   "execution_count": 37,
   "id": "numerical-disposition",
   "metadata": {},
   "outputs": [
    {
     "name": "stdout",
     "output_type": "stream",
     "text": [
      "2 3\n",
      "1 1\n",
      "1 2\n",
      "1 3\n",
      "2 1\n",
      "2 2\n",
      "2 3\n"
     ]
    }
   ],
   "source": [
    "# 80 주사위 2개 던지기\n",
    "x, y = map(int, input().split())\n",
    "for x in range(1, x+1):\n",
    "    for y in range(1, y+1):\n",
    "        print(x, y)"
   ]
  },
  {
   "cell_type": "code",
   "execution_count": 40,
   "id": "arctic-sacramento",
   "metadata": {},
   "outputs": [
    {
     "name": "stdout",
     "output_type": "stream",
     "text": [
      "A\n",
      "A*1=A\n",
      "A*2=14\n",
      "A*3=1E\n",
      "A*4=28\n",
      "A*5=32\n",
      "A*6=3C\n",
      "A*7=46\n",
      "A*8=50\n",
      "A*9=5A\n",
      "A*A=64\n",
      "A*B=6E\n",
      "A*C=78\n",
      "A*D=82\n",
      "A*E=8C\n",
      "A*F=96\n"
     ]
    }
   ],
   "source": [
    "# 81 16진수 구구단 출력하기\n",
    "n = int(input(),16)\n",
    "first = hex(n)[2:].upper()\n",
    "for i in range(1,16):\n",
    "    second = hex(i)[2:].upper()\n",
    "    third = hex(n*i)[2:].upper()\n",
    "    print(first+\"*\"+second+\"=\"+third)"
   ]
  },
  {
   "cell_type": "code",
   "execution_count": 6,
   "id": "fifty-whale",
   "metadata": {},
   "outputs": [
    {
     "name": "stdout",
     "output_type": "stream",
     "text": [
      "20\n",
      "1 2 X 4 5 X 7 8 X 10 11 12 X 14 15 X 17 18 X 20 "
     ]
    }
   ],
   "source": [
    "# 82 3 6 9 게임의 왕이 되자\n",
    "x = int(input())\n",
    "for i in range(1, x+1):\n",
    "    if i % 10 == 3:\n",
    "        print('X', end=' ')\n",
    "    elif i % 10 == 6:\n",
    "        print('X', end=' ')\n",
    "    elif  i % 10 == 9:\n",
    "        print('X', end=' ')\n",
    "    else:\n",
    "        print(i, end=' ')"
   ]
  },
  {
   "cell_type": "code",
   "execution_count": 7,
   "id": "exotic-formation",
   "metadata": {},
   "outputs": [
    {
     "name": "stdout",
     "output_type": "stream",
     "text": [
      "20\n",
      "1 2 X 4 5 X 7 8 X 10 11 12 X 14 15 X 17 18 X 20 "
     ]
    }
   ],
   "source": [
    "x = int(input())\n",
    "for i in range(1, x+1):\n",
    "    if i % 10 == 3 or i % 10 == 6 or i % 10 ==9:\n",
    "        print('X', end=' ')\n",
    "    else:\n",
    "        print(i, end=' ')"
   ]
  },
  {
   "cell_type": "code",
   "execution_count": 12,
   "id": "measured-penetration",
   "metadata": {},
   "outputs": [
    {
     "name": "stdout",
     "output_type": "stream",
     "text": [
      "2 2 2\n",
      "0 0 0\n",
      "0 0 1\n",
      "0 1 0\n",
      "0 1 1\n",
      "1 0 0\n",
      "1 0 1\n",
      "1 1 0\n",
      "1 1 1\n",
      "8\n"
     ]
    }
   ],
   "source": [
    "# 83 빛 섞어 색 만들기\n",
    "r, g, b = map(int, input().split())\n",
    "\n",
    "count = 0\n",
    "for i in range(r):\n",
    "    for j in range(g):\n",
    "        for k in range(b):\n",
    "            print (i, j, k)\n",
    "            count += 1\n",
    "print (count)"
   ]
  },
  {
   "cell_type": "code",
   "execution_count": 13,
   "id": "outstanding-disaster",
   "metadata": {},
   "outputs": [
    {
     "name": "stdout",
     "output_type": "stream",
     "text": [
      "44100 16 2 10\n",
      "1.7 MB\n"
     ]
    }
   ],
   "source": [
    "# 84 소리 파일 저장용량 계산하기\n",
    "h, b, c, s = map(int, input().split())\n",
    "\n",
    "x = h*b*c*s/8/1024/1024\n",
    "print('{} MB'.format(round(x, 1)))"
   ]
  },
  {
   "cell_type": "code",
   "execution_count": 14,
   "id": "authorized-instruction",
   "metadata": {},
   "outputs": [
    {
     "name": "stdout",
     "output_type": "stream",
     "text": [
      "1024 768 24\n",
      "2.25 MB\n"
     ]
    }
   ],
   "source": [
    "# 85 그림 파일 저장용량 계산하기\n",
    "w, h, b = map(int, input().split())\n",
    "x = w*h*b/8/1024/1024\n",
    "print ('%.2f MB'%x)"
   ]
  },
  {
   "cell_type": "code",
   "execution_count": 16,
   "id": "adapted-contractor",
   "metadata": {},
   "outputs": [
    {
     "name": "stdout",
     "output_type": "stream",
     "text": [
      "57\n",
      "66\n"
     ]
    }
   ],
   "source": [
    "# 86 거기까지! 이제 그만~\n",
    "x = int(input())\n",
    "\n",
    "s = 0\n",
    "i = 1\n",
    "while s<x:\n",
    "    s += i\n",
    "    i += 1\n",
    "print(s)"
   ]
  },
  {
   "cell_type": "code",
   "execution_count": null,
   "id": "unavailable-island",
   "metadata": {},
   "outputs": [],
   "source": []
  }
 ],
 "metadata": {
  "kernelspec": {
   "display_name": "aiffel",
   "language": "python",
   "name": "aiffel"
  },
  "language_info": {
   "codemirror_mode": {
    "name": "ipython",
    "version": 3
   },
   "file_extension": ".py",
   "mimetype": "text/x-python",
   "name": "python",
   "nbconvert_exporter": "python",
   "pygments_lexer": "ipython3",
   "version": "3.7.6"
  }
 },
 "nbformat": 4,
 "nbformat_minor": 5
}
