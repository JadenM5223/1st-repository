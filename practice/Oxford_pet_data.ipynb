{
 "cells": [
  {
   "cell_type": "code",
   "execution_count": 2,
   "id": "positive-tours",
   "metadata": {},
   "outputs": [],
   "source": [
    "import os\n",
    "import re\n",
    "from glob import glob\n",
    "\n",
    "import tensorflow as tf\n",
    "from tensorflow import keras\n",
    "#import tensorflow.experimental.numpy as np\n",
    "import numpy as np\n",
    "\n",
    "from PIL import Image\n",
    "import matplotlib.pyplot as plt"
   ]
  },
  {
   "cell_type": "code",
   "execution_count": 3,
   "id": "arabic-crystal",
   "metadata": {},
   "outputs": [
    {
     "data": {
      "text/plain": [
       "7393"
      ]
     },
     "execution_count": 3,
     "metadata": {},
     "output_type": "execute_result"
    }
   ],
   "source": [
    "# 데이터 로드\n",
    "data_path = os.path.join(\"images\", \"*\")\n",
    "\n",
    "data_list = glob(data_path)\n",
    "\n",
    "len(data_list)"
   ]
  },
  {
   "cell_type": "code",
   "execution_count": 4,
   "id": "modern-regular",
   "metadata": {},
   "outputs": [
    {
     "data": {
      "text/plain": [
       "'images/pug_126.jpg'"
      ]
     },
     "execution_count": 4,
     "metadata": {},
     "output_type": "execute_result"
    }
   ],
   "source": [
    "data_list[0]"
   ]
  },
  {
   "cell_type": "code",
   "execution_count": 5,
   "id": "coastal-offense",
   "metadata": {},
   "outputs": [],
   "source": [
    "# 확장자 확인\n",
    "file_extention = []\n",
    "for data in data_list:\n",
    "    basename = os.path.basename(data)\n",
    "    _, file = basename.split(\".\")\n",
    "    \n",
    "    if file in file_extention:\n",
    "        continue\n",
    "    else:\n",
    "        file_extention.append(file)"
   ]
  },
  {
   "cell_type": "code",
   "execution_count": 6,
   "id": "arranged-circulation",
   "metadata": {},
   "outputs": [
    {
     "data": {
      "text/plain": [
       "['jpg', 'mat']"
      ]
     },
     "execution_count": 6,
     "metadata": {},
     "output_type": "execute_result"
    }
   ],
   "source": [
    "file_extention"
   ]
  },
  {
   "cell_type": "code",
   "execution_count": 7,
   "id": "fourth-quilt",
   "metadata": {},
   "outputs": [],
   "source": [
    "for i, data in enumerate(data_list):\n",
    "    basename = os.path.basename(data)\n",
    "    _, file = basename.split(\".\")\n",
    "    \n",
    "    if file == \"mat\":\n",
    "        del data_list[i]"
   ]
  },
  {
   "cell_type": "code",
   "execution_count": 8,
   "id": "technical-heating",
   "metadata": {},
   "outputs": [
    {
     "data": {
      "text/plain": [
       "7390"
      ]
     },
     "execution_count": 8,
     "metadata": {},
     "output_type": "execute_result"
    }
   ],
   "source": [
    "# 3개가 줄어듬\n",
    "len(data_list)"
   ]
  },
  {
   "cell_type": "code",
   "execution_count": 9,
   "id": "practical-panel",
   "metadata": {},
   "outputs": [],
   "source": [
    "# channel 수 확인\n",
    "\n",
    "# 4채널 처리 방법\n",
    "# 방법 1 : 4채널을 3채널로 바꾸기\n",
    "# 방법 2 : 4채널 지우기 V\n",
    "\n",
    "for i, data in enumerate(data_list):\n",
    "    image_data = Image.open(data)\n",
    "    mode = image_data.mode\n",
    "    \n",
    "    if mode != \"RGB\":\n",
    "        del data_list[i]"
   ]
  },
  {
   "cell_type": "code",
   "execution_count": 10,
   "id": "apart-surge",
   "metadata": {},
   "outputs": [
    {
     "data": {
      "text/plain": [
       "7378"
      ]
     },
     "execution_count": 10,
     "metadata": {},
     "output_type": "execute_result"
    }
   ],
   "source": [
    "# 12개 줄었음\n",
    "# 전체에서 15개 줄었음\n",
    "len(data_list)"
   ]
  },
  {
   "cell_type": "code",
   "execution_count": 11,
   "id": "right-hardware",
   "metadata": {},
   "outputs": [
    {
     "data": {
      "text/plain": [
       "['images/pug_126.jpg',\n",
       " 'images/Bombay_87.jpg',\n",
       " 'images/Siamese_154.jpg',\n",
       " 'images/staffordshire_bull_terrier_25.jpg',\n",
       " 'images/saint_bernard_71.jpg',\n",
       " 'images/beagle_98.jpg',\n",
       " 'images/japanese_chin_154.jpg',\n",
       " 'images/shiba_inu_158.jpg',\n",
       " 'images/havanese_163.jpg',\n",
       " 'images/keeshond_124.jpg']"
      ]
     },
     "execution_count": 11,
     "metadata": {},
     "output_type": "execute_result"
    }
   ],
   "source": [
    "data_list[:10]"
   ]
  },
  {
   "cell_type": "code",
   "execution_count": 12,
   "id": "arctic-coordination",
   "metadata": {},
   "outputs": [
    {
     "data": {
      "text/plain": [
       "['pug',\n",
       " 'Bombay',\n",
       " 'Siamese',\n",
       " 'staffordshire_bull_terrier',\n",
       " 'saint_bernard',\n",
       " 'beagle',\n",
       " 'japanese_chin',\n",
       " 'shiba_inu',\n",
       " 'havanese',\n",
       " 'keeshond',\n",
       " 'miniature_pinscher',\n",
       " 'samoyed',\n",
       " 'boxer',\n",
       " 'Sphynx',\n",
       " 'Egyptian_Mau',\n",
       " 'British_Shorthair',\n",
       " 'newfoundland',\n",
       " 'Birman',\n",
       " 'basset_hound',\n",
       " 'german_shorthaired',\n",
       " 'american_pit_bull_terrier',\n",
       " 'Bengal',\n",
       " 'leonberger',\n",
       " 'Ragdoll',\n",
       " 'chihuahua',\n",
       " 'Russian_Blue',\n",
       " 'english_setter',\n",
       " 'Maine_Coon',\n",
       " 'pomeranian',\n",
       " 'Abyssinian',\n",
       " 'american_bulldog',\n",
       " 'wheaten_terrier',\n",
       " 'yorkshire_terrier',\n",
       " 'scottish_terrier',\n",
       " 'great_pyrenees',\n",
       " 'english_cocker_spaniel',\n",
       " 'Persian']"
      ]
     },
     "execution_count": 12,
     "metadata": {},
     "output_type": "execute_result"
    }
   ],
   "source": [
    "class_list = []\n",
    "for data in data_list:\n",
    "    basename = os.path.basename(data)\n",
    "    label = os.path.splitext(basename)[0]\n",
    "    \n",
    "    label = re.sub(\"_\\d+\", \"\", label)\n",
    "    \n",
    "    if label in class_list:\n",
    "        continue\n",
    "    else:\n",
    "        class_list.append(label)\n",
    "class_list"
   ]
  },
  {
   "cell_type": "code",
   "execution_count": 13,
   "id": "apparent-novelty",
   "metadata": {},
   "outputs": [
    {
     "name": "stdout",
     "output_type": "stream",
     "text": [
      "<class 'list'>\n"
     ]
    }
   ],
   "source": [
    "print (type(class_list))"
   ]
  },
  {
   "cell_type": "code",
   "execution_count": 25,
   "id": "voluntary-production",
   "metadata": {},
   "outputs": [],
   "source": [
    "class_list = []\n",
    "for data in data_list:\n",
    "    basename = os.path.basename(data)\n",
    "    label = os.path.splitext(basename)[0]\n",
    "    \n",
    "    label = re.sub(\"_\\d+\", \"\", label)\n",
    "    \n",
    "    class_list.append(label)"
   ]
  },
  {
   "cell_type": "code",
   "execution_count": 29,
   "id": "fourth-investment",
   "metadata": {},
   "outputs": [],
   "source": [
    "class_list = list(set(class_list))"
   ]
  },
  {
   "cell_type": "code",
   "execution_count": 30,
   "id": "august-citizen",
   "metadata": {},
   "outputs": [
    {
     "data": {
      "text/plain": [
       "37"
      ]
     },
     "execution_count": 30,
     "metadata": {},
     "output_type": "execute_result"
    }
   ],
   "source": [
    "len(class_list)"
   ]
  },
  {
   "cell_type": "code",
   "execution_count": 31,
   "id": "elder-keeping",
   "metadata": {},
   "outputs": [],
   "source": [
    "class_to_index = {cls : i for i, cls in enumerate(class_list)}"
   ]
  },
  {
   "cell_type": "code",
   "execution_count": 32,
   "id": "grand-annex",
   "metadata": {
    "scrolled": false
   },
   "outputs": [
    {
     "data": {
      "text/plain": [
       "{'Russian_Blue': 0,\n",
       " 'Ragdoll': 1,\n",
       " 'Siamese': 2,\n",
       " 'British_Shorthair': 3,\n",
       " 'wheaten_terrier': 4,\n",
       " 'great_pyrenees': 5,\n",
       " 'staffordshire_bull_terrier': 6,\n",
       " 'basset_hound': 7,\n",
       " 'english_cocker_spaniel': 8,\n",
       " 'pug': 9,\n",
       " 'Bombay': 10,\n",
       " 'american_pit_bull_terrier': 11,\n",
       " 'pomeranian': 12,\n",
       " 'german_shorthaired': 13,\n",
       " 'leonberger': 14,\n",
       " 'samoyed': 15,\n",
       " 'Persian': 16,\n",
       " 'scottish_terrier': 17,\n",
       " 'beagle': 18,\n",
       " 'Birman': 19,\n",
       " 'Bengal': 20,\n",
       " 'newfoundland': 21,\n",
       " 'chihuahua': 22,\n",
       " 'yorkshire_terrier': 23,\n",
       " 'saint_bernard': 24,\n",
       " 'miniature_pinscher': 25,\n",
       " 'Egyptian_Mau': 26,\n",
       " 'shiba_inu': 27,\n",
       " 'Sphynx': 28,\n",
       " 'Abyssinian': 29,\n",
       " 'japanese_chin': 30,\n",
       " 'keeshond': 31,\n",
       " 'Maine_Coon': 32,\n",
       " 'boxer': 33,\n",
       " 'american_bulldog': 34,\n",
       " 'english_setter': 35,\n",
       " 'havanese': 36}"
      ]
     },
     "execution_count": 32,
     "metadata": {},
     "output_type": "execute_result"
    }
   ],
   "source": [
    "class_to_index"
   ]
  },
  {
   "cell_type": "code",
   "execution_count": null,
   "id": "portuguese-mambo",
   "metadata": {},
   "outputs": [],
   "source": []
  }
 ],
 "metadata": {
  "kernelspec": {
   "display_name": "aiffel",
   "language": "python",
   "name": "aiffel"
  },
  "language_info": {
   "codemirror_mode": {
    "name": "ipython",
    "version": 3
   },
   "file_extension": ".py",
   "mimetype": "text/x-python",
   "name": "python",
   "nbconvert_exporter": "python",
   "pygments_lexer": "ipython3",
   "version": "3.7.6"
  }
 },
 "nbformat": 4,
 "nbformat_minor": 5
}
