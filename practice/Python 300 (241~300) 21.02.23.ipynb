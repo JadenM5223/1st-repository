{
 "cells": [
  {
   "cell_type": "code",
   "execution_count": 3,
   "id": "individual-diesel",
   "metadata": {},
   "outputs": [
    {
     "name": "stdout",
     "output_type": "stream",
     "text": [
      "2021-02-22 20:45:50.276598\n"
     ]
    }
   ],
   "source": [
    "# 문제 241 datetime 모듈을 사용해서 현재 시간을 화면에 출력해보세요.\n",
    "import datetime\n",
    "\n",
    "now = datetime.datetime.now()\n",
    "\n",
    "print (now)"
   ]
  },
  {
   "cell_type": "code",
   "execution_count": 4,
   "id": "closed-inclusion",
   "metadata": {},
   "outputs": [
    {
     "name": "stdout",
     "output_type": "stream",
     "text": [
      "2021-02-22 20:45:50.276598 <class 'datetime.datetime'>\n"
     ]
    }
   ],
   "source": [
    "# 문제 242 datetime 모듈의 now 함수의 리턴 값의 타입을 화면에 출력해보세요.\n",
    "print (now, type(now))"
   ]
  },
  {
   "cell_type": "code",
   "execution_count": 5,
   "id": "promising-burns",
   "metadata": {},
   "outputs": [
    {
     "name": "stdout",
     "output_type": "stream",
     "text": [
      "2021-02-17 20:53:08.416184\n",
      "2021-02-18 20:53:08.416184\n",
      "2021-02-19 20:53:08.416184\n",
      "2021-02-20 20:53:08.416184\n",
      "2021-02-21 20:53:08.416184\n"
     ]
    }
   ],
   "source": [
    "# 문제 243 datetime 모듈의 timedelta를 사용해서 오늘로부터 5일, 4일, 3일, 2일, 1일 전의 날짜를 화면에 출력해보세요.\n",
    "import datetime\n",
    "\n",
    "now = datetime.datetime.now()\n",
    "\n",
    "for day in range(5, 0, -1):\n",
    "    delta = datetime.timedelta(days=day)\n",
    "    date = now - delta\n",
    "    print(date)"
   ]
  },
  {
   "cell_type": "code",
   "execution_count": 6,
   "id": "educational-dutch",
   "metadata": {},
   "outputs": [
    {
     "name": "stdout",
     "output_type": "stream",
     "text": [
      "20:55:39\n"
     ]
    }
   ],
   "source": [
    "# 문제 244 현재시간을 얻어온 후 다음과 같은 포맷으로 시간을 출력해보세요. strftime 메서드를 사용하세요.\n",
    "import datetime\n",
    "\n",
    "now = datetime.datetime.now()\n",
    "print(now.strftime(\"%H:%M:%S\"))"
   ]
  },
  {
   "cell_type": "code",
   "execution_count": 8,
   "id": "valid-reconstruction",
   "metadata": {},
   "outputs": [
    {
     "name": "stdout",
     "output_type": "stream",
     "text": [
      "2020-05-04 00:00:00\n"
     ]
    }
   ],
   "source": [
    "# 문제 245 datetime.datetime.strptime 메서드를 사용하면 문자열 형식의 시간을 datetime.datetime 타입의 시간 값으로 만들어줍니다. \n",
    "# \"2020-05-04\"의 문자열을 시간 타입으로 변환해보세요.\n",
    "\n",
    "time = \"2020-05-04\"\n",
    "change_time = datetime.datetime.strptime(time, \"%Y-%m-%d\")\n",
    "\n",
    "print (change_time)"
   ]
  },
  {
   "cell_type": "code",
   "execution_count": null,
   "id": "postal-surgery",
   "metadata": {},
   "outputs": [],
   "source": [
    "# 문제 246 time 모듈, datetime 모듈을 사용해서 1초에 한 번 현재 시간을 출력하는 코드를 작성하세요.\n",
    "import time\n",
    "import datetime\n",
    "\n",
    "while True:\n",
    "    now = datetime.datetime.now()\n",
    "    print (now)\n",
    "    time.sleep(1)"
   ]
  },
  {
   "cell_type": "code",
   "execution_count": 13,
   "id": "ahead-entertainment",
   "metadata": {},
   "outputs": [],
   "source": [
    "# 문제 247 모듈을 임포트하는 4가지 방식에 대해 설명해보세요.\n",
    "import os\n",
    "from os import rename\n",
    "from os import *\n",
    "import os as myos"
   ]
  },
  {
   "cell_type": "code",
   "execution_count": 14,
   "id": "ahead-tribute",
   "metadata": {},
   "outputs": [
    {
     "name": "stdout",
     "output_type": "stream",
     "text": [
      "/home/aiffel/new_project/1st-repository/practice <class 'str'>\n"
     ]
    }
   ],
   "source": [
    "# 문제 248 os 모듈의 getcwd 함수를 호출하여 현재 디렉터리의 경로를 화면에 출력해보세요.\n",
    "import os\n",
    "ret = os.getcwd()\n",
    "print(ret, type(ret))"
   ]
  },
  {
   "cell_type": "code",
   "execution_count": 17,
   "id": "restricted-occasions",
   "metadata": {},
   "outputs": [
    {
     "ename": "FileNotFoundError",
     "evalue": "[Errno 2] No such file or directory: \"('HOME')+'/aiffel/new_project/1st-repository/practice/고독하구만.txt\" -> \"('HOME')+'/aiffel/new_project/1st-repository/practice/고구마구만.txt\"",
     "output_type": "error",
     "traceback": [
      "\u001b[0;31m---------------------------------------------------------------------------\u001b[0m",
      "\u001b[0;31mFileNotFoundError\u001b[0m                         Traceback (most recent call last)",
      "\u001b[0;32m<ipython-input-17-6aebd41be489>\u001b[0m in \u001b[0;36m<module>\u001b[0;34m\u001b[0m\n\u001b[1;32m      1\u001b[0m \u001b[0;31m# 문제 249 바탕화면에 텍스트 파일을 하나 생성한 후 os 모듈의 rename 함수를 호출하여 해당 파일의 이름을 변경해보세요.\u001b[0m\u001b[0;34m\u001b[0m\u001b[0;34m\u001b[0m\u001b[0;34m\u001b[0m\u001b[0m\n\u001b[1;32m      2\u001b[0m \u001b[0;32mimport\u001b[0m \u001b[0mos\u001b[0m\u001b[0;34m\u001b[0m\u001b[0;34m\u001b[0m\u001b[0m\n\u001b[0;32m----> 3\u001b[0;31m \u001b[0mos\u001b[0m\u001b[0;34m.\u001b[0m\u001b[0mrename\u001b[0m\u001b[0;34m(\u001b[0m\u001b[0;34m\"('HOME')+'/aiffel/new_project/1st-repository/practice/고독하구만.txt\"\u001b[0m\u001b[0;34m,\u001b[0m \u001b[0;34m\"('HOME')+'/aiffel/new_project/1st-repository/practice/고구마구만.txt\"\u001b[0m\u001b[0;34m)\u001b[0m\u001b[0;34m\u001b[0m\u001b[0;34m\u001b[0m\u001b[0m\n\u001b[0m",
      "\u001b[0;31mFileNotFoundError\u001b[0m: [Errno 2] No such file or directory: \"('HOME')+'/aiffel/new_project/1st-repository/practice/고독하구만.txt\" -> \"('HOME')+'/aiffel/new_project/1st-repository/practice/고구마구만.txt\""
     ]
    }
   ],
   "source": [
    "# 문제 249 바탕화면에 텍스트 파일을 하나 생성한 후 os 모듈의 rename 함수를 호출하여 해당 파일의 이름을 변경해보세요.\n",
    "import os\n",
    "os.rename(\"('HOME')+'/aiffel/new_project/1st-repository/practice/고독하구만.txt\", \"('HOME')+'/aiffel/new_project/1st-repository/practice/고구마구만.txt\")"
   ]
  },
  {
   "cell_type": "code",
   "execution_count": 18,
   "id": "aging-vegetation",
   "metadata": {},
   "outputs": [
    {
     "name": "stdout",
     "output_type": "stream",
     "text": [
      "[0.  0.1 0.2 0.3 0.4 0.5 0.6 0.7 0.8 0.9 1.  1.1 1.2 1.3 1.4 1.5 1.6 1.7\n",
      " 1.8 1.9 2.  2.1 2.2 2.3 2.4 2.5 2.6 2.7 2.8 2.9 3.  3.1 3.2 3.3 3.4 3.5\n",
      " 3.6 3.7 3.8 3.9 4.  4.1 4.2 4.3 4.4 4.5 4.6 4.7 4.8 4.9]\n"
     ]
    }
   ],
   "source": [
    "# 문제 250 numpy 모듈의 arange 함수를 사용해서 0.0 부터 5.0까지 0.1씩 증가하는 값을 화면에 출력해보세요.\n",
    "import numpy as np\n",
    "\n",
    "add = np.arange(0.0,5.0,0.1)\n",
    "\n",
    "print (add)"
   ]
  },
  {
   "cell_type": "code",
   "execution_count": 19,
   "id": "decreased-bradford",
   "metadata": {},
   "outputs": [],
   "source": [
    "# 문제 251 클래스, 객체, 인스턴스에 대해 설명해봅시다.\n",
    "\n",
    "\n",
    "# 클래스 : 붕어빵 틀과 같은 것, 객체나 인스턴스의 설계도\n",
    "# 객체(Object) : 붕어빵(클래스로 만들어 낸 것)\n",
    "# 인스턴스 : 붕어빵 (특정 클래스가 존재할 때 인스턴스라 부른다. 객체와 같은 의미)"
   ]
  },
  {
   "cell_type": "code",
   "execution_count": 21,
   "id": "silver-syndrome",
   "metadata": {},
   "outputs": [],
   "source": [
    "# 문제 252 비어있는 사람 (Human) 클래스를 \"정의\" 해보세요.\n",
    "class Human:\n",
    "    pass"
   ]
  },
  {
   "cell_type": "code",
   "execution_count": 23,
   "id": "least-tunnel",
   "metadata": {},
   "outputs": [],
   "source": [
    "# 문제 253 사람 (Human) 클래스의 인스턴스를 \"생성\" 하고 이를 areum 변수로 바인딩해보세요.\n",
    "class Human:\n",
    "    pass\n",
    "    \n",
    "areum = Human()"
   ]
  },
  {
   "cell_type": "code",
   "execution_count": 24,
   "id": "demanding-correction",
   "metadata": {},
   "outputs": [
    {
     "name": "stdout",
     "output_type": "stream",
     "text": [
      "응애응애\n"
     ]
    }
   ],
   "source": [
    "# 문제 254 사람 (Human) 클래스에 \"응애응애\"를 출력하는 생성자를 추가하세요.\n",
    "class Human:\n",
    "    def __init__(self):\n",
    "        print (\"응애응애\")\n",
    "        \n",
    "areum = Human()"
   ]
  },
  {
   "cell_type": "code",
   "execution_count": 29,
   "id": "swedish-latitude",
   "metadata": {},
   "outputs": [
    {
     "name": "stdout",
     "output_type": "stream",
     "text": [
      "25\n"
     ]
    }
   ],
   "source": [
    "# 문제 255 사람 (Human) 클래스에 (이름, 나이, 성별)을 받는 생성자를 추가하세요.\n",
    "class Human:\n",
    "    def __init__(self, name, age, sex):\n",
    "        self.name = name\n",
    "        self.age = age\n",
    "        self.sex = sex\n",
    "        \n",
    "areum = Human(\"아름\", 25, \"여자\")\n",
    "print (areum.age)"
   ]
  },
  {
   "cell_type": "code",
   "execution_count": 30,
   "id": "agreed-greenhouse",
   "metadata": {},
   "outputs": [
    {
     "name": "stdout",
     "output_type": "stream",
     "text": [
      "아름\n"
     ]
    }
   ],
   "source": [
    "# 문제 256 255에서 생성한 인스턴스의 이름, 나이, 성별을 출력하세요. 인스턴스 변수에 접근하여 값을 출력하면 됩니다.\n",
    "class Human:\n",
    "    def __init__(self, name, age, sex):\n",
    "        self.name = name\n",
    "        self.age = age\n",
    "        self.sex = sex\n",
    "        \n",
    "areum = Human(\"아름\", 25, \"여자\")\n",
    "print (areum.name)"
   ]
  },
  {
   "cell_type": "code",
   "execution_count": 33,
   "id": "suspected-timothy",
   "metadata": {},
   "outputs": [
    {
     "name": "stdout",
     "output_type": "stream",
     "text": [
      "이름: 아름, 나이: 25, 성별: 여자\n"
     ]
    }
   ],
   "source": [
    "# 문제 257 사람 (Human) 클래스에서 이름, 나이, 성별을 출력하는 who() 메소드를 추가하세요.\n",
    "class Human:\n",
    "    def __init__(self, name, age, sex):\n",
    "        self.name = name\n",
    "        self.age = age\n",
    "        self.sex = sex\n",
    "        \n",
    "    def who(self):\n",
    "        print (\"이름: {}, 나이: {}, 성별: {}\".format(self.name, self.age, self.sex))\n",
    "\n",
    "areum = Human(\"아름\", 25, \"여자\")        \n",
    "areum.who()"
   ]
  },
  {
   "cell_type": "code",
   "execution_count": 36,
   "id": "scientific-hydrogen",
   "metadata": {},
   "outputs": [
    {
     "name": "stdout",
     "output_type": "stream",
     "text": [
      "이름: 불명, 나이: 미상, 성별: 모름\n",
      "이름: 아름, 나이: 25, 성별: 여자\n"
     ]
    }
   ],
   "source": [
    "# 문제 258 사람 (Human) 클래스에 (이름, 나이, 성별)을 받는 setInfo 메소드를 추가하세요.\n",
    "class Human:\n",
    "    def __init__(self, name, age, sex):\n",
    "        self.name = name\n",
    "        self.age = age\n",
    "        self.sex = sex\n",
    "        \n",
    "    def who(self):\n",
    "        print (\"이름: {}, 나이: {}, 성별: {}\".format(self.name, self.age, self.sex))\n",
    "        \n",
    "    def setInfo(self, name, age, sex):\n",
    "        self.name = name\n",
    "        self.age = age\n",
    "        self.sex = sex\n",
    "        \n",
    "areum = Human(\"불명\", \"미상\", \"모름\")\n",
    "areum.who()   \n",
    "\n",
    "areum.setInfo(\"아름\", 25, \"여자\")        \n",
    "areum.who()"
   ]
  },
  {
   "cell_type": "code",
   "execution_count": 37,
   "id": "geological-livestock",
   "metadata": {},
   "outputs": [
    {
     "name": "stdout",
     "output_type": "stream",
     "text": [
      "나의 죽음을 알리지마라\n"
     ]
    }
   ],
   "source": [
    "# 문제 259 사람 (human) 클래스에 \"나의 죽음을 알리지 말라\"를 출력하는 소멸자를 추가하세요.\n",
    "class Human:\n",
    "    def __init__(self, name, age, sex):\n",
    "        self.name = name\n",
    "        self.age = age\n",
    "        self.sex = sex\n",
    "\n",
    "    def __del__(self):\n",
    "        print(\"나의 죽음을 알리지마라\")\n",
    "\n",
    "    def who(self):\n",
    "        print(\"이름: {} 나이: {} 성별: {}\".format(self.name, self.age, self.sex))\n",
    "\n",
    "    def setInfo(self, name, age, sex):\n",
    "        self.name = name\n",
    "        self.age = age\n",
    "        self.sex = sex\n",
    "\n",
    "areum = Human(\"아름\", 25, \"여자\")\n",
    "del(areum)"
   ]
  },
  {
   "cell_type": "code",
   "execution_count": 38,
   "id": "scenic-burlington",
   "metadata": {},
   "outputs": [
    {
     "ename": "SyntaxError",
     "evalue": "invalid syntax (<ipython-input-38-33f2d830eebd>, line 6)",
     "output_type": "error",
     "traceback": [
      "\u001b[0;36m  File \u001b[0;32m\"<ipython-input-38-33f2d830eebd>\"\u001b[0;36m, line \u001b[0;32m6\u001b[0m\n\u001b[0;31m    >>> >>> myStock = OMG()\u001b[0m\n\u001b[0m     ^\u001b[0m\n\u001b[0;31mSyntaxError\u001b[0m\u001b[0;31m:\u001b[0m invalid syntax\n"
     ]
    }
   ],
   "source": [
    "# 문제 260 아래와 같은 에러가 발생한 원인에 대해 설명하세요.\n",
    "class OMG : \n",
    "    def print() :\n",
    "        print(\"Oh my god\")\n",
    "\n",
    ">>> >>> myStock = OMG()\n",
    ">>> myStock.print()\n",
    "TypeError Traceback (most recent call last)\n",
    "<ipython-input-233-c85c04535b22> in <module>()\n",
    "----> myStock.print()\n",
    "\n",
    "TypeError: print() takes 0 positional arguments but 1 was given"
   ]
  },
  {
   "cell_type": "code",
   "execution_count": 39,
   "id": "confidential-pressure",
   "metadata": {},
   "outputs": [
    {
     "ename": "TypeError",
     "evalue": "print() takes 0 positional arguments but 1 was given",
     "output_type": "error",
     "traceback": [
      "\u001b[0;31m---------------------------------------------------------------------------\u001b[0m",
      "\u001b[0;31mTypeError\u001b[0m                                 Traceback (most recent call last)",
      "\u001b[0;32m<ipython-input-39-32a4b97d0618>\u001b[0m in \u001b[0;36m<module>\u001b[0;34m\u001b[0m\n\u001b[1;32m      6\u001b[0m \u001b[0;34m\u001b[0m\u001b[0m\n\u001b[1;32m      7\u001b[0m \u001b[0mmystock\u001b[0m \u001b[0;34m=\u001b[0m \u001b[0mOMG\u001b[0m\u001b[0;34m(\u001b[0m\u001b[0;34m)\u001b[0m\u001b[0;34m\u001b[0m\u001b[0;34m\u001b[0m\u001b[0m\n\u001b[0;32m----> 8\u001b[0;31m \u001b[0mmystock\u001b[0m\u001b[0;34m.\u001b[0m\u001b[0mprint\u001b[0m\u001b[0;34m(\u001b[0m\u001b[0;34m)\u001b[0m\u001b[0;34m\u001b[0m\u001b[0;34m\u001b[0m\u001b[0m\n\u001b[0m",
      "\u001b[0;31mTypeError\u001b[0m: print() takes 0 positional arguments but 1 was given"
     ]
    }
   ],
   "source": [
    "# 문제 260 정답\n",
    "class OMG :\n",
    "    def print() :\n",
    "        print(\"Oh my god\")\n",
    "\n",
    "\n",
    "mystock = OMG()\n",
    "mystock.print()"
   ]
  },
  {
   "cell_type": "code",
   "execution_count": 1,
   "id": "revised-salmon",
   "metadata": {},
   "outputs": [],
   "source": [
    "# 문제 261 주식 종목에 대한 정보를 저장하는 Stock 클래스를 정의해보세요. 클래스는 속성과 메서드를 갖고 있지 않습니다.\n",
    "class Stock :\n",
    "    pass"
   ]
  },
  {
   "cell_type": "code",
   "execution_count": 3,
   "id": "administrative-moscow",
   "metadata": {},
   "outputs": [
    {
     "name": "stdout",
     "output_type": "stream",
     "text": [
      "삼성전자\n",
      "005930\n"
     ]
    }
   ],
   "source": [
    "# 문제 262 Stock 클래스의 객체가 생성될 때 종목명과 종목코드를 입력 받을 수 있도록 생성자를 정의해보세요.\n",
    "class Stock :\n",
    "    def __init__(self, name, code):\n",
    "        self.name = name\n",
    "        self.code = code\n",
    "        \n",
    "삼성 = Stock(\"삼성전자\", \"005930\")\n",
    "print (삼성.name)\n",
    "print (삼성.code)"
   ]
  },
  {
   "cell_type": "code",
   "execution_count": 5,
   "id": "short-pattern",
   "metadata": {},
   "outputs": [
    {
     "name": "stdout",
     "output_type": "stream",
     "text": [
      "삼성전자\n"
     ]
    }
   ],
   "source": [
    "# 문제 263 객체에 종목명을 입력할 수 있는 set_name 메서드를 추가해보세요.\n",
    "class Stock :\n",
    "    def __init__(self, name, code):\n",
    "        self.name = name\n",
    "        self.code = code\n",
    "        \n",
    "    def set_name(self, name):\n",
    "        self.name = name\n",
    "        \n",
    "a = Stock(None, None)\n",
    "a.set_name(\"삼성전자\")\n",
    "print(a.name)"
   ]
  },
  {
   "cell_type": "code",
   "execution_count": 6,
   "id": "configured-generation",
   "metadata": {},
   "outputs": [
    {
     "name": "stdout",
     "output_type": "stream",
     "text": [
      "005930\n"
     ]
    }
   ],
   "source": [
    "# 문제 264 객체에 종목코드를 입력할 수 있는 set_code 메서드를 추가해보세요.\n",
    "class Stock :\n",
    "    def __init__(self, name, code):\n",
    "        self.name = name\n",
    "        self.code = code\n",
    "        \n",
    "    def set_name(self, name):\n",
    "        self.name = name\n",
    "        \n",
    "    def set_code(self, code):\n",
    "        self.code = code\n",
    "        \n",
    "a = Stock(None, None)\n",
    "a.set_code(\"005930\")\n",
    "print(a.code)"
   ]
  },
  {
   "cell_type": "code",
   "execution_count": 7,
   "id": "level-gardening",
   "metadata": {},
   "outputs": [
    {
     "name": "stdout",
     "output_type": "stream",
     "text": [
      "삼성전자\n",
      "005930\n",
      "삼성전자\n",
      "005930\n"
     ]
    }
   ],
   "source": [
    "# 문제 265 종목명과 종목코드를 리턴하는 get_name, get_code 메서드를 추가하세요.\n",
    "# 해당 메서드를 사용하여 종목명과 종목코드를 얻고 이를 출력해보세요.\n",
    "\n",
    "class Stock :\n",
    "    def __init__(self, name, code):\n",
    "        self.name = name\n",
    "        self.code = code\n",
    "        \n",
    "    def set_name(self, name):\n",
    "        self.name = name\n",
    "        \n",
    "    def set_code(self, code):\n",
    "        self.code = code\n",
    "        \n",
    "    def get_name(self):\n",
    "        return self.name\n",
    "    \n",
    "    def get_code(self):\n",
    "        return self.code\n",
    "    \n",
    "삼성 = Stock(\"삼성전자\", \"005930\")\n",
    "print(삼성.name)\n",
    "print(삼성.code)\n",
    "print(삼성.get_name())\n",
    "print(삼성.get_code())"
   ]
  },
  {
   "cell_type": "code",
   "execution_count": 9,
   "id": "cutting-dodge",
   "metadata": {},
   "outputs": [
    {
     "name": "stdout",
     "output_type": "stream",
     "text": [
      "삼성전자\n",
      "005930\n",
      "삼성전자\n",
      "005930\n",
      "15.9\n"
     ]
    }
   ],
   "source": [
    "# 문제 266 생성자에서 종목명, 종목코드, PER, PBR, 배당수익률을 입력 받을 수 있도록 생성자를 수정하세요. \n",
    "# PER, PBR, 배당수익률은 float 타입입니다.\n",
    "class Stock :\n",
    "    def __init__(self, name, code, PER, PBR, rate):\n",
    "        self.name = name\n",
    "        self.code = code\n",
    "        self.PER = PER\n",
    "        self.PBR = PBR\n",
    "        self.rate = rate\n",
    "        \n",
    "    def set_name(self, name):\n",
    "        self.name = name\n",
    "        \n",
    "    def set_code(self, code):\n",
    "        self.code = code\n",
    "        \n",
    "    def get_name(self):\n",
    "        return self.name\n",
    "    \n",
    "    def get_code(self):\n",
    "        return self.code\n",
    "    \n",
    "삼성 = Stock(\"삼성전자\", \"005930\", \"15.9\", \"1.33\", \"2.83\")\n",
    "print(삼성.name)\n",
    "print(삼성.code)\n",
    "print(삼성.get_name())\n",
    "print(삼성.get_code())\n",
    "print(삼성.PER)    "
   ]
  },
  {
   "cell_type": "code",
   "execution_count": 10,
   "id": "aquatic-mechanics",
   "metadata": {},
   "outputs": [
    {
     "name": "stdout",
     "output_type": "stream",
     "text": [
      "삼성전자\n",
      "005930\n",
      "삼성전자\n",
      "005930\n",
      "15.9\n"
     ]
    }
   ],
   "source": [
    "# 문제 267 266번에서 정의한 생성자를 통해 다음 정보를 갖는 객체를 생성해보세요.\n",
    "class Stock :\n",
    "    def __init__(self, name, code, PER, PBR, rate):\n",
    "        self.name = name\n",
    "        self.code = code\n",
    "        self.PER = PER\n",
    "        self.PBR = PBR\n",
    "        self.rate = rate\n",
    "        \n",
    "    def set_name(self, name):\n",
    "        self.name = name\n",
    "        \n",
    "    def set_code(self, code):\n",
    "        self.code = code\n",
    "        \n",
    "    def get_name(self):\n",
    "        return self.name\n",
    "    \n",
    "    def get_code(self):\n",
    "        return self.code\n",
    "    \n",
    "삼성 = Stock(\"삼성전자\", \"005930\", \"15.9\", \"1.33\", \"2.83\")\n",
    "print(삼성.name)\n",
    "print(삼성.code)\n",
    "print(삼성.get_name())\n",
    "print(삼성.get_code())\n",
    "print(삼성.PER)    "
   ]
  },
  {
   "cell_type": "code",
   "execution_count": 11,
   "id": "vulnerable-plymouth",
   "metadata": {},
   "outputs": [],
   "source": [
    "# 문제 268 PER, PBR, 배당수익률은 변경될 수 있는 값입니다.\n",
    "# 이 값을 변경할 때 사용하는 set_per, set_pbr, set_dividend 메서드를 추가하세요.\n",
    "class Stock :\n",
    "    def __init__(self, name, code, PER, PBR, rate):\n",
    "        self.name = name\n",
    "        self.code = code\n",
    "        self.PER = PER\n",
    "        self.PBR = PBR\n",
    "        self.rate = rate\n",
    "        \n",
    "    def set_name(self, name):\n",
    "        self.name = name\n",
    "        \n",
    "    def set_code(self, code):\n",
    "        self.code = code\n",
    "        \n",
    "    def get_name(self):\n",
    "        return self.name\n",
    "    \n",
    "    def get_code(self):\n",
    "        return self.code\n",
    "    \n",
    "    def set_per(self):\n",
    "        return self.PER\n",
    "    \n",
    "    def set_pbr(self):\n",
    "        return self.PBR\n",
    "    \n",
    "    def set_dividend(self):\n",
    "        return self.rate"
   ]
  },
  {
   "cell_type": "code",
   "execution_count": 16,
   "id": "angry-guard",
   "metadata": {},
   "outputs": [
    {
     "name": "stdout",
     "output_type": "stream",
     "text": [
      "12.75\n"
     ]
    }
   ],
   "source": [
    "# 문제 269 267번에서 생성한 객체에 set_per 메서드를 호출하여 per 값을 12.75로 수정해보세요.\n",
    "class Stock:\n",
    "    def __init__(self, name, code, per, pbr, dividend):\n",
    "        self.name = name\n",
    "        self.code = code\n",
    "        self.per = per\n",
    "        self.pbr = pbr\n",
    "        self.dividend = dividend\n",
    "\n",
    "    def set_name(self, name):\n",
    "        self.name = name\n",
    "\n",
    "    def set_code(self, code):\n",
    "        self.code = code\n",
    "\n",
    "    def get_name(self):\n",
    "        return self.name\n",
    "\n",
    "    def get_code(self):\n",
    "        return self.code\n",
    "\n",
    "    def set_per(self, per):\n",
    "        self.per = per\n",
    "\n",
    "    def set_pbr(self, pbr):\n",
    "        self.pbr = pbr\n",
    "\n",
    "    def set_dividend(self, dividend):\n",
    "        self.dividend = dividend\n",
    "    \n",
    "삼성 = Stock(\"삼성전자\", \"005930\", \"15.9\", \"1.33\", \"2.83\")\n",
    "삼성.set_per(12.75)\n",
    "print(삼성.per)"
   ]
  },
  {
   "cell_type": "code",
   "execution_count": 19,
   "id": "south-basic",
   "metadata": {},
   "outputs": [
    {
     "name": "stdout",
     "output_type": "stream",
     "text": [
      "005930 15.79\n",
      "005380 8.7\n",
      "066570 317.34\n"
     ]
    }
   ],
   "source": [
    "# 문제 270 아래의 표를 참조하여 3종목에 대해 객체를 생성하고 이를 파이썬 리스트에 저장하세요. \n",
    "# 파이썬 리스트에 저장된 각 종목에 대해 for 루프를 통해 종목코드와 PER을 출력해보세요.\n",
    "\n",
    "종목 = []\n",
    "\n",
    "삼성 = Stock(\"삼성전자\", \"005930\", 15.79, 1.33, 2.83)\n",
    "현대차 = Stock(\"현대차\", \"005380\", 8.70, 0.35, 4.27)\n",
    "LG전자 = Stock(\"LG전자\", \"066570\", 317.34, 0.69, 1.37)\n",
    "\n",
    "종목.append(삼성)\n",
    "종목.append(현대차)\n",
    "종목.append(LG전자)\n",
    "\n",
    "for i in 종목:\n",
    "    print(i.code, i.per)"
   ]
  },
  {
   "cell_type": "code",
   "execution_count": 23,
   "id": "continental-notification",
   "metadata": {},
   "outputs": [
    {
     "name": "stdout",
     "output_type": "stream",
     "text": [
      "김민수\n",
      "100\n",
      "SC은행\n",
      "622-50-800371\n"
     ]
    }
   ],
   "source": [
    "# 문제 271 은행에 가서 계좌를 개설하면 은행이름, 예금주, 계좌번호, 잔액이 설정됩니다. Account 클래스를 생성한 후 생성자를 구현해보세요. \n",
    "# 생성자에서는 예금주와 초기 잔액만 입력 받습니다. 은행이름은 SC은행으로 계좌번호는 3자리-2자리-6자리 형태로 랜덤하게 생성됩니다.\n",
    "\n",
    "import random\n",
    "\n",
    "class Account:\n",
    "    def __init__(self, name, balance):\n",
    "        self.name = name\n",
    "        self.balance = balance\n",
    "        self.bank = \"SC은행\"\n",
    "        num1 = random.randint(0, 999)\n",
    "        num2 = random.randint(0, 99)\n",
    "        num3 = random.randint(0, 999999)\n",
    "\n",
    "        num1 = str(num1).zfill(3)      # 1 -> '1' -> '001'\n",
    "        num2 = str(num2).zfill(2)      # 1 -> '1' -> '01'\n",
    "        num3 = str(num3).zfill(6)      # 1 -> '1' -> '0000001'\n",
    "        self.account_number = num1 + '-' + num2 + '-' + num3  # 001-01-000001\n",
    "\n",
    "kim = Account(\"김민수\", 100)\n",
    "print(kim.name)\n",
    "print(kim.balance)\n",
    "print(kim.bank)\n",
    "print(kim.account_number)"
   ]
  },
  {
   "cell_type": "code",
   "execution_count": null,
   "id": "sunset-carol",
   "metadata": {},
   "outputs": [],
   "source": []
  }
 ],
 "metadata": {
  "kernelspec": {
   "display_name": "aiffel",
   "language": "python",
   "name": "aiffel"
  },
  "language_info": {
   "codemirror_mode": {
    "name": "ipython",
    "version": 3
   },
   "file_extension": ".py",
   "mimetype": "text/x-python",
   "name": "python",
   "nbconvert_exporter": "python",
   "pygments_lexer": "ipython3",
   "version": "3.7.6"
  }
 },
 "nbformat": 4,
 "nbformat_minor": 5
}
