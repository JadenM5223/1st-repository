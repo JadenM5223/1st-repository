{
 "cells": [
  {
   "cell_type": "code",
   "execution_count": 2,
   "id": "expensive-screen",
   "metadata": {},
   "outputs": [
    {
     "name": "stdout",
     "output_type": "stream",
     "text": [
      "Hello\n"
     ]
    }
   ],
   "source": [
    "print ('Hello')"
   ]
  },
  {
   "cell_type": "code",
   "execution_count": 3,
   "id": "robust-gender",
   "metadata": {},
   "outputs": [
    {
     "name": "stdout",
     "output_type": "stream",
     "text": [
      "Hello World\n"
     ]
    }
   ],
   "source": [
    "print ('Hello World')"
   ]
  },
  {
   "cell_type": "code",
   "execution_count": 4,
   "id": "charitable-excuse",
   "metadata": {},
   "outputs": [
    {
     "name": "stdout",
     "output_type": "stream",
     "text": [
      "Hello\n",
      "World\n"
     ]
    }
   ],
   "source": [
    "print ('Hello\\nWorld')"
   ]
  },
  {
   "cell_type": "code",
   "execution_count": 5,
   "id": "pleased-albania",
   "metadata": {},
   "outputs": [
    {
     "name": "stdout",
     "output_type": "stream",
     "text": [
      "\"!@#$%^&*()'\n"
     ]
    }
   ],
   "source": [
    "print(\"\\\"!@#$%^&*()\\'\")"
   ]
  },
  {
   "cell_type": "code",
   "execution_count": 6,
   "id": "automatic-cross",
   "metadata": {},
   "outputs": [
    {
     "name": "stdout",
     "output_type": "stream",
     "text": [
      "\"C:\\Download\\'hello'.py\"\n"
     ]
    }
   ],
   "source": [
    "print(\"\\\"C:\\\\Download\\\\\\'hello\\'.py\\\"\")"
   ]
  },
  {
   "cell_type": "code",
   "execution_count": 7,
   "id": "sexual-student",
   "metadata": {},
   "outputs": [
    {
     "name": "stdout",
     "output_type": "stream",
     "text": [
      "print(\"Hello\\nWorld\")\n"
     ]
    }
   ],
   "source": [
    "print(\"print(\\\"Hello\\\\nWorld\\\")\")"
   ]
  },
  {
   "cell_type": "code",
   "execution_count": 14,
   "id": "stock-ghana",
   "metadata": {},
   "outputs": [
    {
     "name": "stdout",
     "output_type": "stream",
     "text": [
      "2\n",
      "1\n",
      "1\n",
      "2\n"
     ]
    }
   ],
   "source": [
    "x = input()\n",
    "y = input()\n",
    "print (y)\n",
    "print (x)"
   ]
  },
  {
   "cell_type": "code",
   "execution_count": 10,
   "id": "minor-redhead",
   "metadata": {},
   "outputs": [
    {
     "name": "stdout",
     "output_type": "stream",
     "text": [
      "1.5\n"
     ]
    }
   ],
   "source": [
    "x = input()\n",
    "print(x)\n",
    "print(x)\n",
    "print(x)"
   ]
  },
  {
   "cell_type": "code",
   "execution_count": 16,
   "id": "super-jamaica",
   "metadata": {},
   "outputs": [
    {
     "name": "stdout",
     "output_type": "stream",
     "text": [
      "1 2\n",
      "2 1\n"
     ]
    }
   ],
   "source": [
    "x, y = input().split()\n",
    "print(y, x)"
   ]
  },
  {
   "cell_type": "code",
   "execution_count": 18,
   "id": "tracked-perfume",
   "metadata": {},
   "outputs": [
    {
     "name": "stdout",
     "output_type": "stream",
     "text": [
      "computer\n",
      "computer computer computer\n"
     ]
    }
   ],
   "source": [
    "x = input()\n",
    "print(x, x, x)"
   ]
  },
  {
   "cell_type": "code",
   "execution_count": 22,
   "id": "opposed-means",
   "metadata": {},
   "outputs": [
    {
     "name": "stdout",
     "output_type": "stream",
     "text": [
      "24:00\n",
      "24:00\n"
     ]
    }
   ],
   "source": [
    "x, y = input().split(\":\")\n",
    "print(x, y, sep=\":\")"
   ]
  },
  {
   "cell_type": "code",
   "execution_count": 23,
   "id": "utility-watch",
   "metadata": {},
   "outputs": [
    {
     "name": "stdout",
     "output_type": "stream",
     "text": [
      "2021.3.5\n",
      "5-3-2021\n"
     ]
    }
   ],
   "source": [
    "y, m, d = input().split(\".\")\n",
    "print(d, m, y, sep=\"-\")"
   ]
  },
  {
   "cell_type": "code",
   "execution_count": 24,
   "id": "living-prescription",
   "metadata": {},
   "outputs": [
    {
     "name": "stdout",
     "output_type": "stream",
     "text": [
      "920811-1842619\n",
      "9208111842619\n"
     ]
    }
   ],
   "source": [
    "x, y = input().split(\"-\")\n",
    "print(x, y, sep=\"\")"
   ]
  },
  {
   "cell_type": "code",
   "execution_count": 25,
   "id": "dependent-devon",
   "metadata": {},
   "outputs": [
    {
     "name": "stdout",
     "output_type": "stream",
     "text": [
      "Hello\n",
      "H\n",
      "e\n",
      "l\n",
      "l\n",
      "o\n"
     ]
    }
   ],
   "source": [
    "x = input()\n",
    "print(x[0])\n",
    "print(x[1])\n",
    "print(x[2])\n",
    "print(x[3])\n",
    "print(x[4])"
   ]
  },
  {
   "cell_type": "code",
   "execution_count": 26,
   "id": "molecular-dinner",
   "metadata": {},
   "outputs": [
    {
     "name": "stdout",
     "output_type": "stream",
     "text": [
      "210305\n",
      "21 03 05\n"
     ]
    }
   ],
   "source": [
    "x = input()\n",
    "print(x[0:2], x[2:4], x[4:])"
   ]
  },
  {
   "cell_type": "code",
   "execution_count": 27,
   "id": "asian-regulation",
   "metadata": {},
   "outputs": [
    {
     "name": "stdout",
     "output_type": "stream",
     "text": [
      "17:23:57\n",
      "23\n"
     ]
    }
   ],
   "source": [
    "x, y, z = input().split(\":\")\n",
    "print(y)"
   ]
  },
  {
   "cell_type": "code",
   "execution_count": 1,
   "id": "laughing-norwegian",
   "metadata": {},
   "outputs": [
    {
     "name": "stdout",
     "output_type": "stream",
     "text": [
      "son7 kane10\n",
      "son7kane10\n"
     ]
    }
   ],
   "source": [
    "w1, w2 = input().split()\n",
    "s = w1 + w2\n",
    "print(s)"
   ]
  },
  {
   "cell_type": "code",
   "execution_count": 4,
   "id": "brazilian-carroll",
   "metadata": {},
   "outputs": [
    {
     "name": "stdout",
     "output_type": "stream",
     "text": [
      "3 4\n",
      "7\n"
     ]
    }
   ],
   "source": [
    "# 25\n",
    "x, y = input().split()\n",
    "z = int(x) + int(y)\n",
    "print (z)"
   ]
  },
  {
   "cell_type": "code",
   "execution_count": 7,
   "id": "independent-lewis",
   "metadata": {},
   "outputs": [
    {
     "name": "stdout",
     "output_type": "stream",
     "text": [
      "3.12\n",
      "6.42\n",
      "9.54\n"
     ]
    }
   ],
   "source": [
    "# 26\n",
    "x = input()\n",
    "y = input()\n",
    "z = float(x) + float(y)\n",
    "print (z)"
   ]
  },
  {
   "cell_type": "code",
   "execution_count": 11,
   "id": "stunning-disposal",
   "metadata": {},
   "outputs": [
    {
     "name": "stdout",
     "output_type": "stream",
     "text": [
      "9052\n",
      "235c\n"
     ]
    }
   ],
   "source": [
    "# 27\n",
    "x = input()\n",
    "n = int(x)\n",
    "print ('%x'%n)"
   ]
  },
  {
   "cell_type": "code",
   "execution_count": 12,
   "id": "lesser-brown",
   "metadata": {},
   "outputs": [
    {
     "name": "stdout",
     "output_type": "stream",
     "text": [
      "45000\n",
      "AFC8\n"
     ]
    }
   ],
   "source": [
    "# 28\n",
    "x = input()\n",
    "n = int(x)\n",
    "print ('%X'%n)"
   ]
  },
  {
   "cell_type": "code",
   "execution_count": 14,
   "id": "recorded-fifty",
   "metadata": {},
   "outputs": [
    {
     "name": "stdout",
     "output_type": "stream",
     "text": [
      "3579\n",
      "32571\n"
     ]
    }
   ],
   "source": [
    "# 29\n",
    "x = input()\n",
    "n = int(x, 16)\n",
    "print ('%o'%n)"
   ]
  },
  {
   "cell_type": "code",
   "execution_count": 16,
   "id": "shaped-mustang",
   "metadata": {},
   "outputs": [
    {
     "name": "stdout",
     "output_type": "stream",
     "text": [
      "K\n",
      "75\n"
     ]
    }
   ],
   "source": [
    "# 30\n",
    "x = ord(input())\n",
    "print (x)"
   ]
  },
  {
   "cell_type": "code",
   "execution_count": 17,
   "id": "exotic-identification",
   "metadata": {},
   "outputs": [
    {
     "name": "stdout",
     "output_type": "stream",
     "text": [
      "85\n",
      "U\n"
     ]
    }
   ],
   "source": [
    "# 31\n",
    "x = int(input())\n",
    "print (chr(x))"
   ]
  },
  {
   "cell_type": "code",
   "execution_count": 19,
   "id": "fixed-capital",
   "metadata": {},
   "outputs": [
    {
     "name": "stdout",
     "output_type": "stream",
     "text": [
      "-64\n",
      "64\n"
     ]
    }
   ],
   "source": [
    "# 32\n",
    "x = int(input())\n",
    "print (-x)"
   ]
  },
  {
   "cell_type": "code",
   "execution_count": 22,
   "id": "random-cholesterol",
   "metadata": {},
   "outputs": [
    {
     "name": "stdout",
     "output_type": "stream",
     "text": [
      "k\n",
      "l\n"
     ]
    }
   ],
   "source": [
    "# 33 문자 1개 입력받아 다음 문자 출력하기\n",
    "x = ord(input())\n",
    "print (chr(x+1))"
   ]
  },
  {
   "cell_type": "code",
   "execution_count": 26,
   "id": "political-impossible",
   "metadata": {},
   "outputs": [
    {
     "name": "stdout",
     "output_type": "stream",
     "text": [
      "12 8\n",
      "4\n"
     ]
    }
   ],
   "source": [
    "# 34 정수 2개 입력받아 차 계산하기\n",
    "x, y = input().split()\n",
    "z = int(x) - int(y)\n",
    "print (z)"
   ]
  },
  {
   "cell_type": "code",
   "execution_count": 27,
   "id": "engaged-swaziland",
   "metadata": {},
   "outputs": [
    {
     "name": "stdout",
     "output_type": "stream",
     "text": [
      "3.12 6.42\n",
      "20.0304\n"
     ]
    }
   ],
   "source": [
    "# 35 실수 2개 입력받아 곱 계산하기\n",
    "x, y = input().split()\n",
    "z = float(x) * float(y)\n",
    "print (z)"
   ]
  },
  {
   "cell_type": "code",
   "execution_count": 29,
   "id": "conceptual-period",
   "metadata": {},
   "outputs": [
    {
     "name": "stdout",
     "output_type": "stream",
     "text": [
      "good 6\n",
      "goodgoodgoodgoodgoodgood\n"
     ]
    }
   ],
   "source": [
    "# 36 단어 여러 번 출력하기\n",
    "x, y = input().split()\n",
    "print (x*int(y))"
   ]
  },
  {
   "cell_type": "code",
   "execution_count": 31,
   "id": "sporting-gravity",
   "metadata": {},
   "outputs": [
    {
     "name": "stdout",
     "output_type": "stream",
     "text": [
      "3\n",
      "Ian good fellow\n",
      "Ian good fellowIan good fellowIan good fellow\n"
     ]
    }
   ],
   "source": [
    "# 37 문장 여러 번 출력하기\n",
    "x = input()\n",
    "y = input()\n",
    "print (int(x)*y)"
   ]
  },
  {
   "cell_type": "code",
   "execution_count": 32,
   "id": "rural-greenhouse",
   "metadata": {},
   "outputs": [
    {
     "name": "stdout",
     "output_type": "stream",
     "text": [
      "2 4\n",
      "16\n"
     ]
    }
   ],
   "source": [
    "# 38 정수 2개 입력받아 거듭제곱 계산하기\n",
    "x, y = input().split()\n",
    "z = int(x)**int(y)\n",
    "print (z)"
   ]
  },
  {
   "cell_type": "code",
   "execution_count": 33,
   "id": "sound-bikini",
   "metadata": {},
   "outputs": [
    {
     "name": "stdout",
     "output_type": "stream",
     "text": [
      "3.12 4\n",
      "94.75854336000002\n"
     ]
    }
   ],
   "source": [
    "# 39 실수 2개 입력받아 거듭제곱 계산하기\n",
    "x, y = input().split()\n",
    "z = float(x)**float(y)\n",
    "print(z)"
   ]
  },
  {
   "cell_type": "code",
   "execution_count": 35,
   "id": "therapeutic-paint",
   "metadata": {},
   "outputs": [
    {
     "name": "stdout",
     "output_type": "stream",
     "text": [
      "9 3\n",
      "3\n"
     ]
    }
   ],
   "source": [
    "# 40 정수 2개 입력받아 나눈 몫 계산하기\n",
    "x, y = input().split()\n",
    "z = int(x)//int(y)\n",
    "print (z)"
   ]
  },
  {
   "cell_type": "code",
   "execution_count": 36,
   "id": "brave-explosion",
   "metadata": {},
   "outputs": [
    {
     "name": "stdout",
     "output_type": "stream",
     "text": [
      "8 3\n",
      "2\n"
     ]
    }
   ],
   "source": [
    "# 41 정수 2개 입력받아 나눈 나머지 계산하기\n",
    "x, y = input().split()\n",
    "z = int(x)%int(y)\n",
    "print(z)"
   ]
  },
  {
   "cell_type": "code",
   "execution_count": 44,
   "id": "handled-coalition",
   "metadata": {},
   "outputs": [
    {
     "name": "stdout",
     "output_type": "stream",
     "text": [
      "3.4678\n",
      "3.47\n"
     ]
    }
   ],
   "source": [
    "# 42 실수 1개 입력받아 소숫점이하 자리 변환하기\n",
    "x = float(input())\n",
    "print(round(x, 2))"
   ]
  },
  {
   "cell_type": "code",
   "execution_count": 50,
   "id": "hawaiian-portable",
   "metadata": {},
   "outputs": [
    {
     "name": "stdout",
     "output_type": "stream",
     "text": [
      "10 3\n",
      "3.333\n"
     ]
    }
   ],
   "source": [
    "# 43 실수 2개 입력받아 나눈 결과 계산하기\n",
    "x, y = input().split()\n",
    "z = float(x)/float(y)\n",
    "print('%.3f'%z)"
   ]
  },
  {
   "cell_type": "code",
   "execution_count": 55,
   "id": "precious-pantyhose",
   "metadata": {},
   "outputs": [
    {
     "name": "stdout",
     "output_type": "stream",
     "text": [
      "10 3\n",
      "13\n",
      "7\n",
      "30\n",
      "3\n",
      "1\n",
      "3.33\n"
     ]
    }
   ],
   "source": [
    "# 44 정수 2개 입력받아 자동 계산하기\n",
    "x, y = input().split()\n",
    "a = int(x) + int(y)\n",
    "b = int(x) - int(y)\n",
    "c = int(x) * int(y)\n",
    "d = int(x) // int(y)\n",
    "e = int(x) % int(y)\n",
    "f = int(x) / int(y)\n",
    "print (a)\n",
    "print (b)\n",
    "print (c)\n",
    "print (d)\n",
    "print (e)\n",
    "print (round(f, 2))"
   ]
  },
  {
   "cell_type": "code",
   "execution_count": 57,
   "id": "turkish-librarian",
   "metadata": {},
   "outputs": [
    {
     "name": "stdout",
     "output_type": "stream",
     "text": [
      "2 3 4\n",
      "9 3.0\n"
     ]
    }
   ],
   "source": [
    "# 45 정수 3개 입력받아 합과 평균 출력하기\n",
    "x, y, z = input().split()\n",
    "a = int(x)+int(y)+int(z)\n",
    "b = a / 3\n",
    "print (a, round(b, 2))"
   ]
  },
  {
   "cell_type": "code",
   "execution_count": 60,
   "id": "quick-power",
   "metadata": {},
   "outputs": [
    {
     "name": "stdout",
     "output_type": "stream",
     "text": [
      "10\n",
      "20\n"
     ]
    }
   ],
   "source": [
    "# 46 정수 1개 입력받아 2배 곱해 출력하기\n",
    "x = int(input())\n",
    "print (x<<1)"
   ]
  },
  {
   "cell_type": "code",
   "execution_count": 62,
   "id": "verbal-rachel",
   "metadata": {},
   "outputs": [
    {
     "name": "stdout",
     "output_type": "stream",
     "text": [
      "2 3\n",
      "16\n"
     ]
    }
   ],
   "source": [
    "# 47 2의 거듭제곱 배로 곱해 출력하기\n",
    "x, y = input().split()\n",
    "z = int(x)<<int(y)\n",
    "print (z)"
   ]
  },
  {
   "cell_type": "code",
   "execution_count": 64,
   "id": "heard-editor",
   "metadata": {},
   "outputs": [
    {
     "name": "stdout",
     "output_type": "stream",
     "text": [
      "1 9\n",
      "True\n"
     ]
    }
   ],
   "source": [
    "# 48 정수 2개 입력받아 비교하기1\n",
    "x, y = input().split()\n",
    "z = int(x) < int(y)\n",
    "print(z)"
   ]
  },
  {
   "cell_type": "code",
   "execution_count": 66,
   "id": "indie-burst",
   "metadata": {},
   "outputs": [
    {
     "name": "stdout",
     "output_type": "stream",
     "text": [
      "4 4\n",
      "True\n",
      "<class 'bool'>\n"
     ]
    }
   ],
   "source": [
    "# 49 정수 2개 입력받아 비교하기2\n",
    "x, y = input().split()\n",
    "z = int(x) == int(y)\n",
    "print(z)\n",
    "print(type(z))"
   ]
  },
  {
   "cell_type": "code",
   "execution_count": 67,
   "id": "brilliant-regard",
   "metadata": {},
   "outputs": [
    {
     "name": "stdout",
     "output_type": "stream",
     "text": [
      "4 6\n",
      "True\n"
     ]
    }
   ],
   "source": [
    "# 50 정수 2개 입력받아 비교하기3\n",
    "x, y = input().split()\n",
    "z = int(x) <= int(y)\n",
    "print(z)"
   ]
  },
  {
   "cell_type": "code",
   "execution_count": 68,
   "id": "hybrid-turner",
   "metadata": {},
   "outputs": [
    {
     "name": "stdout",
     "output_type": "stream",
     "text": [
      "4 6\n",
      "True\n"
     ]
    }
   ],
   "source": [
    "# 51 정수 2개 입력받아 비교하기4\n",
    "x, y = input().split()\n",
    "z = int(x) != int(y)\n",
    "print(z)"
   ]
  },
  {
   "cell_type": "code",
   "execution_count": 73,
   "id": "printable-third",
   "metadata": {},
   "outputs": [
    {
     "name": "stdout",
     "output_type": "stream",
     "text": [
      "45\n",
      "False\n"
     ]
    }
   ],
   "source": [
    "# 52 정수 입력받아 참 거짓 평가하기\n",
    "x = input()\n",
    "z = int(x) != 0\n",
    "print(bool(z))"
   ]
  },
  {
   "cell_type": "code",
   "execution_count": 74,
   "id": "conscious-aberdeen",
   "metadata": {},
   "outputs": [
    {
     "name": "stdout",
     "output_type": "stream",
     "text": [
      "0\n",
      "True\n"
     ]
    }
   ],
   "source": [
    "# 53 참 거짓 바꾸기\n",
    "x = bool(int(input()))\n",
    "z = int(x) != 0\n",
    "print(not z)"
   ]
  },
  {
   "cell_type": "code",
   "execution_count": 75,
   "id": "protected-latino",
   "metadata": {},
   "outputs": [
    {
     "name": "stdout",
     "output_type": "stream",
     "text": [
      "1 1\n",
      "True\n"
     ]
    }
   ],
   "source": [
    "# 54 둘 다 참일 경우만 참 출력하기\n",
    "x, y = input().split()\n",
    "z = int(x) != 0 and int(y) != 0\n",
    "print(bool(z))"
   ]
  },
  {
   "cell_type": "code",
   "execution_count": 77,
   "id": "prospective-great",
   "metadata": {},
   "outputs": [
    {
     "name": "stdout",
     "output_type": "stream",
     "text": [
      "0 1\n",
      "True\n"
     ]
    }
   ],
   "source": [
    "# 55 하나라도 참이면 참 출력하기\n",
    "x, y = input().split()\n",
    "z = int(x) != 0\n",
    "a = int(y) != 0\n",
    "print((z and (not a)) or ((not z) and a))"
   ]
  },
  {
   "cell_type": "code",
   "execution_count": 78,
   "id": "medieval-trinity",
   "metadata": {},
   "outputs": [
    {
     "name": "stdout",
     "output_type": "stream",
     "text": [
      "0 1\n",
      "False\n"
     ]
    }
   ],
   "source": [
    "# 56 참/거짓이 서로 같을 때에만 참 출력하기\n",
    "x, y = input().split()\n",
    "z = int(x) != 0\n",
    "a = int(y) != 0\n",
    "print(((not z) and (not a)) or (z and a))"
   ]
  },
  {
   "cell_type": "code",
   "execution_count": 80,
   "id": "bound-circle",
   "metadata": {},
   "outputs": [
    {
     "name": "stdout",
     "output_type": "stream",
     "text": [
      "0 0\n",
      "True\n"
     ]
    }
   ],
   "source": [
    "# 58 둘 다 거짓일 경우만 참 출력하기\n",
    "x, y = input().split()\n",
    "z = int(x) != 0\n",
    "a = int(y) != 0\n",
    "print(not(z or a))"
   ]
  },
  {
   "cell_type": "code",
   "execution_count": null,
   "id": "applied-dispute",
   "metadata": {},
   "outputs": [],
   "source": []
  }
 ],
 "metadata": {
  "kernelspec": {
   "display_name": "aiffel",
   "language": "python",
   "name": "aiffel"
  },
  "language_info": {
   "codemirror_mode": {
    "name": "ipython",
    "version": 3
   },
   "file_extension": ".py",
   "mimetype": "text/x-python",
   "name": "python",
   "nbconvert_exporter": "python",
   "pygments_lexer": "ipython3",
   "version": "3.7.6"
  }
 },
 "nbformat": 4,
 "nbformat_minor": 5
}
