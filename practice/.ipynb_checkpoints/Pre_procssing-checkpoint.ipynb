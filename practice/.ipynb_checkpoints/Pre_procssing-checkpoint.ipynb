{
 "cells": [
  {
   "cell_type": "code",
   "execution_count": 1,
   "id": "educational-madagascar",
   "metadata": {},
   "outputs": [],
   "source": [
    "import os \n",
    "import re \n",
    "from PIL import Image"
   ]
  },
  {
   "cell_type": "code",
   "execution_count": 2,
   "id": "noticed-piano",
   "metadata": {},
   "outputs": [],
   "source": [
    "# mat 삭제\n",
    "def delete_mat(data_list):\n",
    "    for i, data in enumerate(data_list):\n",
    "        basename = os.path.basename(data)\n",
    "        _, file = basename.split(\".\")\n",
    "        \n",
    "        if file == \"mat\":\n",
    "            del data_list[i]\n",
    "    return data_list\n",
    "\n",
    "# 4 channel 삭제 \n",
    "def delete_4_channel(data_list):\n",
    "    for i, data in enumerate(data_list):\n",
    "        image_data = Image.open(data)\n",
    "        mode = image_data.mode\n",
    "        \n",
    "        if mode != \"RGB\":\n",
    "            del data_list[i]\n",
    "    return data_list\n",
    "\n",
    "# 라벨 인코딩\n",
    "def label_encoding(data_list):\n",
    "    # 방법 1\n",
    "    class_list = []\n",
    "    for data in data_list:\n",
    "        basename = os.path.basename(data)\n",
    "        label = os.path.splitext(basename)[0]\n",
    "        \n",
    "        label = re.sub(\"_\\d+\", \"\", label)\n",
    "        \n",
    "        if label in class_list:\n",
    "            continue\n",
    "        else:\n",
    "            class_list.append(label)\n",
    "    class_to_index = { cls : i for i, cls in enumerate(class_list) }\n",
    "    return class_to_index"
   ]
  },
  {
   "cell_type": "code",
   "execution_count": null,
   "id": "assigned-burton",
   "metadata": {},
   "outputs": [],
   "source": []
  }
 ],
 "metadata": {
  "kernelspec": {
   "display_name": "aiffel",
   "language": "python",
   "name": "aiffel"
  },
  "language_info": {
   "codemirror_mode": {
    "name": "ipython",
    "version": 3
   },
   "file_extension": ".py",
   "mimetype": "text/x-python",
   "name": "python",
   "nbconvert_exporter": "python",
   "pygments_lexer": "ipython3",
   "version": "3.7.6"
  }
 },
 "nbformat": 4,
 "nbformat_minor": 5
}
