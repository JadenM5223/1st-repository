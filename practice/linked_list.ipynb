{
 "cells": [
  {
   "cell_type": "markdown",
   "id": "infrared-vatican",
   "metadata": {},
   "source": [
    "# 링크드 리스트"
   ]
  },
  {
   "cell_type": "code",
   "execution_count": 1,
   "id": "spanish-conversation",
   "metadata": {},
   "outputs": [],
   "source": [
    "class Node:\n",
    "    def __init__(self, data, next=None):\n",
    "        self.data = data\n",
    "        self.next = next"
   ]
  },
  {
   "cell_type": "code",
   "execution_count": null,
   "id": "terminal-nerve",
   "metadata": {},
   "outputs": [],
   "source": [
    "class Linked_list:\n",
    "    def __init__(self, data):\n",
    "        self.head = Node(data)\n",
    "        # self.head.data => 어떤 특정 값\n",
    "        # self.head.next => 주소 값 Node(data, next)\n",
    "        \n",
    "    # 링크드 리스트 값 추가\n",
    "    def add(self, data):\n",
    "        if self.head == \"\":\n",
    "            self.head = Node(data)\n",
    "        else:\n",
    "            # head Node(data)\n",
    "            node = self.head\n",
    "            # 연결리스트의 연결 부분\n",
    "            while node.next:\n",
    "                node = node.next\n",
    "            node.next = Node(data, next = None)\n",
    "            \n",
    "    def delete(self, data):\n",
    "        if self.head == \"\":\n",
    "            print (\"빈노드\")\n",
    "        \n",
    "        # 헤드의 값을 지울 때\n",
    "        if self.head.data == data:\n",
    "            self.head = self.head.next\n",
    "        else:\n",
    "            node = self.head\n",
    "            # 모든 노드를 순회하며 값을 찾음"
   ]
  }
 ],
 "metadata": {
  "kernelspec": {
   "display_name": "aiffel",
   "language": "python",
   "name": "aiffel"
  },
  "language_info": {
   "codemirror_mode": {
    "name": "ipython",
    "version": 3
   },
   "file_extension": ".py",
   "mimetype": "text/x-python",
   "name": "python",
   "nbconvert_exporter": "python",
   "pygments_lexer": "ipython3",
   "version": "3.7.6"
  }
 },
 "nbformat": 4,
 "nbformat_minor": 5
}
