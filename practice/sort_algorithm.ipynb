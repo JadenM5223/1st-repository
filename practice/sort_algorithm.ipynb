{
 "cells": [
  {
   "cell_type": "markdown",
   "id": "applied-horror",
   "metadata": {},
   "source": [
    "# 삽입정렬\n",
    "## 2번째 데이터부터 앞에 있는 데이터와 비교하고 삽입하면서 정렬하는 방법"
   ]
  },
  {
   "cell_type": "code",
   "execution_count": 26,
   "id": "every-european",
   "metadata": {},
   "outputs": [],
   "source": [
    "def insertion_sort(sequential_data, ascending=True):\n",
    "    data = sorted_data = sequential_data[:]  \n",
    "    \n",
    "    for i in range(len(data) -1):\n",
    "        # 2번째 인덱스부터 순회 하면서 비교\n",
    "        # 거꾸로 순회\n",
    "        for j in range(i+1, 0, -1):\n",
    "            # 오름차순 or 내림차순\n",
    "            if ascending is True:\n",
    "                # 오름차순 일 때 왼쪽 데이터가 오른쪽 데이터보다 크면 스왑\n",
    "                if data[j] < data[j-1]:\n",
    "                    data[j], data[j-1] = data[j-1], data[j]\n",
    "#                     print(data)\n",
    "                # 아닐 경우에는 정렬이 된 것으로 간주하고 스톱\n",
    "                else:\n",
    "                    break\n",
    "            if ascending is False:\n",
    "                # 내림차순 일 때, 왼쪽의 데이터가 오른쪽 데이터보다 작으면 스왑\n",
    "                if data[j] > data[j-1]:\n",
    "                    data[j], data[j-1] = data[j-1], data[j]\n",
    "#                     print(sequential_data)\n",
    "                else:\n",
    "                    break\n",
    "                \n",
    "    return sorted_data"
   ]
  },
  {
   "cell_type": "code",
   "execution_count": 27,
   "id": "hungry-permission",
   "metadata": {},
   "outputs": [],
   "source": [
    "data = [14, 27, 32, 6, 10, 21, 5, 30, 24, 26]"
   ]
  },
  {
   "cell_type": "code",
   "execution_count": 28,
   "id": "absent-tampa",
   "metadata": {},
   "outputs": [],
   "source": [
    "sorted_data_1 = insertion_sort(data, True)"
   ]
  },
  {
   "cell_type": "code",
   "execution_count": 29,
   "id": "tight-agreement",
   "metadata": {},
   "outputs": [],
   "source": [
    "sorted_data_2 = insertion_sort(data, False)"
   ]
  },
  {
   "cell_type": "code",
   "execution_count": 30,
   "id": "accepting-natural",
   "metadata": {},
   "outputs": [
    {
     "name": "stdout",
     "output_type": "stream",
     "text": [
      "삽입정렬 오름차순 :  [5, 6, 10, 14, 21, 24, 26, 27, 30, 32]\n",
      "삽입정렬 내림차순 :  [32, 30, 27, 26, 24, 21, 14, 10, 6, 5]\n"
     ]
    }
   ],
   "source": [
    "print(\"삽입정렬 오름차순 : \", sorted_data_1)\n",
    "print(\"삽입정렬 내림차순 : \", sorted_data_2)"
   ]
  },
  {
   "cell_type": "markdown",
   "id": "excessive-following",
   "metadata": {},
   "source": [
    "# 선택 정렬\n",
    "## 기준을 잡아 놓고 기준과 비교해서 최솟값의 위치를 찾고 자리를 바꿔가면서 정렬하는 방법"
   ]
  },
  {
   "cell_type": "code",
   "execution_count": 42,
   "id": "presidential-penguin",
   "metadata": {},
   "outputs": [],
   "source": [
    "def selection_sort(sequential_data, ascending=True):\n",
    "    \n",
    "    # 원본의 데이터를 변경하지 않기 위해 새로운 변수 만들기\n",
    "    data = sequential_data[:]\n",
    "    \n",
    "    # 첫번째 기준은 가장 앞에 있는 데이터\n",
    "    for point in range(len(data) -1):\n",
    "        min_or_max_index = point\n",
    "        # 기준점 다음부터 비교를 시작함\n",
    "        for i in range(point+1, len(data)):\n",
    "            # 오름차순\n",
    "            if ascending is True:\n",
    "                if data[min_or_max_index] > data[i]:\n",
    "                    min_or_max_index = i\n",
    "            # 내림차순\n",
    "            elif ascending is False:\n",
    "                if data[min_or_max_index] < data[i]:\n",
    "                    min_or_max_index = i\n",
    "        data[min_or_max_index], data[point] = data[point], data[min_or_max_index]\n",
    "    return data"
   ]
  },
  {
   "cell_type": "code",
   "execution_count": 48,
   "id": "induced-joint",
   "metadata": {},
   "outputs": [],
   "source": [
    "sorted_data_3 = selection_sort(data, True)"
   ]
  },
  {
   "cell_type": "code",
   "execution_count": 49,
   "id": "acknowledged-knock",
   "metadata": {},
   "outputs": [],
   "source": [
    "sorted_data_4 = selection_sort(data, False)"
   ]
  },
  {
   "cell_type": "code",
   "execution_count": 50,
   "id": "considered-medication",
   "metadata": {},
   "outputs": [
    {
     "name": "stdout",
     "output_type": "stream",
     "text": [
      "선택정렬 오름차순 : [5, 6, 10, 14, 21, 24, 26, 27, 30, 32]\n",
      "선택정렬 내림차순 : [32, 30, 27, 26, 24, 21, 14, 10, 6, 5]\n"
     ]
    }
   ],
   "source": [
    "print(\"선택정렬 오름차순 :\", sorted_data_3)\n",
    "print(\"선택정렬 내림차순 :\", sorted_data_4)"
   ]
  },
  {
   "cell_type": "markdown",
   "id": "democratic-washer",
   "metadata": {},
   "source": [
    "# 버블 정렬\n",
    "## 바로 다음 데이터와 비교하여 정렬하는 방법"
   ]
  },
  {
   "cell_type": "code",
   "execution_count": 56,
   "id": "comparative-motor",
   "metadata": {},
   "outputs": [],
   "source": [
    "def bubble_sort(sequential_data, ascending=True):\n",
    "    \n",
    "    # 원본의 데이터를 변경하지 않기 위해 새로운 변수 만들기\n",
    "    data = sequential_data[:]\n",
    "    \n",
    "    for i in range(len(data) -1):\n",
    "        swap = False\n",
    "        \n",
    "        for j in range(len(data) -i -1):\n",
    "            # 오름차순\n",
    "            if ascending is True:\n",
    "                if data[j] > data[j+1]:\n",
    "                    data[j], data[j+1] = data[j+1], data[j]\n",
    "                    swap = True\n",
    "            elif ascending is False:\n",
    "                if data[j] < data[j+1]:\n",
    "                    data[j], data[j+1] = data[j+1], data[j]\n",
    "                    swap = True\n",
    "        if swap is False:\n",
    "            break\n",
    "    \n",
    "    return data"
   ]
  },
  {
   "cell_type": "code",
   "execution_count": 61,
   "id": "authentic-appointment",
   "metadata": {},
   "outputs": [],
   "source": [
    "import random"
   ]
  },
  {
   "cell_type": "code",
   "execution_count": 63,
   "id": "bibliographic-thousand",
   "metadata": {},
   "outputs": [],
   "source": [
    "sorted_data_5 = bubble_sort(data, True)"
   ]
  },
  {
   "cell_type": "code",
   "execution_count": 64,
   "id": "rental-spray",
   "metadata": {},
   "outputs": [],
   "source": [
    "sorted_data_6 = bubble_sort(data, False)"
   ]
  },
  {
   "cell_type": "code",
   "execution_count": 65,
   "id": "equal-blair",
   "metadata": {},
   "outputs": [
    {
     "name": "stdout",
     "output_type": "stream",
     "text": [
      "버블정렬 오름차순 :  [5, 6, 10, 14, 21, 24, 26, 27, 30, 32]\n",
      "버블정렬 내림차순 :  [32, 30, 27, 26, 24, 21, 14, 10, 6, 5]\n"
     ]
    }
   ],
   "source": [
    "print(\"버블정렬 오름차순 : \", sorted_data_5)\n",
    "print(\"버블정렬 내림차순 : \", sorted_data_6)"
   ]
  },
  {
   "cell_type": "code",
   "execution_count": 73,
   "id": "applied-gnome",
   "metadata": {},
   "outputs": [],
   "source": [
    "data_2 = random.sample(range(50000), 10000)"
   ]
  },
  {
   "cell_type": "code",
   "execution_count": 74,
   "id": "illegal-dairy",
   "metadata": {},
   "outputs": [
    {
     "name": "stdout",
     "output_type": "stream",
     "text": [
      "CPU times: user 4.67 s, sys: 0 ns, total: 4.67 s\n",
      "Wall time: 4.67 s\n"
     ]
    }
   ],
   "source": [
    "%%time\n",
    "sort_1 = insertion_sort(data_2)"
   ]
  },
  {
   "cell_type": "code",
   "execution_count": 75,
   "id": "stupid-links",
   "metadata": {},
   "outputs": [
    {
     "name": "stdout",
     "output_type": "stream",
     "text": [
      "CPU times: user 3.26 s, sys: 0 ns, total: 3.26 s\n",
      "Wall time: 3.26 s\n"
     ]
    }
   ],
   "source": [
    "%%time\n",
    "sort_2 = selection_sort(data_2)"
   ]
  },
  {
   "cell_type": "code",
   "execution_count": 76,
   "id": "sweet-boundary",
   "metadata": {},
   "outputs": [
    {
     "name": "stdout",
     "output_type": "stream",
     "text": [
      "CPU times: user 6.9 s, sys: 0 ns, total: 6.9 s\n",
      "Wall time: 6.9 s\n"
     ]
    }
   ],
   "source": [
    "%%time\n",
    "sort_3 = bubble_sort(data_2)"
   ]
  },
  {
   "cell_type": "code",
   "execution_count": null,
   "id": "baking-philadelphia",
   "metadata": {},
   "outputs": [],
   "source": []
  }
 ],
 "metadata": {
  "kernelspec": {
   "display_name": "aiffel",
   "language": "python",
   "name": "aiffel"
  },
  "language_info": {
   "codemirror_mode": {
    "name": "ipython",
    "version": 3
   },
   "file_extension": ".py",
   "mimetype": "text/x-python",
   "name": "python",
   "nbconvert_exporter": "python",
   "pygments_lexer": "ipython3",
   "version": "3.7.6"
  }
 },
 "nbformat": 4,
 "nbformat_minor": 5
}
