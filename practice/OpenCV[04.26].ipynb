{
 "cells": [
  {
   "cell_type": "markdown",
   "id": "banned-standing",
   "metadata": {},
   "source": [
    "# 이미지 변형"
   ]
  },
  {
   "cell_type": "markdown",
   "id": "innovative-module",
   "metadata": {},
   "source": [
    "## 1. 색상 공간 변환"
   ]
  },
  {
   "cell_type": "markdown",
   "id": "public-reply",
   "metadata": {},
   "source": [
    "-색상 공간 변환은 본래의 색상 공간에서 다른 색상 공간으로 변환할 때 사용한다.   \n",
    "-색상 공간 변환 함수는 데이터 타입을 같게 유지하고 채널을 변환한다.   \n",
    "-채널의 수가 감소하게 되어 이미지 내부의 데이터는 설정한 색상 공간과 일치하는 값으로 변환되며, 데이터 값이 변경되거나 채널 순서가 변경될 수 있다."
   ]
  },
  {
   "cell_type": "markdown",
   "id": "prepared-telescope",
   "metadata": {},
   "source": [
    "### Q1. python opencv의 색상 공간 변환 함수는 어떻게 생겼나요?"
   ]
  },
  {
   "cell_type": "code",
   "execution_count": null,
   "id": "double-springfield",
   "metadata": {},
   "outputs": [],
   "source": [
    "dst = cv2.cvtColor(\n",
    "    src,\n",
    "    code,\n",
    "    dstCn = None\n",
    ")"
   ]
  },
  {
   "cell_type": "markdown",
   "id": "portuguese-glance",
   "metadata": {},
   "source": [
    "-색상 변환 코드(code)를 사용해 BGR 색상 공간을 RGBA 색상 공간으로 변환하거나 그레이스케일, HSV, CIE Luv 등 단일 채널부터 3채널, 4채널의 색상 공간으로도 변환이 가능하다."
   ]
  },
  {
   "cell_type": "markdown",
   "id": "previous-gravity",
   "metadata": {},
   "source": [
    "### Q2. 예제 5.2와 표 5.1을 참고하여, 하나의 이미지를 불러온 후 색상 공간을 변환해보세요."
   ]
  },
  {
   "cell_type": "code",
   "execution_count": 3,
   "id": "lesser-scale",
   "metadata": {},
   "outputs": [],
   "source": [
    "import cv2\n",
    "\n",
    "src = cv2.imread(\"crow.jpg\")\n",
    "dst = cv2.cvtColor(src, cv2.COLOR_BGR2HSV)\n",
    "\n",
    "cv2.imshow(\"dst\", dst)\n",
    "cv2.waitKey(0)\n",
    "cv2.destroyAllWindows()"
   ]
  },
  {
   "cell_type": "markdown",
   "id": "federal-eligibility",
   "metadata": {},
   "source": [
    "-예제 5.2는 다중 채널 색상 이미지에서 다중 채널 색상 이미지(HSV)로 변환하는 예제다.   \n",
    "-HSV는 Hue, Saturation, Value의 약어로서 각각 색상, 채도, 명도를 의미한다."
   ]
  },
  {
   "cell_type": "code",
   "execution_count": null,
   "id": "relevant-manual",
   "metadata": {},
   "outputs": [],
   "source": []
  }
 ],
 "metadata": {
  "kernelspec": {
   "display_name": "aiffel",
   "language": "python",
   "name": "aiffel"
  },
  "language_info": {
   "codemirror_mode": {
    "name": "ipython",
    "version": 3
   },
   "file_extension": ".py",
   "mimetype": "text/x-python",
   "name": "python",
   "nbconvert_exporter": "python",
   "pygments_lexer": "ipython3",
   "version": "3.7.6"
  }
 },
 "nbformat": 4,
 "nbformat_minor": 5
}
