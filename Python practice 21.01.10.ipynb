{
 "cells": [
  {
   "cell_type": "markdown",
   "metadata": {},
   "source": [
    "# $$python-practice$$"
   ]
  },
  {
   "cell_type": "markdown",
   "metadata": {},
   "source": []
  },
  {
   "cell_type": "markdown",
   "metadata": {},
   "source": [
    "### if 함수"
   ]
  },
  {
   "cell_type": "code",
   "execution_count": 11,
   "metadata": {},
   "outputs": [
    {
     "name": "stdout",
     "output_type": "stream",
     "text": [
      "시리야 오늘 날씨 알려줘d\n",
      "알아서 챙겨 나가세요\n",
      "시리야 오늘 날씨 알려줘35\n",
      "엄청 습할 예정입니다\n"
     ]
    }
   ],
   "source": [
    "weather = input(\"시리야 오늘 날씨 알려줘\") # input 함수를 넣으면 해당 함수의 결과값을 입력할 수 있는 창이 생성된다.\n",
    "if weather == \"눈\":\n",
    "    print (\"따뜻하게 입고 외출하세요\")\n",
    "elif weather == \"비\":\n",
    "    print (\"엄청 습할 예정입니다\")\n",
    "else:     # 해당하는 조건이 없다면 else의 결과를 출력\n",
    "    print (\"알아서 챙겨 나가세요\")\n",
    "    \n",
    "weather = int(input(\"시리야 오늘 날씨 알려줘\")) # 정수 형태의 결과값을 얻고 싶으면  input 함수를 int 함수로 감싸준다.\n",
    "if weather == -12:\n",
    "    print (\"따뜻하게 입고 외출하세요\")\n",
    "elif weather == 35:\n",
    "    print (\"엄청 습할 예정입니다\")\n",
    "else:     # 해당하는 조건이 없다면 else의 결과를 출력\n",
    "    print (\"알아서 챙겨 나가세요\")"
   ]
  },
  {
   "cell_type": "markdown",
   "metadata": {},
   "source": []
  },
  {
   "cell_type": "markdown",
   "metadata": {},
   "source": [
    "### for (반복문)"
   ]
  },
  {
   "cell_type": "code",
   "execution_count": 18,
   "metadata": {},
   "outputs": [
    {
     "name": "stdout",
     "output_type": "stream",
     "text": [
      "Agency: 1\n",
      "Agency: 2\n",
      "Agency: 3\n",
      "Agency: 4\n",
      "Agency: 5\n",
      "Agency: 6\n",
      "Agency: 7\n",
      "Agency: 8\n",
      "Agency: 9\n",
      "Agency: 10\n",
      "Agency: 11\n",
      "Agency: 12\n"
     ]
    }
   ],
   "source": [
    "for agency in range(1, 13):  # for 함수를 쓰면 리스트 내의 값을 모두 출력한다.\n",
    "                             # range 함수를 추가하면 범위를 지정할 수 있다.\n",
    "    print (\"Agency: {}\".format(agency))\n"
   ]
  },
  {
   "cell_type": "code",
   "execution_count": 19,
   "metadata": {},
   "outputs": [
    {
     "name": "stdout",
     "output_type": "stream",
     "text": [
      "스타크님, 자동차 출고가 완료 되었습니다\n",
      "스트레인지님, 자동차 출고가 완료 되었습니다\n",
      "로저스님, 자동차 출고가 완료 되었습니다\n"
     ]
    }
   ],
   "source": [
    "carshop = [\"스타크\", \"스트레인지\", \"로저스\"]\n",
    "for hero in carshop:\n",
    "    print (\"{}님, 자동차 출고가 완료 되었습니다\".format(hero))"
   ]
  },
  {
   "cell_type": "markdown",
   "metadata": {},
   "source": []
  },
  {
   "cell_type": "markdown",
   "metadata": {},
   "source": [
    "### while(반복문)"
   ]
  },
  {
   "cell_type": "code",
   "execution_count": 36,
   "metadata": {},
   "outputs": [
    {
     "name": "stdout",
     "output_type": "stream",
     "text": [
      "Tony Stark님, 자동차 출고가 완료되었습니다. 5번 더 부를 때까지 안오시면 차를 폐차 시키겠습니다\n",
      "Tony Stark님, 자동차 출고가 완료되었습니다. 4번 더 부를 때까지 안오시면 차를 폐차 시키겠습니다\n",
      "Tony Stark님, 자동차 출고가 완료되었습니다. 3번 더 부를 때까지 안오시면 차를 폐차 시키겠습니다\n",
      "Tony Stark님, 자동차 출고가 완료되었습니다. 2번 더 부를 때까지 안오시면 차를 폐차 시키겠습니다\n",
      "Tony Stark님, 자동차 출고가 완료되었습니다. 1번 더 부를 때까지 안오시면 차를 폐차 시키겠습니다\n",
      "Tony Stark님, 당신의 자동차는 하늘나라에 가는 경로로 들어섰습니다.\n"
     ]
    }
   ],
   "source": [
    "hero = \"Tony Stark\"\n",
    "index = 5\n",
    "while index >= 1:\n",
    "    print(\"{}님, 자동차 출고가 완료되었습니다. {}번 더 부를 때까지 안오시면 차를 폐차 시키겠습니다\".format(hero, index))\n",
    "    index -= 1\n",
    "    if index == 0:\n",
    "        print (\"{}님, 당신의 자동차는 하늘나라에 가는 경로로 들어섰습니다.\".format(hero))"
   ]
  },
  {
   "cell_type": "code",
   "execution_count": 37,
   "metadata": {},
   "outputs": [
    {
     "name": "stdout",
     "output_type": "stream",
     "text": [
      "Tony Stark님, 자동차 출고가 완료되었습니다. 친구 데려오시면 차 폐차 시킵니다.\n",
      "성함이 어떻게 되시는지요?닥터스트레인지\n",
      "Tony Stark님, 자동차 출고가 완료되었습니다. 친구 데려오시면 차 폐차 시킵니다.\n",
      "성함이 어떻게 되시는지요?토르\n",
      "Tony Stark님, 자동차 출고가 완료되었습니다. 친구 데려오시면 차 폐차 시킵니다.\n",
      "성함이 어떻게 되시는지요?thor!\n",
      "Tony Stark님, 자동차 출고가 완료되었습니다. 친구 데려오시면 차 폐차 시킵니다.\n",
      "성함이 어떻게 되시는지요?전능하신 오딘 손이다!\n",
      "Tony Stark님, 자동차 출고가 완료되었습니다. 친구 데려오시면 차 폐차 시킵니다.\n",
      "성함이 어떻게 되시는지요?네이놈!\n",
      "Tony Stark님, 자동차 출고가 완료되었습니다. 친구 데려오시면 차 폐차 시킵니다.\n",
      "성함이 어떻게 되시는지요?Tony Stark\n"
     ]
    }
   ],
   "source": [
    "hero = \"Tony Stark\"\n",
    "hero2 = \"strange\"\n",
    "\n",
    "while hero2 != hero:\n",
    "    print (\"{0}님, 자동차 출고가 완료되었습니다. 친구 데려오시면 차 폐차 시킵니다.\".format(hero))\n",
    "    hero2 = input(\"성함이 어떻게 되시는지요?\") # 정답이 나올 때까지 해당 구문을 계속 반복"
   ]
  },
  {
   "cell_type": "markdown",
   "metadata": {},
   "source": []
  },
  {
   "cell_type": "markdown",
   "metadata": {},
   "source": [
    "### continue 와 break"
   ]
  },
  {
   "cell_type": "code",
   "execution_count": 34,
   "metadata": {},
   "outputs": [
    {
     "name": "stdout",
     "output_type": "stream",
     "text": [
      "1호 참가자님, 나와서 목청을 자랑하세요!\n",
      "2호 참가자님, 나와서 목청을 자랑하세요!\n",
      "4호 참가자님, 나와서 목청을 자랑하세요!\n",
      "6호 참가자님, 나와서 목청을 자랑하세요!\n",
      "7호 참가자님, 나와서 목청을 자랑하세요!\n",
      "8호 참가자님, 나와서 목청을 자랑하세요!\n",
      "9호 참가자님, 나와서 목청을 자랑하세요!\n",
      "잠깐만요! 10호님에게 슈퍼패스 사용하도록 하겠습니다!\n"
     ]
    }
   ],
   "source": [
    "cancel = [3, 5]\n",
    "superpass = [10]\n",
    "\n",
    "for participant in range(1, 13):\n",
    "    if participant in cancel:\n",
    "        continue\n",
    "    elif participant in superpass:\n",
    "        print (\"잠깐만요! {}호님에게 슈퍼패스 사용하도록 하겠습니다!\".format(participant))\n",
    "        break\n",
    "    print (\"{}호 참가자님, 나와서 목청을 자랑하세요!\".format(participant))"
   ]
  },
  {
   "cell_type": "markdown",
   "metadata": {},
   "source": []
  },
  {
   "cell_type": "markdown",
   "metadata": {},
   "source": [
    "### for 문 변형"
   ]
  },
  {
   "cell_type": "code",
   "execution_count": 46,
   "metadata": {},
   "outputs": [
    {
     "name": "stdout",
     "output_type": "stream",
     "text": [
      "[101, 102, 103, 104, 105]\n",
      "[10, 14, 14]\n"
     ]
    }
   ],
   "source": [
    "part = [1, 2, 3, 4, 5]\n",
    "\n",
    "part = [i+100 for i in part] # part 값들에 100을 더해서 출력\n",
    "print (part)\n",
    "\n",
    "\n",
    "part = [\"tony stark\", \"Steven strange\", \"winter soldier\" ]\n",
    "\n",
    "part = [len(i) for i in part] # part 값들의 글자수를 출력\n",
    "print (part)\n",
    "\n"
   ]
  },
  {
   "cell_type": "code",
   "execution_count": 45,
   "metadata": {},
   "outputs": [
    {
     "name": "stdout",
     "output_type": "stream",
     "text": [
      "['TONY STARK', 'STEVEN STRANGE', 'WINTER SOLDIER']\n"
     ]
    }
   ],
   "source": [
    "part = [\"tony stark\", \"Steven strange\", \"winter soldier\" ]\n",
    "\n",
    "part = [i.upper() for i in part]\n",
    "print (part)"
   ]
  },
  {
   "cell_type": "code",
   "execution_count": null,
   "metadata": {},
   "outputs": [],
   "source": []
  }
 ],
 "metadata": {
  "kernelspec": {
   "display_name": "Python 3",
   "language": "python",
   "name": "python3"
  },
  "language_info": {
   "codemirror_mode": {
    "name": "ipython",
    "version": 3
   },
   "file_extension": ".py",
   "mimetype": "text/x-python",
   "name": "python",
   "nbconvert_exporter": "python",
   "pygments_lexer": "ipython3",
   "version": "3.7.9"
  }
 },
 "nbformat": 4,
 "nbformat_minor": 4
}
