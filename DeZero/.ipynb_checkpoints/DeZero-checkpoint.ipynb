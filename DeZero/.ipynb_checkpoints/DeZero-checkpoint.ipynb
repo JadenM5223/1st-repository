{
 "cells": [
  {
   "cell_type": "markdown",
   "id": "informal-thunder",
   "metadata": {},
   "source": [
    "# $제 1고지$"
   ]
  },
  {
   "cell_type": "markdown",
   "id": "unauthorized-sitting",
   "metadata": {},
   "source": []
  },
  {
   "cell_type": "markdown",
   "id": "worldwide-living",
   "metadata": {},
   "source": [
    "## Step1. 상자로서의 변수"
   ]
  },
  {
   "cell_type": "markdown",
   "id": "inappropriate-hammer",
   "metadata": {},
   "source": [
    "### Variable 클래스 구현"
   ]
  },
  {
   "cell_type": "code",
   "execution_count": 21,
   "id": "weighted-child",
   "metadata": {},
   "outputs": [],
   "source": [
    "class Variable:\n",
    "    def __init__(self,data):\n",
    "        self.data = data"
   ]
  },
  {
   "cell_type": "code",
   "execution_count": 22,
   "id": "cognitive-burden",
   "metadata": {},
   "outputs": [
    {
     "name": "stdout",
     "output_type": "stream",
     "text": [
      "1.0\n"
     ]
    }
   ],
   "source": [
    "import numpy as np\n",
    "\n",
    "data = np.array(1.0)\n",
    "x = Variable(data)\n",
    "print (x.data)"
   ]
  },
  {
   "cell_type": "code",
   "execution_count": 23,
   "id": "hearing-permit",
   "metadata": {},
   "outputs": [
    {
     "name": "stdout",
     "output_type": "stream",
     "text": [
      "2.0\n"
     ]
    }
   ],
   "source": [
    "x.data = np.array(2.0)\n",
    "print (x.data)"
   ]
  },
  {
   "cell_type": "markdown",
   "id": "alive-merchandise",
   "metadata": {},
   "source": []
  },
  {
   "cell_type": "markdown",
   "id": "civilian-advertiser",
   "metadata": {},
   "source": [
    "## Step2. 변수를 낳는 함수"
   ]
  },
  {
   "cell_type": "markdown",
   "id": "continuous-titanium",
   "metadata": {},
   "source": [
    "### Function 클래스 구현"
   ]
  },
  {
   "cell_type": "code",
   "execution_count": 24,
   "id": "vocational-stone",
   "metadata": {},
   "outputs": [],
   "source": [
    "class Function:\n",
    "    def __call__(self, input):\n",
    "        x = input.data # 데이터를 꺼낸디\n",
    "        y = x**2 # 실제 계산\n",
    "        output = Variable(y) # Variable 형대로 되돌린다.\n",
    "        return output"
   ]
  },
  {
   "cell_type": "markdown",
   "id": "collaborative-oakland",
   "metadata": {},
   "source": [
    "### Function 클래스 이용"
   ]
  },
  {
   "cell_type": "code",
   "execution_count": 25,
   "id": "generic-darwin",
   "metadata": {},
   "outputs": [
    {
     "name": "stdout",
     "output_type": "stream",
     "text": [
      "<class '__main__.Variable'>\n",
      "100\n"
     ]
    }
   ],
   "source": [
    "x = Variable(np.array(10))\n",
    "f = Function()\n",
    "y = f(x)\n",
    "\n",
    "print (type(y))\n",
    "print (y.data)"
   ]
  },
  {
   "cell_type": "code",
   "execution_count": 26,
   "id": "quantitative-portland",
   "metadata": {},
   "outputs": [],
   "source": [
    "# Function 클래스 수정\n",
    "class Function:\n",
    "    def __call__(self, input):\n",
    "        x = input.data\n",
    "        y = self.forward(x)\n",
    "        output = Variable(y)\n",
    "        return output\n",
    "    \n",
    "    def forward(self, x):\n",
    "        raise NotImplementedError()"
   ]
  },
  {
   "cell_type": "code",
   "execution_count": 27,
   "id": "seven-great",
   "metadata": {},
   "outputs": [],
   "source": [
    "# Function 클래스를 상속받음\n",
    "class Square(Function):\n",
    "    def forward(self, x):\n",
    "        return x**2"
   ]
  },
  {
   "cell_type": "code",
   "execution_count": 28,
   "id": "atmospheric-absolute",
   "metadata": {},
   "outputs": [
    {
     "name": "stdout",
     "output_type": "stream",
     "text": [
      "<class '__main__.Variable'>\n",
      "100\n"
     ]
    }
   ],
   "source": [
    "x = Variable(np.array(10))\n",
    "f = Square()\n",
    "y = f(x)\n",
    "\n",
    "print (type(y))\n",
    "print (y.data)"
   ]
  },
  {
   "cell_type": "markdown",
   "id": "wicked-nightmare",
   "metadata": {},
   "source": []
  },
  {
   "cell_type": "markdown",
   "id": "worth-purse",
   "metadata": {},
   "source": [
    "## Step3. 함수연결"
   ]
  },
  {
   "cell_type": "markdown",
   "id": "negative-sponsorship",
   "metadata": {},
   "source": [
    "### Exp 함수 구현"
   ]
  },
  {
   "cell_type": "code",
   "execution_count": 29,
   "id": "addressed-graphic",
   "metadata": {},
   "outputs": [],
   "source": [
    "class Exp(Funtion):\n",
    "    def forward(self, x):\n",
    "        return np.exp(x)"
   ]
  },
  {
   "cell_type": "markdown",
   "id": "satisfied-undergraduate",
   "metadata": {},
   "source": [
    "## 함수 연결"
   ]
  },
  {
   "cell_type": "code",
   "execution_count": 30,
   "id": "above-listening",
   "metadata": {},
   "outputs": [
    {
     "name": "stdout",
     "output_type": "stream",
     "text": [
      "0.00390625\n"
     ]
    }
   ],
   "source": [
    "A = Square()\n",
    "B = Exp()\n",
    "C = Square()\n",
    "\n",
    "x = Variable(np.array(0.5))\n",
    "a = A(x)\n",
    "b = B(a)\n",
    "y = C(b)\n",
    "\n",
    "print(y.data)"
   ]
  },
  {
   "cell_type": "markdown",
   "id": "several-prefix",
   "metadata": {},
   "source": []
  },
  {
   "cell_type": "markdown",
   "id": "stupid-toilet",
   "metadata": {},
   "source": [
    "## Step4. 수치 미분"
   ]
  },
  {
   "cell_type": "markdown",
   "id": "behavioral-vocabulary",
   "metadata": {},
   "source": [
    "### 수치 미분 구현"
   ]
  },
  {
   "cell_type": "code",
   "execution_count": 33,
   "id": "photographic-search",
   "metadata": {},
   "outputs": [],
   "source": [
    "def numerical_diff(f, x, eps=1e-4):\n",
    "    x0 = Variable(x.data - eps)\n",
    "    x1 = Variable(x.data + eps)\n",
    "    y0 = f(x0)\n",
    "    y1 = f(x1)\n",
    "    return (y1.data - y0.data) / (2*eps)"
   ]
  },
  {
   "cell_type": "code",
   "execution_count": 34,
   "id": "static-employment",
   "metadata": {},
   "outputs": [
    {
     "name": "stdout",
     "output_type": "stream",
     "text": [
      "4.000000000004\n"
     ]
    }
   ],
   "source": [
    "f = Square()\n",
    "x = Variable(np.array(2.0))\n",
    "dy = numerical_diff(f, x)\n",
    "print (dy)"
   ]
  },
  {
   "cell_type": "markdown",
   "id": "martial-innocent",
   "metadata": {},
   "source": [
    "### 합성 함수의 미분"
   ]
  },
  {
   "cell_type": "code",
   "execution_count": 35,
   "id": "average-thumb",
   "metadata": {},
   "outputs": [
    {
     "name": "stdout",
     "output_type": "stream",
     "text": [
      "0.0625000174999963\n"
     ]
    }
   ],
   "source": [
    "def f(x):\n",
    "    A = Square()\n",
    "    B = Exp()\n",
    "    C = Square()\n",
    "    return C(B(A(x)))\n",
    "\n",
    "x = Variable(np.array(0.5))\n",
    "dy = numerical_diff(f, x)\n",
    "print (dy)"
   ]
  },
  {
   "cell_type": "code",
   "execution_count": null,
   "id": "stylish-syria",
   "metadata": {},
   "outputs": [],
   "source": []
  }
 ],
 "metadata": {
  "kernelspec": {
   "display_name": "aiffel",
   "language": "python",
   "name": "aiffel"
  },
  "language_info": {
   "codemirror_mode": {
    "name": "ipython",
    "version": 3
   },
   "file_extension": ".py",
   "mimetype": "text/x-python",
   "name": "python",
   "nbconvert_exporter": "python",
   "pygments_lexer": "ipython3",
   "version": "3.7.6"
  }
 },
 "nbformat": 4,
 "nbformat_minor": 5
}
