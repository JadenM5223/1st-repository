{
 "cells": [
  {
   "cell_type": "markdown",
   "id": "informal-thunder",
   "metadata": {},
   "source": [
    "# $제 1고지$"
   ]
  },
  {
   "cell_type": "markdown",
   "id": "unauthorized-sitting",
   "metadata": {},
   "source": []
  },
  {
   "cell_type": "markdown",
   "id": "worldwide-living",
   "metadata": {},
   "source": [
    "## Step1. 상자로서의 변수"
   ]
  },
  {
   "cell_type": "markdown",
   "id": "inappropriate-hammer",
   "metadata": {},
   "source": [
    "### Variable 클래스 구현"
   ]
  },
  {
   "cell_type": "code",
   "execution_count": 15,
   "id": "weighted-child",
   "metadata": {},
   "outputs": [],
   "source": [
    "class Variable:\n",
    "    def __init__(self,data):\n",
    "        self.data = data"
   ]
  },
  {
   "cell_type": "code",
   "execution_count": 16,
   "id": "cognitive-burden",
   "metadata": {},
   "outputs": [
    {
     "name": "stdout",
     "output_type": "stream",
     "text": [
      "1.0\n"
     ]
    }
   ],
   "source": [
    "import numpy as np\n",
    "\n",
    "data = np.array(1.0)\n",
    "x = Variable(data)\n",
    "print (x.data)"
   ]
  },
  {
   "cell_type": "code",
   "execution_count": 17,
   "id": "hearing-permit",
   "metadata": {},
   "outputs": [
    {
     "name": "stdout",
     "output_type": "stream",
     "text": [
      "2.0\n"
     ]
    }
   ],
   "source": [
    "x.data = np.array(2.0)\n",
    "print (x.data)"
   ]
  },
  {
   "cell_type": "markdown",
   "id": "alive-merchandise",
   "metadata": {},
   "source": []
  },
  {
   "cell_type": "markdown",
   "id": "civilian-advertiser",
   "metadata": {},
   "source": [
    "## Step2. 변수를 낳는 함수"
   ]
  },
  {
   "cell_type": "markdown",
   "id": "continuous-titanium",
   "metadata": {},
   "source": [
    "### Function 클래스 구현"
   ]
  },
  {
   "cell_type": "code",
   "execution_count": 18,
   "id": "vocational-stone",
   "metadata": {},
   "outputs": [],
   "source": [
    "class Function:\n",
    "    def __call__(self, input):\n",
    "        x = input.data # 데이터를 꺼낸디\n",
    "        y = x**2 # 실제 계산\n",
    "        output = Variable(y) # Variable 형대로 되돌린다.\n",
    "        return output"
   ]
  },
  {
   "cell_type": "markdown",
   "id": "collaborative-oakland",
   "metadata": {},
   "source": [
    "### Function 클래스 이용"
   ]
  },
  {
   "cell_type": "code",
   "execution_count": 19,
   "id": "generic-darwin",
   "metadata": {},
   "outputs": [
    {
     "name": "stdout",
     "output_type": "stream",
     "text": [
      "<class '__main__.Variable'>\n",
      "100\n"
     ]
    }
   ],
   "source": [
    "x = Variable(np.array(10))\n",
    "f = Function()\n",
    "y = f(x)\n",
    "\n",
    "print (type(y))\n",
    "print (y.data)"
   ]
  },
  {
   "cell_type": "code",
   "execution_count": 20,
   "id": "quantitative-portland",
   "metadata": {},
   "outputs": [],
   "source": [
    "# Function 클래스 수정\n",
    "class Function:\n",
    "    def __call__(self, input):\n",
    "        x = input.data\n",
    "        y = self.forward(x)\n",
    "        output = Variable(y)\n",
    "        return output\n",
    "    \n",
    "    def forward(self, x):\n",
    "        raise NotImplementedError()"
   ]
  },
  {
   "cell_type": "code",
   "execution_count": 21,
   "id": "seven-great",
   "metadata": {},
   "outputs": [],
   "source": [
    "# Function 클래스를 상속받음\n",
    "class Square(Function):\n",
    "    def forward(self, x):\n",
    "        return x**2"
   ]
  },
  {
   "cell_type": "code",
   "execution_count": 22,
   "id": "atmospheric-absolute",
   "metadata": {},
   "outputs": [
    {
     "name": "stdout",
     "output_type": "stream",
     "text": [
      "<class '__main__.Variable'>\n",
      "100\n"
     ]
    }
   ],
   "source": [
    "x = Variable(np.array(10))\n",
    "f = Square()\n",
    "y = f(x)\n",
    "\n",
    "print (type(y))\n",
    "print (y.data)"
   ]
  },
  {
   "cell_type": "markdown",
   "id": "wicked-nightmare",
   "metadata": {},
   "source": []
  },
  {
   "cell_type": "markdown",
   "id": "worth-purse",
   "metadata": {},
   "source": [
    "## Step3. 함수연결"
   ]
  },
  {
   "cell_type": "markdown",
   "id": "negative-sponsorship",
   "metadata": {},
   "source": [
    "### Exp 함수 구현"
   ]
  },
  {
   "cell_type": "code",
   "execution_count": 23,
   "id": "addressed-graphic",
   "metadata": {},
   "outputs": [
    {
     "ename": "NameError",
     "evalue": "name 'Funtion' is not defined",
     "output_type": "error",
     "traceback": [
      "\u001b[0;31m---------------------------------------------------------------------------\u001b[0m",
      "\u001b[0;31mNameError\u001b[0m                                 Traceback (most recent call last)",
      "\u001b[0;32m<ipython-input-23-d6a8bd84d630>\u001b[0m in \u001b[0;36m<module>\u001b[0;34m\u001b[0m\n\u001b[0;32m----> 1\u001b[0;31m \u001b[0;32mclass\u001b[0m \u001b[0mExp\u001b[0m\u001b[0;34m(\u001b[0m\u001b[0mFuntion\u001b[0m\u001b[0;34m)\u001b[0m\u001b[0;34m:\u001b[0m\u001b[0;34m\u001b[0m\u001b[0;34m\u001b[0m\u001b[0m\n\u001b[0m\u001b[1;32m      2\u001b[0m     \u001b[0;32mdef\u001b[0m \u001b[0mforward\u001b[0m\u001b[0;34m(\u001b[0m\u001b[0mself\u001b[0m\u001b[0;34m,\u001b[0m \u001b[0mx\u001b[0m\u001b[0;34m)\u001b[0m\u001b[0;34m:\u001b[0m\u001b[0;34m\u001b[0m\u001b[0;34m\u001b[0m\u001b[0m\n\u001b[1;32m      3\u001b[0m         \u001b[0;32mreturn\u001b[0m \u001b[0mnp\u001b[0m\u001b[0;34m.\u001b[0m\u001b[0mexp\u001b[0m\u001b[0;34m(\u001b[0m\u001b[0mx\u001b[0m\u001b[0;34m)\u001b[0m\u001b[0;34m\u001b[0m\u001b[0;34m\u001b[0m\u001b[0m\n",
      "\u001b[0;31mNameError\u001b[0m: name 'Funtion' is not defined"
     ]
    }
   ],
   "source": [
    "class Exp(Funtion):\n",
    "    def forward(self, x):\n",
    "        return np.exp(x)"
   ]
  },
  {
   "cell_type": "markdown",
   "id": "satisfied-undergraduate",
   "metadata": {},
   "source": [
    "## 함수 연결"
   ]
  },
  {
   "cell_type": "code",
   "execution_count": null,
   "id": "above-listening",
   "metadata": {},
   "outputs": [],
   "source": [
    "A = Square()\n",
    "B = Exp()\n",
    "C = Square()\n",
    "\n",
    "x = Variable(np.array(0.5))\n",
    "a = A(x)\n",
    "b = B(a)\n",
    "y = C(b)\n",
    "\n",
    "print(y.data)"
   ]
  },
  {
   "cell_type": "markdown",
   "id": "several-prefix",
   "metadata": {},
   "source": []
  },
  {
   "cell_type": "markdown",
   "id": "stupid-toilet",
   "metadata": {},
   "source": [
    "## Step4. 수치 미분"
   ]
  },
  {
   "cell_type": "markdown",
   "id": "behavioral-vocabulary",
   "metadata": {},
   "source": [
    "### 수치 미분 구현"
   ]
  },
  {
   "cell_type": "code",
   "execution_count": 24,
   "id": "photographic-search",
   "metadata": {},
   "outputs": [],
   "source": [
    "def numerical_diff(f, x, eps=1e-4):\n",
    "    x0 = Variable(x.data - eps)\n",
    "    x1 = Variable(x.data + eps)\n",
    "    y0 = f(x0)\n",
    "    y1 = f(x1)\n",
    "    return (y1.data - y0.data) / (2*eps)"
   ]
  },
  {
   "cell_type": "code",
   "execution_count": 25,
   "id": "static-employment",
   "metadata": {},
   "outputs": [
    {
     "name": "stdout",
     "output_type": "stream",
     "text": [
      "4.000000000004\n"
     ]
    }
   ],
   "source": [
    "f = Square()\n",
    "x = Variable(np.array(2.0))\n",
    "dy = numerical_diff(f, x)\n",
    "print (dy)"
   ]
  },
  {
   "cell_type": "markdown",
   "id": "martial-innocent",
   "metadata": {},
   "source": [
    "### 합성 함수의 미분"
   ]
  },
  {
   "cell_type": "code",
   "execution_count": 26,
   "id": "average-thumb",
   "metadata": {},
   "outputs": [
    {
     "ename": "NameError",
     "evalue": "name 'Exp' is not defined",
     "output_type": "error",
     "traceback": [
      "\u001b[0;31m---------------------------------------------------------------------------\u001b[0m",
      "\u001b[0;31mNameError\u001b[0m                                 Traceback (most recent call last)",
      "\u001b[0;32m<ipython-input-26-2182b2c25c93>\u001b[0m in \u001b[0;36m<module>\u001b[0;34m\u001b[0m\n\u001b[1;32m      6\u001b[0m \u001b[0;34m\u001b[0m\u001b[0m\n\u001b[1;32m      7\u001b[0m \u001b[0mx\u001b[0m \u001b[0;34m=\u001b[0m \u001b[0mVariable\u001b[0m\u001b[0;34m(\u001b[0m\u001b[0mnp\u001b[0m\u001b[0;34m.\u001b[0m\u001b[0marray\u001b[0m\u001b[0;34m(\u001b[0m\u001b[0;36m0.5\u001b[0m\u001b[0;34m)\u001b[0m\u001b[0;34m)\u001b[0m\u001b[0;34m\u001b[0m\u001b[0;34m\u001b[0m\u001b[0m\n\u001b[0;32m----> 8\u001b[0;31m \u001b[0mdy\u001b[0m \u001b[0;34m=\u001b[0m \u001b[0mnumerical_diff\u001b[0m\u001b[0;34m(\u001b[0m\u001b[0mf\u001b[0m\u001b[0;34m,\u001b[0m \u001b[0mx\u001b[0m\u001b[0;34m)\u001b[0m\u001b[0;34m\u001b[0m\u001b[0;34m\u001b[0m\u001b[0m\n\u001b[0m\u001b[1;32m      9\u001b[0m \u001b[0mprint\u001b[0m \u001b[0;34m(\u001b[0m\u001b[0mdy\u001b[0m\u001b[0;34m)\u001b[0m\u001b[0;34m\u001b[0m\u001b[0;34m\u001b[0m\u001b[0m\n",
      "\u001b[0;32m<ipython-input-24-cfe13b1a93a9>\u001b[0m in \u001b[0;36mnumerical_diff\u001b[0;34m(f, x, eps)\u001b[0m\n\u001b[1;32m      2\u001b[0m     \u001b[0mx0\u001b[0m \u001b[0;34m=\u001b[0m \u001b[0mVariable\u001b[0m\u001b[0;34m(\u001b[0m\u001b[0mx\u001b[0m\u001b[0;34m.\u001b[0m\u001b[0mdata\u001b[0m \u001b[0;34m-\u001b[0m \u001b[0meps\u001b[0m\u001b[0;34m)\u001b[0m\u001b[0;34m\u001b[0m\u001b[0;34m\u001b[0m\u001b[0m\n\u001b[1;32m      3\u001b[0m     \u001b[0mx1\u001b[0m \u001b[0;34m=\u001b[0m \u001b[0mVariable\u001b[0m\u001b[0;34m(\u001b[0m\u001b[0mx\u001b[0m\u001b[0;34m.\u001b[0m\u001b[0mdata\u001b[0m \u001b[0;34m+\u001b[0m \u001b[0meps\u001b[0m\u001b[0;34m)\u001b[0m\u001b[0;34m\u001b[0m\u001b[0;34m\u001b[0m\u001b[0m\n\u001b[0;32m----> 4\u001b[0;31m     \u001b[0my0\u001b[0m \u001b[0;34m=\u001b[0m \u001b[0mf\u001b[0m\u001b[0;34m(\u001b[0m\u001b[0mx0\u001b[0m\u001b[0;34m)\u001b[0m\u001b[0;34m\u001b[0m\u001b[0;34m\u001b[0m\u001b[0m\n\u001b[0m\u001b[1;32m      5\u001b[0m     \u001b[0my1\u001b[0m \u001b[0;34m=\u001b[0m \u001b[0mf\u001b[0m\u001b[0;34m(\u001b[0m\u001b[0mx1\u001b[0m\u001b[0;34m)\u001b[0m\u001b[0;34m\u001b[0m\u001b[0;34m\u001b[0m\u001b[0m\n\u001b[1;32m      6\u001b[0m     \u001b[0;32mreturn\u001b[0m \u001b[0;34m(\u001b[0m\u001b[0my1\u001b[0m\u001b[0;34m.\u001b[0m\u001b[0mdata\u001b[0m \u001b[0;34m-\u001b[0m \u001b[0my0\u001b[0m\u001b[0;34m.\u001b[0m\u001b[0mdata\u001b[0m\u001b[0;34m)\u001b[0m \u001b[0;34m/\u001b[0m \u001b[0;34m(\u001b[0m\u001b[0;36m2\u001b[0m\u001b[0;34m*\u001b[0m\u001b[0meps\u001b[0m\u001b[0;34m)\u001b[0m\u001b[0;34m\u001b[0m\u001b[0;34m\u001b[0m\u001b[0m\n",
      "\u001b[0;32m<ipython-input-26-2182b2c25c93>\u001b[0m in \u001b[0;36mf\u001b[0;34m(x)\u001b[0m\n\u001b[1;32m      1\u001b[0m \u001b[0;32mdef\u001b[0m \u001b[0mf\u001b[0m\u001b[0;34m(\u001b[0m\u001b[0mx\u001b[0m\u001b[0;34m)\u001b[0m\u001b[0;34m:\u001b[0m\u001b[0;34m\u001b[0m\u001b[0;34m\u001b[0m\u001b[0m\n\u001b[1;32m      2\u001b[0m     \u001b[0mA\u001b[0m \u001b[0;34m=\u001b[0m \u001b[0mSquare\u001b[0m\u001b[0;34m(\u001b[0m\u001b[0;34m)\u001b[0m\u001b[0;34m\u001b[0m\u001b[0;34m\u001b[0m\u001b[0m\n\u001b[0;32m----> 3\u001b[0;31m     \u001b[0mB\u001b[0m \u001b[0;34m=\u001b[0m \u001b[0mExp\u001b[0m\u001b[0;34m(\u001b[0m\u001b[0;34m)\u001b[0m\u001b[0;34m\u001b[0m\u001b[0;34m\u001b[0m\u001b[0m\n\u001b[0m\u001b[1;32m      4\u001b[0m     \u001b[0mC\u001b[0m \u001b[0;34m=\u001b[0m \u001b[0mSquare\u001b[0m\u001b[0;34m(\u001b[0m\u001b[0;34m)\u001b[0m\u001b[0;34m\u001b[0m\u001b[0;34m\u001b[0m\u001b[0m\n\u001b[1;32m      5\u001b[0m     \u001b[0;32mreturn\u001b[0m \u001b[0mC\u001b[0m\u001b[0;34m(\u001b[0m\u001b[0mB\u001b[0m\u001b[0;34m(\u001b[0m\u001b[0mA\u001b[0m\u001b[0;34m(\u001b[0m\u001b[0mx\u001b[0m\u001b[0;34m)\u001b[0m\u001b[0;34m)\u001b[0m\u001b[0;34m)\u001b[0m\u001b[0;34m\u001b[0m\u001b[0;34m\u001b[0m\u001b[0m\n",
      "\u001b[0;31mNameError\u001b[0m: name 'Exp' is not defined"
     ]
    }
   ],
   "source": [
    "def f(x):\n",
    "    A = Square()\n",
    "    B = Exp()\n",
    "    C = Square()\n",
    "    return C(B(A(x)))\n",
    "\n",
    "x = Variable(np.array(0.5))\n",
    "dy = numerical_diff(f, x)\n",
    "print (dy)"
   ]
  },
  {
   "cell_type": "markdown",
   "id": "lyric-motel",
   "metadata": {},
   "source": []
  },
  {
   "cell_type": "markdown",
   "id": "vocational-pharmaceutical",
   "metadata": {},
   "source": [
    "## Step6. 수동 역전파"
   ]
  },
  {
   "cell_type": "markdown",
   "id": "genetic-tongue",
   "metadata": {},
   "source": [
    "### Variable 클래스 추가 구현"
   ]
  },
  {
   "cell_type": "code",
   "execution_count": null,
   "id": "sudden-fellow",
   "metadata": {},
   "outputs": [],
   "source": [
    "class Variable:\n",
    "    def __init__(self, data):\n",
    "        self.data = data\n",
    "        self.grad = None"
   ]
  },
  {
   "cell_type": "markdown",
   "id": "nearby-irish",
   "metadata": {},
   "source": [
    "### Function 클래스 추가 구현"
   ]
  },
  {
   "cell_type": "code",
   "execution_count": null,
   "id": "deluxe-thirty",
   "metadata": {},
   "outputs": [],
   "source": [
    "class Function:\n",
    "    def __call__(self, input):\n",
    "        x = input.data\n",
    "        y = self.forward(x)\n",
    "        output = Variable(y)\n",
    "        self.input = input # 입력 변수를 기억(보관)한다.\n",
    "        return output\n",
    "    \n",
    "    def forward(self, x):\n",
    "        raise NotImplementedError()\n",
    "        \n",
    "    def backward(self, gy):\n",
    "        raise NotImplementedError()"
   ]
  },
  {
   "cell_type": "markdown",
   "id": "novel-hughes",
   "metadata": {},
   "source": [
    "### Square와 Exp 클래스 추가 구현"
   ]
  },
  {
   "cell_type": "code",
   "execution_count": null,
   "id": "protected-savage",
   "metadata": {},
   "outputs": [],
   "source": [
    "class Square(Function):\n",
    "    def forward(self, x):\n",
    "        y = x**2\n",
    "        return y\n",
    "    \n",
    "    def backward(self, gy):\n",
    "        x = self.input.data\n",
    "        gx = 2*x*gy\n",
    "        return gx"
   ]
  },
  {
   "cell_type": "code",
   "execution_count": null,
   "id": "civil-attack",
   "metadata": {},
   "outputs": [],
   "source": [
    "class Exp(Function):\n",
    "    def forward(self, x):\n",
    "        y = np.exp(x)\n",
    "        return y\n",
    "    \n",
    "    def backward(self, gy):\n",
    "        x = self.input.data\n",
    "        gx = np.exp(x) * gy\n",
    "        return gx"
   ]
  },
  {
   "cell_type": "markdown",
   "id": "small-presentation",
   "metadata": {},
   "source": [
    "### 역전파 구현"
   ]
  },
  {
   "cell_type": "code",
   "execution_count": null,
   "id": "attached-blowing",
   "metadata": {},
   "outputs": [],
   "source": [
    "import numpy as np\n",
    "\n",
    "A = Square()\n",
    "B = Exp()\n",
    "C = Square()\n",
    "\n",
    "x = Variable(np.array(0.5))\n",
    "a = A(x)\n",
    "b = B(a)\n",
    "y = C(b)"
   ]
  },
  {
   "cell_type": "code",
   "execution_count": null,
   "id": "primary-austin",
   "metadata": {},
   "outputs": [],
   "source": [
    "y.grad = np.array(1.0)\n",
    "b.grad = C.backward(y.grad)\n",
    "a.grad = B.backward(b.grad)\n",
    "x.grad = A.backward(a.grad)\n",
    "print(x.grad)"
   ]
  },
  {
   "cell_type": "markdown",
   "id": "excessive-bangladesh",
   "metadata": {},
   "source": []
  },
  {
   "cell_type": "markdown",
   "id": "based-faith",
   "metadata": {},
   "source": [
    "## Step7. 역전파 자동화"
   ]
  },
  {
   "cell_type": "markdown",
   "id": "aerial-phase",
   "metadata": {},
   "source": [
    "### 역전파 자동화의 시작"
   ]
  },
  {
   "cell_type": "code",
   "execution_count": null,
   "id": "perfect-leather",
   "metadata": {},
   "outputs": [],
   "source": [
    "import numpy as np"
   ]
  },
  {
   "cell_type": "code",
   "execution_count": null,
   "id": "corrected-breakdown",
   "metadata": {},
   "outputs": [],
   "source": [
    "class Variable:\n",
    "    def __init__(self, data):\n",
    "        self.data = data\n",
    "        self.grad = None\n",
    "        self.creator = None\n",
    "        \n",
    "    def set_creator(self, func):\n",
    "        self.creator = func"
   ]
  },
  {
   "cell_type": "code",
   "execution_count": null,
   "id": "coordinate-institution",
   "metadata": {},
   "outputs": [],
   "source": [
    "class Function:\n",
    "    def __call__(self, input):\n",
    "        x = input.data\n",
    "        y = self.forward(x)\n",
    "        output = Variable(y)\n",
    "        output.set_creator(self) # 출력 변수에 창조자를 설정한다.\n",
    "        self.input = input\n",
    "        self.output = output # 출력도 저장한다.\n",
    "        return output"
   ]
  },
  {
   "cell_type": "code",
   "execution_count": null,
   "id": "straight-milton",
   "metadata": {
    "scrolled": true
   },
   "outputs": [],
   "source": [
    "A = Square()\n",
    "B = Exp()\n",
    "C = Square()\n",
    "\n",
    "x = Variable(np.array(0.5))\n",
    "a = A(x)\n",
    "b = B(a)\n",
    "y = C(b)\n",
    "\n",
    "# 계산 그래프의 노드들을 거꾸로 거슬러 올라간다.\n",
    "assert y.creator == C\n",
    "assert y.creator.input == b\n",
    "assert y.creator.input.creator == B\n",
    "assert y.creator.input.creator.input == a\n",
    "assert y.creator.input.creator.input.creator == A\n",
    "assert y.creator.input.creator.input.creator.input == x"
   ]
  },
  {
   "cell_type": "markdown",
   "id": "framed-powder",
   "metadata": {},
   "source": [
    "### 역전파 도전"
   ]
  },
  {
   "cell_type": "code",
   "execution_count": null,
   "id": "democratic-protein",
   "metadata": {},
   "outputs": [],
   "source": [
    "y.grad = np.array(1.0)\n",
    "\n",
    "C = y.creator # 1. 함수를 가져온다.\n",
    "b = C.input # 2. 함수의 입력을 가져온다.\n",
    "b.grad = C.backward(y.grad) # 3. 함수의 backward 메서드를 호출한다."
   ]
  },
  {
   "cell_type": "code",
   "execution_count": null,
   "id": "collective-correspondence",
   "metadata": {},
   "outputs": [],
   "source": [
    "B = b.creator # 1. 함수를 가져온다.\n",
    "a = B.input # 2. 함수의 입력을 가져온다.\n",
    "a.grad = B.backward(b.grad) # 3. 함수의 backward 메서드를 호출한다."
   ]
  },
  {
   "cell_type": "code",
   "execution_count": null,
   "id": "informational-study",
   "metadata": {},
   "outputs": [],
   "source": [
    "A = a.creator # 1. 함수를 가져온다.\n",
    "x = A.input # 2. 함수의 입력을 가져온다.\n",
    "x.grad = A.backward(a.grad) # 3. 함수의 backward 메서드를 호출한다.\n",
    "\n",
    "print (x.grad)"
   ]
  },
  {
   "cell_type": "markdown",
   "id": "delayed-maple",
   "metadata": {},
   "source": [
    "### backward 메서드 추가"
   ]
  },
  {
   "cell_type": "code",
   "execution_count": null,
   "id": "contained-modem",
   "metadata": {},
   "outputs": [],
   "source": [
    "class Variable:\n",
    "    def __init__(self, data):\n",
    "        self.data = data\n",
    "        self.grad = None\n",
    "        self.creator = None\n",
    "        \n",
    "    def set_creator(self, func):\n",
    "        self.creator = func\n",
    "        \n",
    "    def backward(self):\n",
    "        f = self.creator # 1. 함수를 가져온다.\n",
    "        if f is not None:\n",
    "            x = f.input # 2. 함수의 입력을 가져온다.\n",
    "            x.grad = f.backward(self.grad) # 3. 함수의 backward 메서드를 호출한다.\n",
    "            x.backward() # 하나 앞 변수의 backward 메서드를 호출한다(재귀)."
   ]
  },
  {
   "cell_type": "code",
   "execution_count": null,
   "id": "technical-cuisine",
   "metadata": {},
   "outputs": [],
   "source": [
    "A = Square()\n",
    "B = Exp()\n",
    "C = Square()\n",
    "\n",
    "x = Variable(np.array(0.5))\n",
    "a = A(x)\n",
    "b = B(a)\n",
    "y = C(b)\n",
    "\n",
    "# 역전파\n",
    "y.grad = np.array(1.0)\n",
    "y.backward()\n",
    "print (x.grad)"
   ]
  },
  {
   "cell_type": "markdown",
   "id": "vocal-munich",
   "metadata": {},
   "source": []
  },
  {
   "cell_type": "markdown",
   "id": "plastic-morrison",
   "metadata": {},
   "source": [
    "## Step8. 재귀에서 반복문으로"
   ]
  },
  {
   "cell_type": "markdown",
   "id": "derived-coverage",
   "metadata": {},
   "source": [
    "### 현재의 Variable 클래스"
   ]
  },
  {
   "cell_type": "code",
   "execution_count": null,
   "id": "discrete-patrol",
   "metadata": {},
   "outputs": [],
   "source": [
    "class Variable:\n",
    "    def __init__(self, data):\n",
    "        self.data = data\n",
    "        self.grad = None\n",
    "        self.creator = None\n",
    "\n",
    "    def set_creator(self, func):\n",
    "        self.creator = func\n",
    "        \n",
    "    def backward(self):\n",
    "        f = self.creator\n",
    "        if f is not None:\n",
    "            x = f.input\n",
    "            x.grad = f.backward(self.grad)\n",
    "            x.backward()"
   ]
  },
  {
   "cell_type": "markdown",
   "id": "plain-order",
   "metadata": {},
   "source": [
    "### 반복문을 이용한 구현"
   ]
  },
  {
   "cell_type": "code",
   "execution_count": null,
   "id": "exotic-sessions",
   "metadata": {},
   "outputs": [],
   "source": [
    "import numpy as np\n",
    "\n",
    "\n",
    "class Variable:\n",
    "    def __init__(self, data):\n",
    "        self.data = data\n",
    "        self.grad = None\n",
    "        self.creator = None\n",
    "\n",
    "    def set_creator(self, func):\n",
    "        self.creator = func\n",
    "        \n",
    "    def backward(self):\n",
    "        funcs = [self.creator]\n",
    "        while funcs:\n",
    "            f = funcs.pop() # 함수를 가져온다.\n",
    "            x, y = f.input, f.output # 함수의 입력과 출력을 가져온다.\n",
    "            x.grad = f.backward(y.grad) # backward 메서드를 호출한다.\n",
    "            \n",
    "            if x.creator is not None:\n",
    "                funcs.append(x.creator) # 하나 앞의 함수를 리스트에 추가한다."
   ]
  },
  {
   "cell_type": "markdown",
   "id": "color-budapest",
   "metadata": {},
   "source": [
    "### 동작 확인"
   ]
  },
  {
   "cell_type": "code",
   "execution_count": null,
   "id": "owned-april",
   "metadata": {},
   "outputs": [],
   "source": [
    "A = Square()\n",
    "B = Exp()\n",
    "C = Square()\n",
    "\n",
    "x = Variable(np.array(0.5))\n",
    "a = A(x)\n",
    "b = B(a)\n",
    "y = C(b)\n",
    "\n",
    "# 역전파\n",
    "y.grad = np.array(1.0)\n",
    "y.backward()\n",
    "print (x.grad)"
   ]
  },
  {
   "cell_type": "markdown",
   "id": "sunset-strike",
   "metadata": {},
   "source": []
  },
  {
   "cell_type": "markdown",
   "id": "essential-association",
   "metadata": {},
   "source": [
    "## Step9. 함수를 더 편리하게"
   ]
  },
  {
   "cell_type": "markdown",
   "id": "breathing-clause",
   "metadata": {},
   "source": [
    "### 파이썬 함수로 이용하기"
   ]
  },
  {
   "cell_type": "code",
   "execution_count": null,
   "id": "planned-party",
   "metadata": {},
   "outputs": [],
   "source": [
    "x = Variable(np.array(0.5))\n",
    "f = Square()\n",
    "y = f(x)"
   ]
  },
  {
   "cell_type": "code",
   "execution_count": null,
   "id": "planned-conversation",
   "metadata": {},
   "outputs": [],
   "source": [
    "def square(x):\n",
    "    f = Square()\n",
    "    return f(x)\n",
    "\n",
    "def exp(x):\n",
    "    f = Exp()\n",
    "    return f(x)"
   ]
  },
  {
   "cell_type": "code",
   "execution_count": null,
   "id": "unlike-saudi",
   "metadata": {},
   "outputs": [],
   "source": [
    "# 위 코드를 한 줄로 표현\n",
    "def square(x):\n",
    "    return Square()(x)\n",
    "\n",
    "def exp(x):\n",
    "    return Exp()(x)"
   ]
  },
  {
   "cell_type": "code",
   "execution_count": null,
   "id": "forbidden-elite",
   "metadata": {},
   "outputs": [],
   "source": [
    "x = Variable(np.array(0.5))\n",
    "a = square(x)\n",
    "b = exp(a)\n",
    "y = square(b)\n",
    "\n",
    "y.grad = np.array(1.0)\n",
    "y.backward()\n",
    "print (x.grad)"
   ]
  },
  {
   "cell_type": "code",
   "execution_count": null,
   "id": "strong-sword",
   "metadata": {},
   "outputs": [],
   "source": [
    "# 함수를 연속으로 적용\n",
    "x = Variable(np.array(0.5))\n",
    "y = square(exp(square(x)))\n",
    "y.grad = np.array(1.0)\n",
    "y.backward()\n",
    "print (x.grad)"
   ]
  },
  {
   "cell_type": "markdown",
   "id": "pending-effect",
   "metadata": {},
   "source": [
    "### backward 메서드 간소화"
   ]
  },
  {
   "cell_type": "code",
   "execution_count": null,
   "id": "weekly-straight",
   "metadata": {},
   "outputs": [],
   "source": [
    "# y.grad = np.array(1.0) 생략하기\n",
    "\n",
    "class Variable:\n",
    "    def __init__(self, data):\n",
    "        self.data = data\n",
    "        self.grad = None\n",
    "        self.creator = None\n",
    "\n",
    "    def set_creator(self, func):\n",
    "        self.creator = func\n",
    "        \n",
    "    def backward(self):\n",
    "        if self.grad is None: # grad가 None이면 자동으로 미분값을 생성\n",
    "            self.grad = np.ones_like(self.data)\n",
    "            \n",
    "        funcs = [self.creator]\n",
    "        while funcs:\n",
    "            f = funcs.pop() # 함수를 가져온다.\n",
    "            x, y = f.input, f.output # 함수의 입력과 출력을 가져온다.\n",
    "            x.grad = f.backward(y.grad) # backward 메서드를 호출한다.\n",
    "            \n",
    "            if x.creator is not None:\n",
    "                funcs.append(x.creator) # 하나 앞의 함수를 리스트에 추가한다."
   ]
  },
  {
   "cell_type": "code",
   "execution_count": null,
   "id": "asian-yorkshire",
   "metadata": {},
   "outputs": [],
   "source": [
    "x = Variable(np.array(0.5))\n",
    "y = square(exp(square(x)))\n",
    "y.backward()\n",
    "print (x.grad)"
   ]
  },
  {
   "cell_type": "markdown",
   "id": "worthy-simon",
   "metadata": {},
   "source": [
    "### ndarray만 취급하기"
   ]
  },
  {
   "cell_type": "code",
   "execution_count": null,
   "id": "monetary-montana",
   "metadata": {},
   "outputs": [],
   "source": [
    "import numpy as np\n",
    "\n",
    "class Variable:\n",
    "    def __init__(self, data):\n",
    "        if data is not None:\n",
    "            if not isinstance(data, np.ndarray):\n",
    "                raise TypeError('{}은(는) 지원하지 않습니다.'.format(type(data)))\n",
    "                \n",
    "        self.data = data\n",
    "        self.grad = None\n",
    "        self.creator = None"
   ]
  },
  {
   "cell_type": "code",
   "execution_count": null,
   "id": "artificial-rogers",
   "metadata": {},
   "outputs": [],
   "source": [
    "x = Variable(np.array(1.0))\n",
    "x = Variable(None)\n",
    "\n",
    "x = Variable(1.0)"
   ]
  },
  {
   "cell_type": "code",
   "execution_count": null,
   "id": "seasonal-conservation",
   "metadata": {},
   "outputs": [],
   "source": [
    "x = np.array([1.0])\n",
    "y = x**2\n",
    "print (type(x), x.ndim)\n",
    "print (type(y))"
   ]
  },
  {
   "cell_type": "code",
   "execution_count": null,
   "id": "excessive-stopping",
   "metadata": {},
   "outputs": [],
   "source": [
    "x = np.array(1.0)\n",
    "y = x**2\n",
    "print (type(x), x.ndim)\n",
    "print (type(y))"
   ]
  },
  {
   "cell_type": "code",
   "execution_count": 1,
   "id": "naked-spectacular",
   "metadata": {},
   "outputs": [],
   "source": [
    "def as_array(x):\n",
    "    if np.isscalar(x):\n",
    "        return np.array(x)\n",
    "    return x"
   ]
  },
  {
   "cell_type": "code",
   "execution_count": null,
   "id": "plastic-intention",
   "metadata": {},
   "outputs": [],
   "source": [
    "np.isscalar(np.float64(1.0))"
   ]
  },
  {
   "cell_type": "code",
   "execution_count": null,
   "id": "incoming-matter",
   "metadata": {},
   "outputs": [],
   "source": [
    "np.isscalar(2.0)"
   ]
  },
  {
   "cell_type": "code",
   "execution_count": null,
   "id": "norman-funeral",
   "metadata": {},
   "outputs": [],
   "source": [
    "np.isscalar(np.array(1.0))"
   ]
  },
  {
   "cell_type": "code",
   "execution_count": null,
   "id": "different-lithuania",
   "metadata": {},
   "outputs": [],
   "source": [
    "np.isscalar(np.array([1, 2, 3]))"
   ]
  },
  {
   "cell_type": "code",
   "execution_count": null,
   "id": "facial-envelope",
   "metadata": {},
   "outputs": [],
   "source": [
    "class Function:\n",
    "    def __call__(self, input):\n",
    "        x = input.data\n",
    "        y = self.forward(x)\n",
    "        output = Variable(as_array(y))\n",
    "        output.set_creator(self)\n",
    "        self.input = input\n",
    "        self.output = output\n",
    "        return output\n",
    "\n",
    "    def forward(self, x):\n",
    "        raise NotImplementedError()\n",
    "\n",
    "    def backward(self, gy):\n",
    "        raise NotImplementedError()"
   ]
  },
  {
   "cell_type": "markdown",
   "id": "connected-christian",
   "metadata": {},
   "source": []
  },
  {
   "cell_type": "markdown",
   "id": "canadian-engineering",
   "metadata": {},
   "source": [
    "## Step10. 테스트"
   ]
  },
  {
   "cell_type": "markdown",
   "id": "aboriginal-animal",
   "metadata": {},
   "source": [
    "### 파이썬 단위 테스트"
   ]
  },
  {
   "cell_type": "code",
   "execution_count": 2,
   "id": "worldwide-machinery",
   "metadata": {},
   "outputs": [],
   "source": [
    "import unittest\n",
    "\n",
    "class SquareTest(unittest.TestCase):\n",
    "    def test_forward(self):\n",
    "        x = Variable(np.array(2.0))\n",
    "        y = square(x)\n",
    "        expected = np.array(4.0)\n",
    "        self.assertEqual(y.data, expected)"
   ]
  },
  {
   "cell_type": "code",
   "execution_count": 3,
   "id": "bibliographic-oxford",
   "metadata": {
    "collapsed": true
   },
   "outputs": [
    {
     "name": "stderr",
     "output_type": "stream",
     "text": [
      "E\n",
      "======================================================================\n",
      "ERROR: /home/aiffel/ (unittest.loader._FailedTest)\n",
      "----------------------------------------------------------------------\n",
      "AttributeError: module '__main__' has no attribute '/home/aiffel/'\n",
      "\n",
      "----------------------------------------------------------------------\n",
      "Ran 1 test in 0.001s\n",
      "\n",
      "FAILED (errors=1)\n"
     ]
    },
    {
     "ename": "SystemExit",
     "evalue": "True",
     "output_type": "error",
     "traceback": [
      "An exception has occurred, use %tb to see the full traceback.\n",
      "\u001b[0;31mSystemExit\u001b[0m\u001b[0;31m:\u001b[0m True\n"
     ]
    },
    {
     "name": "stderr",
     "output_type": "stream",
     "text": [
      "/home/aiffel/anaconda3/lib/python3.7/site-packages/IPython/core/interactiveshell.py:3426: UserWarning: To exit: use 'exit', 'quit', or Ctrl-D.\n",
      "  warn(\"To exit: use 'exit', 'quit', or Ctrl-D.\", stacklevel=1)\n"
     ]
    }
   ],
   "source": [
    "unittest.main()"
   ]
  },
  {
   "cell_type": "markdown",
   "id": "automated-prison",
   "metadata": {},
   "source": [
    "### square 함수의 역전파 테스트"
   ]
  },
  {
   "cell_type": "code",
   "execution_count": 4,
   "id": "atlantic-calculator",
   "metadata": {},
   "outputs": [],
   "source": [
    "class SquareTest(unittest.TestCase):\n",
    "    def test_forward(self):\n",
    "        x = Variable(np.array(2.0))\n",
    "        y = square(x)\n",
    "        expected = np.array(4.0)\n",
    "        self.assertEqual(y.data, expected)\n",
    "    \n",
    "    def test_backward(self):\n",
    "        x = Variable(np.array(3.0))\n",
    "        y = square(x)\n",
    "        y.backward()\n",
    "        expected = np.array(6.0)\n",
    "        self.assertEqual(x.grad, expected)"
   ]
  },
  {
   "cell_type": "markdown",
   "id": "answering-revelation",
   "metadata": {},
   "source": [
    "### 기울기 확인을 이용한 자동 테스트"
   ]
  },
  {
   "cell_type": "code",
   "execution_count": 5,
   "id": "later-enforcement",
   "metadata": {},
   "outputs": [],
   "source": [
    "def numerical_diff(f, x, eps=1e-4):\n",
    "    x0 = Variable(x.data - eps)\n",
    "    x1 = Variable(x.data + eps)\n",
    "    y0 = f(x0)\n",
    "    y1 = f(x1)\n",
    "    return (y1.data - y2.data)/(2*eps)\n",
    "\n",
    "class SquareTest(unittest.TestCase):\n",
    "    def test_forward(self):\n",
    "        x = Variable(np.array(2.0))\n",
    "        y = square(x)\n",
    "        expected = np.array(4.0)\n",
    "        self.assertEqual(y.data, expected)\n",
    "    \n",
    "    def test_backward(self):\n",
    "        x = Variable(np.array(3.0))\n",
    "        y = square(x)\n",
    "        y.backward()\n",
    "        expected = np.array(6.0)\n",
    "        self.assertEqual(x.grad, expected)\n",
    "        \n",
    "    def test_gradient_check(self):\n",
    "        x = Variable(np.random.rand(1)) # 무작위 입력값 생성\n",
    "        y = square(x)\n",
    "        y.backward()\n",
    "        num_grad = numerical_diff(square, x)\n",
    "        flg = np.allclose(x.grad, num_grad)\n",
    "        self.assertTrue(flg)"
   ]
  },
  {
   "cell_type": "markdown",
   "id": "suspended-baseball",
   "metadata": {},
   "source": []
  },
  {
   "cell_type": "markdown",
   "id": "informal-policy",
   "metadata": {},
   "source": []
  },
  {
   "cell_type": "markdown",
   "id": "according-trial",
   "metadata": {},
   "source": [
    "# $제 2고지$"
   ]
  },
  {
   "cell_type": "markdown",
   "id": "later-milan",
   "metadata": {},
   "source": []
  },
  {
   "cell_type": "markdown",
   "id": "pressing-eagle",
   "metadata": {},
   "source": [
    "## Step11. 가변 길이 인수(순전파 편)"
   ]
  },
  {
   "cell_type": "markdown",
   "id": "streaming-hughes",
   "metadata": {},
   "source": [
    "### Function 클래스 수정"
   ]
  },
  {
   "cell_type": "code",
   "execution_count": 6,
   "id": "domestic-combine",
   "metadata": {},
   "outputs": [],
   "source": [
    "import numpy as np\n",
    "class Variable:\n",
    "    def __init__(self, data):\n",
    "        if data is not None:\n",
    "            if not isinstance(data, np.ndarray):\n",
    "                raise TypeError('{} is not supported'.format(type(data)))\n",
    "\n",
    "        self.data = data\n",
    "        self.grad = None\n",
    "        self.creator = None\n",
    "\n",
    "    def set_creator(self, func):\n",
    "        self.creator = func\n",
    "\n",
    "    def backward(self):\n",
    "        if self.grad is None:\n",
    "            self.grad = np.ones_like(self.data)\n",
    "\n",
    "        funcs = [self.creator]\n",
    "        while funcs:\n",
    "            f = funcs.pop()\n",
    "            x, y = f.input, f.output\n",
    "            x.grad = f.backward(y.grad)\n",
    "\n",
    "            if x.creator is not None:\n",
    "                funcs.append(x.creator)\n",
    "\n",
    "\n",
    "def as_array(x):\n",
    "    if np.isscalar(x):\n",
    "        return np.array(x)\n",
    "    return x\n"
   ]
  },
  {
   "cell_type": "code",
   "execution_count": 7,
   "id": "adverse-exemption",
   "metadata": {},
   "outputs": [],
   "source": [
    "class Function:\n",
    "    def __call__(self, input):\n",
    "        x = input.data\n",
    "        y = self.forward(x)\n",
    "        output = Variable(as_array(y))\n",
    "        output.set_creator(self)\n",
    "        self.input = input\n",
    "        self.output = output\n",
    "        return output\n",
    "\n",
    "    def forward(self, x):\n",
    "        raise NotImplementedError()\n",
    "\n",
    "    def backward(self, gy):\n",
    "        raise NotImplementedError()"
   ]
  },
  {
   "cell_type": "code",
   "execution_count": 8,
   "id": "monthly-fairy",
   "metadata": {},
   "outputs": [],
   "source": [
    "class Function:\n",
    "    def __call__(self, inputs):\n",
    "        xs = [x.data for x in inputs]  # Get data from Variable\n",
    "        ys = self.forward(xs)\n",
    "        outputs = [Variable(as_array(y)) for y in ys]  # Wrap data\n",
    "\n",
    "        for output in outputs:\n",
    "            output.set_creator(self)\n",
    "        self.inputs = inputs\n",
    "        self.outputs = outputs\n",
    "        return outputs\n",
    "\n",
    "    def forward(self, xs):\n",
    "        raise NotImplementedError()\n",
    "\n",
    "    def backward(self, gys):\n",
    "        raise NotImplementedError()"
   ]
  },
  {
   "cell_type": "markdown",
   "id": "acute-shareware",
   "metadata": {},
   "source": [
    "### Add 클래스 구현"
   ]
  },
  {
   "cell_type": "code",
   "execution_count": 9,
   "id": "sporting-detail",
   "metadata": {},
   "outputs": [],
   "source": [
    "class Add(Function):\n",
    "    def forward(self, xs):\n",
    "        x0, x1 = xs\n",
    "        y = x0 + x1\n",
    "        return (y,)"
   ]
  },
  {
   "cell_type": "code",
   "execution_count": 10,
   "id": "mounted-firewall",
   "metadata": {},
   "outputs": [
    {
     "name": "stdout",
     "output_type": "stream",
     "text": [
      "5\n"
     ]
    }
   ],
   "source": [
    "xs = [Variable(np.array(2)), Variable(np.array(3))]\n",
    "f = Add()\n",
    "ys = f(xs)\n",
    "y = ys[0]\n",
    "print(y.data)"
   ]
  },
  {
   "cell_type": "markdown",
   "id": "maritime-portuguese",
   "metadata": {},
   "source": []
  },
  {
   "cell_type": "markdown",
   "id": "overall-burlington",
   "metadata": {},
   "source": [
    "## Step12. 가변 길이 인수(개선 편)"
   ]
  },
  {
   "cell_type": "markdown",
   "id": "residential-bidder",
   "metadata": {},
   "source": [
    "### 첫 번째 개선: 함수를 사용하기 쉽게"
   ]
  },
  {
   "cell_type": "code",
   "execution_count": 11,
   "id": "cellular-conversion",
   "metadata": {},
   "outputs": [],
   "source": [
    "class Function:\n",
    "    def __call__(self, *inputs):\n",
    "        xs = [x.data for x in inputs]\n",
    "        ys = self.forward(xs)\n",
    "        outputs = [Variable(as_array(y)) for y in ys]\n",
    "        \n",
    "        for output in outputs:\n",
    "            output.set_creator(self)\n",
    "        self.inputs = inputs\n",
    "        self.outputs = outputs\n",
    "        \n",
    "        return outputs if len(outputs) > 1 else outputs[0]"
   ]
  },
  {
   "cell_type": "code",
   "execution_count": 15,
   "id": "czech-palestine",
   "metadata": {},
   "outputs": [
    {
     "name": "stdout",
     "output_type": "stream",
     "text": [
      "5\n"
     ]
    }
   ],
   "source": [
    "x0 = Variable(np.array(2))\n",
    "x1 = Variable(np.array(3))\n",
    "f = Add()\n",
    "y = f(x0, x1)\n",
    "print (y.data)"
   ]
  },
  {
   "cell_type": "markdown",
   "id": "employed-table",
   "metadata": {},
   "source": [
    "### 두 번째 개선: 함수를 구현하기 쉽도록"
   ]
  },
  {
   "cell_type": "code",
   "execution_count": 13,
   "id": "skilled-probability",
   "metadata": {},
   "outputs": [],
   "source": [
    "class Function:\n",
    "    def __call__(self, *inputs):\n",
    "        xs = [x.data for x in inputs]\n",
    "        ys = self.forward(*xs)\n",
    "        if not isinstance(ys, tuple):\n",
    "            ys = (ys, )\n",
    "        outputs = [Variable(as_array(y)) for y in ys]\n",
    "        \n",
    "        for output in outputs:\n",
    "            output.set_creator(self)\n",
    "        self.inputs = inputs\n",
    "        self.outputs = outputs\n",
    "        \n",
    "        return outputs if len(outputs) > 1 else outputs[0]"
   ]
  },
  {
   "cell_type": "code",
   "execution_count": 14,
   "id": "simple-respondent",
   "metadata": {},
   "outputs": [],
   "source": [
    "class Add(Function):\n",
    "    def forward(self, x0, x1):\n",
    "        y = x0 + x1\n",
    "        return y"
   ]
  },
  {
   "cell_type": "markdown",
   "id": "exact-florist",
   "metadata": {},
   "source": [
    "### add 함수 구현"
   ]
  },
  {
   "cell_type": "code",
   "execution_count": 16,
   "id": "lesser-federal",
   "metadata": {},
   "outputs": [],
   "source": [
    "def add(x0, x1):\n",
    "    return Add()(x0, x1)"
   ]
  },
  {
   "cell_type": "code",
   "execution_count": 17,
   "id": "dietary-paris",
   "metadata": {},
   "outputs": [
    {
     "name": "stdout",
     "output_type": "stream",
     "text": [
      "5\n"
     ]
    }
   ],
   "source": [
    "x0 = Variable(np.array(2))\n",
    "x1 = Variable(np.array(3))\n",
    "y = add(x0, x1) # Add 클래스 생성 과정이 감춰짐\n",
    "print (y.data)"
   ]
  },
  {
   "cell_type": "markdown",
   "id": "alleged-sharing",
   "metadata": {},
   "source": []
  },
  {
   "cell_type": "markdown",
   "id": "available-gothic",
   "metadata": {},
   "source": [
    "## Step13. 가변 길이 인수(역전파 편)"
   ]
  },
  {
   "cell_type": "markdown",
   "id": "understood-stuart",
   "metadata": {},
   "source": [
    "### 가변 길이 인수에 대응한 Add 클래스의 역전파"
   ]
  },
  {
   "cell_type": "code",
   "execution_count": 18,
   "id": "corresponding-kelly",
   "metadata": {},
   "outputs": [],
   "source": [
    "class Add(Function):\n",
    "    def forward(self, x0, x1):\n",
    "        y = x0 + x1\n",
    "        return y\n",
    "    \n",
    "    def backward(self, gy):\n",
    "        return gy, gy"
   ]
  },
  {
   "cell_type": "markdown",
   "id": "valid-tobacco",
   "metadata": {},
   "source": [
    "### Variable 클래스 수정"
   ]
  },
  {
   "cell_type": "code",
   "execution_count": 19,
   "id": "reserved-institution",
   "metadata": {},
   "outputs": [],
   "source": [
    "class Variable:\n",
    "    def __init__(self, data):\n",
    "        if data is not None:\n",
    "            if not isinstance(data, np.ndarray):\n",
    "                raise TypeError('{} is not supported'.format(type(data)))\n",
    "\n",
    "        self.data = data\n",
    "        self.grad = None\n",
    "        self.creator = None\n",
    "\n",
    "    def set_creator(self, func):\n",
    "        self.creator = func\n",
    "        \n",
    "    def backward(self):\n",
    "        if self.grad is None:\n",
    "            self.grad = np.ones_like(self. data)\n",
    "            \n",
    "        funcs = [self.creator]\n",
    "        while funcs:\n",
    "            f = funcs.pop()\n",
    "            x, y = f.input, f.output # 함수의 입출력을 얻는다\n",
    "            x.grad = f.backward(y.grad) # backward 메서드를 호출한다.\n",
    "            \n",
    "            if x.creator is not None:\n",
    "                funcs.append(x.creator)"
   ]
  },
  {
   "cell_type": "code",
   "execution_count": 20,
   "id": "complex-angel",
   "metadata": {},
   "outputs": [],
   "source": [
    "class Variable:\n",
    "    def __init__(self, data):\n",
    "        if data is not None:\n",
    "            if not isinstance(data, np.ndarray):\n",
    "                raise TypeError('{} is not supported'.format(type(data)))\n",
    "\n",
    "        self.data = data\n",
    "        self.grad = None\n",
    "        self.creator = None\n",
    "\n",
    "    def set_creator(self, func):\n",
    "        self.creator = func\n",
    "        \n",
    "    def backward(self):\n",
    "        if self.grad is None:\n",
    "            self.grad = np.ones_like(self.data)\n",
    "            \n",
    "        funcs = [self.creator]\n",
    "        while funcs:\n",
    "            f = funcs.pop()\n",
    "            gys = [output.grad for output in f.outputs]\n",
    "            gxs = f.backward(*gys)\n",
    "            if not isinstance(gxs, tuple):\n",
    "                gxs = (gxs, )\n",
    "                \n",
    "            for x, gx in zip(f.inputs, gxs):\n",
    "                x.grad = gx\n",
    "                \n",
    "                if x.creator is not None:\n",
    "                    funcs.append(x.creator)"
   ]
  },
  {
   "cell_type": "markdown",
   "id": "portable-wright",
   "metadata": {},
   "source": [
    "### Square 클래스 구현"
   ]
  },
  {
   "cell_type": "code",
   "execution_count": 21,
   "id": "dynamic-wagon",
   "metadata": {},
   "outputs": [],
   "source": [
    "class Square(Function):\n",
    "    def forward(self, x):\n",
    "        y = x**2\n",
    "        return y\n",
    "    \n",
    "    def backward(self, gy):\n",
    "        x = self.inputs[0].data # 수정 전: x = self.input.data\n",
    "        gx = 2 * x * gy\n",
    "        return gx"
   ]
  },
  {
   "cell_type": "code",
   "execution_count": 22,
   "id": "looking-object",
   "metadata": {},
   "outputs": [],
   "source": [
    "def square(x):\n",
    "    f = Square()\n",
    "    return f(x)"
   ]
  },
  {
   "cell_type": "code",
   "execution_count": 23,
   "id": "adolescent-damages",
   "metadata": {},
   "outputs": [
    {
     "name": "stdout",
     "output_type": "stream",
     "text": [
      "13.0\n",
      "4.0\n",
      "6.0\n"
     ]
    }
   ],
   "source": [
    "x = Variable(np.array(2.0))\n",
    "y = Variable(np.array(3.0))\n",
    "\n",
    "z = add(square(x), square(y))\n",
    "z.backward()\n",
    "print (z.data)\n",
    "print (x.grad)\n",
    "print (y.grad)"
   ]
  },
  {
   "cell_type": "markdown",
   "id": "aerial-saudi",
   "metadata": {},
   "source": []
  },
  {
   "cell_type": "markdown",
   "id": "sitting-spectrum",
   "metadata": {},
   "source": [
    "## Step14. 같은 변수 반복 사용"
   ]
  },
  {
   "cell_type": "markdown",
   "id": "single-encounter",
   "metadata": {},
   "source": [
    "### 문제의 원인"
   ]
  },
  {
   "cell_type": "code",
   "execution_count": 24,
   "id": "middle-cooper",
   "metadata": {},
   "outputs": [],
   "source": [
    "class Variable:\n",
    "    def __init__(self, data):\n",
    "        if data is not None:\n",
    "            if not isinstance(data, np.ndarray):\n",
    "                raise TypeError('{} is not supported'.format(type(data)))\n",
    "\n",
    "        self.data = data\n",
    "        self.grad = None\n",
    "        self.creator = None\n",
    "\n",
    "    def set_creator(self, func):\n",
    "        self.creator = func\n",
    "        \n",
    "    def backward(self):\n",
    "        if self.grad is None:\n",
    "            self.grad = np.ones_like(self.data)\n",
    "            \n",
    "        funcs = [self.creator]\n",
    "        while funcs:\n",
    "            f = funcs.pop()\n",
    "            gys = [output.grad for output in f.outputs]\n",
    "            gxs = f.backward(*gys)\n",
    "            if not isinstance(gxs, tuple):\n",
    "                gxs = (gxs, )\n",
    "                \n",
    "            for x, gx in zip(f.inputs, gxs):\n",
    "                x.grad = gx # 여기가 실수!\n",
    "                \n",
    "                if x.creator is not None:\n",
    "                    funcs.append(x.creator)"
   ]
  },
  {
   "cell_type": "code",
   "execution_count": 25,
   "id": "lovely-payday",
   "metadata": {},
   "outputs": [],
   "source": [
    "class Variable:\n",
    "    def __init__(self, data):\n",
    "        if data is not None:\n",
    "            if not isinstance(data, np.ndarray):\n",
    "                raise TypeError('{} is not supported'.format(type(data)))\n",
    "\n",
    "        self.data = data\n",
    "        self.grad = None\n",
    "        self.creator = None\n",
    "\n",
    "    def set_creator(self, func):\n",
    "        self.creator = func\n",
    "        \n",
    "    def backward(self):\n",
    "        if self.grad is None:\n",
    "            self.grad = np.ones_like(self.data)\n",
    "            \n",
    "        funcs = [self.creator]\n",
    "        while funcs:\n",
    "            f = funcs.pop()\n",
    "            gys = [output.grad for output in f.outputs]\n",
    "            gxs = f.backward(*gys)\n",
    "            if not isinstance(gxs, tuple):\n",
    "                gxs = (gxs, )\n",
    "                \n",
    "            for x, gx in zip(f.inputs, gxs):\n",
    "                if x.grad is None:\n",
    "                    x.grad = gx\n",
    "                else:\n",
    "                    x.grad = x.grad + gx\n",
    "                \n",
    "                if x.creator is not None:\n",
    "                    funcs.append(x.creator)"
   ]
  },
  {
   "cell_type": "code",
   "execution_count": 26,
   "id": "after-heater",
   "metadata": {},
   "outputs": [
    {
     "name": "stdout",
     "output_type": "stream",
     "text": [
      "2.0\n"
     ]
    }
   ],
   "source": [
    "x = Variable(np.array(3.0))\n",
    "y = add(x, x)\n",
    "y.backward()\n",
    "print (x.grad)"
   ]
  },
  {
   "cell_type": "code",
   "execution_count": 27,
   "id": "amazing-analyst",
   "metadata": {},
   "outputs": [
    {
     "name": "stdout",
     "output_type": "stream",
     "text": [
      "3.0\n"
     ]
    }
   ],
   "source": [
    "x = Variable(np.array(3.0))\n",
    "y = add(add(x, x),x)\n",
    "y.backward()\n",
    "print (x.grad)"
   ]
  },
  {
   "cell_type": "markdown",
   "id": "surrounded-forwarding",
   "metadata": {},
   "source": [
    "### 미분값 재설정"
   ]
  },
  {
   "cell_type": "code",
   "execution_count": 28,
   "id": "organic-kinase",
   "metadata": {},
   "outputs": [],
   "source": [
    "class Variable:\n",
    "    def __init__(self, data):\n",
    "        if data is not None:\n",
    "            if not isinstance(data, np.ndarray):\n",
    "                raise TypeError('{} is not supported'.format(type(data)))\n",
    "\n",
    "        self.data = data\n",
    "        self.grad = None\n",
    "        self.creator = None\n",
    "\n",
    "    def set_creator(self, func):\n",
    "        self.creator = func\n",
    "        \n",
    "    def backward(self):\n",
    "        if self.grad is None:\n",
    "            self.grad = np.ones_like(self.data)\n",
    "            \n",
    "        funcs = [self.creator]\n",
    "        while funcs:\n",
    "            f = funcs.pop()\n",
    "            gys = [output.grad for output in f.outputs]\n",
    "            gxs = f.backward(*gys)\n",
    "            if not isinstance(gxs, tuple):\n",
    "                gxs = (gxs, )\n",
    "                \n",
    "            for x, gx in zip(f.inputs, gxs):\n",
    "                if x.grad is None:\n",
    "                    x.grad = gx\n",
    "                else:\n",
    "                    x.grad = x.grad + gx\n",
    "                \n",
    "                if x.creator is not None:\n",
    "                    funcs.append(x.creator)\n",
    "                    \n",
    "    def cleargrad(self):\n",
    "        self.grad = None"
   ]
  },
  {
   "cell_type": "code",
   "execution_count": 29,
   "id": "willing-great",
   "metadata": {},
   "outputs": [
    {
     "name": "stdout",
     "output_type": "stream",
     "text": [
      "2.0\n",
      "3.0\n"
     ]
    }
   ],
   "source": [
    "# 첫 번째 계산\n",
    "x = Variable(np.array(3.0))\n",
    "y = add(x, x)\n",
    "y.backward()\n",
    "print (x.grad)\n",
    "\n",
    "# 두 번째 계산(같은 x를 사용하여 다른 계산을 수행)\n",
    "x.cleargrad()\n",
    "y = add(add(x, x),x)\n",
    "y.backward()\n",
    "print (x.grad)"
   ]
  },
  {
   "cell_type": "markdown",
   "id": "enormous-religious",
   "metadata": {},
   "source": []
  },
  {
   "cell_type": "markdown",
   "id": "genuine-following",
   "metadata": {},
   "source": [
    "## Step15. 복잡한 계산 그래프(이론 편)"
   ]
  },
  {
   "attachments": {
    "image.png": {
     "image/png": "[encoded data removed]"
    }
   },
   "cell_type": "markdown",
   "id": "peaceful-charles",
   "metadata": {},
   "source": [
    "file:///home/aiffel/Downloads/%EB%B0%91%EB%B0%94%EB%8B%A53%20%EA%B7%B8%EB%A6%BC%EA%B3%BC%20%EC%88%98%EC%8B%9D/%EA%B7%B8%EB%A6%BC%2015-8.png![image.png](attachment:image.png)"
   ]
  },
  {
   "cell_type": "markdown",
   "id": "roman-owner",
   "metadata": {},
   "source": []
  },
  {
   "cell_type": "markdown",
   "id": "relative-economics",
   "metadata": {},
   "source": [
    "## Step16. 복잡한 계산 그래프(구현 편)"
   ]
  },
  {
   "cell_type": "markdown",
   "id": "democratic-thumb",
   "metadata": {},
   "source": [
    "### 세대 추가"
   ]
  },
  {
   "cell_type": "code",
   "execution_count": 30,
   "id": "concerned-number",
   "metadata": {},
   "outputs": [],
   "source": [
    "class Variable:\n",
    "    def __init__(self, data):\n",
    "        if data is not None:\n",
    "            if not isinstance(data, np.ndarray):\n",
    "                raise TypeError('{}은(는) 지원하지 않습니다.'.format(type(data)))\n",
    "                \n",
    "        self.data = data\n",
    "        self.grad = None\n",
    "        self.creator = None\n",
    "        self.generation = 0 # 세대 수를 기록하는 변수\n",
    "        \n",
    "    def set_creator(self, func):\n",
    "        self.creator = func\n",
    "        self.generation = func.generation + 1 # 세대를 기록한다(부모 세대 +1).\n",
    "        \n",
    "    def backward(self):\n",
    "        if self.grad is None:\n",
    "            self.grad = np.ones_like(self.data)\n",
    "            \n",
    "        funcs = [self.creator]\n",
    "        while funcs:\n",
    "            f = funcs.pop()\n",
    "            gys = [output.grad for output in f.outputs]\n",
    "            gxs = f.backward(*gys)\n",
    "            if not isinstance(gxs, tuple):\n",
    "                gxs = (gxs, )\n",
    "                \n",
    "            for x, gx in zip(f.inputs, gxs):\n",
    "                if x.grad is None:\n",
    "                    x.grad = gx\n",
    "                else:\n",
    "                    x.grad = x.grad + gx\n",
    "                \n",
    "                if x.creator is not None:\n",
    "                    funcs.append(x.creator)\n",
    "                    \n",
    "    def cleargrad(self):\n",
    "        self.grad = None"
   ]
  },
  {
   "cell_type": "code",
   "execution_count": 31,
   "id": "closing-oliver",
   "metadata": {},
   "outputs": [],
   "source": [
    "class Function(object):\n",
    "    def __call__(self, *inputs):\n",
    "        xs = [x.data for x in inputs]\n",
    "        ys = self.forward(*xs)\n",
    "        if not isinstance(ys, tuple):\n",
    "            ys = (ys, )\n",
    "        outputs = [Variable(as_array(y)) for y in ys]\n",
    "        \n",
    "        self.generation = max([x.generation for x in inputs])\n",
    "        for output in outputs:\n",
    "            output.set_creator(self)\n",
    "        self.inputs = inputs\n",
    "        self.outputs = outputs\n",
    "        return outputs if len(outputs) > 1 else outputs[0]\n",
    "    \n",
    "    def forward(self, xs):\n",
    "        raise NotImplementedError()\n",
    "\n",
    "    def backward(self, gys):\n",
    "        raise NotImplementedError()\n"
   ]
  },
  {
   "cell_type": "markdown",
   "id": "universal-rebound",
   "metadata": {},
   "source": [
    "### 세대 순으로 꺼내기"
   ]
  },
  {
   "cell_type": "code",
   "execution_count": 32,
   "id": "spanish-likelihood",
   "metadata": {},
   "outputs": [
    {
     "data": {
      "text/plain": [
       "[2, 0, 1, 4, 2]"
      ]
     },
     "execution_count": 32,
     "metadata": {},
     "output_type": "execute_result"
    }
   ],
   "source": [
    "generations = [2, 0, 1, 4, 2]\n",
    "funcs = []\n",
    "\n",
    "for g in generations:\n",
    "    f = Function() # 더미 함수 클래스\n",
    "    f.generation = g\n",
    "    funcs.append(f)\n",
    "    \n",
    "[f.generation for f in funcs]"
   ]
  },
  {
   "cell_type": "code",
   "execution_count": 33,
   "id": "attached-processing",
   "metadata": {},
   "outputs": [
    {
     "data": {
      "text/plain": [
       "[0, 1, 2, 2, 4]"
      ]
     },
     "execution_count": 33,
     "metadata": {},
     "output_type": "execute_result"
    }
   ],
   "source": [
    "funcs.sort(key = lambda x: x.generation) # 리스트 정렬\n",
    "[f.generation for f in funcs]"
   ]
  },
  {
   "cell_type": "code",
   "execution_count": 34,
   "id": "false-physics",
   "metadata": {},
   "outputs": [
    {
     "data": {
      "text/plain": [
       "4"
      ]
     },
     "execution_count": 34,
     "metadata": {},
     "output_type": "execute_result"
    }
   ],
   "source": [
    "f = funcs.pop()\n",
    "f.generation"
   ]
  },
  {
   "cell_type": "markdown",
   "id": "sharp-process",
   "metadata": {},
   "source": [
    "### Variable 클래스의 backward"
   ]
  },
  {
   "cell_type": "code",
   "execution_count": 35,
   "id": "happy-convergence",
   "metadata": {},
   "outputs": [],
   "source": [
    "class Variable:\n",
    "    def __init__(self, data):\n",
    "        if data is not None:\n",
    "            if not isinstance(data, np.ndarray):\n",
    "                raise TypeError('{}은(는) 지원하지 않습니다.'.format(type(data)))\n",
    "                \n",
    "        self.data = data\n",
    "        self.grad = None\n",
    "        self.creator = None\n",
    "        self.generation = 0 # 세대 수를 기록하는 변수\n",
    "        \n",
    "    def set_creator(self, func):\n",
    "        self.creator = func\n",
    "        self.generation = func.generation + 1 # 세대를 기록한다(부모 세대 +1).\n",
    "        \n",
    "    def backward(self):\n",
    "        if self.grad is None:\n",
    "            self.grad = np.ones_like(self.data)\n",
    "            \n",
    "        funcs = []\n",
    "        seen_set = set()\n",
    "        \n",
    "        def add_func(f):\n",
    "            if f not in seen_set:\n",
    "                funcs.append(f)\n",
    "                seen_set.add(f)\n",
    "                funcs.sort(key=lambda x: x.generation)\n",
    "                \n",
    "        add_func(self.creator)\n",
    "        \n",
    "        while funcs:\n",
    "            f = funcs.pop()\n",
    "            gys = [output.grad for output in f.outputs]\n",
    "            gxs = f.backward(*gys)\n",
    "            if not isinstance(gxs, tuple):\n",
    "                gxs = (gxs, )\n",
    "                \n",
    "            for x, gx in zip(f.inputs, gxs):\n",
    "                if x.grad is None:\n",
    "                    x.grad = gx\n",
    "                else:\n",
    "                    x.grad = x.grad + gx\n",
    "                    \n",
    "                if x.creator is not None:\n",
    "                    add_func(x.creator) # 수정 전: funcs.append(x.creator)"
   ]
  },
  {
   "cell_type": "markdown",
   "id": "handed-vegetation",
   "metadata": {},
   "source": [
    "### 동작 확인"
   ]
  },
  {
   "cell_type": "code",
   "execution_count": 36,
   "id": "together-flush",
   "metadata": {},
   "outputs": [],
   "source": [
    "class Square(Function):\n",
    "    def forward(self, x):\n",
    "        y = x ** 2\n",
    "        return y\n",
    "\n",
    "    def backward(self, gy):\n",
    "        x = self.inputs[0].data\n",
    "        gx = 2 * x * gy\n",
    "        return gx\n",
    "\n",
    "\n",
    "def square(x):\n",
    "    return Square()(x)"
   ]
  },
  {
   "cell_type": "code",
   "execution_count": 37,
   "id": "fleet-calgary",
   "metadata": {},
   "outputs": [],
   "source": [
    "class Add(Function):\n",
    "    def forward(self, x0, x1):\n",
    "        y = x0 + x1\n",
    "        return y\n",
    "\n",
    "    def backward(self, gy):\n",
    "        return gy, gy\n",
    "\n",
    "\n",
    "def add(x0, x1):\n",
    "    return Add()(x0, x1)"
   ]
  },
  {
   "cell_type": "code",
   "execution_count": 38,
   "id": "removed-walker",
   "metadata": {},
   "outputs": [
    {
     "name": "stdout",
     "output_type": "stream",
     "text": [
      "32.0\n",
      "64.0\n"
     ]
    }
   ],
   "source": [
    "x = Variable(np.array(2.0))\n",
    "a = square(x)\n",
    "y = add(square(a), square(a))\n",
    "y.backward()\n",
    "\n",
    "print (y.data)\n",
    "print (x.grad)"
   ]
  },
  {
   "cell_type": "markdown",
   "id": "passive-prospect",
   "metadata": {},
   "source": []
  },
  {
   "cell_type": "markdown",
   "id": "hispanic-horizontal",
   "metadata": {},
   "source": [
    "## Step17. 메모리 관리와 순환 참조"
   ]
  },
  {
   "cell_type": "markdown",
   "id": "selected-median",
   "metadata": {},
   "source": [
    "### weakref 모듈"
   ]
  },
  {
   "cell_type": "code",
   "execution_count": 39,
   "id": "about-thomson",
   "metadata": {},
   "outputs": [
    {
     "data": {
      "text/plain": [
       "<weakref at 0x7f59ec9ed1d0; to 'numpy.ndarray' at 0x7f59eca68760>"
      ]
     },
     "execution_count": 39,
     "metadata": {},
     "output_type": "execute_result"
    }
   ],
   "source": [
    "import weakref\n",
    "import numpy as np\n",
    "\n",
    "a = np.array([1,2,3])\n",
    "b = weakref.ref(a)\n",
    "\n",
    "b"
   ]
  },
  {
   "cell_type": "code",
   "execution_count": 40,
   "id": "ordinary-intention",
   "metadata": {},
   "outputs": [
    {
     "data": {
      "text/plain": [
       "<weakref at 0x7f59ec9ed1d0; dead>"
      ]
     },
     "execution_count": 40,
     "metadata": {},
     "output_type": "execute_result"
    }
   ],
   "source": [
    "a = None\n",
    "b"
   ]
  },
  {
   "cell_type": "code",
   "execution_count": 41,
   "id": "consolidated-start",
   "metadata": {},
   "outputs": [],
   "source": [
    "class Function(object):\n",
    "    def __call__(self, *inputs):\n",
    "        xs = [x.data for x in inputs]\n",
    "        ys = self.forward(*xs)\n",
    "        if not isinstance(ys, tuple):\n",
    "            ys = (ys, )\n",
    "        outputs = [Variable(as_array(y)) for y in ys]\n",
    "        \n",
    "        self.generation = max([x.generation for x in inputs])\n",
    "        for output in outputs:\n",
    "            output.set_creator(self)\n",
    "        self.inputs = inputs\n",
    "        self.outputs = [weakref.ref(output) for output in outputs]\n",
    "        return outputs if len(outputs) > 1 else outputs[0]\n",
    "    \n",
    "    def forward(self, xs):\n",
    "        raise NotImplementedError()\n",
    "\n",
    "    def backward(self, gys):\n",
    "        raise NotImplementedError()"
   ]
  },
  {
   "cell_type": "code",
   "execution_count": 42,
   "id": "dependent-macro",
   "metadata": {},
   "outputs": [],
   "source": [
    "class Variable:\n",
    "    def __init__(self, data):\n",
    "        if data is not None:\n",
    "            if not isinstance(data, np.ndarray):\n",
    "                raise TypeError('{}은(는) 지원하지 않습니다.'.format(type(data)))\n",
    "                \n",
    "        self.data = data\n",
    "        self.grad = None\n",
    "        self.creator = None\n",
    "        self.generation = 0 # 세대 수를 기록하는 변수\n",
    "        \n",
    "    def set_creator(self, func):\n",
    "        self.creator = func\n",
    "        self.generation = func.generation + 1 # 세대를 기록한다(부모 세대 +1).\n",
    "        \n",
    "    def backward(self):\n",
    "        if self.grad is None:\n",
    "            self.grad = np.ones_like(self.data)\n",
    "            \n",
    "        funcs = []\n",
    "        seen_set = set()\n",
    "        \n",
    "        def add_func(f):\n",
    "            if f not in seen_set:\n",
    "                funcs.append(f)\n",
    "                seen_set.add(f)\n",
    "                funcs.sort(key=lambda x: x.generation)\n",
    "                \n",
    "        add_func(self.creator)\n",
    "        \n",
    "        while funcs:\n",
    "            f = funcs.pop()\n",
    "            # 수정 전: gys = [output.grad for output in f.outputs] \n",
    "            gys = [output().grad for output in f.outputs]\n",
    "            gxs = f.backward(*gys)\n",
    "            if not isinstance(gxs, tuple):\n",
    "                gxs = (gxs, )\n",
    "                \n",
    "            for x, gx in zip(f.inputs, gxs):\n",
    "                if x.grad is None:\n",
    "                    x.grad = gx\n",
    "                else:\n",
    "                    x.grad = x.grad + gx\n",
    "                    \n",
    "                if x.creator is not None:\n",
    "                    add_func(x.creator)"
   ]
  },
  {
   "cell_type": "markdown",
   "id": "friendly-software",
   "metadata": {},
   "source": [
    "### 동작 확인"
   ]
  },
  {
   "cell_type": "code",
   "execution_count": 43,
   "id": "introductory-armstrong",
   "metadata": {},
   "outputs": [],
   "source": [
    "for i in range(10):\n",
    "    x = Variable(np.random.randn(10000)) # 거대한 데이터\n",
    "    y = square(square(square(x)))"
   ]
  },
  {
   "cell_type": "markdown",
   "id": "ranging-diagnosis",
   "metadata": {},
   "source": []
  },
  {
   "cell_type": "markdown",
   "id": "developed-karen",
   "metadata": {},
   "source": [
    "## Step18. 메모리 절약 모드"
   ]
  },
  {
   "cell_type": "markdown",
   "id": "marine-fitness",
   "metadata": {},
   "source": [
    "### 필요 없는 미분값 삭제"
   ]
  },
  {
   "cell_type": "code",
   "execution_count": 47,
   "id": "micro-stockholm",
   "metadata": {},
   "outputs": [],
   "source": [
    "import numpy as np\n",
    "\n",
    "class Variable:\n",
    "    def __init__(self, data):\n",
    "        if data is not None:\n",
    "            if not isinstance(data, np.ndarray):\n",
    "                raise TypeError('{} is not supported'.format(type(data)))\n",
    "\n",
    "        self.data = data\n",
    "        self.grad = None\n",
    "        self.creator = None\n",
    "        self.generation = 0\n",
    "\n",
    "    def set_creator(self, func):\n",
    "        self.creator = func\n",
    "        self.generation = func.generation + 1\n",
    "\n",
    "    def cleargrad(self):\n",
    "        self.grad = None\n",
    "\n",
    "    def backward(self, retain_grad=False):\n",
    "        if self.grad is None:\n",
    "            self.grad = np.ones_like(self.data)\n",
    "\n",
    "        funcs = []\n",
    "        seen_set = set()\n",
    "\n",
    "        def add_func(f):\n",
    "            if f not in seen_set:\n",
    "                funcs.append(f)\n",
    "                seen_set.add(f)\n",
    "                funcs.sort(key=lambda x: x.generation)\n",
    "\n",
    "        add_func(self.creator)\n",
    "\n",
    "        while funcs:\n",
    "            f = funcs.pop()\n",
    "            gys = [output().grad for output in f.outputs]  # output is weakref\n",
    "            gxs = f.backward(*gys)\n",
    "            if not isinstance(gxs, tuple):\n",
    "                gxs = (gxs,)\n",
    "\n",
    "            for x, gx in zip(f.inputs, gxs):\n",
    "                if x.grad is None:\n",
    "                    x.grad = gx\n",
    "                else:\n",
    "                    x.grad = x.grad + gx\n",
    "\n",
    "                if x.creator is not None:\n",
    "                    add_func(x.creator)\n",
    "\n",
    "            if not retain_grad:\n",
    "                for y in f.outputs:\n",
    "                    y().grad = None  # y is weakref"
   ]
  },
  {
   "cell_type": "code",
   "execution_count": 48,
   "id": "combined-ranch",
   "metadata": {
    "collapsed": true
   },
   "outputs": [
    {
     "ename": "TypeError",
     "evalue": "'Variable' object is not callable",
     "output_type": "error",
     "traceback": [
      "\u001b[0;31m---------------------------------------------------------------------------\u001b[0m",
      "\u001b[0;31mTypeError\u001b[0m                                 Traceback (most recent call last)",
      "\u001b[0;32m<ipython-input-48-caef47451754>\u001b[0m in \u001b[0;36m<module>\u001b[0;34m\u001b[0m\n\u001b[1;32m      3\u001b[0m \u001b[0mt\u001b[0m \u001b[0;34m=\u001b[0m \u001b[0madd\u001b[0m\u001b[0;34m(\u001b[0m\u001b[0mx0\u001b[0m\u001b[0;34m,\u001b[0m \u001b[0mx1\u001b[0m\u001b[0;34m)\u001b[0m\u001b[0;34m\u001b[0m\u001b[0;34m\u001b[0m\u001b[0m\n\u001b[1;32m      4\u001b[0m \u001b[0my\u001b[0m \u001b[0;34m=\u001b[0m \u001b[0madd\u001b[0m\u001b[0;34m(\u001b[0m\u001b[0mx0\u001b[0m\u001b[0;34m,\u001b[0m \u001b[0mt\u001b[0m\u001b[0;34m)\u001b[0m\u001b[0;34m\u001b[0m\u001b[0;34m\u001b[0m\u001b[0m\n\u001b[0;32m----> 5\u001b[0;31m \u001b[0my\u001b[0m\u001b[0;34m.\u001b[0m\u001b[0mbackward\u001b[0m\u001b[0;34m(\u001b[0m\u001b[0;34m)\u001b[0m\u001b[0;34m\u001b[0m\u001b[0;34m\u001b[0m\u001b[0m\n\u001b[0m\u001b[1;32m      6\u001b[0m \u001b[0mprint\u001b[0m\u001b[0;34m(\u001b[0m\u001b[0my\u001b[0m\u001b[0;34m.\u001b[0m\u001b[0mgrad\u001b[0m\u001b[0;34m,\u001b[0m \u001b[0mt\u001b[0m\u001b[0;34m.\u001b[0m\u001b[0mgrad\u001b[0m\u001b[0;34m)\u001b[0m  \u001b[0;31m# None None\u001b[0m\u001b[0;34m\u001b[0m\u001b[0;34m\u001b[0m\u001b[0m\n\u001b[1;32m      7\u001b[0m \u001b[0mprint\u001b[0m\u001b[0;34m(\u001b[0m\u001b[0mx0\u001b[0m\u001b[0;34m.\u001b[0m\u001b[0mgrad\u001b[0m\u001b[0;34m,\u001b[0m \u001b[0mx1\u001b[0m\u001b[0;34m.\u001b[0m\u001b[0mgrad\u001b[0m\u001b[0;34m)\u001b[0m  \u001b[0;31m# 2.0 1.0\u001b[0m\u001b[0;34m\u001b[0m\u001b[0;34m\u001b[0m\u001b[0m\n",
      "\u001b[0;32m<ipython-input-47-e8e55bc4680a>\u001b[0m in \u001b[0;36mbackward\u001b[0;34m(self, retain_grad)\u001b[0m\n\u001b[1;32m     36\u001b[0m         \u001b[0;32mwhile\u001b[0m \u001b[0mfuncs\u001b[0m\u001b[0;34m:\u001b[0m\u001b[0;34m\u001b[0m\u001b[0;34m\u001b[0m\u001b[0m\n\u001b[1;32m     37\u001b[0m             \u001b[0mf\u001b[0m \u001b[0;34m=\u001b[0m \u001b[0mfuncs\u001b[0m\u001b[0;34m.\u001b[0m\u001b[0mpop\u001b[0m\u001b[0;34m(\u001b[0m\u001b[0;34m)\u001b[0m\u001b[0;34m\u001b[0m\u001b[0;34m\u001b[0m\u001b[0m\n\u001b[0;32m---> 38\u001b[0;31m             \u001b[0mgys\u001b[0m \u001b[0;34m=\u001b[0m \u001b[0;34m[\u001b[0m\u001b[0moutput\u001b[0m\u001b[0;34m(\u001b[0m\u001b[0;34m)\u001b[0m\u001b[0;34m.\u001b[0m\u001b[0mgrad\u001b[0m \u001b[0;32mfor\u001b[0m \u001b[0moutput\u001b[0m \u001b[0;32min\u001b[0m \u001b[0mf\u001b[0m\u001b[0;34m.\u001b[0m\u001b[0moutputs\u001b[0m\u001b[0;34m]\u001b[0m  \u001b[0;31m# output is weakref\u001b[0m\u001b[0;34m\u001b[0m\u001b[0;34m\u001b[0m\u001b[0m\n\u001b[0m\u001b[1;32m     39\u001b[0m             \u001b[0mgxs\u001b[0m \u001b[0;34m=\u001b[0m \u001b[0mf\u001b[0m\u001b[0;34m.\u001b[0m\u001b[0mbackward\u001b[0m\u001b[0;34m(\u001b[0m\u001b[0;34m*\u001b[0m\u001b[0mgys\u001b[0m\u001b[0;34m)\u001b[0m\u001b[0;34m\u001b[0m\u001b[0;34m\u001b[0m\u001b[0m\n\u001b[1;32m     40\u001b[0m             \u001b[0;32mif\u001b[0m \u001b[0;32mnot\u001b[0m \u001b[0misinstance\u001b[0m\u001b[0;34m(\u001b[0m\u001b[0mgxs\u001b[0m\u001b[0;34m,\u001b[0m \u001b[0mtuple\u001b[0m\u001b[0;34m)\u001b[0m\u001b[0;34m:\u001b[0m\u001b[0;34m\u001b[0m\u001b[0;34m\u001b[0m\u001b[0m\n",
      "\u001b[0;32m<ipython-input-47-e8e55bc4680a>\u001b[0m in \u001b[0;36m<listcomp>\u001b[0;34m(.0)\u001b[0m\n\u001b[1;32m     36\u001b[0m         \u001b[0;32mwhile\u001b[0m \u001b[0mfuncs\u001b[0m\u001b[0;34m:\u001b[0m\u001b[0;34m\u001b[0m\u001b[0;34m\u001b[0m\u001b[0m\n\u001b[1;32m     37\u001b[0m             \u001b[0mf\u001b[0m \u001b[0;34m=\u001b[0m \u001b[0mfuncs\u001b[0m\u001b[0;34m.\u001b[0m\u001b[0mpop\u001b[0m\u001b[0;34m(\u001b[0m\u001b[0;34m)\u001b[0m\u001b[0;34m\u001b[0m\u001b[0;34m\u001b[0m\u001b[0m\n\u001b[0;32m---> 38\u001b[0;31m             \u001b[0mgys\u001b[0m \u001b[0;34m=\u001b[0m \u001b[0;34m[\u001b[0m\u001b[0moutput\u001b[0m\u001b[0;34m(\u001b[0m\u001b[0;34m)\u001b[0m\u001b[0;34m.\u001b[0m\u001b[0mgrad\u001b[0m \u001b[0;32mfor\u001b[0m \u001b[0moutput\u001b[0m \u001b[0;32min\u001b[0m \u001b[0mf\u001b[0m\u001b[0;34m.\u001b[0m\u001b[0moutputs\u001b[0m\u001b[0;34m]\u001b[0m  \u001b[0;31m# output is weakref\u001b[0m\u001b[0;34m\u001b[0m\u001b[0;34m\u001b[0m\u001b[0m\n\u001b[0m\u001b[1;32m     39\u001b[0m             \u001b[0mgxs\u001b[0m \u001b[0;34m=\u001b[0m \u001b[0mf\u001b[0m\u001b[0;34m.\u001b[0m\u001b[0mbackward\u001b[0m\u001b[0;34m(\u001b[0m\u001b[0;34m*\u001b[0m\u001b[0mgys\u001b[0m\u001b[0;34m)\u001b[0m\u001b[0;34m\u001b[0m\u001b[0;34m\u001b[0m\u001b[0m\n\u001b[1;32m     40\u001b[0m             \u001b[0;32mif\u001b[0m \u001b[0;32mnot\u001b[0m \u001b[0misinstance\u001b[0m\u001b[0;34m(\u001b[0m\u001b[0mgxs\u001b[0m\u001b[0;34m,\u001b[0m \u001b[0mtuple\u001b[0m\u001b[0;34m)\u001b[0m\u001b[0;34m:\u001b[0m\u001b[0;34m\u001b[0m\u001b[0;34m\u001b[0m\u001b[0m\n",
      "\u001b[0;31mTypeError\u001b[0m: 'Variable' object is not callable"
     ]
    }
   ],
   "source": [
    "x0 = Variable(np.array(1.0))\n",
    "x1 = Variable(np.array(1.0))\n",
    "t = add(x0, x1)\n",
    "y = add(x0, t)\n",
    "y.backward()\n",
    "print(y.grad, t.grad)  # None None\n",
    "print(x0.grad, x1.grad)  # 2.0 1.0"
   ]
  },
  {
   "cell_type": "markdown",
   "id": "miniature-cherry",
   "metadata": {},
   "source": [
    "### Function 클래스 복습"
   ]
  },
  {
   "cell_type": "code",
   "execution_count": 49,
   "id": "marine-albert",
   "metadata": {},
   "outputs": [],
   "source": [
    "class Function(object):\n",
    "    def __call__(self, *inputs):\n",
    "        xs = [x.data for x in inputs]\n",
    "        ys = self.forward(*xs)\n",
    "        if not isinstance(ys, tuple):\n",
    "            ys = (ys, )\n",
    "        outputs = [Variable(as_array(y)) for y in ys]\n",
    "        \n",
    "        self.generation = max([x.generation for x in inputs])\n",
    "        for output in outputs:\n",
    "            output.set_creator(self)\n",
    "        self.inputs = inputs\n",
    "        self.outputs = [weakref.ref(output) for output in outputs]\n",
    "        return outputs if len(outputs) > 1 else outputs[0]\n",
    "    \n",
    "    def forward(self, xs):\n",
    "        raise NotImplementedError()\n",
    "\n",
    "    def backward(self, gys):\n",
    "        raise NotImplementedError()"
   ]
  },
  {
   "cell_type": "markdown",
   "id": "patent-location",
   "metadata": {},
   "source": [
    "### Config 클래스를 활용한 모드 전환"
   ]
  },
  {
   "cell_type": "code",
   "execution_count": 50,
   "id": "recovered-region",
   "metadata": {},
   "outputs": [],
   "source": [
    "class Config:\n",
    "    enable_backprop = True"
   ]
  },
  {
   "cell_type": "code",
   "execution_count": 51,
   "id": "characteristic-advance",
   "metadata": {},
   "outputs": [],
   "source": [
    "class Function:\n",
    "    def __call__(self, *inputs):\n",
    "        xs = [x.data for x in inputs]\n",
    "        ys = self.forward(*xs)\n",
    "        if not isinstance(ys, tuple):\n",
    "            ys = (ys,)\n",
    "        outputs = [Variable(as_array(y)) for y in ys]\n",
    "\n",
    "        if Config.enable_backprop:\n",
    "            self.generation = max([x.generation for x in inputs]) # 세대 설정\n",
    "            for output in outputs:\n",
    "                output.set_creator(self) # 연결 설정\n",
    "            self.inputs = inputs\n",
    "            self.outputs = [weakref.ref(output) for output in outputs]\n",
    "\n",
    "        return outputs if len(outputs) > 1 else outputs[0]\n",
    "\n",
    "    def forward(self, xs):\n",
    "        raise NotImplementedError()\n",
    "\n",
    "    def backward(self, gys):\n",
    "        raise NotImplementedError()"
   ]
  },
  {
   "cell_type": "markdown",
   "id": "cathedral-clothing",
   "metadata": {},
   "source": [
    "### 모드 전환"
   ]
  },
  {
   "cell_type": "code",
   "execution_count": 52,
   "id": "plastic-spectrum",
   "metadata": {},
   "outputs": [
    {
     "ename": "TypeError",
     "evalue": "'Variable' object is not callable",
     "output_type": "error",
     "traceback": [
      "\u001b[0;31m---------------------------------------------------------------------------\u001b[0m",
      "\u001b[0;31mTypeError\u001b[0m                                 Traceback (most recent call last)",
      "\u001b[0;32m<ipython-input-52-1480f814a104>\u001b[0m in \u001b[0;36m<module>\u001b[0;34m\u001b[0m\n\u001b[1;32m      2\u001b[0m \u001b[0mx\u001b[0m \u001b[0;34m=\u001b[0m \u001b[0mVariable\u001b[0m\u001b[0;34m(\u001b[0m\u001b[0mnp\u001b[0m\u001b[0;34m.\u001b[0m\u001b[0mones\u001b[0m\u001b[0;34m(\u001b[0m\u001b[0;34m(\u001b[0m\u001b[0;36m100\u001b[0m\u001b[0;34m,\u001b[0m \u001b[0;36m100\u001b[0m\u001b[0;34m,\u001b[0m \u001b[0;36m100\u001b[0m\u001b[0;34m)\u001b[0m\u001b[0;34m)\u001b[0m\u001b[0;34m)\u001b[0m\u001b[0;34m\u001b[0m\u001b[0;34m\u001b[0m\u001b[0m\n\u001b[1;32m      3\u001b[0m \u001b[0my\u001b[0m \u001b[0;34m=\u001b[0m \u001b[0msquare\u001b[0m\u001b[0;34m(\u001b[0m\u001b[0msquare\u001b[0m\u001b[0;34m(\u001b[0m\u001b[0msquare\u001b[0m\u001b[0;34m(\u001b[0m\u001b[0mx\u001b[0m\u001b[0;34m)\u001b[0m\u001b[0;34m)\u001b[0m\u001b[0;34m)\u001b[0m\u001b[0;34m\u001b[0m\u001b[0;34m\u001b[0m\u001b[0m\n\u001b[0;32m----> 4\u001b[0;31m \u001b[0my\u001b[0m\u001b[0;34m.\u001b[0m\u001b[0mbackward\u001b[0m\u001b[0;34m(\u001b[0m\u001b[0;34m)\u001b[0m\u001b[0;34m\u001b[0m\u001b[0;34m\u001b[0m\u001b[0m\n\u001b[0m\u001b[1;32m      5\u001b[0m \u001b[0;34m\u001b[0m\u001b[0m\n\u001b[1;32m      6\u001b[0m \u001b[0mConfig\u001b[0m\u001b[0;34m.\u001b[0m\u001b[0menable_backprop\u001b[0m \u001b[0;34m=\u001b[0m \u001b[0;32mFalse\u001b[0m\u001b[0;34m\u001b[0m\u001b[0;34m\u001b[0m\u001b[0m\n",
      "\u001b[0;32m<ipython-input-47-e8e55bc4680a>\u001b[0m in \u001b[0;36mbackward\u001b[0;34m(self, retain_grad)\u001b[0m\n\u001b[1;32m     36\u001b[0m         \u001b[0;32mwhile\u001b[0m \u001b[0mfuncs\u001b[0m\u001b[0;34m:\u001b[0m\u001b[0;34m\u001b[0m\u001b[0;34m\u001b[0m\u001b[0m\n\u001b[1;32m     37\u001b[0m             \u001b[0mf\u001b[0m \u001b[0;34m=\u001b[0m \u001b[0mfuncs\u001b[0m\u001b[0;34m.\u001b[0m\u001b[0mpop\u001b[0m\u001b[0;34m(\u001b[0m\u001b[0;34m)\u001b[0m\u001b[0;34m\u001b[0m\u001b[0;34m\u001b[0m\u001b[0m\n\u001b[0;32m---> 38\u001b[0;31m             \u001b[0mgys\u001b[0m \u001b[0;34m=\u001b[0m \u001b[0;34m[\u001b[0m\u001b[0moutput\u001b[0m\u001b[0;34m(\u001b[0m\u001b[0;34m)\u001b[0m\u001b[0;34m.\u001b[0m\u001b[0mgrad\u001b[0m \u001b[0;32mfor\u001b[0m \u001b[0moutput\u001b[0m \u001b[0;32min\u001b[0m \u001b[0mf\u001b[0m\u001b[0;34m.\u001b[0m\u001b[0moutputs\u001b[0m\u001b[0;34m]\u001b[0m  \u001b[0;31m# output is weakref\u001b[0m\u001b[0;34m\u001b[0m\u001b[0;34m\u001b[0m\u001b[0m\n\u001b[0m\u001b[1;32m     39\u001b[0m             \u001b[0mgxs\u001b[0m \u001b[0;34m=\u001b[0m \u001b[0mf\u001b[0m\u001b[0;34m.\u001b[0m\u001b[0mbackward\u001b[0m\u001b[0;34m(\u001b[0m\u001b[0;34m*\u001b[0m\u001b[0mgys\u001b[0m\u001b[0;34m)\u001b[0m\u001b[0;34m\u001b[0m\u001b[0;34m\u001b[0m\u001b[0m\n\u001b[1;32m     40\u001b[0m             \u001b[0;32mif\u001b[0m \u001b[0;32mnot\u001b[0m \u001b[0misinstance\u001b[0m\u001b[0;34m(\u001b[0m\u001b[0mgxs\u001b[0m\u001b[0;34m,\u001b[0m \u001b[0mtuple\u001b[0m\u001b[0;34m)\u001b[0m\u001b[0;34m:\u001b[0m\u001b[0;34m\u001b[0m\u001b[0;34m\u001b[0m\u001b[0m\n",
      "\u001b[0;32m<ipython-input-47-e8e55bc4680a>\u001b[0m in \u001b[0;36m<listcomp>\u001b[0;34m(.0)\u001b[0m\n\u001b[1;32m     36\u001b[0m         \u001b[0;32mwhile\u001b[0m \u001b[0mfuncs\u001b[0m\u001b[0;34m:\u001b[0m\u001b[0;34m\u001b[0m\u001b[0;34m\u001b[0m\u001b[0m\n\u001b[1;32m     37\u001b[0m             \u001b[0mf\u001b[0m \u001b[0;34m=\u001b[0m \u001b[0mfuncs\u001b[0m\u001b[0;34m.\u001b[0m\u001b[0mpop\u001b[0m\u001b[0;34m(\u001b[0m\u001b[0;34m)\u001b[0m\u001b[0;34m\u001b[0m\u001b[0;34m\u001b[0m\u001b[0m\n\u001b[0;32m---> 38\u001b[0;31m             \u001b[0mgys\u001b[0m \u001b[0;34m=\u001b[0m \u001b[0;34m[\u001b[0m\u001b[0moutput\u001b[0m\u001b[0;34m(\u001b[0m\u001b[0;34m)\u001b[0m\u001b[0;34m.\u001b[0m\u001b[0mgrad\u001b[0m \u001b[0;32mfor\u001b[0m \u001b[0moutput\u001b[0m \u001b[0;32min\u001b[0m \u001b[0mf\u001b[0m\u001b[0;34m.\u001b[0m\u001b[0moutputs\u001b[0m\u001b[0;34m]\u001b[0m  \u001b[0;31m# output is weakref\u001b[0m\u001b[0;34m\u001b[0m\u001b[0;34m\u001b[0m\u001b[0m\n\u001b[0m\u001b[1;32m     39\u001b[0m             \u001b[0mgxs\u001b[0m \u001b[0;34m=\u001b[0m \u001b[0mf\u001b[0m\u001b[0;34m.\u001b[0m\u001b[0mbackward\u001b[0m\u001b[0;34m(\u001b[0m\u001b[0;34m*\u001b[0m\u001b[0mgys\u001b[0m\u001b[0;34m)\u001b[0m\u001b[0;34m\u001b[0m\u001b[0;34m\u001b[0m\u001b[0m\n\u001b[1;32m     40\u001b[0m             \u001b[0;32mif\u001b[0m \u001b[0;32mnot\u001b[0m \u001b[0misinstance\u001b[0m\u001b[0;34m(\u001b[0m\u001b[0mgxs\u001b[0m\u001b[0;34m,\u001b[0m \u001b[0mtuple\u001b[0m\u001b[0;34m)\u001b[0m\u001b[0;34m:\u001b[0m\u001b[0;34m\u001b[0m\u001b[0;34m\u001b[0m\u001b[0m\n",
      "\u001b[0;31mTypeError\u001b[0m: 'Variable' object is not callable"
     ]
    }
   ],
   "source": [
    "Config.enable_backprop = True\n",
    "x = Variable(np.ones((100, 100, 100)))\n",
    "y = square(square(square(x)))\n",
    "y.backward()\n",
    "\n",
    "Config.enable_backprop = False\n",
    "x = Variable(np.ones((100, 100, 100)))\n",
    "y = square(square(square(x)))"
   ]
  },
  {
   "cell_type": "markdown",
   "id": "published-arrest",
   "metadata": {},
   "source": [
    "### with 문을 활용한 모드 전환"
   ]
  },
  {
   "cell_type": "code",
   "execution_count": 53,
   "id": "renewable-shaft",
   "metadata": {},
   "outputs": [],
   "source": [
    "import contextlib\n",
    "\n",
    "@contextlib.contextmanager\n",
    "def using_config(name, value):\n",
    "    old_value = getattr(Config, name)\n",
    "    setattr(Config, name, value)\n",
    "    try:\n",
    "        yield\n",
    "    finally:\n",
    "        setattr(Config, name, old_value)"
   ]
  },
  {
   "cell_type": "code",
   "execution_count": 54,
   "id": "guilty-offer",
   "metadata": {},
   "outputs": [],
   "source": [
    "with using_config('enable_backprop', False):\n",
    "    x = Variable(np.array(2.0))\n",
    "    y = square(x)"
   ]
  },
  {
   "cell_type": "code",
   "execution_count": 55,
   "id": "interstate-detector",
   "metadata": {},
   "outputs": [],
   "source": [
    "def no_grad():\n",
    "    return using_config('enable_backprop', False)\n",
    "\n",
    "with no_grad():\n",
    "    x = Variable(np.array(2.0))\n",
    "    y = square(x)"
   ]
  },
  {
   "cell_type": "markdown",
   "id": "demanding-stuff",
   "metadata": {},
   "source": []
  },
  {
   "cell_type": "markdown",
   "id": "tested-briefs",
   "metadata": {},
   "source": [
    "## Step19. 변수 사용성 개선"
   ]
  },
  {
   "cell_type": "markdown",
   "id": "relative-laptop",
   "metadata": {},
   "source": [
    "### 변수 이름 지정"
   ]
  },
  {
   "cell_type": "code",
   "execution_count": 56,
   "id": "catholic-nirvana",
   "metadata": {},
   "outputs": [],
   "source": [
    "class Variable:\n",
    "    def __init__(self, data, name=None):\n",
    "        if data is not None:\n",
    "            if not isinstance(data, np.ndarray):\n",
    "                raise TypeError('{} is not supported'.format(type(data)))\n",
    "                \n",
    "        self.data = data\n",
    "        self.name = name\n",
    "        self.grad = None\n",
    "        self.creator = None\n",
    "        self.generation = 0\n",
    "        \n",
    "    def set_creator(self, func):\n",
    "        self.creator = func\n",
    "        self.generation = func.generation + 1\n",
    "\n",
    "    def cleargrad(self):\n",
    "        self.grad = None\n",
    "\n",
    "    def backward(self, retain_grad=False):\n",
    "        if self.grad is None:\n",
    "            self.grad = np.ones_like(self.data)\n",
    "\n",
    "        funcs = []\n",
    "        seen_set = set()\n",
    "\n",
    "        def add_func(f):\n",
    "            if f not in seen_set:\n",
    "                funcs.append(f)\n",
    "                seen_set.add(f)\n",
    "                funcs.sort(key=lambda x: x.generation)\n",
    "\n",
    "        add_func(self.creator)\n",
    "\n",
    "        while funcs:\n",
    "            f = funcs.pop()\n",
    "            gys = [output().grad for output in f.outputs]  # output is weakref\n",
    "            gxs = f.backward(*gys)\n",
    "            if not isinstance(gxs, tuple):\n",
    "                gxs = (gxs,)\n",
    "\n",
    "            for x, gx in zip(f.inputs, gxs):\n",
    "                if x.grad is None:\n",
    "                    x.grad = gx\n",
    "                else:\n",
    "                    x.grad = x.grad + gx\n",
    "\n",
    "                if x.creator is not None:\n",
    "                    add_func(x.creator)\n",
    "\n",
    "            if not retain_grad:\n",
    "                for y in f.outputs:\n",
    "                    y().grad = None  # y is weakref"
   ]
  },
  {
   "cell_type": "markdown",
   "id": "smooth-feature",
   "metadata": {},
   "source": [
    "### ndarray 인스턴스 변수"
   ]
  },
  {
   "cell_type": "code",
   "execution_count": 57,
   "id": "expanded-grant",
   "metadata": {},
   "outputs": [],
   "source": [
    "class Variable:\n",
    "    def __init__(self, data, name=None):\n",
    "        if data is not None:\n",
    "            if not isinstance(data, np.ndarray):\n",
    "                raise TypeError('{} is not supported'.format(type(data)))\n",
    "                \n",
    "        self.data = data\n",
    "        self.name = name\n",
    "        self.grad = None\n",
    "        self.creator = None\n",
    "        self.generation = 0\n",
    "    \n",
    "    @property\n",
    "    def shape(self):\n",
    "        return self.data.shape"
   ]
  },
  {
   "cell_type": "code",
   "execution_count": 58,
   "id": "widespread-version",
   "metadata": {},
   "outputs": [
    {
     "name": "stdout",
     "output_type": "stream",
     "text": [
      "(2, 3)\n"
     ]
    }
   ],
   "source": [
    "x = Variable(np.array([[1,2,3],[4,5,6]]))\n",
    "print (x.shape)"
   ]
  },
  {
   "cell_type": "code",
   "execution_count": 59,
   "id": "large-painting",
   "metadata": {},
   "outputs": [],
   "source": [
    "class Variable:\n",
    "    def __init__(self, data, name=None):\n",
    "        if data is not None:\n",
    "            if not isinstance(data, np.ndarray):\n",
    "                raise TypeError('{} is not supported'.format(type(data)))\n",
    "                \n",
    "        self.data = data\n",
    "        self.name = name\n",
    "        self.grad = None\n",
    "        self.creator = None\n",
    "        self.generation = 0\n",
    "    \n",
    "    @property\n",
    "    def shape(self):\n",
    "        return self.data.shape\n",
    "    \n",
    "    @property\n",
    "    def ndim(self):\n",
    "        return self.data.ndim\n",
    "    \n",
    "    @property\n",
    "    def size(self):\n",
    "        return self.data.size\n",
    "    \n",
    "    @property\n",
    "    def dtype(self):\n",
    "        return self.data.dtype"
   ]
  },
  {
   "cell_type": "markdown",
   "id": "developmental-keeping",
   "metadata": {},
   "source": [
    "### len 함수와 print 함수"
   ]
  },
  {
   "cell_type": "code",
   "execution_count": 60,
   "id": "prerequisite-cleaning",
   "metadata": {},
   "outputs": [],
   "source": [
    "class Variable:\n",
    "    def __init__(self, data, name=None):\n",
    "        if data is not None:\n",
    "            if not isinstance(data, np.ndarray):\n",
    "                raise TypeError('{} is not supported'.format(type(data)))\n",
    "                \n",
    "        self.data = data\n",
    "        self.name = name\n",
    "        self.grad = None\n",
    "        self.creator = None\n",
    "        self.generation = 0\n",
    "    \n",
    "    @property\n",
    "    def shape(self):\n",
    "        return self.data.shape\n",
    "    \n",
    "    @property\n",
    "    def ndim(self):\n",
    "        return self.data.ndim\n",
    "    \n",
    "    @property\n",
    "    def size(self):\n",
    "        return self.data.size\n",
    "    \n",
    "    @property\n",
    "    def dtype(self):\n",
    "        return self.data.dtype\n",
    "    \n",
    "    def __len__(self):\n",
    "        return len(self.data)"
   ]
  },
  {
   "cell_type": "code",
   "execution_count": 61,
   "id": "commercial-there",
   "metadata": {},
   "outputs": [
    {
     "name": "stdout",
     "output_type": "stream",
     "text": [
      "2\n"
     ]
    }
   ],
   "source": [
    "x = Variable(np.array([[1,2,3],[4,5,6]]))\n",
    "print (len(x))"
   ]
  },
  {
   "cell_type": "code",
   "execution_count": 63,
   "id": "established-vault",
   "metadata": {},
   "outputs": [],
   "source": [
    "class Variable:\n",
    "    def __init__(self, data, name=None):\n",
    "        if data is not None:\n",
    "            if not isinstance(data, np.ndarray):\n",
    "                raise TypeError('{} is not supported'.format(type(data)))\n",
    "\n",
    "        self.data = data\n",
    "        self.name = name\n",
    "        self.grad = None\n",
    "        self.creator = None\n",
    "        self.generation = 0\n",
    "\n",
    "    @property\n",
    "    def shape(self):\n",
    "        return self.data.shape\n",
    "\n",
    "    @property\n",
    "    def ndim(self):\n",
    "        return self.data.ndim\n",
    "\n",
    "    @property\n",
    "    def size(self):\n",
    "        return self.data.size\n",
    "\n",
    "    @property\n",
    "    def dtype(self):\n",
    "        return self.data.dtype\n",
    "\n",
    "    def __len__(self):\n",
    "        return len(self.data)\n",
    "\n",
    "    def __repr__(self):\n",
    "        if self.data is None:\n",
    "            return 'variable(None)'\n",
    "        p = str(self.data).replace('\\n', '\\n' + ' ' * 9)\n",
    "        return 'variable(' + p + ')'\n",
    "\n",
    "    def set_creator(self, func):\n",
    "        self.creator = func\n",
    "        self.generation = func.generation + 1\n",
    "\n",
    "    def cleargrad(self):\n",
    "        self.grad = None\n",
    "\n",
    "    def backward(self, retain_grad=False):\n",
    "        if self.grad is None:\n",
    "            self.grad = np.ones_like(self.data)\n",
    "\n",
    "        funcs = []\n",
    "        seen_set = set()\n",
    "\n",
    "        def add_func(f):\n",
    "            if f not in seen_set:\n",
    "                funcs.append(f)\n",
    "                seen_set.add(f)\n",
    "                funcs.sort(key=lambda x: x.generation)\n",
    "\n",
    "        add_func(self.creator)\n",
    "\n",
    "        while funcs:\n",
    "            f = funcs.pop()\n",
    "            gys = [output().grad for output in f.outputs]  # output is weakref\n",
    "            gxs = f.backward(*gys)\n",
    "            if not isinstance(gxs, tuple):\n",
    "                gxs = (gxs,)\n",
    "\n",
    "            for x, gx in zip(f.inputs, gxs):\n",
    "                if x.grad is None:\n",
    "                    x.grad = gx\n",
    "                else:\n",
    "                    x.grad = x.grad + gx\n",
    "\n",
    "                if x.creator is not None:\n",
    "                    add_func(x.creator)\n",
    "\n",
    "            if not retain_grad:\n",
    "                for y in f.outputs:\n",
    "                    y().grad = None  # y is weakref"
   ]
  },
  {
   "cell_type": "markdown",
   "id": "tribal-valuation",
   "metadata": {},
   "source": []
  },
  {
   "cell_type": "markdown",
   "id": "known-leisure",
   "metadata": {},
   "source": [
    "## Step20. 연산자 오버로드(1)"
   ]
  },
  {
   "cell_type": "markdown",
   "id": "resistant-aircraft",
   "metadata": {},
   "source": [
    "### Mul 클래스 구현"
   ]
  },
  {
   "cell_type": "code",
   "execution_count": 86,
   "id": "essential-argentina",
   "metadata": {},
   "outputs": [],
   "source": [
    "class Variable:\n",
    "    def __init__(self, data, name=None):\n",
    "        if data is not None:\n",
    "            if not isinstance(data, np.ndarray):\n",
    "                raise TypeError('{} is not supported'.format(type(data)))\n",
    "\n",
    "        self.data = data\n",
    "        self.name = name\n",
    "        self.grad = None\n",
    "        self.creator = None\n",
    "        self.generation = 0\n",
    "\n",
    "    @property\n",
    "    def shape(self):\n",
    "        return self.data.shape\n",
    "\n",
    "    @property\n",
    "    def ndim(self):\n",
    "        return self.data.ndim\n",
    "\n",
    "    @property\n",
    "    def size(self):\n",
    "        return self.data.size\n",
    "\n",
    "    @property\n",
    "    def dtype(self):\n",
    "        return self.data.dtype\n",
    "\n",
    "    def __len__(self):\n",
    "        return len(self.data)\n",
    "\n",
    "    def __repr__(self):\n",
    "        if self.data is None:\n",
    "            return 'variable(None)'\n",
    "        p = str(self.data).replace('\\n', '\\n' + ' ' * 9)\n",
    "        return 'variable(' + p + ')'\n",
    "\n",
    "    def set_creator(self, func):\n",
    "        self.creator = func\n",
    "        self.generation = func.generation + 1\n",
    "\n",
    "    def cleargrad(self):\n",
    "        self.grad = None\n",
    "\n",
    "    def backward(self, retain_grad=False):\n",
    "        if self.grad is None:\n",
    "            self.grad = np.ones_like(self.data)\n",
    "\n",
    "        funcs = []\n",
    "        seen_set = set()\n",
    "\n",
    "        def add_func(f):\n",
    "            if f not in seen_set:\n",
    "                funcs.append(f)\n",
    "                seen_set.add(f)\n",
    "                funcs.sort(key=lambda x: x.generation)\n",
    "\n",
    "        add_func(self.creator)\n",
    "\n",
    "        while funcs:\n",
    "            f = funcs.pop()\n",
    "            gys = [output().grad for output in f.outputs]  # output is weakref\n",
    "            gxs = f.backward(*gys)\n",
    "            if not isinstance(gxs, tuple):\n",
    "                gxs = (gxs,)\n",
    "\n",
    "            for x, gx in zip(f.inputs, gxs):\n",
    "                if x.grad is None:\n",
    "                    x.grad = gx\n",
    "                else:\n",
    "                    x.grad = x.grad + gx\n",
    "\n",
    "                if x.creator is not None:\n",
    "                    add_func(x.creator)\n",
    "\n",
    "            if not retain_grad:\n",
    "                for y in f.outputs:\n",
    "                    y().grad = None  # y is weakref\n",
    "\n",
    "\n",
    "def as_array(x):\n",
    "    if np.isscalar(x):\n",
    "        return np.array(x)\n",
    "    return x"
   ]
  },
  {
   "cell_type": "code",
   "execution_count": 87,
   "id": "genuine-master",
   "metadata": {},
   "outputs": [],
   "source": [
    "Variable.__add__ = add\n",
    "Variable.__mul__ = mul"
   ]
  },
  {
   "cell_type": "code",
   "execution_count": 88,
   "id": "suburban-ministry",
   "metadata": {},
   "outputs": [],
   "source": [
    "class Function:\n",
    "    def __call__(self, *inputs):\n",
    "        xs = [x.data for x in inputs]\n",
    "        ys = self.forward(*xs)\n",
    "        if not isinstance(ys, tuple):\n",
    "            ys = (ys,)\n",
    "        outputs = [Variable(as_array(y)) for y in ys]\n",
    "\n",
    "        if Config.enable_backprop:\n",
    "            self.generation = max([x.generation for x in inputs])\n",
    "            for output in outputs:\n",
    "                output.set_creator(self)\n",
    "            self.inputs = inputs\n",
    "            self.outputs = [weakref.ref(output) for output in outputs]\n",
    "\n",
    "        return outputs if len(outputs) > 1 else outputs[0]\n",
    "\n",
    "    def forward(self, xs):\n",
    "        raise NotImplementedError()\n",
    "\n",
    "    def backward(self, gys):\n",
    "        raise NotImplementedError()"
   ]
  },
  {
   "cell_type": "code",
   "execution_count": 89,
   "id": "afraid-bhutan",
   "metadata": {},
   "outputs": [],
   "source": [
    "class Mul(Function):\n",
    "    def forward(self, x0, x1):\n",
    "        y = x0 * x1\n",
    "        return y\n",
    "    \n",
    "    def backward(self, gy):\n",
    "        x0, x1 = self.inputs[0].data, self.inputs[1].data\n",
    "        return gy * x1, gy * x0"
   ]
  },
  {
   "cell_type": "code",
   "execution_count": 90,
   "id": "peripheral-banana",
   "metadata": {},
   "outputs": [],
   "source": [
    "def mul(x0, x1):\n",
    "    return Mul()(x0, x1)"
   ]
  },
  {
   "cell_type": "code",
   "execution_count": 94,
   "id": "revised-watershed",
   "metadata": {
    "collapsed": true
   },
   "outputs": [
    {
     "ename": "TypeError",
     "evalue": "'Variable' object is not callable",
     "output_type": "error",
     "traceback": [
      "\u001b[0;31m---------------------------------------------------------------------------\u001b[0m",
      "\u001b[0;31mTypeError\u001b[0m                                 Traceback (most recent call last)",
      "\u001b[0;32m<ipython-input-94-996d4b8f61ec>\u001b[0m in \u001b[0;36m<module>\u001b[0;34m\u001b[0m\n\u001b[1;32m      5\u001b[0m \u001b[0my\u001b[0m \u001b[0;34m=\u001b[0m \u001b[0madd\u001b[0m\u001b[0;34m(\u001b[0m\u001b[0mmul\u001b[0m\u001b[0;34m(\u001b[0m\u001b[0ma\u001b[0m\u001b[0;34m,\u001b[0m \u001b[0mb\u001b[0m\u001b[0;34m)\u001b[0m\u001b[0;34m,\u001b[0m \u001b[0mc\u001b[0m\u001b[0;34m)\u001b[0m\u001b[0;34m\u001b[0m\u001b[0;34m\u001b[0m\u001b[0m\n\u001b[1;32m      6\u001b[0m \u001b[0;31m# y = a * b + c\u001b[0m\u001b[0;34m\u001b[0m\u001b[0;34m\u001b[0m\u001b[0;34m\u001b[0m\u001b[0m\n\u001b[0;32m----> 7\u001b[0;31m \u001b[0my\u001b[0m\u001b[0;34m.\u001b[0m\u001b[0mbackward\u001b[0m\u001b[0;34m(\u001b[0m\u001b[0;34m)\u001b[0m\u001b[0;34m\u001b[0m\u001b[0;34m\u001b[0m\u001b[0m\n\u001b[0m\u001b[1;32m      8\u001b[0m \u001b[0;34m\u001b[0m\u001b[0m\n\u001b[1;32m      9\u001b[0m \u001b[0mprint\u001b[0m\u001b[0;34m(\u001b[0m\u001b[0my\u001b[0m\u001b[0;34m)\u001b[0m\u001b[0;34m\u001b[0m\u001b[0;34m\u001b[0m\u001b[0m\n",
      "\u001b[0;32m<ipython-input-92-55ef6927dd7b>\u001b[0m in \u001b[0;36mbackward\u001b[0;34m(self, retain_grad)\u001b[0m\n\u001b[1;32m     63\u001b[0m         \u001b[0;32mwhile\u001b[0m \u001b[0mfuncs\u001b[0m\u001b[0;34m:\u001b[0m\u001b[0;34m\u001b[0m\u001b[0;34m\u001b[0m\u001b[0m\n\u001b[1;32m     64\u001b[0m             \u001b[0mf\u001b[0m \u001b[0;34m=\u001b[0m \u001b[0mfuncs\u001b[0m\u001b[0;34m.\u001b[0m\u001b[0mpop\u001b[0m\u001b[0;34m(\u001b[0m\u001b[0;34m)\u001b[0m\u001b[0;34m\u001b[0m\u001b[0;34m\u001b[0m\u001b[0m\n\u001b[0;32m---> 65\u001b[0;31m             \u001b[0mgys\u001b[0m \u001b[0;34m=\u001b[0m \u001b[0;34m[\u001b[0m\u001b[0moutput\u001b[0m\u001b[0;34m(\u001b[0m\u001b[0;34m)\u001b[0m\u001b[0;34m.\u001b[0m\u001b[0mgrad\u001b[0m \u001b[0;32mfor\u001b[0m \u001b[0moutput\u001b[0m \u001b[0;32min\u001b[0m \u001b[0mf\u001b[0m\u001b[0;34m.\u001b[0m\u001b[0moutputs\u001b[0m\u001b[0;34m]\u001b[0m  \u001b[0;31m# output is weakref\u001b[0m\u001b[0;34m\u001b[0m\u001b[0;34m\u001b[0m\u001b[0m\n\u001b[0m\u001b[1;32m     66\u001b[0m             \u001b[0mgxs\u001b[0m \u001b[0;34m=\u001b[0m \u001b[0mf\u001b[0m\u001b[0;34m.\u001b[0m\u001b[0mbackward\u001b[0m\u001b[0;34m(\u001b[0m\u001b[0;34m*\u001b[0m\u001b[0mgys\u001b[0m\u001b[0;34m)\u001b[0m\u001b[0;34m\u001b[0m\u001b[0;34m\u001b[0m\u001b[0m\n\u001b[1;32m     67\u001b[0m             \u001b[0;32mif\u001b[0m \u001b[0;32mnot\u001b[0m \u001b[0misinstance\u001b[0m\u001b[0;34m(\u001b[0m\u001b[0mgxs\u001b[0m\u001b[0;34m,\u001b[0m \u001b[0mtuple\u001b[0m\u001b[0;34m)\u001b[0m\u001b[0;34m:\u001b[0m\u001b[0;34m\u001b[0m\u001b[0;34m\u001b[0m\u001b[0m\n",
      "\u001b[0;32m<ipython-input-92-55ef6927dd7b>\u001b[0m in \u001b[0;36m<listcomp>\u001b[0;34m(.0)\u001b[0m\n\u001b[1;32m     63\u001b[0m         \u001b[0;32mwhile\u001b[0m \u001b[0mfuncs\u001b[0m\u001b[0;34m:\u001b[0m\u001b[0;34m\u001b[0m\u001b[0;34m\u001b[0m\u001b[0m\n\u001b[1;32m     64\u001b[0m             \u001b[0mf\u001b[0m \u001b[0;34m=\u001b[0m \u001b[0mfuncs\u001b[0m\u001b[0;34m.\u001b[0m\u001b[0mpop\u001b[0m\u001b[0;34m(\u001b[0m\u001b[0;34m)\u001b[0m\u001b[0;34m\u001b[0m\u001b[0;34m\u001b[0m\u001b[0m\n\u001b[0;32m---> 65\u001b[0;31m             \u001b[0mgys\u001b[0m \u001b[0;34m=\u001b[0m \u001b[0;34m[\u001b[0m\u001b[0moutput\u001b[0m\u001b[0;34m(\u001b[0m\u001b[0;34m)\u001b[0m\u001b[0;34m.\u001b[0m\u001b[0mgrad\u001b[0m \u001b[0;32mfor\u001b[0m \u001b[0moutput\u001b[0m \u001b[0;32min\u001b[0m \u001b[0mf\u001b[0m\u001b[0;34m.\u001b[0m\u001b[0moutputs\u001b[0m\u001b[0;34m]\u001b[0m  \u001b[0;31m# output is weakref\u001b[0m\u001b[0;34m\u001b[0m\u001b[0;34m\u001b[0m\u001b[0m\n\u001b[0m\u001b[1;32m     66\u001b[0m             \u001b[0mgxs\u001b[0m \u001b[0;34m=\u001b[0m \u001b[0mf\u001b[0m\u001b[0;34m.\u001b[0m\u001b[0mbackward\u001b[0m\u001b[0;34m(\u001b[0m\u001b[0;34m*\u001b[0m\u001b[0mgys\u001b[0m\u001b[0;34m)\u001b[0m\u001b[0;34m\u001b[0m\u001b[0;34m\u001b[0m\u001b[0m\n\u001b[1;32m     67\u001b[0m             \u001b[0;32mif\u001b[0m \u001b[0;32mnot\u001b[0m \u001b[0misinstance\u001b[0m\u001b[0;34m(\u001b[0m\u001b[0mgxs\u001b[0m\u001b[0;34m,\u001b[0m \u001b[0mtuple\u001b[0m\u001b[0;34m)\u001b[0m\u001b[0;34m:\u001b[0m\u001b[0;34m\u001b[0m\u001b[0;34m\u001b[0m\u001b[0m\n",
      "\u001b[0;31mTypeError\u001b[0m: 'Variable' object is not callable"
     ]
    }
   ],
   "source": [
    "a = Variable(np.array(3.0))\n",
    "b = Variable(np.array(2.0))\n",
    "c = Variable(np.array(1.0))\n",
    "\n",
    "y = add(mul(a, b), c)\n",
    "# y = a * b + c\n",
    "y.backward()\n",
    "\n",
    "print(y)\n",
    "print(a.grad)\n",
    "print(b.grad)"
   ]
  },
  {
   "cell_type": "code",
   "execution_count": 92,
   "id": "minimal-ordinance",
   "metadata": {},
   "outputs": [],
   "source": [
    "class Variable:\n",
    "    def __init__(self, data, name=None):\n",
    "        if data is not None:\n",
    "            if not isinstance(data, np.ndarray):\n",
    "                raise TypeError('{} is not supported'.format(type(data)))\n",
    "\n",
    "        self.data = data\n",
    "        self.name = name\n",
    "        self.grad = None\n",
    "        self.creator = None\n",
    "        self.generation = 0\n",
    "\n",
    "    @property\n",
    "    def shape(self):\n",
    "        return self.data.shape\n",
    "\n",
    "    @property\n",
    "    def ndim(self):\n",
    "        return self.data.ndim\n",
    "\n",
    "    @property\n",
    "    def size(self):\n",
    "        return self.data.size\n",
    "\n",
    "    @property\n",
    "    def dtype(self):\n",
    "        return self.data.dtype\n",
    "\n",
    "    def __len__(self):\n",
    "        return len(self.data)\n",
    "\n",
    "    def __repr__(self):\n",
    "        if self.data is None:\n",
    "            return 'variable(None)'\n",
    "        p = str(self.data).replace('\\n', '\\n' + ' ' * 9)\n",
    "        return 'variable(' + p + ')'\n",
    "    \n",
    "    def __mul__(self, other):\n",
    "        return mul(self, other)\n",
    "    \n",
    "    def set_creator(self, func):\n",
    "        self.creator = func\n",
    "        self.generation = func.generation + 1\n",
    "\n",
    "    def cleargrad(self):\n",
    "        self.grad = None\n",
    "\n",
    "    def backward(self, retain_grad=False):\n",
    "        if self.grad is None:\n",
    "            self.grad = np.ones_like(self.data)\n",
    "\n",
    "        funcs = []\n",
    "        seen_set = set()\n",
    "\n",
    "        def add_func(f):\n",
    "            if f not in seen_set:\n",
    "                funcs.append(f)\n",
    "                seen_set.add(f)\n",
    "                funcs.sort(key=lambda x: x.generation)\n",
    "\n",
    "        add_func(self.creator)\n",
    "\n",
    "        while funcs:\n",
    "            f = funcs.pop()\n",
    "            gys = [output().grad for output in f.outputs]  # output is weakref\n",
    "            gxs = f.backward(*gys)\n",
    "            if not isinstance(gxs, tuple):\n",
    "                gxs = (gxs,)\n",
    "\n",
    "            for x, gx in zip(f.inputs, gxs):\n",
    "                if x.grad is None:\n",
    "                    x.grad = gx\n",
    "                else:\n",
    "                    x.grad = x.grad + gx\n",
    "\n",
    "                if x.creator is not None:\n",
    "                    add_func(x.creator)\n",
    "\n",
    "            if not retain_grad:\n",
    "                for y in f.outputs:\n",
    "                    y().grad = None  # y is weakref\n",
    "\n",
    "\n",
    "def as_array(x):\n",
    "    if np.isscalar(x):\n",
    "        return np.array(x)\n",
    "    return x"
   ]
  },
  {
   "cell_type": "code",
   "execution_count": 93,
   "id": "elegant-chart",
   "metadata": {},
   "outputs": [
    {
     "name": "stdout",
     "output_type": "stream",
     "text": [
      "variable(6.0)\n"
     ]
    }
   ],
   "source": [
    "a = Variable(np.array(3.0))\n",
    "b = Variable(np.array(2.0))\n",
    "y = a * b\n",
    "print (y)"
   ]
  },
  {
   "cell_type": "code",
   "execution_count": 95,
   "id": "understanding-catch",
   "metadata": {
    "collapsed": true
   },
   "outputs": [
    {
     "ename": "TypeError",
     "evalue": "unsupported operand type(s) for +: 'Variable' and 'Variable'",
     "output_type": "error",
     "traceback": [
      "\u001b[0;31m---------------------------------------------------------------------------\u001b[0m",
      "\u001b[0;31mTypeError\u001b[0m                                 Traceback (most recent call last)",
      "\u001b[0;32m<ipython-input-95-4206cb2453b8>\u001b[0m in \u001b[0;36m<module>\u001b[0;34m\u001b[0m\n\u001b[1;32m      4\u001b[0m \u001b[0;34m\u001b[0m\u001b[0m\n\u001b[1;32m      5\u001b[0m \u001b[0;31m# y = add(mul(a, b), c)\u001b[0m\u001b[0;34m\u001b[0m\u001b[0;34m\u001b[0m\u001b[0;34m\u001b[0m\u001b[0m\n\u001b[0;32m----> 6\u001b[0;31m \u001b[0my\u001b[0m \u001b[0;34m=\u001b[0m \u001b[0ma\u001b[0m \u001b[0;34m*\u001b[0m \u001b[0mb\u001b[0m \u001b[0;34m+\u001b[0m \u001b[0mc\u001b[0m\u001b[0;34m\u001b[0m\u001b[0;34m\u001b[0m\u001b[0m\n\u001b[0m\u001b[1;32m      7\u001b[0m \u001b[0my\u001b[0m\u001b[0;34m.\u001b[0m\u001b[0mbackward\u001b[0m\u001b[0;34m(\u001b[0m\u001b[0;34m)\u001b[0m\u001b[0;34m\u001b[0m\u001b[0;34m\u001b[0m\u001b[0m\n\u001b[1;32m      8\u001b[0m \u001b[0;34m\u001b[0m\u001b[0m\n",
      "\u001b[0;31mTypeError\u001b[0m: unsupported operand type(s) for +: 'Variable' and 'Variable'"
     ]
    }
   ],
   "source": [
    "a = Variable(np.array(3.0))\n",
    "b = Variable(np.array(2.0))\n",
    "c = Variable(np.array(1.0))\n",
    "\n",
    "# y = add(mul(a, b), c)\n",
    "y = a * b + c\n",
    "y.backward()\n",
    "\n",
    "print(y)\n",
    "print(a.grad)\n",
    "print(b.grad)"
   ]
  },
  {
   "cell_type": "code",
   "execution_count": null,
   "id": "fatty-public",
   "metadata": {},
   "outputs": [],
   "source": []
  }
 ],
 "metadata": {
  "kernelspec": {
   "display_name": "aiffel",
   "language": "python",
   "name": "aiffel"
  },
  "language_info": {
   "codemirror_mode": {
    "name": "ipython",
    "version": 3
   },
   "file_extension": ".py",
   "mimetype": "text/x-python",
   "name": "python",
   "nbconvert_exporter": "python",
   "pygments_lexer": "ipython3",
   "version": "3.7.6"
  }
 },
 "nbformat": 4,
 "nbformat_minor": 5
}
