{
 "cells": [
  {
   "cell_type": "markdown",
   "id": "informal-thunder",
   "metadata": {},
   "source": [
    "# $제 1고지$"
   ]
  },
  {
   "cell_type": "markdown",
   "id": "unauthorized-sitting",
   "metadata": {},
   "source": []
  },
  {
   "cell_type": "markdown",
   "id": "worldwide-living",
   "metadata": {},
   "source": [
    "## Step1. 상자로서의 변수"
   ]
  },
  {
   "cell_type": "markdown",
   "id": "inappropriate-hammer",
   "metadata": {},
   "source": [
    "### Variable 클래스 구현"
   ]
  },
  {
   "cell_type": "code",
   "execution_count": 14,
   "id": "weighted-child",
   "metadata": {},
   "outputs": [],
   "source": [
    "class Variable:\n",
    "    def __init__(self,data):\n",
    "        self.data = data"
   ]
  },
  {
   "cell_type": "code",
   "execution_count": 15,
   "id": "cognitive-burden",
   "metadata": {},
   "outputs": [
    {
     "name": "stdout",
     "output_type": "stream",
     "text": [
      "1.0\n"
     ]
    }
   ],
   "source": [
    "import numpy as np\n",
    "\n",
    "data = np.array(1.0)\n",
    "x = Variable(data)\n",
    "print (x.data)"
   ]
  },
  {
   "cell_type": "code",
   "execution_count": 16,
   "id": "hearing-permit",
   "metadata": {},
   "outputs": [
    {
     "name": "stdout",
     "output_type": "stream",
     "text": [
      "2.0\n"
     ]
    }
   ],
   "source": [
    "x.data = np.array(2.0)\n",
    "print (x.data)"
   ]
  },
  {
   "cell_type": "markdown",
   "id": "alive-merchandise",
   "metadata": {},
   "source": []
  },
  {
   "cell_type": "markdown",
   "id": "civilian-advertiser",
   "metadata": {},
   "source": [
    "## Step2. 변수를 낳는 함수"
   ]
  },
  {
   "cell_type": "markdown",
   "id": "continuous-titanium",
   "metadata": {},
   "source": [
    "### Function 클래스 구현"
   ]
  },
  {
   "cell_type": "code",
   "execution_count": 17,
   "id": "vocational-stone",
   "metadata": {},
   "outputs": [],
   "source": [
    "class Function:\n",
    "    def __call__(self, input):\n",
    "        x = input.data # 데이터를 꺼낸디\n",
    "        y = x**2 # 실제 계산\n",
    "        output = Variable(y) # Variable 형대로 되돌린다.\n",
    "        return output"
   ]
  },
  {
   "cell_type": "markdown",
   "id": "collaborative-oakland",
   "metadata": {},
   "source": [
    "### Function 클래스 이용"
   ]
  },
  {
   "cell_type": "code",
   "execution_count": 18,
   "id": "generic-darwin",
   "metadata": {},
   "outputs": [
    {
     "name": "stdout",
     "output_type": "stream",
     "text": [
      "<class '__main__.Variable'>\n",
      "100\n"
     ]
    }
   ],
   "source": [
    "x = Variable(np.array(10))\n",
    "f = Function()\n",
    "y = f(x)\n",
    "\n",
    "print (type(y))\n",
    "print (y.data)"
   ]
  },
  {
   "cell_type": "code",
   "execution_count": 19,
   "id": "quantitative-portland",
   "metadata": {},
   "outputs": [],
   "source": [
    "# Function 클래스 수정\n",
    "class Function:\n",
    "    def __call__(self, input):\n",
    "        x = input.data\n",
    "        y = self.forward(x)\n",
    "        output = Variable(y)\n",
    "        return output\n",
    "    \n",
    "    def forward(self, x):\n",
    "        raise NotImplementedError()"
   ]
  },
  {
   "cell_type": "code",
   "execution_count": 20,
   "id": "seven-great",
   "metadata": {},
   "outputs": [],
   "source": [
    "# Function 클래스를 상속받음\n",
    "class Square(Function):\n",
    "    def forward(self, x):\n",
    "        return x**2"
   ]
  },
  {
   "cell_type": "code",
   "execution_count": 12,
   "id": "atmospheric-absolute",
   "metadata": {},
   "outputs": [
    {
     "name": "stdout",
     "output_type": "stream",
     "text": [
      "<class '__main__.Variable'>\n",
      "100\n"
     ]
    }
   ],
   "source": [
    "x = Variable(np.array(10))\n",
    "f = Square()\n",
    "y = f(x)\n",
    "\n",
    "print (type(y))\n",
    "print (y.data)"
   ]
  },
  {
   "cell_type": "markdown",
   "id": "wicked-nightmare",
   "metadata": {},
   "source": []
  },
  {
   "cell_type": "markdown",
   "id": "worth-purse",
   "metadata": {},
   "source": [
    "## Step3. 함수연결"
   ]
  },
  {
   "cell_type": "markdown",
   "id": "negative-sponsorship",
   "metadata": {},
   "source": [
    "### Exp 함수 구현"
   ]
  },
  {
   "cell_type": "code",
   "execution_count": 21,
   "id": "addressed-graphic",
   "metadata": {},
   "outputs": [
    {
     "ename": "NameError",
     "evalue": "name 'Funtion' is not defined",
     "output_type": "error",
     "traceback": [
      "\u001b[0;31m---------------------------------------------------------------------------\u001b[0m",
      "\u001b[0;31mNameError\u001b[0m                                 Traceback (most recent call last)",
      "\u001b[0;32m<ipython-input-21-d6a8bd84d630>\u001b[0m in \u001b[0;36m<module>\u001b[0;34m\u001b[0m\n\u001b[0;32m----> 1\u001b[0;31m \u001b[0;32mclass\u001b[0m \u001b[0mExp\u001b[0m\u001b[0;34m(\u001b[0m\u001b[0mFuntion\u001b[0m\u001b[0;34m)\u001b[0m\u001b[0;34m:\u001b[0m\u001b[0;34m\u001b[0m\u001b[0;34m\u001b[0m\u001b[0m\n\u001b[0m\u001b[1;32m      2\u001b[0m     \u001b[0;32mdef\u001b[0m \u001b[0mforward\u001b[0m\u001b[0;34m(\u001b[0m\u001b[0mself\u001b[0m\u001b[0;34m,\u001b[0m \u001b[0mx\u001b[0m\u001b[0;34m)\u001b[0m\u001b[0;34m:\u001b[0m\u001b[0;34m\u001b[0m\u001b[0;34m\u001b[0m\u001b[0m\n\u001b[1;32m      3\u001b[0m         \u001b[0;32mreturn\u001b[0m \u001b[0mnp\u001b[0m\u001b[0;34m.\u001b[0m\u001b[0mexp\u001b[0m\u001b[0;34m(\u001b[0m\u001b[0mx\u001b[0m\u001b[0;34m)\u001b[0m\u001b[0;34m\u001b[0m\u001b[0;34m\u001b[0m\u001b[0m\n",
      "\u001b[0;31mNameError\u001b[0m: name 'Funtion' is not defined"
     ]
    }
   ],
   "source": [
    "class Exp(Funtion):\n",
    "    def forward(self, x):\n",
    "        return np.exp(x)"
   ]
  },
  {
   "cell_type": "markdown",
   "id": "satisfied-undergraduate",
   "metadata": {},
   "source": [
    "## 함수 연결"
   ]
  },
  {
   "cell_type": "code",
   "execution_count": 22,
   "id": "above-listening",
   "metadata": {},
   "outputs": [
    {
     "name": "stdout",
     "output_type": "stream",
     "text": [
      "1.648721270700128\n"
     ]
    }
   ],
   "source": [
    "A = Square()\n",
    "B = Exp()\n",
    "C = Square()\n",
    "\n",
    "x = Variable(np.array(0.5))\n",
    "a = A(x)\n",
    "b = B(a)\n",
    "y = C(b)\n",
    "\n",
    "print(y.data)"
   ]
  },
  {
   "cell_type": "markdown",
   "id": "several-prefix",
   "metadata": {},
   "source": []
  },
  {
   "cell_type": "markdown",
   "id": "stupid-toilet",
   "metadata": {},
   "source": [
    "## Step4. 수치 미분"
   ]
  },
  {
   "cell_type": "markdown",
   "id": "behavioral-vocabulary",
   "metadata": {},
   "source": [
    "### 수치 미분 구현"
   ]
  },
  {
   "cell_type": "code",
   "execution_count": 23,
   "id": "photographic-search",
   "metadata": {},
   "outputs": [],
   "source": [
    "def numerical_diff(f, x, eps=1e-4):\n",
    "    x0 = Variable(x.data - eps)\n",
    "    x1 = Variable(x.data + eps)\n",
    "    y0 = f(x0)\n",
    "    y1 = f(x1)\n",
    "    return (y1.data - y0.data) / (2*eps)"
   ]
  },
  {
   "cell_type": "code",
   "execution_count": 24,
   "id": "static-employment",
   "metadata": {},
   "outputs": [
    {
     "name": "stdout",
     "output_type": "stream",
     "text": [
      "4.000000000004\n"
     ]
    }
   ],
   "source": [
    "f = Square()\n",
    "x = Variable(np.array(2.0))\n",
    "dy = numerical_diff(f, x)\n",
    "print (dy)"
   ]
  },
  {
   "cell_type": "markdown",
   "id": "martial-innocent",
   "metadata": {},
   "source": [
    "### 합성 함수의 미분"
   ]
  },
  {
   "cell_type": "code",
   "execution_count": 25,
   "id": "average-thumb",
   "metadata": {},
   "outputs": [
    {
     "name": "stdout",
     "output_type": "stream",
     "text": [
      "3.2974426293330694\n"
     ]
    }
   ],
   "source": [
    "def f(x):\n",
    "    A = Square()\n",
    "    B = Exp()\n",
    "    C = Square()\n",
    "    return C(B(A(x)))\n",
    "\n",
    "x = Variable(np.array(0.5))\n",
    "dy = numerical_diff(f, x)\n",
    "print (dy)"
   ]
  },
  {
   "cell_type": "markdown",
   "id": "lyric-motel",
   "metadata": {},
   "source": []
  },
  {
   "cell_type": "markdown",
   "id": "vocational-pharmaceutical",
   "metadata": {},
   "source": [
    "## Step6. 수동 역전파"
   ]
  },
  {
   "cell_type": "markdown",
   "id": "genetic-tongue",
   "metadata": {},
   "source": [
    "### Variable 클래스 추가 구현"
   ]
  },
  {
   "cell_type": "code",
   "execution_count": 26,
   "id": "sudden-fellow",
   "metadata": {},
   "outputs": [],
   "source": [
    "class Variable:\n",
    "    def __init__(self, data):\n",
    "        self.data = data\n",
    "        self.grad = None"
   ]
  },
  {
   "cell_type": "markdown",
   "id": "nearby-irish",
   "metadata": {},
   "source": [
    "### Function 클래스 추가 구현"
   ]
  },
  {
   "cell_type": "code",
   "execution_count": 27,
   "id": "deluxe-thirty",
   "metadata": {},
   "outputs": [],
   "source": [
    "class Function:\n",
    "    def __call__(self, input):\n",
    "        x = input.data\n",
    "        y = self.forward(x)\n",
    "        output = Variable(y)\n",
    "        self.input = input # 입력 변수를 기억(보관)한다.\n",
    "        return output\n",
    "    \n",
    "    def forward(self, x):\n",
    "        raise NotImplementedError()\n",
    "        \n",
    "    def backward(self, gy):\n",
    "        raise NotImplementedError()"
   ]
  },
  {
   "cell_type": "markdown",
   "id": "novel-hughes",
   "metadata": {},
   "source": [
    "### Square와 Exp 클래스 추가 구현"
   ]
  },
  {
   "cell_type": "code",
   "execution_count": 4,
   "id": "protected-savage",
   "metadata": {},
   "outputs": [],
   "source": [
    "class Square(Function):\n",
    "    def forward(self, x):\n",
    "        y = x**2\n",
    "        return y\n",
    "    \n",
    "    def backward(self, gy):\n",
    "        x = self.input.data\n",
    "        gx = 2*x*gy\n",
    "        return gx"
   ]
  },
  {
   "cell_type": "code",
   "execution_count": 5,
   "id": "civil-attack",
   "metadata": {},
   "outputs": [],
   "source": [
    "class Exp(Function):\n",
    "    def forward(self, x):\n",
    "        y = np.exp(x)\n",
    "        return y\n",
    "    \n",
    "    def backward(self, gy):\n",
    "        x = self.input.data\n",
    "        gx = np.exp(x) * gy\n",
    "        return gx"
   ]
  },
  {
   "cell_type": "markdown",
   "id": "small-presentation",
   "metadata": {},
   "source": [
    "### 역전파 구현"
   ]
  },
  {
   "cell_type": "code",
   "execution_count": 30,
   "id": "attached-blowing",
   "metadata": {},
   "outputs": [],
   "source": [
    "A = Square()\n",
    "B = Exp()\n",
    "C = Square()\n",
    "\n",
    "x = Variable(np.array(0.5))\n",
    "a = A(x)\n",
    "b = B(a)\n",
    "y = C(b)"
   ]
  },
  {
   "cell_type": "code",
   "execution_count": 31,
   "id": "primary-austin",
   "metadata": {},
   "outputs": [
    {
     "name": "stdout",
     "output_type": "stream",
     "text": [
      "3.297442541400256\n"
     ]
    }
   ],
   "source": [
    "y.grad = np.array(1.0)\n",
    "b.grad = C.backward(y.grad)\n",
    "a.grad = B.backward(b.grad)\n",
    "x.grad = A.backward(a.grad)\n",
    "print(x.grad)"
   ]
  },
  {
   "cell_type": "markdown",
   "id": "excessive-bangladesh",
   "metadata": {},
   "source": []
  },
  {
   "cell_type": "markdown",
   "id": "based-faith",
   "metadata": {},
   "source": [
    "## Step7. 역전파 자동화"
   ]
  },
  {
   "cell_type": "markdown",
   "id": "aerial-phase",
   "metadata": {},
   "source": [
    "### 역전파 자동화의 시작"
   ]
  },
  {
   "cell_type": "code",
   "execution_count": 7,
   "id": "perfect-leather",
   "metadata": {},
   "outputs": [],
   "source": [
    "import numpy as np"
   ]
  },
  {
   "cell_type": "code",
   "execution_count": 1,
   "id": "corrected-breakdown",
   "metadata": {},
   "outputs": [],
   "source": [
    "class Variable:\n",
    "    def __init__(self, data):\n",
    "        self.data = data\n",
    "        self.grad = None\n",
    "        self.creator = None\n",
    "        \n",
    "    def set_creator(self, func):\n",
    "        self.creator = func"
   ]
  },
  {
   "cell_type": "code",
   "execution_count": 2,
   "id": "coordinate-institution",
   "metadata": {},
   "outputs": [],
   "source": [
    "class Function:\n",
    "    def __call__(self, input):\n",
    "        x = input.data\n",
    "        y = self.forward(x)\n",
    "        output = Variable(y)\n",
    "        output.set_creator(self) # 출력 변수에 창조자를 설정한다.\n",
    "        self.input = input\n",
    "        self.output = output # 출력도 저장한다.\n",
    "        return output"
   ]
  },
  {
   "cell_type": "code",
   "execution_count": 8,
   "id": "straight-milton",
   "metadata": {
    "scrolled": true
   },
   "outputs": [],
   "source": [
    "A = Square()\n",
    "B = Exp()\n",
    "C = Square()\n",
    "\n",
    "x = Variable(np.array(0.5))\n",
    "a = A(x)\n",
    "b = B(a)\n",
    "y = C(b)\n",
    "\n",
    "# 계산 그래프의 노드들을 거꾸로 거슬러 올라간다.\n",
    "assert y.creator == C\n",
    "assert y.creator.input == b\n",
    "assert y.creator.input.creator == B\n",
    "assert y.creator.input.creator.input == a\n",
    "assert y.creator.input.creator.input.creator == A\n",
    "assert y.creator.input.creator.input.creator.input == x"
   ]
  },
  {
   "cell_type": "markdown",
   "id": "framed-powder",
   "metadata": {},
   "source": [
    "### 역전파 도전"
   ]
  },
  {
   "cell_type": "code",
   "execution_count": 9,
   "id": "democratic-protein",
   "metadata": {},
   "outputs": [],
   "source": [
    "y.grad = np.array(1.0)\n",
    "\n",
    "C = y.creator # 1. 함수를 가져온다.\n",
    "b = C.input # 2. 함수의 입력을 가져온다.\n",
    "b.grad = C.backward(y.grad) # 3. 함수의 backward 메서드를 호출한다."
   ]
  },
  {
   "cell_type": "code",
   "execution_count": 10,
   "id": "collective-correspondence",
   "metadata": {},
   "outputs": [],
   "source": [
    "B = b.creator # 1. 함수를 가져온다.\n",
    "a = B.input # 2. 함수의 입력을 가져온다.\n",
    "a.grad = B.backward(b.grad) # 3. 함수의 backward 메서드를 호출한다."
   ]
  },
  {
   "cell_type": "code",
   "execution_count": 11,
   "id": "informational-study",
   "metadata": {},
   "outputs": [
    {
     "name": "stdout",
     "output_type": "stream",
     "text": [
      "3.297442541400256\n"
     ]
    }
   ],
   "source": [
    "A = a.creator # 1. 함수를 가져온다.\n",
    "x = A.input # 2. 함수의 입력을 가져온다.\n",
    "x.grad = A.backward(a.grad) # 3. 함수의 backward 메서드를 호출한다.\n",
    "\n",
    "print (x.grad)"
   ]
  },
  {
   "cell_type": "markdown",
   "id": "delayed-maple",
   "metadata": {},
   "source": [
    "### backward 메서드 추가"
   ]
  },
  {
   "cell_type": "code",
   "execution_count": 12,
   "id": "contained-modem",
   "metadata": {},
   "outputs": [],
   "source": [
    "class Variable:\n",
    "    def __init__(self, data):\n",
    "        self.data = data\n",
    "        self.grad = None\n",
    "        self.creator = None\n",
    "        \n",
    "    def set_creator(self, func):\n",
    "        self.creator = func\n",
    "        \n",
    "    def backward(self):\n",
    "        f = self.creator # 1. 함수를 가져온다.\n",
    "        if f is not None:\n",
    "            x = f.input # 2. 함수의 입력을 가져온다.\n",
    "            x.grad = f.backward(self.grad) # 3. 함수의 backward 메서드를 호출한다.\n",
    "            x.backward() # 하나 앞 변수의 backward 메서드를 호출한다(재귀)."
   ]
  },
  {
   "cell_type": "code",
   "execution_count": 13,
   "id": "technical-cuisine",
   "metadata": {},
   "outputs": [
    {
     "name": "stdout",
     "output_type": "stream",
     "text": [
      "3.297442541400256\n"
     ]
    }
   ],
   "source": [
    "A = Square()\n",
    "B = Exp()\n",
    "C = Square()\n",
    "\n",
    "x = Variable(np.array(0.5))\n",
    "a = A(x)\n",
    "b = B(a)\n",
    "y = C(b)\n",
    "\n",
    "# 역전파\n",
    "y.grad = np.array(1.0)\n",
    "y.backward()\n",
    "print (x.grad)"
   ]
  },
  {
   "cell_type": "markdown",
   "id": "vocal-munich",
   "metadata": {},
   "source": []
  },
  {
   "cell_type": "markdown",
   "id": "plastic-morrison",
   "metadata": {},
   "source": [
    "## Step.8 재귀에서 반복문으로"
   ]
  },
  {
   "cell_type": "markdown",
   "id": "derived-coverage",
   "metadata": {},
   "source": [
    "### 현재의 Variable 클래스"
   ]
  },
  {
   "cell_type": "code",
   "execution_count": 15,
   "id": "discrete-patrol",
   "metadata": {},
   "outputs": [],
   "source": [
    "class Variable:\n",
    "    def __init__(self, data):\n",
    "        self.data = data\n",
    "        self.grad = None\n",
    "        self.creator = None\n",
    "\n",
    "    def set_creator(self, func):\n",
    "        self.creator = func\n",
    "        \n",
    "    def backward(self):\n",
    "        f = self.creator\n",
    "        if f is not None:\n",
    "            x = f.input\n",
    "            x.grad = f.backward(self.grad)\n",
    "            x.backward()"
   ]
  },
  {
   "cell_type": "markdown",
   "id": "plain-order",
   "metadata": {},
   "source": [
    "### 반복문을 이용한 구현"
   ]
  },
  {
   "cell_type": "code",
   "execution_count": 16,
   "id": "exotic-sessions",
   "metadata": {},
   "outputs": [],
   "source": [
    "import numpy as np\n",
    "\n",
    "\n",
    "class Variable:\n",
    "    def __init__(self, data):\n",
    "        self.data = data\n",
    "        self.grad = None\n",
    "        self.creator = None\n",
    "\n",
    "    def set_creator(self, func):\n",
    "        self.creator = func\n",
    "        \n",
    "    def backward(self):\n",
    "        funcs = [self.creator]\n",
    "        while funcs:\n",
    "            f = funcs.pop() # 함수를 가져온다.\n",
    "            x, y = f.input, f.output # 함수의 입력과 출력을 가져온다.\n",
    "            x.grad = f.backward(y.grad) # backward 메서드를 호출한다.\n",
    "            \n",
    "            if x.creator is not None:\n",
    "                funcs.append(x.creator) # 하나 앞의 함수를 리스트에 추가한다."
   ]
  },
  {
   "cell_type": "markdown",
   "id": "color-budapest",
   "metadata": {},
   "source": [
    "### 동작 확인"
   ]
  },
  {
   "cell_type": "code",
   "execution_count": 17,
   "id": "owned-april",
   "metadata": {},
   "outputs": [
    {
     "name": "stdout",
     "output_type": "stream",
     "text": [
      "3.297442541400256\n"
     ]
    }
   ],
   "source": [
    "A = Square()\n",
    "B = Exp()\n",
    "C = Square()\n",
    "\n",
    "x = Variable(np.array(0.5))\n",
    "a = A(x)\n",
    "b = B(a)\n",
    "y = C(b)\n",
    "\n",
    "# 역전파\n",
    "y.grad = np.array(1.0)\n",
    "y.backward()\n",
    "print (x.grad)"
   ]
  },
  {
   "cell_type": "code",
   "execution_count": null,
   "id": "champion-section",
   "metadata": {},
   "outputs": [],
   "source": []
  }
 ],
 "metadata": {
  "kernelspec": {
   "display_name": "aiffel",
   "language": "python",
   "name": "aiffel"
  },
  "language_info": {
   "codemirror_mode": {
    "name": "ipython",
    "version": 3
   },
   "file_extension": ".py",
   "mimetype": "text/x-python",
   "name": "python",
   "nbconvert_exporter": "python",
   "pygments_lexer": "ipython3",
   "version": "3.7.6"
  }
 },
 "nbformat": 4,
 "nbformat_minor": 5
}
