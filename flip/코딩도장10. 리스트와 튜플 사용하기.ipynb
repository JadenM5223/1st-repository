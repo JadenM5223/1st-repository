{
 "cells": [
  {
   "cell_type": "markdown",
   "id": "ba5d460b",
   "metadata": {},
   "source": [
    "## 리스트 만들기"
   ]
  },
  {
   "cell_type": "code",
   "execution_count": 1,
   "id": "95c681ae",
   "metadata": {},
   "outputs": [],
   "source": [
    "a = [38, 21, 53, 62, 19]"
   ]
  },
  {
   "cell_type": "code",
   "execution_count": 2,
   "id": "c28e6cdb",
   "metadata": {},
   "outputs": [
    {
     "data": {
      "text/plain": [
       "[38, 21, 53, 62, 19]"
      ]
     },
     "execution_count": 2,
     "metadata": {},
     "output_type": "execute_result"
    }
   ],
   "source": [
    "a"
   ]
  },
  {
   "cell_type": "markdown",
   "id": "e60d39b1",
   "metadata": {},
   "source": [
    "### 리스트에 여러 가지 자료형 저장"
   ]
  },
  {
   "cell_type": "markdown",
   "id": "7c3e7042",
   "metadata": {},
   "source": [
    "- 리스트 안에는 다양한 자료형을 함께 넣을 수 있다.   \n",
    "- 리스트 내의 요소는 ,로 구분해 줘야 한다."
   ]
  },
  {
   "cell_type": "code",
   "execution_count": 3,
   "id": "ede2d569",
   "metadata": {},
   "outputs": [],
   "source": [
    "person = ['jaden', 23, 'years old', 3.14, True]"
   ]
  },
  {
   "cell_type": "code",
   "execution_count": 4,
   "id": "22c3abb3",
   "metadata": {},
   "outputs": [
    {
     "data": {
      "text/plain": [
       "['jaden', 23, 'years old', 3.14, True]"
      ]
     },
     "execution_count": 4,
     "metadata": {},
     "output_type": "execute_result"
    }
   ],
   "source": [
    "person"
   ]
  },
  {
   "cell_type": "markdown",
   "id": "a43ca66a",
   "metadata": {},
   "source": [
    "### 빈 리스트 만들기"
   ]
  },
  {
   "cell_type": "code",
   "execution_count": 5,
   "id": "80e5e248",
   "metadata": {},
   "outputs": [],
   "source": [
    "a = []\n",
    "b = list()"
   ]
  },
  {
   "cell_type": "code",
   "execution_count": 6,
   "id": "e7077db1",
   "metadata": {},
   "outputs": [
    {
     "name": "stdout",
     "output_type": "stream",
     "text": [
      "[]\n",
      "[]\n"
     ]
    }
   ],
   "source": [
    "print(a)\n",
    "print(b)"
   ]
  },
  {
   "cell_type": "code",
   "execution_count": 7,
   "id": "63654ad6",
   "metadata": {},
   "outputs": [],
   "source": [
    "a = []\n",
    "for i in range(10):\n",
    "    a.append(i)"
   ]
  },
  {
   "cell_type": "code",
   "execution_count": 8,
   "id": "b209c238",
   "metadata": {},
   "outputs": [
    {
     "data": {
      "text/plain": [
       "[0, 1, 2, 3, 4, 5, 6, 7, 8, 9]"
      ]
     },
     "execution_count": 8,
     "metadata": {},
     "output_type": "execute_result"
    }
   ],
   "source": [
    "a"
   ]
  },
  {
   "cell_type": "code",
   "execution_count": 9,
   "id": "8d5ca22b",
   "metadata": {},
   "outputs": [],
   "source": [
    "a = []\n",
    "b = [1,2,3,4,5]\n",
    "for i in b:\n",
    "    a.append(i)"
   ]
  },
  {
   "cell_type": "code",
   "execution_count": 10,
   "id": "3d470321",
   "metadata": {},
   "outputs": [
    {
     "data": {
      "text/plain": [
       "[1, 2, 3, 4, 5]"
      ]
     },
     "execution_count": 10,
     "metadata": {},
     "output_type": "execute_result"
    }
   ],
   "source": [
    "a"
   ]
  },
  {
   "cell_type": "markdown",
   "id": "fd6c2ac6",
   "metadata": {},
   "source": [
    "###  range를 사용하여 리스트 만들기"
   ]
  },
  {
   "cell_type": "code",
   "execution_count": 11,
   "id": "aac80741",
   "metadata": {},
   "outputs": [
    {
     "data": {
      "text/plain": [
       "range(0, 10)"
      ]
     },
     "execution_count": 11,
     "metadata": {},
     "output_type": "execute_result"
    }
   ],
   "source": [
    "range(10)"
   ]
  },
  {
   "cell_type": "markdown",
   "id": "fa51d0e0",
   "metadata": {},
   "source": [
    "- 0부터 9까지만 생성된다"
   ]
  },
  {
   "cell_type": "code",
   "execution_count": 12,
   "id": "3c2e38c5",
   "metadata": {},
   "outputs": [],
   "source": [
    "a = list(range(10))"
   ]
  },
  {
   "cell_type": "code",
   "execution_count": 13,
   "id": "f13e6d52",
   "metadata": {},
   "outputs": [
    {
     "data": {
      "text/plain": [
       "[0, 1, 2, 3, 4, 5, 6, 7, 8, 9]"
      ]
     },
     "execution_count": 13,
     "metadata": {},
     "output_type": "execute_result"
    }
   ],
   "source": [
    "a"
   ]
  },
  {
   "cell_type": "code",
   "execution_count": 14,
   "id": "53474eb3",
   "metadata": {},
   "outputs": [],
   "source": [
    "b = list(range(5, 12))"
   ]
  },
  {
   "cell_type": "code",
   "execution_count": 15,
   "id": "79e9eb08",
   "metadata": {},
   "outputs": [
    {
     "data": {
      "text/plain": [
       "[5, 6, 7, 8, 9, 10, 11]"
      ]
     },
     "execution_count": 15,
     "metadata": {},
     "output_type": "execute_result"
    }
   ],
   "source": [
    "b"
   ]
  },
  {
   "cell_type": "markdown",
   "id": "458160b4",
   "metadata": {},
   "source": [
    "- 증가폭"
   ]
  },
  {
   "cell_type": "code",
   "execution_count": 17,
   "id": "7ddbaaa1",
   "metadata": {},
   "outputs": [],
   "source": [
    "c = list(range(4, 10, 2))"
   ]
  },
  {
   "cell_type": "code",
   "execution_count": 18,
   "id": "f907630d",
   "metadata": {},
   "outputs": [
    {
     "data": {
      "text/plain": [
       "[4, 6, 8]"
      ]
     },
     "execution_count": 18,
     "metadata": {},
     "output_type": "execute_result"
    }
   ],
   "source": [
    "c"
   ]
  },
  {
   "cell_type": "code",
   "execution_count": 19,
   "id": "50c414a9",
   "metadata": {},
   "outputs": [],
   "source": [
    "d = list(range(10, 0, -1))"
   ]
  },
  {
   "cell_type": "code",
   "execution_count": 20,
   "id": "6eaafa8b",
   "metadata": {},
   "outputs": [
    {
     "data": {
      "text/plain": [
       "[10, 9, 8, 7, 6, 5, 4, 3, 2, 1]"
      ]
     },
     "execution_count": 20,
     "metadata": {},
     "output_type": "execute_result"
    }
   ],
   "source": [
    "d"
   ]
  },
  {
   "cell_type": "markdown",
   "id": "7ce81fe8",
   "metadata": {},
   "source": []
  },
  {
   "cell_type": "markdown",
   "id": "782f8d9d",
   "metadata": {},
   "source": [
    "## 튜플 사용하기"
   ]
  },
  {
   "cell_type": "code",
   "execution_count": 21,
   "id": "906b0c82",
   "metadata": {},
   "outputs": [],
   "source": [
    "a = (23, 34, 354, 3244)"
   ]
  },
  {
   "cell_type": "code",
   "execution_count": 22,
   "id": "e51be804",
   "metadata": {},
   "outputs": [
    {
     "data": {
      "text/plain": [
       "(23, 34, 354, 3244)"
      ]
     },
     "execution_count": 22,
     "metadata": {},
     "output_type": "execute_result"
    }
   ],
   "source": [
    "a"
   ]
  },
  {
   "cell_type": "markdown",
   "id": "8b281cf0",
   "metadata": {},
   "source": [
    "- 괄호 안처줘도 됨"
   ]
  },
  {
   "cell_type": "code",
   "execution_count": 23,
   "id": "6fc9dc6e",
   "metadata": {},
   "outputs": [],
   "source": [
    "a = 23, 34, 354, 3244"
   ]
  },
  {
   "cell_type": "code",
   "execution_count": 24,
   "id": "562a577f",
   "metadata": {},
   "outputs": [
    {
     "data": {
      "text/plain": [
       "(23, 34, 354, 3244)"
      ]
     },
     "execution_count": 24,
     "metadata": {},
     "output_type": "execute_result"
    }
   ],
   "source": [
    "a"
   ]
  },
  {
   "cell_type": "code",
   "execution_count": 25,
   "id": "91cf73dc",
   "metadata": {},
   "outputs": [],
   "source": [
    "person = ('james', 17, 175.3, True)"
   ]
  },
  {
   "cell_type": "code",
   "execution_count": 26,
   "id": "47b873cf",
   "metadata": {},
   "outputs": [
    {
     "data": {
      "text/plain": [
       "('james', 17, 175.3, True)"
      ]
     },
     "execution_count": 26,
     "metadata": {},
     "output_type": "execute_result"
    }
   ],
   "source": [
    "person"
   ]
  },
  {
   "cell_type": "markdown",
   "id": "839d3bc5",
   "metadata": {},
   "source": [
    "#### 튜플은 한번 지정한 요소를 변경할 수 없기 때문에 실수로 요소를 변경하는 상황을 방지하기 위해 사용한다."
   ]
  },
  {
   "cell_type": "code",
   "execution_count": 27,
   "id": "ad20b3a5",
   "metadata": {},
   "outputs": [],
   "source": [
    "a = [1,2,3,4,5]\n",
    "a[0] = 6"
   ]
  },
  {
   "cell_type": "code",
   "execution_count": 28,
   "id": "e44b4d58",
   "metadata": {},
   "outputs": [
    {
     "data": {
      "text/plain": [
       "[6, 2, 3, 4, 5]"
      ]
     },
     "execution_count": 28,
     "metadata": {},
     "output_type": "execute_result"
    }
   ],
   "source": [
    "a"
   ]
  },
  {
   "cell_type": "code",
   "execution_count": 29,
   "id": "dbb60bad",
   "metadata": {},
   "outputs": [
    {
     "ename": "TypeError",
     "evalue": "'tuple' object does not support item assignment",
     "output_type": "error",
     "traceback": [
      "\u001b[1;31m---------------------------------------------------------------------------\u001b[0m",
      "\u001b[1;31mTypeError\u001b[0m                                 Traceback (most recent call last)",
      "\u001b[1;32m<ipython-input-29-801b3cf8d087>\u001b[0m in \u001b[0;36m<module>\u001b[1;34m\u001b[0m\n\u001b[0;32m      1\u001b[0m \u001b[0mb\u001b[0m \u001b[1;33m=\u001b[0m \u001b[1;33m(\u001b[0m\u001b[1;36m1\u001b[0m\u001b[1;33m,\u001b[0m\u001b[1;36m2\u001b[0m\u001b[1;33m,\u001b[0m\u001b[1;36m3\u001b[0m\u001b[1;33m,\u001b[0m\u001b[1;36m4\u001b[0m\u001b[1;33m,\u001b[0m\u001b[1;36m5\u001b[0m\u001b[1;33m)\u001b[0m\u001b[1;33m\u001b[0m\u001b[1;33m\u001b[0m\u001b[0m\n\u001b[1;32m----> 2\u001b[1;33m \u001b[0mb\u001b[0m\u001b[1;33m[\u001b[0m\u001b[1;36m0\u001b[0m\u001b[1;33m]\u001b[0m \u001b[1;33m=\u001b[0m \u001b[1;36m6\u001b[0m\u001b[1;33m\u001b[0m\u001b[1;33m\u001b[0m\u001b[0m\n\u001b[0m",
      "\u001b[1;31mTypeError\u001b[0m: 'tuple' object does not support item assignment"
     ]
    }
   ],
   "source": [
    "b = (1,2,3,4,5)\n",
    "b[0] = 6"
   ]
  },
  {
   "cell_type": "markdown",
   "id": "9d246c8b",
   "metadata": {},
   "source": [
    "### 요소가 한 개 들어있는 튜플 만들기"
   ]
  },
  {
   "cell_type": "code",
   "execution_count": 30,
   "id": "fae37ebf",
   "metadata": {},
   "outputs": [
    {
     "data": {
      "text/plain": [
       "38"
      ]
     },
     "execution_count": 30,
     "metadata": {},
     "output_type": "execute_result"
    }
   ],
   "source": [
    "(38)"
   ]
  },
  {
   "cell_type": "code",
   "execution_count": 31,
   "id": "fd6c1b0c",
   "metadata": {},
   "outputs": [
    {
     "data": {
      "text/plain": [
       "(38,)"
      ]
     },
     "execution_count": 31,
     "metadata": {},
     "output_type": "execute_result"
    }
   ],
   "source": [
    "(38, )"
   ]
  },
  {
   "cell_type": "code",
   "execution_count": 32,
   "id": "67f4082a",
   "metadata": {},
   "outputs": [
    {
     "data": {
      "text/plain": [
       "(38,)"
      ]
     },
     "execution_count": 32,
     "metadata": {},
     "output_type": "execute_result"
    }
   ],
   "source": [
    "38,"
   ]
  },
  {
   "cell_type": "markdown",
   "id": "ea8843b7",
   "metadata": {},
   "source": [
    "### range를 사용하여 튜플 만들기"
   ]
  },
  {
   "cell_type": "code",
   "execution_count": 33,
   "id": "b0d32662",
   "metadata": {},
   "outputs": [],
   "source": [
    "a = tuple(range(10))"
   ]
  },
  {
   "cell_type": "code",
   "execution_count": 34,
   "id": "dedc860f",
   "metadata": {},
   "outputs": [
    {
     "data": {
      "text/plain": [
       "(0, 1, 2, 3, 4, 5, 6, 7, 8, 9)"
      ]
     },
     "execution_count": 34,
     "metadata": {},
     "output_type": "execute_result"
    }
   ],
   "source": [
    "a"
   ]
  },
  {
   "cell_type": "markdown",
   "id": "a8968030",
   "metadata": {},
   "source": []
  },
  {
   "cell_type": "code",
   "execution_count": 35,
   "id": "2251cc34",
   "metadata": {},
   "outputs": [],
   "source": [
    "a = list('Hello')\n",
    "b = tuple('Hello')"
   ]
  },
  {
   "cell_type": "code",
   "execution_count": 36,
   "id": "c98fd8bd",
   "metadata": {},
   "outputs": [
    {
     "data": {
      "text/plain": [
       "['H', 'e', 'l', 'l', 'o']"
      ]
     },
     "execution_count": 36,
     "metadata": {},
     "output_type": "execute_result"
    }
   ],
   "source": [
    "a"
   ]
  },
  {
   "cell_type": "code",
   "execution_count": 37,
   "id": "bb5e8780",
   "metadata": {},
   "outputs": [
    {
     "data": {
      "text/plain": [
       "('H', 'e', 'l', 'l', 'o')"
      ]
     },
     "execution_count": 37,
     "metadata": {},
     "output_type": "execute_result"
    }
   ],
   "source": [
    "b"
   ]
  },
  {
   "cell_type": "markdown",
   "id": "333b2ce2",
   "metadata": {},
   "source": []
  },
  {
   "cell_type": "markdown",
   "id": "c0046b13",
   "metadata": {},
   "source": [
    "## 연습 문제"
   ]
  },
  {
   "cell_type": "code",
   "execution_count": null,
   "id": "4c7b2689",
   "metadata": {},
   "outputs": [],
   "source": [
    "a = list(range(5, -10, -2))"
   ]
  },
  {
   "cell_type": "code",
   "execution_count": null,
   "id": "f366dc51",
   "metadata": {},
   "outputs": [],
   "source": [
    "a"
   ]
  },
  {
   "cell_type": "code",
   "execution_count": null,
   "id": "d08030c0",
   "metadata": {},
   "outputs": [],
   "source": [
    "a = tuple(range(-10, 10, 2))"
   ]
  },
  {
   "cell_type": "code",
   "execution_count": null,
   "id": "44570186",
   "metadata": {},
   "outputs": [],
   "source": [
    "a"
   ]
  },
  {
   "cell_type": "code",
   "execution_count": null,
   "id": "c0aac5ba",
   "metadata": {},
   "outputs": [],
   "source": []
  },
  {
   "cell_type": "code",
   "execution_count": null,
   "id": "601a295b",
   "metadata": {},
   "outputs": [],
   "source": []
  },
  {
   "cell_type": "code",
   "execution_count": null,
   "id": "f689eb09",
   "metadata": {},
   "outputs": [],
   "source": [
    "n = int(input())\n",
    "a = tuple(range(-10, 10, n))\n",
    "print(a)"
   ]
  },
  {
   "cell_type": "code",
   "execution_count": null,
   "id": "4e23fc46",
   "metadata": {},
   "outputs": [],
   "source": []
  },
  {
   "cell_type": "code",
   "execution_count": null,
   "id": "0aa7b76c",
   "metadata": {},
   "outputs": [],
   "source": []
  },
  {
   "cell_type": "code",
   "execution_count": null,
   "id": "4e45fe97",
   "metadata": {},
   "outputs": [],
   "source": []
  },
  {
   "cell_type": "code",
   "execution_count": null,
   "id": "fdd4b246",
   "metadata": {},
   "outputs": [],
   "source": []
  },
  {
   "cell_type": "code",
   "execution_count": null,
   "id": "59068aa3",
   "metadata": {},
   "outputs": [],
   "source": []
  },
  {
   "cell_type": "code",
   "execution_count": null,
   "id": "20af315d",
   "metadata": {},
   "outputs": [],
   "source": []
  },
  {
   "cell_type": "code",
   "execution_count": null,
   "id": "9443bc13",
   "metadata": {},
   "outputs": [],
   "source": []
  },
  {
   "cell_type": "code",
   "execution_count": null,
   "id": "164bd1b8",
   "metadata": {},
   "outputs": [],
   "source": []
  },
  {
   "cell_type": "code",
   "execution_count": null,
   "id": "a22cb4ad",
   "metadata": {},
   "outputs": [],
   "source": []
  },
  {
   "cell_type": "code",
   "execution_count": 39,
   "id": "3a25cfcf",
   "metadata": {},
   "outputs": [
    {
     "name": "stdout",
     "output_type": "stream",
     "text": [
      "3\n",
      "(-10, -7, -4, -1, 2, 5, 8)\n"
     ]
    }
   ],
   "source": [
    "n = int(input())\n",
    "s = tuple(range(-10, 10, n))\n",
    "print(s)"
   ]
  },
  {
   "cell_type": "code",
   "execution_count": null,
   "id": "9248641a",
   "metadata": {},
   "outputs": [],
   "source": []
  }
 ],
 "metadata": {
  "kernelspec": {
   "display_name": "Python 3",
   "language": "python",
   "name": "python3"
  },
  "language_info": {
   "codemirror_mode": {
    "name": "ipython",
    "version": 3
   },
   "file_extension": ".py",
   "mimetype": "text/x-python",
   "name": "python",
   "nbconvert_exporter": "python",
   "pygments_lexer": "ipython3",
   "version": "3.8.8"
  }
 },
 "nbformat": 4,
 "nbformat_minor": 5
}
