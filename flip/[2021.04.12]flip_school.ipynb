{
 "cells": [
  {
   "cell_type": "markdown",
   "id": "stuck-nutrition",
   "metadata": {},
   "source": [
    "## 성별과 웃음여부를 동시에 판단하는 모델"
   ]
  },
  {
   "cell_type": "markdown",
   "id": "ruled-curtis",
   "metadata": {},
   "source": [
    "### 필요한 module 불러오기"
   ]
  },
  {
   "cell_type": "code",
   "execution_count": 1,
   "id": "fifty-creator",
   "metadata": {},
   "outputs": [
    {
     "name": "stderr",
     "output_type": "stream",
     "text": [
      "/home/aiffel/anaconda3/lib/python3.7/importlib/_bootstrap.py:219: RuntimeWarning: numpy.ufunc size changed, may indicate binary incompatibility. Expected 192 from C header, got 216 from PyObject\n",
      "  return f(*args, **kwds)\n",
      "/home/aiffel/anaconda3/lib/python3.7/importlib/_bootstrap.py:219: RuntimeWarning: numpy.ufunc size changed, may indicate binary incompatibility. Expected 192 from C header, got 216 from PyObject\n",
      "  return f(*args, **kwds)\n"
     ]
    }
   ],
   "source": [
    "import tensorflow as tf\n",
    "from tensorflow import keras\n",
    "from keras.layers import Dense\n",
    "from keras.models import Sequential\n",
    "\n",
    "import pandas as pd\n",
    "import numpy as np\n",
    "import matplotlib.pyplot as plt\n",
    "import seaborn as sns\n",
    "import warnings\n",
    "\n",
    "warnings.filterwarnings('ignore')\n",
    "%matplotlib inline\n",
    "\n",
    "SEED = 34"
   ]
  },
  {
   "cell_type": "markdown",
   "id": "fifteen-wisdom",
   "metadata": {},
   "source": [
    "### tfds를 이용하여 데이터셋 사용하기"
   ]
  },
  {
   "cell_type": "code",
   "execution_count": 2,
   "id": "preliminary-length",
   "metadata": {},
   "outputs": [],
   "source": [
    "import tensorflow_datasets as tfds"
   ]
  },
  {
   "cell_type": "code",
   "execution_count": 3,
   "id": "genuine-router",
   "metadata": {
    "collapsed": true
   },
   "outputs": [
    {
     "data": {
      "text/plain": [
       "['abstract_reasoning',\n",
       " 'accentdb',\n",
       " 'aeslc',\n",
       " 'aflw2k3d',\n",
       " 'ag_news_subset',\n",
       " 'ai2_arc',\n",
       " 'ai2_arc_with_ir',\n",
       " 'amazon_us_reviews',\n",
       " 'anli',\n",
       " 'arc',\n",
       " 'bair_robot_pushing_small',\n",
       " 'bccd',\n",
       " 'beans',\n",
       " 'big_patent',\n",
       " 'bigearthnet',\n",
       " 'billsum',\n",
       " 'binarized_mnist',\n",
       " 'binary_alpha_digits',\n",
       " 'blimp',\n",
       " 'bool_q',\n",
       " 'c4',\n",
       " 'caltech101',\n",
       " 'caltech_birds2010',\n",
       " 'caltech_birds2011',\n",
       " 'cars196',\n",
       " 'cassava',\n",
       " 'cats_vs_dogs',\n",
       " 'celeb_a',\n",
       " 'celeb_a_hq',\n",
       " 'cfq',\n",
       " 'cherry_blossoms',\n",
       " 'chexpert',\n",
       " 'cifar10',\n",
       " 'cifar100',\n",
       " 'cifar10_1',\n",
       " 'cifar10_corrupted',\n",
       " 'citrus_leaves',\n",
       " 'cityscapes',\n",
       " 'civil_comments',\n",
       " 'clevr',\n",
       " 'clic',\n",
       " 'clinc_oos',\n",
       " 'cmaterdb',\n",
       " 'cnn_dailymail',\n",
       " 'coco',\n",
       " 'coco_captions',\n",
       " 'coil100',\n",
       " 'colorectal_histology',\n",
       " 'colorectal_histology_large',\n",
       " 'common_voice',\n",
       " 'coqa',\n",
       " 'cos_e',\n",
       " 'cosmos_qa',\n",
       " 'covid19sum',\n",
       " 'crema_d',\n",
       " 'curated_breast_imaging_ddsm',\n",
       " 'cycle_gan',\n",
       " 'dart',\n",
       " 'davis',\n",
       " 'deep_weeds',\n",
       " 'definite_pronoun_resolution',\n",
       " 'dementiabank',\n",
       " 'diabetic_retinopathy_detection',\n",
       " 'div2k',\n",
       " 'dmlab',\n",
       " 'downsampled_imagenet',\n",
       " 'drop',\n",
       " 'dsprites',\n",
       " 'dtd',\n",
       " 'duke_ultrasound',\n",
       " 'e2e_cleaned',\n",
       " 'emnist',\n",
       " 'eraser_multi_rc',\n",
       " 'esnli',\n",
       " 'eurosat',\n",
       " 'fashion_mnist',\n",
       " 'flic',\n",
       " 'flores',\n",
       " 'food101',\n",
       " 'forest_fires',\n",
       " 'fuss',\n",
       " 'gap',\n",
       " 'geirhos_conflict_stimuli',\n",
       " 'genomics_ood',\n",
       " 'german_credit_numeric',\n",
       " 'gigaword',\n",
       " 'glue',\n",
       " 'goemotions',\n",
       " 'gpt3',\n",
       " 'groove',\n",
       " 'gtzan',\n",
       " 'gtzan_music_speech',\n",
       " 'hellaswag',\n",
       " 'higgs',\n",
       " 'horses_or_humans',\n",
       " 'howell',\n",
       " 'i_naturalist2017',\n",
       " 'imagenet2012',\n",
       " 'imagenet2012_corrupted',\n",
       " 'imagenet2012_real',\n",
       " 'imagenet2012_subset',\n",
       " 'imagenet_a',\n",
       " 'imagenet_r',\n",
       " 'imagenet_resized',\n",
       " 'imagenet_v2',\n",
       " 'imagenette',\n",
       " 'imagewang',\n",
       " 'imdb_reviews',\n",
       " 'irc_disentanglement',\n",
       " 'iris',\n",
       " 'kitti',\n",
       " 'kmnist',\n",
       " 'lambada',\n",
       " 'lfw',\n",
       " 'librispeech',\n",
       " 'librispeech_lm',\n",
       " 'libritts',\n",
       " 'ljspeech',\n",
       " 'lm1b',\n",
       " 'lost_and_found',\n",
       " 'lsun',\n",
       " 'lvis',\n",
       " 'malaria',\n",
       " 'math_dataset',\n",
       " 'mctaco',\n",
       " 'mlqa',\n",
       " 'mnist',\n",
       " 'mnist_corrupted',\n",
       " 'movie_lens',\n",
       " 'movie_rationales',\n",
       " 'movielens',\n",
       " 'moving_mnist',\n",
       " 'multi_news',\n",
       " 'multi_nli',\n",
       " 'multi_nli_mismatch',\n",
       " 'natural_questions',\n",
       " 'natural_questions_open',\n",
       " 'newsroom',\n",
       " 'nsynth',\n",
       " 'nyu_depth_v2',\n",
       " 'omniglot',\n",
       " 'open_images_challenge2019_detection',\n",
       " 'open_images_v4',\n",
       " 'openbookqa',\n",
       " 'opinion_abstracts',\n",
       " 'opinosis',\n",
       " 'opus',\n",
       " 'oxford_flowers102',\n",
       " 'oxford_iiit_pet',\n",
       " 'para_crawl',\n",
       " 'patch_camelyon',\n",
       " 'paws_wiki',\n",
       " 'paws_x_wiki',\n",
       " 'pet_finder',\n",
       " 'pg19',\n",
       " 'piqa',\n",
       " 'places365_small',\n",
       " 'plant_leaves',\n",
       " 'plant_village',\n",
       " 'plantae_k',\n",
       " 'qa4mre',\n",
       " 'qasc',\n",
       " 'quac',\n",
       " 'quickdraw_bitmap',\n",
       " 'race',\n",
       " 'radon',\n",
       " 'reddit',\n",
       " 'reddit_disentanglement',\n",
       " 'reddit_tifu',\n",
       " 'resisc45',\n",
       " 'robonet',\n",
       " 'rock_paper_scissors',\n",
       " 'rock_you',\n",
       " 's3o4d',\n",
       " 'salient_span_wikipedia',\n",
       " 'samsum',\n",
       " 'savee',\n",
       " 'scan',\n",
       " 'scene_parse150',\n",
       " 'scicite',\n",
       " 'scientific_papers',\n",
       " 'sentiment140',\n",
       " 'shapes3d',\n",
       " 'siscore',\n",
       " 'smallnorb',\n",
       " 'snli',\n",
       " 'so2sat',\n",
       " 'speech_commands',\n",
       " 'spoken_digit',\n",
       " 'squad',\n",
       " 'stanford_dogs',\n",
       " 'stanford_online_products',\n",
       " 'starcraft_video',\n",
       " 'stl10',\n",
       " 'story_cloze',\n",
       " 'sun397',\n",
       " 'super_glue',\n",
       " 'svhn_cropped',\n",
       " 'ted_hrlr_translate',\n",
       " 'ted_multi_translate',\n",
       " 'tedlium',\n",
       " 'tf_flowers',\n",
       " 'the300w_lp',\n",
       " 'tiny_shakespeare',\n",
       " 'titanic',\n",
       " 'trec',\n",
       " 'trivia_qa',\n",
       " 'tydi_qa',\n",
       " 'uc_merced',\n",
       " 'ucf101',\n",
       " 'vctk',\n",
       " 'vgg_face2',\n",
       " 'visual_domain_decathlon',\n",
       " 'voc',\n",
       " 'voxceleb',\n",
       " 'voxforge',\n",
       " 'waymo_open_dataset',\n",
       " 'web_nlg',\n",
       " 'web_questions',\n",
       " 'wider_face',\n",
       " 'wiki40b',\n",
       " 'wiki_bio',\n",
       " 'wiki_table_questions',\n",
       " 'wiki_table_text',\n",
       " 'wikihow',\n",
       " 'wikipedia',\n",
       " 'wikipedia_toxicity_subtypes',\n",
       " 'wine_quality',\n",
       " 'winogrande',\n",
       " 'wmt14_translate',\n",
       " 'wmt15_translate',\n",
       " 'wmt16_translate',\n",
       " 'wmt17_translate',\n",
       " 'wmt18_translate',\n",
       " 'wmt19_translate',\n",
       " 'wmt_t2t_translate',\n",
       " 'wmt_translate',\n",
       " 'wordnet',\n",
       " 'wsc273',\n",
       " 'xnli',\n",
       " 'xquad',\n",
       " 'xsum',\n",
       " 'xtreme_pawsx',\n",
       " 'xtreme_xnli',\n",
       " 'yelp_polarity_reviews',\n",
       " 'yes_no']"
      ]
     },
     "execution_count": 3,
     "metadata": {},
     "output_type": "execute_result"
    }
   ],
   "source": [
    "tfds.list_builders()"
   ]
  },
  {
   "cell_type": "code",
   "execution_count": 4,
   "id": "southeast-disabled",
   "metadata": {
    "collapsed": true
   },
   "outputs": [
    {
     "name": "stdout",
     "output_type": "stream",
     "text": [
      "\u001b[1mDownloading and preparing dataset 1.38 GiB (download: 1.38 GiB, generated: 1.62 GiB, total: 3.00 GiB) to /home/aiffel/tensorflow_datasets/celeb_a/2.0.1...\u001b[0m\n"
     ]
    },
    {
     "data": {
      "application/vnd.jupyter.widget-view+json": {
       "model_id": "1b05cccd74eb402d9aa7bc22119438d6",
       "version_major": 2,
       "version_minor": 0
      },
      "text/plain": [
       "Dl Completed...: |          | 0/0 [00:00<?, ? url/s]"
      ]
     },
     "metadata": {},
     "output_type": "display_data"
    },
    {
     "data": {
      "application/vnd.jupyter.widget-view+json": {
       "model_id": "b893b936e4e14dd58ec594e331fea73f",
       "version_major": 2,
       "version_minor": 0
      },
      "text/plain": [
       "Dl Size...: |          | 0/0 [00:00<?, ? MiB/s]"
      ]
     },
     "metadata": {},
     "output_type": "display_data"
    },
    {
     "name": "stdout",
     "output_type": "stream",
     "text": [
      "\n",
      "\n"
     ]
    },
    {
     "data": {
      "application/vnd.jupyter.widget-view+json": {
       "model_id": "",
       "version_major": 2,
       "version_minor": 0
      },
      "text/plain": [
       "Generating splits...:   0%|          | 0/3 [00:00<?, ? splits/s]"
      ]
     },
     "metadata": {},
     "output_type": "display_data"
    },
    {
     "data": {
      "application/vnd.jupyter.widget-view+json": {
       "model_id": "",
       "version_major": 2,
       "version_minor": 0
      },
      "text/plain": [
       "Generating train examples...:   0%|          | 0/162770 [00:00<?, ? examples/s]"
      ]
     },
     "metadata": {},
     "output_type": "display_data"
    },
    {
     "data": {
      "application/vnd.jupyter.widget-view+json": {
       "model_id": "",
       "version_major": 2,
       "version_minor": 0
      },
      "text/plain": [
       "Shuffling celeb_a-train.tfrecord...:   0%|          | 0/162770 [00:00<?, ? examples/s]"
      ]
     },
     "metadata": {},
     "output_type": "display_data"
    },
    {
     "data": {
      "application/vnd.jupyter.widget-view+json": {
       "model_id": "",
       "version_major": 2,
       "version_minor": 0
      },
      "text/plain": [
       "Generating validation examples...:   0%|          | 0/19867 [00:00<?, ? examples/s]"
      ]
     },
     "metadata": {},
     "output_type": "display_data"
    },
    {
     "data": {
      "application/vnd.jupyter.widget-view+json": {
       "model_id": "",
       "version_major": 2,
       "version_minor": 0
      },
      "text/plain": [
       "Shuffling celeb_a-validation.tfrecord...:   0%|          | 0/19867 [00:00<?, ? examples/s]"
      ]
     },
     "metadata": {},
     "output_type": "display_data"
    },
    {
     "data": {
      "application/vnd.jupyter.widget-view+json": {
       "model_id": "",
       "version_major": 2,
       "version_minor": 0
      },
      "text/plain": [
       "Generating test examples...:   0%|          | 0/19962 [00:00<?, ? examples/s]"
      ]
     },
     "metadata": {},
     "output_type": "display_data"
    },
    {
     "data": {
      "application/vnd.jupyter.widget-view+json": {
       "model_id": "",
       "version_major": 2,
       "version_minor": 0
      },
      "text/plain": [
       "Shuffling celeb_a-test.tfrecord...:   0%|          | 0/19962 [00:00<?, ? examples/s]"
      ]
     },
     "metadata": {},
     "output_type": "display_data"
    },
    {
     "name": "stdout",
     "output_type": "stream",
     "text": [
      "\u001b[1mDataset celeb_a downloaded and prepared to /home/aiffel/tensorflow_datasets/celeb_a/2.0.1. Subsequent calls will reuse this data.\u001b[0m\n"
     ]
    }
   ],
   "source": [
    "celeb_a = tfds.load('celeb_a')"
   ]
  },
  {
   "cell_type": "markdown",
   "id": "similar-europe",
   "metadata": {},
   "source": [
    "### Small dataset 사용"
   ]
  },
  {
   "cell_type": "code",
   "execution_count": 6,
   "id": "dressed-reporter",
   "metadata": {},
   "outputs": [],
   "source": [
    "celeba_small = np.load('celeba_small.npz')\n",
    "x = celeba_small['train_images'][3]\n",
    "y = celeba_small['train_labels'][3]"
   ]
  },
  {
   "cell_type": "code",
   "execution_count": 7,
   "id": "enhanced-bryan",
   "metadata": {},
   "outputs": [
    {
     "data": {
      "text/plain": [
       "((72, 59, 3), (2,))"
      ]
     },
     "execution_count": 7,
     "metadata": {},
     "output_type": "execute_result"
    }
   ],
   "source": [
    "x.shape, y.shape"
   ]
  },
  {
   "cell_type": "code",
   "execution_count": 9,
   "id": "individual-benjamin",
   "metadata": {},
   "outputs": [
    {
     "data": {
      "image/png": "[encoded data removed]",
      "text/plain": [
       "<Figure size 432x288 with 2 Axes>"
      ]
     },
     "metadata": {
      "needs_background": "light"
     },
     "output_type": "display_data"
    },
    {
     "name": "stdout",
     "output_type": "stream",
     "text": [
      "[1 1]\n"
     ]
    }
   ],
   "source": [
    "# x를 plt를 이용하여 출력하는 코드를 작성\n",
    "plt.imshow(x)\n",
    "plt.colorbar()\n",
    "plt.show()\n",
    "print(y)"
   ]
  },
  {
   "cell_type": "code",
   "execution_count": 14,
   "id": "residential-amplifier",
   "metadata": {},
   "outputs": [],
   "source": [
    "celeba_small = np.load('celeba_small.npz')\n",
    "train_images = celeba_small['train_images']\n",
    "train_labels = celeba_small['train_labels']\n",
    "\n",
    "test_images = celeba_small['test_images']\n",
    "test_labels = celeba_small['test_labels']"
   ]
  },
  {
   "cell_type": "code",
   "execution_count": 15,
   "id": "efficient-minneapolis",
   "metadata": {},
   "outputs": [
    {
     "data": {
      "text/plain": [
       "dtype('float64')"
      ]
     },
     "execution_count": 15,
     "metadata": {},
     "output_type": "execute_result"
    }
   ],
   "source": [
    "# dtype을 이용하여 이미지의 np array type을 확인해보세요.\n",
    "train_images.dtype"
   ]
  },
  {
   "cell_type": "code",
   "execution_count": 17,
   "id": "proved-pearl",
   "metadata": {},
   "outputs": [
    {
     "data": {
      "text/plain": [
       "array([0.02352941, 0.04313725, 0.05490196, 0.01960784, 0.03921569,\n",
       "       0.05490196, 0.01977401, 0.03921569, 0.05114656, 0.02352941])"
      ]
     },
     "execution_count": 17,
     "metadata": {},
     "output_type": "execute_result"
    }
   ],
   "source": [
    "# 하나의 이미지에 대한 모든 0이 아닌 값을 출력하는 코드를 작성하세요.\n",
    "train_images[train_images != 0][:10]"
   ]
  },
  {
   "cell_type": "markdown",
   "id": "medical-alexandria",
   "metadata": {},
   "source": [
    "## 데이터 전처리"
   ]
  },
  {
   "cell_type": "markdown",
   "id": "charming-quest",
   "metadata": {},
   "source": [
    "### 이미지 데이터의 범위 확인"
   ]
  },
  {
   "cell_type": "code",
   "execution_count": 23,
   "id": "three-lesson",
   "metadata": {},
   "outputs": [
    {
     "name": "stdout",
     "output_type": "stream",
     "text": [
      "(2000, 72, 59, 3) (200, 72, 59, 3)\n",
      "float64 float64\n",
      "(2000, 2) (200, 2)\n",
      "int8 int8\n"
     ]
    }
   ],
   "source": [
    "print(train_images.shape, test_images.shape)\n",
    "print(train_images.dtype, test_images.dtype)\n",
    "\n",
    "print(train_labels.shape, test_labels.shape)\n",
    "print(train_labels.dtype, test_labels.dtype)"
   ]
  },
  {
   "cell_type": "code",
   "execution_count": 29,
   "id": "stopped-festival",
   "metadata": {},
   "outputs": [
    {
     "data": {
      "text/plain": [
       "(0.0, 1.0, 0.0, 1.0)"
      ]
     },
     "execution_count": 29,
     "metadata": {},
     "output_type": "execute_result"
    }
   ],
   "source": [
    "# images/labels 이미지 데이터의 최소/최대값을 출력\n",
    "np.min(train_images), np.max(train_images), np.min(test_images), np.max(test_images)\n"
   ]
  },
  {
   "cell_type": "code",
   "execution_count": 30,
   "id": "suspended-tragedy",
   "metadata": {},
   "outputs": [],
   "source": [
    "# (배치, 2)의 labels shape을 (배치, 1)의 shape의 2개의 array로 분리하는 코드를 추가하세요.\n",
    "from keras.utils import to_categorical"
   ]
  },
  {
   "cell_type": "code",
   "execution_count": 32,
   "id": "radio-wound",
   "metadata": {},
   "outputs": [
    {
     "data": {
      "text/plain": [
       "(2000, 2)"
      ]
     },
     "execution_count": 32,
     "metadata": {},
     "output_type": "execute_result"
    }
   ],
   "source": [
    "train_labels.shape"
   ]
  },
  {
   "cell_type": "code",
   "execution_count": 35,
   "id": "hundred-pickup",
   "metadata": {},
   "outputs": [
    {
     "name": "stdout",
     "output_type": "stream",
     "text": [
      "(2000, 1) (2000, 1)\n",
      "(200, 1) (200, 1)\n",
      "[0] [0] [0 0]\n"
     ]
    }
   ],
   "source": [
    "train_male_labels, train_smile_labels = np.split(train_labels, 2, axis=1)\n",
    "print(train_male_labels.shape, train_smile_labels.shape)\n",
    "test_male_labels, test_smile_labels = np.split(test_labels, 2, axis=1)\n",
    "print(test_male_labels.shape, test_smile_labels.shape)\n",
    "\n",
    "print(train_male_labels[0], train_smile_labels[0], train_labels[0])"
   ]
  },
  {
   "cell_type": "code",
   "execution_count": 36,
   "id": "rational-rebate",
   "metadata": {},
   "outputs": [],
   "source": [
    "train_male_labels = to_categorical(train_male_labels)\n",
    "train_smile_labels = to_categorical(train_smile_labels)\n",
    "test_male_labels = to_categorical(test_male_labels)\n",
    "test_smile_labels = to_categorical(test_smile_labels)"
   ]
  },
  {
   "cell_type": "code",
   "execution_count": 38,
   "id": "rotary-manhattan",
   "metadata": {},
   "outputs": [
    {
     "name": "stdout",
     "output_type": "stream",
     "text": [
      "(2000, 2) (2000, 2)\n",
      "(200, 2) (200, 2)\n"
     ]
    }
   ],
   "source": [
    "print(train_male_labels.shape, train_smile_labels.shape)\n",
    "print(test_male_labels.shape, test_smile_labels.shape)"
   ]
  },
  {
   "cell_type": "code",
   "execution_count": 40,
   "id": "lightweight-rebel",
   "metadata": {},
   "outputs": [
    {
     "name": "stdout",
     "output_type": "stream",
     "text": [
      "(2000, 4)\n",
      "(200, 4)\n"
     ]
    }
   ],
   "source": [
    "# (배치, 2), (배치, 2)의 labels를 (배치, 4)로 합치는 코드를 작성하세요.\n",
    "train_labels2 = np.concatenate((train_male_labels, train_smile_labels), axis=1)\n",
    "test_labels2 = np.concatenate((test_male_labels, test_smile_labels), axis=1)\n",
    "print(train_labels2.shape)\n",
    "print(test_labels2.shape)"
   ]
  },
  {
   "cell_type": "code",
   "execution_count": 42,
   "id": "quick-header",
   "metadata": {},
   "outputs": [
    {
     "data": {
      "text/plain": [
       "(5, 72, 59, 3)"
      ]
     },
     "execution_count": 42,
     "metadata": {},
     "output_type": "execute_result"
    }
   ],
   "source": [
    "# (배치, 세로, 가로, 3)인 train_images에서 (5, 세로, 가로, 3)을 획득하는 코드를 작성하세요.\n",
    "train_images[:5].shape"
   ]
  },
  {
   "cell_type": "code",
   "execution_count": 49,
   "id": "future-march",
   "metadata": {},
   "outputs": [
    {
     "data": {
      "text/plain": [
       "(2000, 72, 59, 3)"
      ]
     },
     "execution_count": 49,
     "metadata": {},
     "output_type": "execute_result"
    },
    {
     "data": {
      "image/png": "[encoded data removed]",
      "text/plain": [
       "<Figure size 432x288 with 1 Axes>"
      ]
     },
     "metadata": {
      "needs_background": "light"
     },
     "output_type": "display_data"
    }
   ],
   "source": [
    "# transpose는 tensor의 axis를 섞는 기능을 합니다.\n",
    "# 해당 기능을 이용해서 (세로, 가로 * 5, 3)을 작성하는 코드를 작성해보세요.\n",
    "plt.imshow(train_images[:5].transpose((1,2,0,3)).reshape(15,-1))\n",
    "train_images.shape"
   ]
  },
  {
   "cell_type": "code",
   "execution_count": 59,
   "id": "sacred-membrane",
   "metadata": {},
   "outputs": [
    {
     "data": {
      "text/plain": [
       "(72, 295, 3)"
      ]
     },
     "execution_count": 59,
     "metadata": {},
     "output_type": "execute_result"
    }
   ],
   "source": [
    "# (72, 295, 3)의 이미지를 plt로 출력해보세요.\n",
    "train_images[:5].transpose((1, 0, 2 ,3)).reshape((72, -1 , 3)).shape"
   ]
  },
  {
   "cell_type": "code",
   "execution_count": 58,
   "id": "painted-monday",
   "metadata": {},
   "outputs": [
    {
     "data": {
      "text/plain": [
       "<matplotlib.image.AxesImage at 0x7f4ba9693250>"
      ]
     },
     "execution_count": 58,
     "metadata": {},
     "output_type": "execute_result"
    },
    {
     "data": {
      "image/png": "[encoded data removed]",
      "text/plain": [
       "<Figure size 432x288 with 1 Axes>"
      ]
     },
     "metadata": {
      "needs_background": "light"
     },
     "output_type": "display_data"
    }
   ],
   "source": [
    "plt.imshow(train_images[:5].transpose((1, 0, 2 ,3)).reshape((72, -1 , 3)))"
   ]
  },
  {
   "cell_type": "code",
   "execution_count": 62,
   "id": "alleged-smart",
   "metadata": {},
   "outputs": [
    {
     "name": "stdout",
     "output_type": "stream",
     "text": [
      "[1. 0.] [1. 0.]\n",
      "[0. 1.] [0. 1.]\n",
      "[0. 1.] [1. 0.]\n",
      "[0. 1.] [0. 1.]\n",
      "[0. 1.] [0. 1.]\n"
     ]
    }
   ],
   "source": [
    "# smile, male label을 5개 출력하는 코드를 작성해보세요.\n",
    "for male, smile in zip(train_male_labels[:5], train_smile_labels[:5]):\n",
    "    print(male, smile)"
   ]
  },
  {
   "cell_type": "markdown",
   "id": "resident-playlist",
   "metadata": {},
   "source": [
    "## 모델 만들기"
   ]
  },
  {
   "cell_type": "code",
   "execution_count": 67,
   "id": "advisory-memorabilia",
   "metadata": {},
   "outputs": [],
   "source": [
    "# input (배치, 72, 59, 3), output (배치, 2)을 처리할 수 있는 모양의 모델 2개를 작성하세요.\n",
    "from keras.models import Model\n",
    "from keras.layers import Conv2D, MaxPool2D, Input, Dense, Flatten\n",
    "\n",
    "def simple_model():\n",
    "    inputs = Input((72, 59, 3))\n",
    "    \n",
    "    x = Conv2D(32, 3, activation='relu')(inputs)\n",
    "    x = MaxPool2D(2)(x)\n",
    "    x = Conv2D(64, 3, activation='relu')(x)\n",
    "    x = MaxPool2D(2)(x)\n",
    "    x = Conv2D(64, 3, activation='relu')(x)\n",
    "    x = MaxPool2D(2)(x)\n",
    "    x = Flatten()(x)\n",
    "    x = Dense(64, activation='relu')(x)\n",
    "    \n",
    "    outputs = Dense(2, activation='softmax')(x)\n",
    "    model = Model(inputs, outputs)\n",
    "    \n",
    "    return model"
   ]
  },
  {
   "cell_type": "code",
   "execution_count": 68,
   "id": "solved-example",
   "metadata": {},
   "outputs": [],
   "source": [
    "gender_model = simple_model()\n",
    "smile_model = simple_model()"
   ]
  },
  {
   "cell_type": "code",
   "execution_count": 69,
   "id": "atomic-pregnancy",
   "metadata": {
    "scrolled": true
   },
   "outputs": [
    {
     "name": "stdout",
     "output_type": "stream",
     "text": [
      "Model: \"model\"\n",
      "_________________________________________________________________\n",
      "Layer (type)                 Output Shape              Param #   \n",
      "=================================================================\n",
      "input_1 (InputLayer)         [(None, 72, 59, 3)]       0         \n",
      "_________________________________________________________________\n",
      "conv2d (Conv2D)              (None, 70, 57, 32)        896       \n",
      "_________________________________________________________________\n",
      "max_pooling2d (MaxPooling2D) (None, 35, 28, 32)        0         \n",
      "_________________________________________________________________\n",
      "conv2d_1 (Conv2D)            (None, 33, 26, 64)        18496     \n",
      "_________________________________________________________________\n",
      "max_pooling2d_1 (MaxPooling2 (None, 16, 13, 64)        0         \n",
      "_________________________________________________________________\n",
      "conv2d_2 (Conv2D)            (None, 14, 11, 64)        36928     \n",
      "_________________________________________________________________\n",
      "max_pooling2d_2 (MaxPooling2 (None, 7, 5, 64)          0         \n",
      "_________________________________________________________________\n",
      "flatten (Flatten)            (None, 2240)              0         \n",
      "_________________________________________________________________\n",
      "dense (Dense)                (None, 64)                143424    \n",
      "_________________________________________________________________\n",
      "dense_1 (Dense)              (None, 2)                 130       \n",
      "=================================================================\n",
      "Total params: 199,874\n",
      "Trainable params: 199,874\n",
      "Non-trainable params: 0\n",
      "_________________________________________________________________\n"
     ]
    }
   ],
   "source": [
    "gender_model.summary()"
   ]
  },
  {
   "cell_type": "code",
   "execution_count": 70,
   "id": "instrumental-pilot",
   "metadata": {
    "scrolled": true
   },
   "outputs": [
    {
     "name": "stdout",
     "output_type": "stream",
     "text": [
      "Model: \"model_1\"\n",
      "_________________________________________________________________\n",
      "Layer (type)                 Output Shape              Param #   \n",
      "=================================================================\n",
      "input_2 (InputLayer)         [(None, 72, 59, 3)]       0         \n",
      "_________________________________________________________________\n",
      "conv2d_3 (Conv2D)            (None, 70, 57, 32)        896       \n",
      "_________________________________________________________________\n",
      "max_pooling2d_3 (MaxPooling2 (None, 35, 28, 32)        0         \n",
      "_________________________________________________________________\n",
      "conv2d_4 (Conv2D)            (None, 33, 26, 64)        18496     \n",
      "_________________________________________________________________\n",
      "max_pooling2d_4 (MaxPooling2 (None, 16, 13, 64)        0         \n",
      "_________________________________________________________________\n",
      "conv2d_5 (Conv2D)            (None, 14, 11, 64)        36928     \n",
      "_________________________________________________________________\n",
      "max_pooling2d_5 (MaxPooling2 (None, 7, 5, 64)          0         \n",
      "_________________________________________________________________\n",
      "flatten_1 (Flatten)          (None, 2240)              0         \n",
      "_________________________________________________________________\n",
      "dense_2 (Dense)              (None, 64)                143424    \n",
      "_________________________________________________________________\n",
      "dense_3 (Dense)              (None, 2)                 130       \n",
      "=================================================================\n",
      "Total params: 199,874\n",
      "Trainable params: 199,874\n",
      "Non-trainable params: 0\n",
      "_________________________________________________________________\n"
     ]
    }
   ],
   "source": [
    "smile_model.summary()"
   ]
  },
  {
   "cell_type": "code",
   "execution_count": 74,
   "id": "lonely-great",
   "metadata": {},
   "outputs": [],
   "source": [
    "# 만든 모델에 loss는 categorical_crossentropy, optimizer는 adam 매트릭은 accuracy으로 설정하는 코드를 작성하세요.\n",
    "gender_model.compile(optimizer='adam',\n",
    "             loss='categorical_crossentropy',\n",
    "             metrics = [\"accuracy\"])\n",
    "smile_model.compile(optimizer='adam',\n",
    "             loss='categorical_crossentropy',\n",
    "             metrics = [\"accuracy\"])"
   ]
  },
  {
   "cell_type": "code",
   "execution_count": 77,
   "id": "heavy-workshop",
   "metadata": {},
   "outputs": [
    {
     "data": {
      "text/plain": [
       "array([-0.07358224, -0.08196773, -0.019357  ,  0.11493112,  0.03372051,\n",
       "       -0.06248662, -0.02740849, -0.03247271, -0.13624845,  0.08822699,\n",
       "       -0.02491219,  0.05010951, -0.0382138 ,  0.09228894, -0.03916153,\n",
       "       -0.13359869, -0.13408759, -0.05447441, -0.08106899, -0.06628058,\n",
       "       -0.08836553,  0.04026715, -0.09897622,  0.11973001,  0.07077134,\n",
       "       -0.02596762, -0.02588529, -0.08759324, -0.10542879,  0.06411663,\n",
       "       -0.05297901, -0.08302552], dtype=float32)"
      ]
     },
     "execution_count": 77,
     "metadata": {},
     "output_type": "execute_result"
    }
   ],
   "source": [
    "gender_model.get_weights()[0][0][0][0]"
   ]
  },
  {
   "cell_type": "code",
   "execution_count": 78,
   "id": "pleased-creativity",
   "metadata": {},
   "outputs": [
    {
     "data": {
      "text/plain": [
       "array([ 0.10688452,  0.10799626, -0.01380495,  0.08325112, -0.08695789,\n",
       "        0.04309833,  0.04053307,  0.01612926,  0.12176548, -0.11042637,\n",
       "       -0.09392282, -0.00176331,  0.12569223,  0.09894526,  0.02500489,\n",
       "       -0.09994479, -0.02492098,  0.08305427,  0.00188887,  0.0099941 ,\n",
       "       -0.05941304,  0.08740529,  0.07280289, -0.07694841,  0.07459772,\n",
       "        0.0407486 ,  0.11622132,  0.09157167,  0.00050898,  0.06454127,\n",
       "       -0.0988836 , -0.08546002], dtype=float32)"
      ]
     },
     "execution_count": 78,
     "metadata": {},
     "output_type": "execute_result"
    }
   ],
   "source": [
    "smile_model.get_weights()[0][0][0][0]"
   ]
  },
  {
   "cell_type": "code",
   "execution_count": 80,
   "id": "hindu-compatibility",
   "metadata": {
    "collapsed": true
   },
   "outputs": [
    {
     "name": "stdout",
     "output_type": "stream",
     "text": [
      "Epoch 1/15\n",
      "63/63 [==============================] - 1s 8ms/step - loss: 0.0170 - accuracy: 0.9940 - val_loss: 0.3226 - val_accuracy: 0.9150\n",
      "Epoch 2/15\n",
      "63/63 [==============================] - 0s 5ms/step - loss: 0.0258 - accuracy: 0.9900 - val_loss: 0.3813 - val_accuracy: 0.9050\n",
      "Epoch 3/15\n",
      "63/63 [==============================] - 0s 5ms/step - loss: 0.0081 - accuracy: 0.9980 - val_loss: 0.3908 - val_accuracy: 0.9300\n",
      "Epoch 4/15\n",
      "63/63 [==============================] - 0s 5ms/step - loss: 0.0035 - accuracy: 0.9995 - val_loss: 0.3523 - val_accuracy: 0.9300\n",
      "Epoch 5/15\n",
      "63/63 [==============================] - 0s 5ms/step - loss: 0.0016 - accuracy: 0.9995 - val_loss: 0.3656 - val_accuracy: 0.9350\n",
      "Epoch 6/15\n",
      "63/63 [==============================] - 0s 5ms/step - loss: 0.0089 - accuracy: 0.9980 - val_loss: 0.3555 - val_accuracy: 0.9350\n",
      "Epoch 7/15\n",
      "63/63 [==============================] - 0s 5ms/step - loss: 0.0153 - accuracy: 0.9945 - val_loss: 0.3210 - val_accuracy: 0.9200\n",
      "Epoch 8/15\n",
      "63/63 [==============================] - 0s 5ms/step - loss: 0.0113 - accuracy: 0.9965 - val_loss: 0.4554 - val_accuracy: 0.9150\n",
      "Epoch 9/15\n",
      "63/63 [==============================] - 0s 6ms/step - loss: 0.0318 - accuracy: 0.9880 - val_loss: 0.3079 - val_accuracy: 0.9200\n",
      "Epoch 10/15\n",
      "63/63 [==============================] - 0s 5ms/step - loss: 0.0255 - accuracy: 0.9930 - val_loss: 0.4126 - val_accuracy: 0.9150\n",
      "Epoch 11/15\n",
      "63/63 [==============================] - 0s 5ms/step - loss: 0.0204 - accuracy: 0.9930 - val_loss: 0.3351 - val_accuracy: 0.9450\n",
      "Epoch 12/15\n",
      "63/63 [==============================] - 0s 5ms/step - loss: 0.0032 - accuracy: 0.9985 - val_loss: 0.3832 - val_accuracy: 0.9400\n",
      "Epoch 13/15\n",
      "63/63 [==============================] - 0s 6ms/step - loss: 0.0046 - accuracy: 0.9980 - val_loss: 0.3989 - val_accuracy: 0.9500\n",
      "Epoch 14/15\n",
      "63/63 [==============================] - 0s 5ms/step - loss: 0.0169 - accuracy: 0.9935 - val_loss: 0.4061 - val_accuracy: 0.9350\n",
      "Epoch 15/15\n",
      "63/63 [==============================] - 0s 5ms/step - loss: 9.1575e-04 - accuracy: 1.0000 - val_loss: 0.4027 - val_accuracy: 0.9300\n"
     ]
    }
   ],
   "source": [
    "# train_images 학습시키고 15 epochs을 돌리고 그 진행 사항을 hist에 저장하는 코드를 작성하세요.\n",
    "gender_hist = gender_model.fit(train_images, train_male_labels, validation_data=(test_images, test_male_labels), epochs=15, verbose=1)"
   ]
  },
  {
   "cell_type": "code",
   "execution_count": 83,
   "id": "surface-sauce",
   "metadata": {
    "collapsed": true
   },
   "outputs": [
    {
     "name": "stdout",
     "output_type": "stream",
     "text": [
      "Epoch 1/15\n",
      "63/63 [==============================] - 0s 7ms/step - loss: 0.6642 - accuracy: 0.5910 - val_loss: 0.6099 - val_accuracy: 0.7100\n",
      "Epoch 2/15\n",
      "63/63 [==============================] - 0s 6ms/step - loss: 0.5171 - accuracy: 0.7590 - val_loss: 0.5340 - val_accuracy: 0.7800\n",
      "Epoch 3/15\n",
      "63/63 [==============================] - 0s 5ms/step - loss: 0.4584 - accuracy: 0.7885 - val_loss: 0.5048 - val_accuracy: 0.7850\n",
      "Epoch 4/15\n",
      "63/63 [==============================] - 0s 6ms/step - loss: 0.3550 - accuracy: 0.8440 - val_loss: 0.4193 - val_accuracy: 0.8650\n",
      "Epoch 5/15\n",
      "63/63 [==============================] - 0s 7ms/step - loss: 0.2617 - accuracy: 0.8960 - val_loss: 0.3915 - val_accuracy: 0.8650\n",
      "Epoch 6/15\n",
      "63/63 [==============================] - 0s 5ms/step - loss: 0.1998 - accuracy: 0.9200 - val_loss: 0.2755 - val_accuracy: 0.9000\n",
      "Epoch 7/15\n",
      "63/63 [==============================] - 0s 5ms/step - loss: 0.1680 - accuracy: 0.9355 - val_loss: 0.2768 - val_accuracy: 0.8950\n",
      "Epoch 8/15\n",
      "63/63 [==============================] - 0s 6ms/step - loss: 0.1347 - accuracy: 0.9500 - val_loss: 0.2268 - val_accuracy: 0.9300\n",
      "Epoch 9/15\n",
      "63/63 [==============================] - 0s 6ms/step - loss: 0.1016 - accuracy: 0.9590 - val_loss: 0.2396 - val_accuracy: 0.9050\n",
      "Epoch 10/15\n",
      "63/63 [==============================] - 0s 5ms/step - loss: 0.0831 - accuracy: 0.9700 - val_loss: 0.2728 - val_accuracy: 0.8900\n",
      "Epoch 11/15\n",
      "63/63 [==============================] - 0s 5ms/step - loss: 0.0732 - accuracy: 0.9705 - val_loss: 0.2972 - val_accuracy: 0.9050\n",
      "Epoch 12/15\n",
      "63/63 [==============================] - 0s 5ms/step - loss: 0.0567 - accuracy: 0.9800 - val_loss: 0.4240 - val_accuracy: 0.9000\n",
      "Epoch 13/15\n",
      "63/63 [==============================] - 0s 6ms/step - loss: 0.0513 - accuracy: 0.9830 - val_loss: 0.2618 - val_accuracy: 0.9450\n",
      "Epoch 14/15\n",
      "63/63 [==============================] - 1s 9ms/step - loss: 0.0323 - accuracy: 0.9910 - val_loss: 0.2954 - val_accuracy: 0.9300\n",
      "Epoch 15/15\n",
      "63/63 [==============================] - 0s 5ms/step - loss: 0.0326 - accuracy: 0.9900 - val_loss: 0.2990 - val_accuracy: 0.9250\n"
     ]
    }
   ],
   "source": [
    "smile_hist = smile_model.fit(train_images, train_male_labels, validation_data=(test_images, test_male_labels), epochs=15, verbose=1)"
   ]
  },
  {
   "cell_type": "code",
   "execution_count": 84,
   "id": "accredited-mambo",
   "metadata": {},
   "outputs": [
    {
     "data": {
      "text/plain": [
       "array([-0.02044922, -0.09352466,  0.04996714,  0.12191112,  0.08651699,\n",
       "       -0.06302352, -0.00752543,  0.01693784, -0.16558366,  0.08410764,\n",
       "       -0.02087105,  0.03940072, -0.09991081,  0.16335623, -0.07262974,\n",
       "       -0.23361617, -0.10345776, -0.10363238, -0.15722851, -0.07846349,\n",
       "       -0.0898121 ,  0.07470527, -0.15740694,  0.10436915,  0.12289302,\n",
       "       -0.02824716,  0.0526405 , -0.13613835, -0.18221752,  0.15367025,\n",
       "       -0.00809817, -0.1751321 ], dtype=float32)"
      ]
     },
     "execution_count": 84,
     "metadata": {},
     "output_type": "execute_result"
    }
   ],
   "source": [
    "gender_model.get_weights()[0][0][0][0]"
   ]
  },
  {
   "cell_type": "code",
   "execution_count": 85,
   "id": "maritime-falls",
   "metadata": {},
   "outputs": [
    {
     "data": {
      "text/plain": [
       "array([ 0.14056581,  0.17543213,  0.03652254,  0.0814098 , -0.13471913,\n",
       "        0.07686213,  0.01605151,  0.02061659,  0.2066465 , -0.12736094,\n",
       "       -0.10449898,  0.021083  ,  0.12918884,  0.14547344,  0.07683469,\n",
       "       -0.11217734, -0.0812588 ,  0.18794851,  0.04047968, -0.00619446,\n",
       "       -0.05136621,  0.10450558,  0.14546074, -0.10819   ,  0.11150016,\n",
       "        0.03928731,  0.1261908 ,  0.07269233,  0.00126388,  0.09216302,\n",
       "       -0.07055715, -0.12447066], dtype=float32)"
      ]
     },
     "execution_count": 85,
     "metadata": {},
     "output_type": "execute_result"
    }
   ],
   "source": [
    "smile_model.get_weights()[0][0][0][0]"
   ]
  },
  {
   "cell_type": "code",
   "execution_count": 89,
   "id": "paperback-logic",
   "metadata": {},
   "outputs": [
    {
     "data": {
      "image/png": "[encoded data removed]",
      "text/plain": [
       "<Figure size 432x288 with 1 Axes>"
      ]
     },
     "metadata": {
      "needs_background": "light"
     },
     "output_type": "display_data"
    }
   ],
   "source": [
    "# hist의 accuracy plt의 plot을 이용하여 출력하는 코드를 작성하세요.\n",
    "plt.plot(gender_hist.history['accuracy'], label = 'gender_accuracy')\n",
    "plt.plot(gender_hist.history['loss'], label='gender_loss')\n",
    "plt.plot(gender_hist.history['val_accuracy'], label='gender_val_accuracy')\n",
    "plt.plot(gender_hist.history['val_loss'], label='gender_val_loss')\n",
    "\n",
    "plt.plot(smile_hist.history['accuracy'], label = 'smile_accuracy')\n",
    "plt.plot(smile_hist.history['loss'], label='smile_loss')\n",
    "plt.plot(smile_hist.history['val_accuracy'], label='smile_val_accuracy')\n",
    "plt.plot(smile_hist.history['val_loss'], label='smile_val_loss')\n",
    "\n",
    "plt.legend(loc='upper left')\n",
    "plt.show()"
   ]
  },
  {
   "cell_type": "code",
   "execution_count": 90,
   "id": "anticipated-still",
   "metadata": {},
   "outputs": [
    {
     "data": {
      "text/plain": [
       "(1, 2)"
      ]
     },
     "execution_count": 90,
     "metadata": {},
     "output_type": "execute_result"
    }
   ],
   "source": [
    "# 결과 확인\n",
    "gender_res = gender_model.predict(test_images[1:2])\n",
    "gender_res.shape"
   ]
  },
  {
   "cell_type": "code",
   "execution_count": 91,
   "id": "manual-synthesis",
   "metadata": {},
   "outputs": [
    {
     "data": {
      "text/plain": [
       "(1, 2)"
      ]
     },
     "execution_count": 91,
     "metadata": {},
     "output_type": "execute_result"
    }
   ],
   "source": [
    "smile_res = smile_model.predict(test_images[1:2])\n",
    "smile_res.shape"
   ]
  },
  {
   "cell_type": "code",
   "execution_count": 95,
   "id": "historic-charm",
   "metadata": {},
   "outputs": [
    {
     "data": {
      "image/png": "[encoded data removed]",
      "text/plain": [
       "<Figure size 432x288 with 1 Axes>"
      ]
     },
     "metadata": {
      "needs_background": "light"
     },
     "output_type": "display_data"
    }
   ],
   "source": [
    "# 모델에 test_mages 중 1장을 넣고 결과를 받는 코드를 작성하세요.\n",
    "plt.imshow(test_images[1])\n",
    "plt.show()"
   ]
  },
  {
   "cell_type": "code",
   "execution_count": 96,
   "id": "horizontal-reflection",
   "metadata": {},
   "outputs": [
    {
     "data": {
      "image/png": "[encoded data removed]",
      "text/plain": [
       "<Figure size 432x288 with 1 Axes>"
      ]
     },
     "metadata": {
      "needs_background": "light"
     },
     "output_type": "display_data"
    }
   ],
   "source": [
    "plt.imshow(test_images[0])\n",
    "plt.show()"
   ]
  },
  {
   "cell_type": "code",
   "execution_count": 97,
   "id": "graduate-benchmark",
   "metadata": {},
   "outputs": [
    {
     "data": {
      "image/png": "[encoded data removed]",
      "text/plain": [
       "<Figure size 432x288 with 1 Axes>"
      ]
     },
     "metadata": {
      "needs_background": "light"
     },
     "output_type": "display_data"
    }
   ],
   "source": [
    "plt.imshow(test_images[2])\n",
    "plt.show()"
   ]
  },
  {
   "cell_type": "code",
   "execution_count": 98,
   "id": "confidential-afghanistan",
   "metadata": {},
   "outputs": [],
   "source": [
    "from keras.models import Model\n",
    "from keras.layers import Conv2D, MaxPool2D, Input, Dense, Flatten, Concatenate"
   ]
  },
  {
   "cell_type": "code",
   "execution_count": 99,
   "id": "caroline-cycle",
   "metadata": {},
   "outputs": [],
   "source": [
    "def multi_model():\n",
    "    inputs = Input((72,59,3))\n",
    "    \n",
    "    layer1 = Conv2D(32,3, activation='relu')(inputs)\n",
    "    layer2 = MaxPool2D(2)(layer1)\n",
    "    layer3 = Conv2D(64,3, activation='relu')(layer2)\n",
    "    layer4 = MaxPool2D(2)(layer3)\n",
    "    layer5 = Conv2D(64,3, activation='relu')(layer4)\n",
    "    layer6 = MaxPool2D(2)(layer5)\n",
    "    \n",
    "    layer7 = Flatten()(layer6)\n",
    "    latent_vector = Dense(64, activation='relu')(layer7)\n",
    "    \n",
    "    gender_outputs = Dense(2, activation='softmax')(latent_vector)\n",
    "    smile_outputs = Dense(2, activation='softmax')(latent_vector)\n",
    "    \n",
    "    outputs = Concatenate(axis=1)([gender_outputs, smile_outputs])\n",
    "    \n",
    "    model = Model(inputs, outputs)\n",
    "    return model"
   ]
  },
  {
   "cell_type": "code",
   "execution_count": 100,
   "id": "qualified-stationery",
   "metadata": {},
   "outputs": [
    {
     "name": "stdout",
     "output_type": "stream",
     "text": [
      "Model: \"model_2\"\n",
      "__________________________________________________________________________________________________\n",
      "Layer (type)                    Output Shape         Param #     Connected to                     \n",
      "==================================================================================================\n",
      "input_3 (InputLayer)            [(None, 72, 59, 3)]  0                                            \n",
      "__________________________________________________________________________________________________\n",
      "conv2d_6 (Conv2D)               (None, 70, 57, 32)   896         input_3[0][0]                    \n",
      "__________________________________________________________________________________________________\n",
      "max_pooling2d_6 (MaxPooling2D)  (None, 35, 28, 32)   0           conv2d_6[0][0]                   \n",
      "__________________________________________________________________________________________________\n",
      "conv2d_7 (Conv2D)               (None, 33, 26, 64)   18496       max_pooling2d_6[0][0]            \n",
      "__________________________________________________________________________________________________\n",
      "max_pooling2d_7 (MaxPooling2D)  (None, 16, 13, 64)   0           conv2d_7[0][0]                   \n",
      "__________________________________________________________________________________________________\n",
      "conv2d_8 (Conv2D)               (None, 14, 11, 64)   36928       max_pooling2d_7[0][0]            \n",
      "__________________________________________________________________________________________________\n",
      "max_pooling2d_8 (MaxPooling2D)  (None, 7, 5, 64)     0           conv2d_8[0][0]                   \n",
      "__________________________________________________________________________________________________\n",
      "flatten_2 (Flatten)             (None, 2240)         0           max_pooling2d_8[0][0]            \n",
      "__________________________________________________________________________________________________\n",
      "dense_4 (Dense)                 (None, 64)           143424      flatten_2[0][0]                  \n",
      "__________________________________________________________________________________________________\n",
      "dense_5 (Dense)                 (None, 2)            130         dense_4[0][0]                    \n",
      "__________________________________________________________________________________________________\n",
      "dense_6 (Dense)                 (None, 2)            130         dense_4[0][0]                    \n",
      "__________________________________________________________________________________________________\n",
      "concatenate (Concatenate)       (None, 4)            0           dense_5[0][0]                    \n",
      "                                                                 dense_6[0][0]                    \n",
      "==================================================================================================\n",
      "Total params: 200,004\n",
      "Trainable params: 200,004\n",
      "Non-trainable params: 0\n",
      "__________________________________________________________________________________________________\n"
     ]
    }
   ],
   "source": [
    "model2 = multi_model()\n",
    "model2.summary()"
   ]
  },
  {
   "cell_type": "code",
   "execution_count": 101,
   "id": "material-convention",
   "metadata": {},
   "outputs": [],
   "source": [
    "model2.compile(optimizer='adam',\n",
    "             loss='categorical_crossentropy',\n",
    "             metrics = [\"accuracy\"])"
   ]
  },
  {
   "cell_type": "code",
   "execution_count": 103,
   "id": "convenient-bhutan",
   "metadata": {
    "scrolled": true
   },
   "outputs": [
    {
     "name": "stdout",
     "output_type": "stream",
     "text": [
      "Epoch 1/15\n",
      "63/63 [==============================] - 0s 7ms/step - loss: 2.6654 - accuracy: 0.5165 - val_loss: 2.5563 - val_accuracy: 0.6250\n",
      "Epoch 2/15\n",
      "63/63 [==============================] - 0s 5ms/step - loss: 2.4535 - accuracy: 0.6930 - val_loss: 2.4512 - val_accuracy: 0.7250\n",
      "Epoch 3/15\n",
      "63/63 [==============================] - 0s 5ms/step - loss: 2.2275 - accuracy: 0.7540 - val_loss: 2.1442 - val_accuracy: 0.7200\n",
      "Epoch 4/15\n",
      "63/63 [==============================] - 0s 5ms/step - loss: 2.0184 - accuracy: 0.7245 - val_loss: 2.0612 - val_accuracy: 0.6250\n",
      "Epoch 5/15\n",
      "63/63 [==============================] - 0s 5ms/step - loss: 1.9135 - accuracy: 0.7100 - val_loss: 2.0997 - val_accuracy: 0.6600\n",
      "Epoch 6/15\n",
      "63/63 [==============================] - 0s 6ms/step - loss: 1.8126 - accuracy: 0.6995 - val_loss: 1.9756 - val_accuracy: 0.6350\n",
      "Epoch 7/15\n",
      "63/63 [==============================] - 0s 6ms/step - loss: 1.7541 - accuracy: 0.6945 - val_loss: 1.9440 - val_accuracy: 0.6550\n",
      "Epoch 8/15\n",
      "63/63 [==============================] - 1s 10ms/step - loss: 1.7165 - accuracy: 0.7130 - val_loss: 2.0107 - val_accuracy: 0.6650\n",
      "Epoch 9/15\n",
      "63/63 [==============================] - 0s 5ms/step - loss: 1.6918 - accuracy: 0.7005 - val_loss: 2.0298 - val_accuracy: 0.6350\n",
      "Epoch 10/15\n",
      "63/63 [==============================] - 0s 5ms/step - loss: 1.6375 - accuracy: 0.7285 - val_loss: 1.9256 - val_accuracy: 0.6300\n",
      "Epoch 11/15\n",
      "63/63 [==============================] - 0s 7ms/step - loss: 1.5961 - accuracy: 0.7065 - val_loss: 2.0215 - val_accuracy: 0.6150\n",
      "Epoch 12/15\n",
      "63/63 [==============================] - 0s 5ms/step - loss: 1.5836 - accuracy: 0.7380 - val_loss: 2.0228 - val_accuracy: 0.6100\n",
      "Epoch 13/15\n",
      "63/63 [==============================] - 0s 5ms/step - loss: 1.5350 - accuracy: 0.7240 - val_loss: 2.0593 - val_accuracy: 0.6150\n",
      "Epoch 14/15\n",
      "63/63 [==============================] - 0s 6ms/step - loss: 1.5206 - accuracy: 0.7220 - val_loss: 2.0512 - val_accuracy: 0.6550\n",
      "Epoch 15/15\n",
      "63/63 [==============================] - 0s 7ms/step - loss: 1.5037 - accuracy: 0.7220 - val_loss: 2.2362 - val_accuracy: 0.6300\n"
     ]
    }
   ],
   "source": [
    "hist1 = model2.fit(train_images, train_labels2, validation_data=(test_images, test_labels2), epochs=15, verbose=1)"
   ]
  },
  {
   "cell_type": "code",
   "execution_count": 106,
   "id": "continued-birthday",
   "metadata": {},
   "outputs": [
    {
     "name": "stdout",
     "output_type": "stream",
     "text": [
      "2\n",
      "(4,) (4,)\n"
     ]
    }
   ],
   "source": [
    "res = model2.predict(test_images[3:5])\n",
    "print(len(res))\n",
    "print(res[0].shape, res[1].shape)"
   ]
  },
  {
   "cell_type": "code",
   "execution_count": null,
   "id": "supported-railway",
   "metadata": {},
   "outputs": [],
   "source": []
  }
 ],
 "metadata": {
  "kernelspec": {
   "display_name": "aiffel",
   "language": "python",
   "name": "aiffel"
  },
  "language_info": {
   "codemirror_mode": {
    "name": "ipython",
    "version": 3
   },
   "file_extension": ".py",
   "mimetype": "text/x-python",
   "name": "python",
   "nbconvert_exporter": "python",
   "pygments_lexer": "ipython3",
   "version": "3.7.6"
  }
 },
 "nbformat": 4,
 "nbformat_minor": 5
}
