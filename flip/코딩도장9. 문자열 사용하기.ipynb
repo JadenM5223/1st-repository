{
 "cells": [
  {
   "cell_type": "markdown",
   "id": "9ffe7282",
   "metadata": {},
   "source": [
    "## 문자열 사용하기"
   ]
  },
  {
   "cell_type": "code",
   "execution_count": 1,
   "id": "c77de663",
   "metadata": {},
   "outputs": [],
   "source": [
    "hello = 'Hello, world!'"
   ]
  },
  {
   "cell_type": "code",
   "execution_count": 2,
   "id": "6126cbe4",
   "metadata": {},
   "outputs": [
    {
     "data": {
      "text/plain": [
       "'Hello, world!'"
      ]
     },
     "execution_count": 2,
     "metadata": {},
     "output_type": "execute_result"
    }
   ],
   "source": [
    "hello"
   ]
  },
  {
   "cell_type": "code",
   "execution_count": 3,
   "id": "c7e64c5d",
   "metadata": {},
   "outputs": [],
   "source": [
    "hell0 = '안녕하세요'"
   ]
  },
  {
   "cell_type": "code",
   "execution_count": 4,
   "id": "90e06219",
   "metadata": {},
   "outputs": [
    {
     "data": {
      "text/plain": [
       "'안녕하세요'"
      ]
     },
     "execution_count": 4,
     "metadata": {},
     "output_type": "execute_result"
    }
   ],
   "source": [
    "hell0"
   ]
  },
  {
   "cell_type": "code",
   "execution_count": 5,
   "id": "38b78a12",
   "metadata": {},
   "outputs": [],
   "source": [
    "hello = \"Hello, world!\"\n",
    "hell0 = '''Hello'''\n",
    "hellㅇ = \"\"\"안녕하세요\"\"\""
   ]
  },
  {
   "cell_type": "code",
   "execution_count": 6,
   "id": "0497f497",
   "metadata": {},
   "outputs": [
    {
     "data": {
      "text/plain": [
       "'Hello, world!'"
      ]
     },
     "execution_count": 6,
     "metadata": {},
     "output_type": "execute_result"
    }
   ],
   "source": [
    "hello"
   ]
  },
  {
   "cell_type": "code",
   "execution_count": 7,
   "id": "9785d5ac",
   "metadata": {},
   "outputs": [
    {
     "data": {
      "text/plain": [
       "'Hello'"
      ]
     },
     "execution_count": 7,
     "metadata": {},
     "output_type": "execute_result"
    }
   ],
   "source": [
    "hell0"
   ]
  },
  {
   "cell_type": "code",
   "execution_count": 8,
   "id": "c903aa15",
   "metadata": {},
   "outputs": [
    {
     "data": {
      "text/plain": [
       "'안녕하세요'"
      ]
     },
     "execution_count": 8,
     "metadata": {},
     "output_type": "execute_result"
    }
   ],
   "source": [
    "hellㅇ"
   ]
  },
  {
   "cell_type": "markdown",
   "id": "b7bf6460",
   "metadata": {},
   "source": [
    "### 여러 줄로 된 문자열 사용하기"
   ]
  },
  {
   "cell_type": "markdown",
   "id": "533fca0e",
   "metadata": {},
   "source": [
    "큰따옴표로 해도 상관없음"
   ]
  },
  {
   "cell_type": "code",
   "execution_count": 9,
   "id": "ef42d8d6",
   "metadata": {},
   "outputs": [],
   "source": [
    "hello = '''Hello, world!\n",
    "안녕하세요.\n",
    "Python입니다.'''"
   ]
  },
  {
   "cell_type": "code",
   "execution_count": 10,
   "id": "3a6aa694",
   "metadata": {},
   "outputs": [
    {
     "name": "stdout",
     "output_type": "stream",
     "text": [
      "Hello, world!\n",
      "안녕하세요.\n",
      "Python입니다.\n"
     ]
    }
   ],
   "source": [
    "print(hello)"
   ]
  },
  {
   "cell_type": "markdown",
   "id": "6d3c7346",
   "metadata": {},
   "source": [
    "### 문자열 안에 작은따옴표나 큰따옴표 포함"
   ]
  },
  {
   "cell_type": "code",
   "execution_count": 11,
   "id": "6e2ad0f5",
   "metadata": {},
   "outputs": [],
   "source": [
    "s = \"Python isn't difficult\""
   ]
  },
  {
   "cell_type": "code",
   "execution_count": 12,
   "id": "c6251a71",
   "metadata": {},
   "outputs": [
    {
     "data": {
      "text/plain": [
       "\"Python isn't difficult\""
      ]
     },
     "execution_count": 12,
     "metadata": {},
     "output_type": "execute_result"
    }
   ],
   "source": [
    "s"
   ]
  },
  {
   "cell_type": "code",
   "execution_count": 13,
   "id": "04510acc",
   "metadata": {},
   "outputs": [
    {
     "ename": "SyntaxError",
     "evalue": "invalid syntax (<ipython-input-13-ee68b4c434be>, line 1)",
     "output_type": "error",
     "traceback": [
      "\u001b[1;36m  File \u001b[1;32m\"<ipython-input-13-ee68b4c434be>\"\u001b[1;36m, line \u001b[1;32m1\u001b[0m\n\u001b[1;33m    s = 'Python isn't difficult'\u001b[0m\n\u001b[1;37m                    ^\u001b[0m\n\u001b[1;31mSyntaxError\u001b[0m\u001b[1;31m:\u001b[0m invalid syntax\n"
     ]
    }
   ],
   "source": [
    "s = 'Python isn't difficult'"
   ]
  },
  {
   "cell_type": "markdown",
   "id": "22d65e73",
   "metadata": {},
   "source": [
    "#### 다른 방법"
   ]
  },
  {
   "cell_type": "markdown",
   "id": "c3e396b7",
   "metadata": {},
   "source": [
    "이스케이프(escape) 사용"
   ]
  },
  {
   "cell_type": "code",
   "execution_count": 14,
   "id": "f071e5d2",
   "metadata": {},
   "outputs": [],
   "source": [
    "ㅎ = 'Python isn\\'t difficult'"
   ]
  },
  {
   "cell_type": "code",
   "execution_count": 15,
   "id": "8cecebb2",
   "metadata": {},
   "outputs": [
    {
     "data": {
      "text/plain": [
       "\"Python isn't difficult\""
      ]
     },
     "execution_count": 15,
     "metadata": {},
     "output_type": "execute_result"
    }
   ],
   "source": [
    "ㅎ"
   ]
  },
  {
   "cell_type": "markdown",
   "id": "97fa5d90",
   "metadata": {},
   "source": []
  },
  {
   "cell_type": "markdown",
   "id": "cacb5f61",
   "metadata": {},
   "source": [
    "## 연습문제"
   ]
  },
  {
   "cell_type": "code",
   "execution_count": 16,
   "id": "89def6cf",
   "metadata": {},
   "outputs": [
    {
     "data": {
      "text/plain": [
       "'\\'Python\\' is a \"programming language\"\\nthat lets you work quickly\\nand\\nintegrate systems more effectively.'"
      ]
     },
     "execution_count": 16,
     "metadata": {},
     "output_type": "execute_result"
    }
   ],
   "source": [
    "\"\"\"'Python' is a \"programming language\"\n",
    "that lets you work quickly\n",
    "and\n",
    "integrate systems more effectively.\"\"\""
   ]
  },
  {
   "cell_type": "code",
   "execution_count": 17,
   "id": "0dddb329",
   "metadata": {},
   "outputs": [],
   "source": [
    "s = \"\"\"'Python' is a \"programming language\"\n",
    "that lets you work quickly\n",
    "and\n",
    "integrate systems more effectively.\"\"\""
   ]
  },
  {
   "cell_type": "code",
   "execution_count": 18,
   "id": "01966aa3",
   "metadata": {},
   "outputs": [
    {
     "data": {
      "text/plain": [
       "'\\'Python\\' is a \"programming language\"\\nthat lets you work quickly\\nand\\nintegrate systems more effectively.'"
      ]
     },
     "execution_count": 18,
     "metadata": {},
     "output_type": "execute_result"
    }
   ],
   "source": [
    "s"
   ]
  },
  {
   "cell_type": "code",
   "execution_count": null,
   "id": "78fa660f",
   "metadata": {},
   "outputs": [],
   "source": []
  }
 ],
 "metadata": {
  "kernelspec": {
   "display_name": "Python 3",
   "language": "python",
   "name": "python3"
  },
  "language_info": {
   "codemirror_mode": {
    "name": "ipython",
    "version": 3
   },
   "file_extension": ".py",
   "mimetype": "text/x-python",
   "name": "python",
   "nbconvert_exporter": "python",
   "pygments_lexer": "ipython3",
   "version": "3.8.8"
  }
 },
 "nbformat": 4,
 "nbformat_minor": 5
}
