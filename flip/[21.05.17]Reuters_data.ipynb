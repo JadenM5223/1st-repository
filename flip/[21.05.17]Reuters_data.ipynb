{
 "cells": [
  {
   "cell_type": "markdown",
   "metadata": {},
   "source": [
    "## 필요 라이브러리 불러오기"
   ]
  },
  {
   "cell_type": "code",
   "execution_count": 21,
   "metadata": {},
   "outputs": [],
   "source": [
    "import tensorflow as tf\n",
    "from tensorflow import keras\n",
    "from keras.layers import Dense\n",
    "from keras.models import Sequential\n",
    "\n",
    "import pandas as pd\n",
    "import numpy as np\n",
    "import matplotlib.pyplot as plt\n",
    "import seaborn as sns\n",
    "import warnings \n",
    "from IPython.display import Image\n",
    "import matplotlib.pyplot as plt\n",
    "\n",
    "warnings.filterwarnings('ignore')\n",
    "%matplotlib inline\n",
    "\n",
    "SEED = 34"
   ]
  },
  {
   "cell_type": "markdown",
   "metadata": {},
   "source": [
    "## 데이터 불러오기"
   ]
  },
  {
   "cell_type": "code",
   "execution_count": 22,
   "metadata": {},
   "outputs": [],
   "source": [
    "reuters = keras.datasets.reuters\n",
    "(train_text, train_topic), (test_text, test_topic) = reuters.load_data()"
   ]
  },
  {
   "cell_type": "code",
   "execution_count": 23,
   "metadata": {},
   "outputs": [
    {
     "name": "stdout",
     "output_type": "stream",
     "text": [
      "(8982,) (8982,) (2246,) (2246,)\n"
     ]
    }
   ],
   "source": [
    "# 데이터의 크기를 shape 함수를 통해 출력해주세요.\n",
    "print(train_text.shape, train_topic.shape, test_text.shape, test_topic.shape)"
   ]
  },
  {
   "cell_type": "code",
   "execution_count": 24,
   "metadata": {},
   "outputs": [
    {
     "name": "stdout",
     "output_type": "stream",
     "text": [
      "object int64 object int64\n"
     ]
    }
   ],
   "source": [
    "# train_text/topic의 dtype을 출력해보세요.\n",
    "print(train_text.dtype, train_topic.dtype, test_text.dtype, test_topic.dtype)"
   ]
  },
  {
   "cell_type": "code",
   "execution_count": 25,
   "metadata": {},
   "outputs": [
    {
     "data": {
      "text/plain": [
       "Text(0.5, 1.0, 'text of length')"
      ]
     },
     "execution_count": 25,
     "metadata": {},
     "output_type": "execute_result"
    },
    {
     "data": {
      "image/png": "[encoded data removed]",
      "text/plain": [
       "<Figure size 432x288 with 1 Axes>"
      ]
     },
     "metadata": {
      "needs_background": "light"
     },
     "output_type": "display_data"
    }
   ],
   "source": [
    "# train_text에서 각 원소의 길이를 y축으로 bar plot를 그려보세요.\n",
    "plt.bar(range(len(train_text)), [len(text) for text in train_text])\n",
    "plt.title('text of length')"
   ]
  },
  {
   "cell_type": "code",
   "execution_count": 27,
   "metadata": {},
   "outputs": [],
   "source": [
    "# train_text, test_text에서 등장한 정수들을 알아보자\n",
    "all_words = set([word for text in train_text for word in text]) | set([word for text in test_text for word in text])"
   ]
  },
  {
   "cell_type": "code",
   "execution_count": 28,
   "metadata": {},
   "outputs": [
    {
     "name": "stdout",
     "output_type": "stream",
     "text": [
      "[1, 2, 4, 5, 6]\n",
      "[30977, 30978, 30979, 30980, 30981]\n"
     ]
    }
   ],
   "source": [
    "print(sorted(all_words)[:5])\n",
    "print(sorted(all_words)[-5:])"
   ]
  },
  {
   "cell_type": "code",
   "execution_count": 33,
   "metadata": {},
   "outputs": [],
   "source": [
    "train_bow_text = tf.keras.preprocessing.sequence.pad_sequences(train_text, value=0)\n",
    "test_bow_text = tf.keras.preprocessing.sequence.pad_sequences(test_text, value=0)"
   ]
  },
  {
   "cell_type": "code",
   "execution_count": 37,
   "metadata": {},
   "outputs": [
    {
     "data": {
      "text/plain": [
       "((8982, 2376), (2246, 1032))"
      ]
     },
     "execution_count": 37,
     "metadata": {},
     "output_type": "execute_result"
    }
   ],
   "source": [
    "train_bow_text.shape, test_bow_text.shape"
   ]
  },
  {
   "cell_type": "code",
   "execution_count": 44,
   "metadata": {},
   "outputs": [
    {
     "data": {
      "text/plain": [
       "[(4, 82723),\n",
       " (5, 42393),\n",
       " (6, 40350),\n",
       " (7, 33157),\n",
       " (8, 29978),\n",
       " (9, 29956),\n",
       " (10, 29581),\n",
       " (11, 20141),\n",
       " (12, 16668),\n",
       " (13, 15224)]"
      ]
     },
     "execution_count": 44,
     "metadata": {},
     "output_type": "execute_result"
    }
   ],
   "source": [
    "# train과 test에 나온 word들의 count를 측정해보자\n",
    "import collections \n",
    "\n",
    "word_count = collections.Counter()\n",
    "\n",
    "for text in train_text:\n",
    "    word_count.update(text)\n",
    "for text in test_text:\n",
    "    word_count.update(text)\n",
    "    \n",
    "word_count.most_common(10)"
   ]
  },
  {
   "cell_type": "code",
   "execution_count": 46,
   "metadata": {},
   "outputs": [],
   "source": [
    "# word_count를 이용해서 n번 미만으로 나온 word를 삭제하여 train과 test를 구성하여보자.\n",
    "def cut_by_count(texts, n):\n",
    "    \n",
    "    return np.array([[word for word in text if word_count[word] >= n] for text in texts])"
   ]
  },
  {
   "cell_type": "code",
   "execution_count": 55,
   "metadata": {},
   "outputs": [],
   "source": [
    "train_cut_text = cut_by_count(train_text, 20)\n",
    "test_cut_text = cut_by_count(test_text, 20)"
   ]
  },
  {
   "cell_type": "code",
   "execution_count": 57,
   "metadata": {},
   "outputs": [
    {
     "data": {
      "text/plain": [
       "((8982,), (2246,))"
      ]
     },
     "execution_count": 57,
     "metadata": {},
     "output_type": "execute_result"
    }
   ],
   "source": [
    "train_cut_text.shape, test_cut_text.shape"
   ]
  },
  {
   "cell_type": "code",
   "execution_count": 64,
   "metadata": {},
   "outputs": [],
   "source": [
    "# train_text/test_text에 길이 제한을 줘서 bow를 생성해보세요.\n",
    "train_cut_bow_text2 = tf.keras.preprocessing.sequence.pad_sequences(train_text, value = 0, maxlen = 200)\n",
    "test_cut_bow_text2 = tf.keras.preprocessing.sequence.pad_sequences(test_text, value = 0, maxlen = 200)"
   ]
  },
  {
   "cell_type": "code",
   "execution_count": 65,
   "metadata": {},
   "outputs": [
    {
     "data": {
      "text/plain": [
       "((8982, 200), (2246, 200))"
      ]
     },
     "execution_count": 65,
     "metadata": {},
     "output_type": "execute_result"
    }
   ],
   "source": [
    "train_cut_bow_text2.shape, test_cut_bow_text2.shape"
   ]
  },
  {
   "cell_type": "code",
   "execution_count": 66,
   "metadata": {},
   "outputs": [
    {
     "data": {
      "text/plain": [
       "array([ 0,  1,  2,  3,  4,  5,  6,  7,  8,  9, 10, 11, 12, 13, 14, 15, 16,\n",
       "       17, 18, 19, 20, 21, 22, 23, 24, 25, 26, 27, 28, 29, 30, 31, 32, 33,\n",
       "       34, 35, 36, 37, 38, 39, 40, 41, 42, 43, 44, 45])"
      ]
     },
     "execution_count": 66,
     "metadata": {},
     "output_type": "execute_result"
    }
   ],
   "source": [
    "# topic을 onehot encoding으로 변경해보세요.\n",
    "np.unique(train_topic)"
   ]
  },
  {
   "cell_type": "code",
   "execution_count": 71,
   "metadata": {},
   "outputs": [],
   "source": [
    "train_onehot_topic = keras.utils.to_categorical(train_topic)\n",
    "test_onehot_topic = keras.utils.to_categorical(test_topic)"
   ]
  },
  {
   "cell_type": "code",
   "execution_count": 72,
   "metadata": {},
   "outputs": [
    {
     "data": {
      "text/plain": [
       "((8982, 46), (2246, 46))"
      ]
     },
     "execution_count": 72,
     "metadata": {},
     "output_type": "execute_result"
    }
   ],
   "source": [
    "train_onehot_topic.shape, test_onehot_topic.shape"
   ]
  },
  {
   "cell_type": "code",
   "execution_count": 73,
   "metadata": {},
   "outputs": [],
   "source": [
    "#topic 인덱스를 text label로 변환하는 함수를 만드세요.\n",
    "raw_labels = ['cocoa','grain','veg-oil','earn','acq','wheat','copper','housing','money-supply',\n",
    "   'coffee','sugar','trade','reserves','ship','cotton','carcass','crude','nat-gas',\n",
    "   'cpi','money-fx','interest','gnp','meal-feed','alum','oilseed','gold','tin',\n",
    "   'strategic-metal','livestock','retail','ipi','iron-steel','rubber','heat','jobs',\n",
    "   'lei','bop','zinc','orange','pet-chem','dlr','gas','silver','wpi','hog','lead']"
   ]
  },
  {
   "cell_type": "code",
   "execution_count": 80,
   "metadata": {},
   "outputs": [
    {
     "data": {
      "text/plain": [
       "46"
      ]
     },
     "execution_count": 80,
     "metadata": {},
     "output_type": "execute_result"
    }
   ],
   "source": [
    "len(raw_labels)"
   ]
  },
  {
   "cell_type": "code",
   "execution_count": 74,
   "metadata": {},
   "outputs": [],
   "source": [
    "def topic2label(idx):\n",
    "    return raw_labels[idx]"
   ]
  },
  {
   "cell_type": "code",
   "execution_count": 79,
   "metadata": {},
   "outputs": [
    {
     "name": "stdout",
     "output_type": "stream",
     "text": [
      "cocoa\n",
      "lead\n"
     ]
    }
   ],
   "source": [
    "print(topic2label(0))\n",
    "print(topic2label(45))"
   ]
  },
  {
   "cell_type": "markdown",
   "metadata": {},
   "source": [
    "## 데이터 시각화"
   ]
  },
  {
   "cell_type": "code",
   "execution_count": 89,
   "metadata": {},
   "outputs": [
    {
     "data": {
      "image/png": "[encoded data removed]",
      "text/plain": [
       "<Figure size 432x288 with 1 Axes>"
      ]
     },
     "metadata": {
      "needs_background": "light"
     },
     "output_type": "display_data"
    }
   ],
   "source": [
    "# train_text의 길이 분포를 출력해보세요.\n",
    "plt.hist( [len(s) for s in train_text], bins = 30)\n",
    "plt.show()"
   ]
  },
  {
   "cell_type": "code",
   "execution_count": 92,
   "metadata": {},
   "outputs": [
    {
     "data": {
      "image/png": "[encoded data removed]",
      "text/plain": [
       "<Figure size 432x288 with 1 Axes>"
      ]
     },
     "metadata": {
      "needs_background": "light"
     },
     "output_type": "display_data"
    }
   ],
   "source": [
    "# train_cut_text의 길이 분포를 출력해보세요.\n",
    "plt.hist( [len(s) for s in train_cut_text], bins = 30)\n",
    "plt.show()"
   ]
  },
  {
   "cell_type": "code",
   "execution_count": 93,
   "metadata": {},
   "outputs": [
    {
     "data": {
      "image/png": "[encoded data removed]",
      "text/plain": [
       "<Figure size 432x288 with 1 Axes>"
      ]
     },
     "metadata": {
      "needs_background": "light"
     },
     "output_type": "display_data"
    }
   ],
   "source": [
    "# train_cut_bow_text2의 길이 분포를 출력해보세요.\n",
    "plt.hist( [len(s) for s in train_cut_bow_text2], bins = 30)\n",
    "plt.show()"
   ]
  },
  {
   "cell_type": "code",
   "execution_count": 95,
   "metadata": {},
   "outputs": [
    {
     "data": {
      "text/plain": [
       "<BarContainer object of 46 artists>"
      ]
     },
     "execution_count": 95,
     "metadata": {},
     "output_type": "execute_result"
    },
    {
     "data": {
      "image/png": "[encoded data removed]",
      "text/plain": [
       "<Figure size 432x288 with 1 Axes>"
      ]
     },
     "metadata": {
      "needs_background": "light"
     },
     "output_type": "display_data"
    }
   ],
   "source": [
    "# label 분포를 출력해보세요.\n",
    "plt.bar(np.unique(train_topic), list(map(lambda x:x[1], sorted(collections.Counter(train_topic).items()))))"
   ]
  },
  {
   "cell_type": "code",
   "execution_count": 97,
   "metadata": {},
   "outputs": [
    {
     "data": {
      "text/plain": [
       "<BarContainer object of 46 artists>"
      ]
     },
     "execution_count": 97,
     "metadata": {},
     "output_type": "execute_result"
    },
    {
     "data": {
      "image/png": "[encoded data removed]",
      "text/plain": [
       "<Figure size 432x288 with 1 Axes>"
      ]
     },
     "metadata": {
      "needs_background": "light"
     },
     "output_type": "display_data"
    }
   ],
   "source": [
    "plt.bar(*np.unique(train_topic, return_counts=True))"
   ]
  },
  {
   "cell_type": "code",
   "execution_count": 98,
   "metadata": {},
   "outputs": [
    {
     "data": {
      "text/plain": [
       "<AxesSubplot:ylabel='count'>"
      ]
     },
     "execution_count": 98,
     "metadata": {},
     "output_type": "execute_result"
    },
    {
     "data": {
      "image/png": "[encoded data removed]",
      "text/plain": [
       "<Figure size 432x288 with 1 Axes>"
      ]
     },
     "metadata": {
      "needs_background": "light"
     },
     "output_type": "display_data"
    }
   ],
   "source": [
    "sns.countplot(train_topic)"
   ]
  },
  {
   "cell_type": "code",
   "execution_count": 102,
   "metadata": {},
   "outputs": [
    {
     "data": {
      "image/png": "[encoded data removed]",
      "text/plain": [
       "<Figure size 720x360 with 1 Axes>"
      ]
     },
     "metadata": {
      "needs_background": "light"
     },
     "output_type": "display_data"
    }
   ],
   "source": [
    "sns.countplot(list(map(lambda x: topic2label(x), train_topic)))\n",
    "plt.xticks(rotation=70)\n",
    "fig = plt.gcf()\n",
    "fig.set_size_inches(10, 5)\n",
    "plt.show()"
   ]
  },
  {
   "cell_type": "code",
   "execution_count": 104,
   "metadata": {},
   "outputs": [
    {
     "name": "stdout",
     "output_type": "stream",
     "text": [
      "Downloading data from https://storage.googleapis.com/tensorflow/tf-keras-datasets/reuters_word_index.json\n",
      "557056/550378 [==============================] - 0s 0us/step\n"
     ]
    },
    {
     "data": {
      "text/plain": [
       "\"the slide both their a in after london adjusted 2 contracts 54 as sales agriculture with from were vs been prices its for benefit from dlrs vs been are 2 both 97 firms deficient i geneen briefly mln briefly week operating for giving 28 in record disappointed spending shr initiative around five farmers in but 18 66 5 efforts scale will t net mln with deal from billion vs been said in after london adjusted 5 will agip it take supplies briefly mln 9 confidence on been 5 will agriculture method it in has would both administration without on been it intended figures 3 total on been 5 will 75 that in into shares net mln january in three subject for system guaranty deficient users and 381 surviving in attempt 5 higher prices producers without on been 57 request in executive in three it at china concentrate as sales priorities paris said in attempt last told showed 1 and 48 deficit be what briefly mln surviving over qtr prices today is said acres agree in one news possible be 9 1988 vs regional briefly mln against while slide sne oil smith and extraordinary investor surviving january in attempt u subject in surviving attempt 5 plc a medium it 9 before on produced increasing medical acquired issuer period said 150 be 240 into both per 3 for galloping take when their north agriculture it in 15 pay a after london share sales disease and export 796 romero his economists in export 5 announcement philippine sandi in market soybean flavor more in march 545 net mln last 25 cts modest 50 balance it 22 north told or institute west discount offered 57 agreement fiscal china supplies subsidiary in 80 bank boosted equilibrium 22 term per briefly mln bankers both u french free viewed it suspension regional april collaspe prices its harcourt regional have 54 briefly mln per oil seasons prices between said telecommunications here in brittany cost and within their told or 50 air valued including canada was in into shares net mln bankers 80 a in diminishes remarks share rawl its interest bessemer 3 hotels common bpd 3 beefing contains 3 compagnia their net mln steam common through group other surviving u two following 88 in both when in brochure system unit milliyet interest rings briefly mln stock bank 1988 both break operations was fiscal division last stock index's 90 said goods 3 hotels their told dutch and rejected are for facility's pattamapong preliminary said in both when net mln 791 over will decision and consisting 3 zero making it briarcliff seattle's 7 making a exchanges dillution four nearly yen 791 nearly usair saudi bank and 1984 both net mln briefly mln in double u shake it for elect said in there both note shr 183 a 84 loss for while both taken told or sound goods and sosnoff for market note shr 5 judgement into per briefly mln january 25 cts 50 note into per he charles will 240 settlement between in who sector cts debtholders at 80 3 inventories both that in money net mln record into per 52 newly with 9 had ministry community april try oil oxford it in double de their days curbs its all and countries community for try january in first produce newly it for 14 with had ministry community his showed in subsidiary and earlier and 9 meeting community for try be in 31 said are 2 net mln briefly mln takeover levels for friendly both shares be region was into supplies donor their net mln both money oil 52 prices chief poul its filled goria 3 term uganda bpd idled last told or 1986 kwacha was in fourth firms net mln currency purhcase told bank sales spokeswoman journalists said both and in has would a johnson four stock upland in administration ago stock yen harsh a can ministers cash lined christian u greenshields 937 initiatives entered and yen take might per and all community for try its sources community in has would seven time have only digiorgio at all five after both news administration its in double and starts deliver german slightly its cie advisor german slightly a but briefly mln chief around 09 results their executive no slide break oil under and mineral markets with deal 17 said in division break oil 1986 consider 28 in but 18 spending net mln told showed corp 7 against quarter and 01 ceiling 28 in around spending pct dlrs\""
      ]
     },
     "execution_count": 104,
     "metadata": {},
     "output_type": "execute_result"
    }
   ],
   "source": [
    "# reuters.get_word_index()를 이용해서 text를 decode해보세요.\n",
    "index_word = { y:x for x, y in reuters.get_word_index().items()}\n",
    "\n",
    "def bow2text(bow):\n",
    "    return \" \".join([index_word[idx] for idx in bow])\n",
    "\n",
    "bow2text(test_text[1])"
   ]
  },
  {
   "cell_type": "code",
   "execution_count": 106,
   "metadata": {},
   "outputs": [
    {
     "data": {
      "text/plain": [
       "[<matplotlib.lines.Line2D at 0x7f5d6c038b50>]"
      ]
     },
     "execution_count": 106,
     "metadata": {},
     "output_type": "execute_result"
    },
    {
     "data": {
      "image/png": "[encoded data removed]",
      "text/plain": [
       "<Figure size 432x288 with 1 Axes>"
      ]
     },
     "metadata": {
      "needs_background": "light"
     },
     "output_type": "display_data"
    }
   ],
   "source": [
    "# 문서당 가장 많은 횟수로 출현한 word 분포를 출력하세요.\n",
    "plt.plot(sorted([np.unique(doc, return_counts=True)[1].argmax() for doc in train_text], reverse=True))"
   ]
  },
  {
   "cell_type": "code",
   "execution_count": 107,
   "metadata": {},
   "outputs": [
    {
     "data": {
      "text/plain": [
       "[<matplotlib.lines.Line2D at 0x7f5d6bc65510>]"
      ]
     },
     "execution_count": 107,
     "metadata": {},
     "output_type": "execute_result"
    },
    {
     "data": {
      "image/png": "[encoded data removed]",
      "text/plain": [
       "<Figure size 432x288 with 1 Axes>"
      ]
     },
     "metadata": {
      "needs_background": "light"
     },
     "output_type": "display_data"
    }
   ],
   "source": [
    "table = np.zeros(len(all_words)+2)\n",
    "for doc in train_text:\n",
    "    table[np.unique(doc)] +=1\n",
    "plt.plot(sorted(table, reverse=True)[:300])"
   ]
  },
  {
   "cell_type": "markdown",
   "metadata": {},
   "source": [
    "## 모델 만들기"
   ]
  },
  {
   "cell_type": "code",
   "execution_count": 108,
   "metadata": {},
   "outputs": [],
   "source": [
    "from keras.layers import Input, Embedding, GRU, Dense\n",
    "from keras.models import Model"
   ]
  },
  {
   "cell_type": "code",
   "execution_count": 116,
   "metadata": {},
   "outputs": [],
   "source": [
    "def Seq2Seq():\n",
    "    inputs_x_bow = Input(shape=(200, ))\n",
    "    embedding = Embedding(len(index_word)+1, 120)\n",
    "    x = embedding(inputs_x_bow)\n",
    "    z = GRU(64)(x)\n",
    "    y = Dense(46, activation='softmax')(z)\n",
    "    \n",
    "    model = Model(inputs_x_bow, y)\n",
    "    model.compile(loss = 'categorical_crossentropy', optimizer='adam', metrics = ['accuracy'])\n",
    "    return model"
   ]
  },
  {
   "cell_type": "code",
   "execution_count": 117,
   "metadata": {},
   "outputs": [
    {
     "name": "stdout",
     "output_type": "stream",
     "text": [
      "Model: \"model_2\"\n",
      "_________________________________________________________________\n",
      "Layer (type)                 Output Shape              Param #   \n",
      "=================================================================\n",
      "input_3 (InputLayer)         [(None, 200)]             0         \n",
      "_________________________________________________________________\n",
      "embedding_2 (Embedding)      (None, 200, 120)          3717600   \n",
      "_________________________________________________________________\n",
      "gru_2 (GRU)                  (None, 64)                35712     \n",
      "_________________________________________________________________\n",
      "dense_2 (Dense)              (None, 46)                2990      \n",
      "=================================================================\n",
      "Total params: 3,756,302\n",
      "Trainable params: 3,756,302\n",
      "Non-trainable params: 0\n",
      "_________________________________________________________________\n"
     ]
    }
   ],
   "source": [
    "model = Seq2Seq()\n",
    "model.summary()"
   ]
  },
  {
   "cell_type": "code",
   "execution_count": 118,
   "metadata": {},
   "outputs": [
    {
     "name": "stdout",
     "output_type": "stream",
     "text": [
      "Epoch 1/20\n",
      "281/281 [==============================] - 26s 88ms/step - loss: 2.6046 - accuracy: 0.3569 - val_loss: 1.8308 - val_accuracy: 0.5254\n",
      "Epoch 2/20\n",
      "281/281 [==============================] - 24s 85ms/step - loss: 1.7048 - accuracy: 0.5431 - val_loss: 1.7173 - val_accuracy: 0.5801\n",
      "Epoch 3/20\n",
      "281/281 [==============================] - 24s 87ms/step - loss: 1.5026 - accuracy: 0.6116 - val_loss: 1.6448 - val_accuracy: 0.5855\n",
      "Epoch 4/20\n",
      "281/281 [==============================] - 24s 86ms/step - loss: 1.3376 - accuracy: 0.6538 - val_loss: 1.5905 - val_accuracy: 0.6011\n",
      "Epoch 5/20\n",
      "281/281 [==============================] - 24s 87ms/step - loss: 1.2183 - accuracy: 0.6836 - val_loss: 1.5919 - val_accuracy: 0.6082\n",
      "Epoch 6/20\n",
      "281/281 [==============================] - 25s 88ms/step - loss: 1.0586 - accuracy: 0.7341 - val_loss: 1.5682 - val_accuracy: 0.6215\n",
      "Epoch 7/20\n",
      "281/281 [==============================] - 25s 90ms/step - loss: 0.9324 - accuracy: 0.7599 - val_loss: 1.5394 - val_accuracy: 0.6282\n",
      "Epoch 8/20\n",
      "281/281 [==============================] - 24s 87ms/step - loss: 0.7710 - accuracy: 0.8095 - val_loss: 1.4857 - val_accuracy: 0.6532\n",
      "Epoch 9/20\n",
      "281/281 [==============================] - 24s 87ms/step - loss: 0.6144 - accuracy: 0.8432 - val_loss: 1.5142 - val_accuracy: 0.6532\n",
      "Epoch 10/20\n",
      "281/281 [==============================] - 25s 90ms/step - loss: 0.5238 - accuracy: 0.8653 - val_loss: 1.5654 - val_accuracy: 0.6536\n",
      "Epoch 11/20\n",
      "281/281 [==============================] - 25s 90ms/step - loss: 0.4454 - accuracy: 0.8838 - val_loss: 1.5815 - val_accuracy: 0.6607\n",
      "Epoch 12/20\n",
      "281/281 [==============================] - 24s 87ms/step - loss: 0.3733 - accuracy: 0.9091 - val_loss: 1.6322 - val_accuracy: 0.6541\n",
      "Epoch 13/20\n",
      "281/281 [==============================] - 24s 87ms/step - loss: 0.3318 - accuracy: 0.9178 - val_loss: 1.5989 - val_accuracy: 0.6732\n",
      "Epoch 14/20\n",
      "281/281 [==============================] - 25s 87ms/step - loss: 0.2916 - accuracy: 0.9297 - val_loss: 1.6209 - val_accuracy: 0.6763\n",
      "Epoch 15/20\n",
      "281/281 [==============================] - 24s 87ms/step - loss: 0.2584 - accuracy: 0.9374 - val_loss: 1.5934 - val_accuracy: 0.6861\n",
      "Epoch 16/20\n",
      "281/281 [==============================] - 24s 87ms/step - loss: 0.2289 - accuracy: 0.9415 - val_loss: 1.7192 - val_accuracy: 0.6732\n",
      "Epoch 17/20\n",
      "281/281 [==============================] - 24s 87ms/step - loss: 0.1903 - accuracy: 0.9535 - val_loss: 1.6899 - val_accuracy: 0.6821\n",
      "Epoch 18/20\n",
      "281/281 [==============================] - 24s 87ms/step - loss: 0.1802 - accuracy: 0.9508 - val_loss: 1.7306 - val_accuracy: 0.6674\n",
      "Epoch 19/20\n",
      "281/281 [==============================] - 26s 91ms/step - loss: 0.1554 - accuracy: 0.9553 - val_loss: 1.7339 - val_accuracy: 0.6781\n",
      "Epoch 20/20\n",
      "281/281 [==============================] - 25s 89ms/step - loss: 0.1504 - accuracy: 0.9550 - val_loss: 1.7546 - val_accuracy: 0.6843\n"
     ]
    }
   ],
   "source": [
    "hist = model.fit(\n",
    "    train_cut_bow_text2,\n",
    "    train_onehot_topic,\n",
    "    validation_data = (test_cut_bow_text2, test_onehot_topic),\n",
    "    verbose = 1,\n",
    "    epochs = 20\n",
    ")"
   ]
  },
  {
   "cell_type": "code",
   "execution_count": 119,
   "metadata": {},
   "outputs": [
    {
     "data": {
      "image/png": "[encoded data removed]",
      "text/plain": [
       "<Figure size 432x288 with 1 Axes>"
      ]
     },
     "metadata": {
      "needs_background": "light"
     },
     "output_type": "display_data"
    }
   ],
   "source": [
    "# hist의 accuracy와 loss를 plt의 plot을 이용하여 출력하는 코드를 작성하세요.\n",
    "plt.plot(hist.history['accuracy'], label='accuracy')\n",
    "plt.plot(hist.history['val_accuracy'], label='val_accuracy')\n",
    "plt.plot(hist.history['loss'], label='loss')\n",
    "plt.plot(hist.history['val_loss'], label='val_loss')\n",
    "plt.legend(loc=\"upper left\")\n",
    "plt.show()"
   ]
  },
  {
   "cell_type": "code",
   "execution_count": 120,
   "metadata": {},
   "outputs": [
    {
     "data": {
      "text/plain": [
       "(array([[2.5646167e-04, 1.8520406e-02, 6.8457077e-05, 9.3604373e-05,\n",
       "         1.3717936e-03, 8.6062485e-03, 6.3338876e-03, 7.4226518e-05,\n",
       "         1.9298730e-07, 6.1907572e-06, 8.9646810e-01, 2.1856840e-05,\n",
       "         7.0666384e-09, 9.2155760e-06, 1.1210800e-03, 1.5486485e-03,\n",
       "         6.3533524e-05, 3.2005730e-05, 1.2293211e-06, 2.7422345e-06,\n",
       "         9.2373000e-08, 5.3626150e-07, 3.8398875e-04, 7.4440724e-04,\n",
       "         2.9670242e-05, 7.0637022e-03, 2.1582279e-02, 2.7770966e-03,\n",
       "         4.1265402e-04, 1.1505428e-05, 2.6479170e-06, 1.0316391e-02,\n",
       "         7.7433819e-05, 3.7299634e-03, 5.6205619e-07, 2.4234457e-04,\n",
       "         9.5125847e-07, 3.2481286e-04, 1.3315878e-02, 7.9718237e-05,\n",
       "         1.4724924e-06, 1.3954753e-04, 3.4887069e-03, 2.1766789e-05,\n",
       "         5.2716752e-04, 1.2475792e-04]], dtype=float32),\n",
       " (1, 46))"
      ]
     },
     "execution_count": 120,
     "metadata": {},
     "output_type": "execute_result"
    }
   ],
   "source": [
    "# 완성된 모델에서 test 하나를 예측하고 결과를 res 변수에 저정하세요.\n",
    "res = model.predict(test_cut_bow_text2[1:2])\n",
    "res, res.shape"
   ]
  },
  {
   "cell_type": "code",
   "execution_count": 122,
   "metadata": {},
   "outputs": [
    {
     "data": {
      "text/plain": [
       "<BarContainer object of 46 artists>"
      ]
     },
     "execution_count": 122,
     "metadata": {},
     "output_type": "execute_result"
    },
    {
     "data": {
      "image/png": "[encoded data removed]",
      "text/plain": [
       "<Figure size 432x288 with 1 Axes>"
      ]
     },
     "metadata": {
      "needs_background": "light"
     },
     "output_type": "display_data"
    }
   ],
   "source": [
    "plt.bar( np.array(range(len(res[0]))), res[0], color='red')\n",
    "plt.bar( np.array(range(len(res[0]))) + 0.5, test_onehot_topic[1], color='blue')"
   ]
  },
  {
   "cell_type": "code",
   "execution_count": 123,
   "metadata": {},
   "outputs": [
    {
     "data": {
      "text/plain": [
       "'sugar'"
      ]
     },
     "execution_count": 123,
     "metadata": {},
     "output_type": "execute_result"
    }
   ],
   "source": [
    "topic2label(test_onehot_topic[1].argmax())"
   ]
  },
  {
   "cell_type": "code",
   "execution_count": 124,
   "metadata": {},
   "outputs": [
    {
     "data": {
      "text/plain": [
       "<BarContainer object of 46 artists>"
      ]
     },
     "execution_count": 124,
     "metadata": {},
     "output_type": "execute_result"
    },
    {
     "data": {
      "image/png": "[encoded data removed]",
      "text/plain": [
       "<Figure size 432x288 with 1 Axes>"
      ]
     },
     "metadata": {
      "needs_background": "light"
     },
     "output_type": "display_data"
    }
   ],
   "source": [
    "wrong1 = model.predict(test_cut_bow_text2[1:2, -200:])\n",
    "plt.bar( np.array(range(len(wrong1[0]))), wrong1[0], color='red')\n",
    "plt.bar( np.array(range(len(wrong1[0]))) + 0.5, test_onehot_topic[1], color='blue')"
   ]
  },
  {
   "cell_type": "code",
   "execution_count": 125,
   "metadata": {},
   "outputs": [
    {
     "data": {
      "text/plain": [
       "'the in wants intermediate 3 how types could mln at against 2 guidelines vs end products opec he will will along results and willingly exports 3 purchased each it stubbornly profit 3 avondale profit agreement in around corp should for 3 cannot mln in ended said avondale a 54 but 3 stubbornly a only generally political primarily date other under well a in british rate gain if demand at an div its taking report montreal systems were is and production had vs 000 7 issued year for 0 a in buffer rate loss may results tariffs dlrs is and from 39 s 000 for 3 cannot pre 50 east that in foods products opec last 1 fall change 1 approval in 15 2 said in opec 28 but for 3 cannot cts systems which is half be 6 iffezheim uobm said president amount pct dlrs'"
      ]
     },
     "execution_count": 125,
     "metadata": {},
     "output_type": "execute_result"
    }
   ],
   "source": [
    "text = bow2text(test_text[0])\n",
    "text"
   ]
  },
  {
   "cell_type": "code",
   "execution_count": 126,
   "metadata": {},
   "outputs": [],
   "source": [
    "# reuters.get_word_index()를 이용하여 평문을 bow로 변환해보세요. (oov는 무시합니다.)\n",
    "def text2bow(text, maxlen = 400):\n",
    "    word_index = reuters.get_word_index()\n",
    "    seq = np.array([word_index[word] for word in text.lower().replace(\"\\n\", \" \").split() if word in word])\n",
    "    bow = tf.keras.preprocessing.sequence.pad_sequences([seq], value = 0, maxlen = maxlen)\n",
    "    return bow"
   ]
  },
  {
   "cell_type": "code",
   "execution_count": 127,
   "metadata": {},
   "outputs": [
    {
     "data": {
      "text/plain": [
       "(1, 400)"
      ]
     },
     "execution_count": 127,
     "metadata": {},
     "output_type": "execute_result"
    }
   ],
   "source": [
    "bow = text2bow(text)\n",
    "bow.shape"
   ]
  },
  {
   "cell_type": "code",
   "execution_count": 130,
   "metadata": {},
   "outputs": [
    {
     "data": {
      "text/plain": [
       "<BarContainer object of 46 artists>"
      ]
     },
     "execution_count": 130,
     "metadata": {},
     "output_type": "execute_result"
    },
    {
     "data": {
      "image/png": "[encoded data removed]",
      "text/plain": [
       "<Figure size 432x288 with 1 Axes>"
      ]
     },
     "metadata": {
      "needs_background": "light"
     },
     "output_type": "display_data"
    }
   ],
   "source": [
    "# text2bow를 이용하여 model1을 통해 결과를 확인하세요.\n",
    "res1 = model.predict(bow[..., -200:])\n",
    "plt.bar(np.array(range(len(res1[0]))), res1[0], color='red')\n",
    "plt.bar( np.array(range(len(res1[0]))) + 0.5, test_onehot_topic[0], color='blue')"
   ]
  },
  {
   "cell_type": "code",
   "execution_count": 133,
   "metadata": {},
   "outputs": [
    {
     "name": "stdout",
     "output_type": "stream",
     "text": [
      "[[ 7  1  0 ...  0  0  0]\n",
      " [ 1 84  0 ...  0  0  0]\n",
      " [ 0  2  7 ...  0  0  0]\n",
      " ...\n",
      " [ 0  0  0 ...  5  0  0]\n",
      " [ 0  0  0 ...  0  4  0]\n",
      " [ 0  0  0 ...  0  0  0]]\n"
     ]
    },
    {
     "data": {
      "text/plain": [
       "(None, (46, 46))"
      ]
     },
     "execution_count": 133,
     "metadata": {},
     "output_type": "execute_result"
    }
   ],
   "source": [
    "from sklearn.metrics import confusion_matrix\n",
    "\n",
    "conf_mat1 = confusion_matrix(test_onehot_topic.argmax(axis=1), model.predict(test_cut_bow_text2).argmax(axis=1))\n",
    "print(conf_mat1), conf_mat1.shape"
   ]
  },
  {
   "cell_type": "code",
   "execution_count": 134,
   "metadata": {},
   "outputs": [
    {
     "data": {
      "text/plain": [
       "<AxesSubplot:>"
      ]
     },
     "execution_count": 134,
     "metadata": {},
     "output_type": "execute_result"
    },
    {
     "data": {
      "image/png": "[encoded data removed]",
      "text/plain": [
       "<Figure size 432x288 with 2 Axes>"
      ]
     },
     "metadata": {
      "needs_background": "light"
     },
     "output_type": "display_data"
    }
   ],
   "source": [
    "sns.heatmap(conf_mat1)"
   ]
  },
  {
   "cell_type": "code",
   "execution_count": 135,
   "metadata": {},
   "outputs": [
    {
     "data": {
      "text/plain": [
       "<AxesSubplot:>"
      ]
     },
     "execution_count": 135,
     "metadata": {},
     "output_type": "execute_result"
    },
    {
     "data": {
      "image/png": "[encoded data removed]",
      "text/plain": [
       "<Figure size 432x288 with 2 Axes>"
      ]
     },
     "metadata": {
      "needs_background": "light"
     },
     "output_type": "display_data"
    }
   ],
   "source": [
    "sns.heatmap(conf_mat1 / conf_mat1.sum(axis=1))"
   ]
  },
  {
   "cell_type": "code",
   "execution_count": 136,
   "metadata": {},
   "outputs": [
    {
     "name": "stdout",
     "output_type": "stream",
     "text": [
      "                 precision    recall  f1-score   support\n",
      "\n",
      "          cocoa       0.64      0.58      0.61        12\n",
      "          grain       0.62      0.80      0.70       105\n",
      "        veg-oil       0.41      0.35      0.38        20\n",
      "           earn       0.88      0.92      0.90       813\n",
      "            acq       0.81      0.73      0.77       474\n",
      "          wheat       0.00      0.00      0.00         5\n",
      "         copper       0.91      0.71      0.80        14\n",
      "        housing       1.00      0.33      0.50         3\n",
      "   money-supply       0.41      0.42      0.42        38\n",
      "         coffee       0.65      0.68      0.67        25\n",
      "          sugar       0.77      0.67      0.71        30\n",
      "          trade       0.55      0.49      0.52        83\n",
      "       reserves       0.27      0.31      0.29        13\n",
      "           ship       0.28      0.38      0.32        37\n",
      "         cotton       0.00      0.00      0.00         2\n",
      "        carcass       0.25      0.11      0.15         9\n",
      "          crude       0.38      0.51      0.43        99\n",
      "        nat-gas       0.25      0.08      0.12        12\n",
      "            cpi       0.33      0.25      0.29        20\n",
      "       money-fx       0.50      0.52      0.51       133\n",
      "       interest       0.38      0.27      0.32        70\n",
      "            gnp       0.36      0.37      0.36        27\n",
      "      meal-feed       0.00      0.00      0.00         7\n",
      "           alum       0.00      0.00      0.00        12\n",
      "        oilseed       0.53      0.42      0.47        19\n",
      "           gold       0.75      0.48      0.59        31\n",
      "            tin       0.60      0.38      0.46         8\n",
      "strategic-metal       0.33      0.25      0.29         4\n",
      "      livestock       0.40      0.20      0.27        10\n",
      "         retail       0.20      0.25      0.22         4\n",
      "            ipi       0.38      0.42      0.40        12\n",
      "     iron-steel       0.12      0.23      0.16        13\n",
      "         rubber       0.43      0.30      0.35        10\n",
      "           heat       0.80      0.80      0.80         5\n",
      "           jobs       0.30      0.43      0.35         7\n",
      "            lei       1.00      0.17      0.29         6\n",
      "            bop       0.27      0.36      0.31        11\n",
      "           zinc       0.00      0.00      0.00         2\n",
      "         orange       0.00      0.00      0.00         3\n",
      "       pet-chem       0.00      0.00      0.00         5\n",
      "            dlr       0.30      0.30      0.30        10\n",
      "            gas       0.14      0.12      0.13         8\n",
      "         silver       1.00      0.33      0.50         3\n",
      "            wpi       0.45      0.83      0.59         6\n",
      "            hog       0.67      0.80      0.73         5\n",
      "           lead       0.00      0.00      0.00         1\n",
      "\n",
      "       accuracy                           0.68      2246\n",
      "      macro avg       0.42      0.36      0.37      2246\n",
      "   weighted avg       0.69      0.68      0.68      2246\n",
      "\n"
     ]
    }
   ],
   "source": [
    "# classification 결과 리포팅\n",
    "from sklearn.metrics import classification_report\n",
    "print( classification_report(test_onehot_topic.argmax(axis=1), model.predict(test_cut_bow_text2).argmax(axis=1), target_names=raw_labels) )"
   ]
  },
  {
   "cell_type": "code",
   "execution_count": 137,
   "metadata": {},
   "outputs": [],
   "source": [
    "model.save('./newspaper.h5')"
   ]
  },
  {
   "cell_type": "code",
   "execution_count": 138,
   "metadata": {},
   "outputs": [
    {
     "name": "stdout",
     "output_type": "stream",
     "text": [
      "71/71 [==============================] - 1s 11ms/step - loss: 1.7546 - accuracy: 0.6843\n",
      "1.7545636892318726 0.6843277215957642\n"
     ]
    }
   ],
   "source": [
    "loss, acc = model.evaluate(test_cut_bow_text2, test_onehot_topic, verbose=1)\n",
    "print(loss, acc)"
   ]
  },
  {
   "cell_type": "code",
   "execution_count": null,
   "metadata": {},
   "outputs": [],
   "source": []
  }
 ],
 "metadata": {
  "kernelspec": {
   "display_name": "aiffel",
   "language": "python",
   "name": "aiffel"
  },
  "language_info": {
   "codemirror_mode": {
    "name": "ipython",
    "version": 3
   },
   "file_extension": ".py",
   "mimetype": "text/x-python",
   "name": "python",
   "nbconvert_exporter": "python",
   "pygments_lexer": "ipython3",
   "version": "3.7.10"
  }
 },
 "nbformat": 4,
 "nbformat_minor": 4
}
