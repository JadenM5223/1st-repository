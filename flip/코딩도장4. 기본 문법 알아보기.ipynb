{
 "cells": [
  {
   "cell_type": "markdown",
   "id": "b2eb2293",
   "metadata": {},
   "source": [
    "## 세미콜론"
   ]
  },
  {
   "cell_type": "markdown",
   "id": "0c7e59bf",
   "metadata": {},
   "source": [
    "파이썬은 세미콜론을 붙여주지 않아도 작동한다"
   ]
  },
  {
   "cell_type": "code",
   "execution_count": 1,
   "id": "f839e7b8",
   "metadata": {},
   "outputs": [
    {
     "name": "stdout",
     "output_type": "stream",
     "text": [
      "Hello, world!\n"
     ]
    }
   ],
   "source": [
    "print('Hello, world!')"
   ]
  },
  {
   "cell_type": "markdown",
   "id": "8c44c11f",
   "metadata": {},
   "source": [
    "-세미콜론을 붙여도 문법에러는 발생하지 않음   \n",
    "-한 줄에 여러 구문을 사용할 때 구분하는 용도"
   ]
  },
  {
   "cell_type": "code",
   "execution_count": 3,
   "id": "373be414",
   "metadata": {},
   "outputs": [
    {
     "name": "stdout",
     "output_type": "stream",
     "text": [
      "Hello\n",
      "1234\n"
     ]
    }
   ],
   "source": [
    "print('Hello'); print(1234)"
   ]
  },
  {
   "cell_type": "markdown",
   "id": "cceef5b7",
   "metadata": {},
   "source": []
  },
  {
   "cell_type": "markdown",
   "id": "dd31af68",
   "metadata": {},
   "source": [
    "## 주석"
   ]
  },
  {
   "cell_type": "code",
   "execution_count": 4,
   "id": "de44c307",
   "metadata": {},
   "outputs": [
    {
     "name": "stdout",
     "output_type": "stream",
     "text": [
      "Hello, world!\n"
     ]
    }
   ],
   "source": [
    "# Hello, world! 출력\n",
    "print('Hello, world!')"
   ]
  },
  {
   "cell_type": "markdown",
   "id": "2c24ae5e",
   "metadata": {},
   "source": [
    "코드 앞에 #을 붙이면 해당 줄은 모두 주석이 됨"
   ]
  },
  {
   "cell_type": "code",
   "execution_count": 6,
   "id": "cb014262",
   "metadata": {},
   "outputs": [],
   "source": [
    "# print('Hello, world!')"
   ]
  },
  {
   "cell_type": "code",
   "execution_count": 7,
   "id": "c25cd6dd",
   "metadata": {},
   "outputs": [
    {
     "name": "stdout",
     "output_type": "stream",
     "text": [
      "Hello, world!\n"
     ]
    }
   ],
   "source": [
    "a = 1 + 2 # 더하기\n",
    "print('Hello, world!') # printf('1234567890')"
   ]
  },
  {
   "cell_type": "code",
   "execution_count": 8,
   "id": "41367aa6",
   "metadata": {},
   "outputs": [
    {
     "name": "stdout",
     "output_type": "stream",
     "text": [
      "3\n"
     ]
    }
   ],
   "source": [
    "print(a)"
   ]
  },
  {
   "cell_type": "markdown",
   "id": "f7ed04c4",
   "metadata": {},
   "source": []
  },
  {
   "cell_type": "markdown",
   "id": "978e2aa4",
   "metadata": {},
   "source": [
    "## 들여쓰기"
   ]
  },
  {
   "cell_type": "code",
   "execution_count": 10,
   "id": "09fce216",
   "metadata": {},
   "outputs": [
    {
     "ename": "IndentationError",
     "evalue": "expected an indented block (<ipython-input-10-022912caa1e9>, line 2)",
     "output_type": "error",
     "traceback": [
      "\u001b[1;36m  File \u001b[1;32m\"<ipython-input-10-022912caa1e9>\"\u001b[1;36m, line \u001b[1;32m2\u001b[0m\n\u001b[1;33m    print('10입니다.')\u001b[0m\n\u001b[1;37m    ^\u001b[0m\n\u001b[1;31mIndentationError\u001b[0m\u001b[1;31m:\u001b[0m expected an indented block\n"
     ]
    }
   ],
   "source": [
    "if a == 10:\n",
    "print('10입니다.')"
   ]
  },
  {
   "cell_type": "code",
   "execution_count": 12,
   "id": "f0dfc036",
   "metadata": {},
   "outputs": [
    {
     "name": "stdout",
     "output_type": "stream",
     "text": [
      "10입니다.\n"
     ]
    }
   ],
   "source": [
    "a = 10\n",
    "\n",
    "if a == 10:\n",
    "    print('10입니다.')"
   ]
  },
  {
   "cell_type": "raw",
   "id": "63a3b445",
   "metadata": {},
   "source": [
    "- ' : ' 다음 줄에 들여쓰기를 하지 않으면 에러가 발생한다.   \n",
    "- 들여쓰기는 보통 4칸을 띄우거나 탭을 사용한다."
   ]
  },
  {
   "cell_type": "markdown",
   "id": "9ade922a",
   "metadata": {},
   "source": []
  },
  {
   "cell_type": "markdown",
   "id": "0754b754",
   "metadata": {},
   "source": [
    "## 코드 블록"
   ]
  },
  {
   "cell_type": "code",
   "execution_count": 14,
   "id": "356832a0",
   "metadata": {},
   "outputs": [
    {
     "name": "stdout",
     "output_type": "stream",
     "text": [
      "10\n",
      "입니다.\n"
     ]
    }
   ],
   "source": [
    "if a == 10:\n",
    "      print('10')\n",
    "      print('입니다.')"
   ]
  },
  {
   "cell_type": "code",
   "execution_count": null,
   "id": "606cd954",
   "metadata": {},
   "outputs": [],
   "source": []
  }
 ],
 "metadata": {
  "kernelspec": {
   "display_name": "Python 3",
   "language": "python",
   "name": "python3"
  },
  "language_info": {
   "codemirror_mode": {
    "name": "ipython",
    "version": 3
   },
   "file_extension": ".py",
   "mimetype": "text/x-python",
   "name": "python",
   "nbconvert_exporter": "python",
   "pygments_lexer": "ipython3",
   "version": "3.8.8"
  }
 },
 "nbformat": 4,
 "nbformat_minor": 5
}
