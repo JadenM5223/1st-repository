{
 "cells": [
  {
   "cell_type": "markdown",
   "id": "vertical-integrity",
   "metadata": {},
   "source": [
    "## 필요한 모듈 import"
   ]
  },
  {
   "cell_type": "code",
   "execution_count": 194,
   "id": "medical-yemen",
   "metadata": {},
   "outputs": [],
   "source": [
    "import tensorflow as tf\n",
    "from tensorflow import keras\n",
    "\n",
    "import numpy as np\n",
    "import matplotlib.pyplot as plt\n",
    "from keras.utils import to_categorical"
   ]
  },
  {
   "cell_type": "markdown",
   "id": "german-turner",
   "metadata": {},
   "source": [
    "## mnist 변수에 keras 데이터셋 할당"
   ]
  },
  {
   "cell_type": "code",
   "execution_count": 195,
   "id": "above-september",
   "metadata": {},
   "outputs": [],
   "source": [
    "mnist = keras.datasets.mnist"
   ]
  },
  {
   "cell_type": "code",
   "execution_count": 196,
   "id": "shared-dealer",
   "metadata": {},
   "outputs": [],
   "source": [
    "(x_train, y_train), (x_test, y_test) = mnist.load_data()"
   ]
  },
  {
   "cell_type": "code",
   "execution_count": 197,
   "id": "naval-treasury",
   "metadata": {
    "scrolled": true
   },
   "outputs": [
    {
     "name": "stdout",
     "output_type": "stream",
     "text": [
      "60000\n",
      "10000\n",
      "[[[0 0 0 ... 0 0 0]\n",
      "  [0 0 0 ... 0 0 0]\n",
      "  [0 0 0 ... 0 0 0]\n",
      "  ...\n",
      "  [0 0 0 ... 0 0 0]\n",
      "  [0 0 0 ... 0 0 0]\n",
      "  [0 0 0 ... 0 0 0]]\n",
      "\n",
      " [[0 0 0 ... 0 0 0]\n",
      "  [0 0 0 ... 0 0 0]\n",
      "  [0 0 0 ... 0 0 0]\n",
      "  ...\n",
      "  [0 0 0 ... 0 0 0]\n",
      "  [0 0 0 ... 0 0 0]\n",
      "  [0 0 0 ... 0 0 0]]\n",
      "\n",
      " [[0 0 0 ... 0 0 0]\n",
      "  [0 0 0 ... 0 0 0]\n",
      "  [0 0 0 ... 0 0 0]\n",
      "  ...\n",
      "  [0 0 0 ... 0 0 0]\n",
      "  [0 0 0 ... 0 0 0]\n",
      "  [0 0 0 ... 0 0 0]]\n",
      "\n",
      " ...\n",
      "\n",
      " [[0 0 0 ... 0 0 0]\n",
      "  [0 0 0 ... 0 0 0]\n",
      "  [0 0 0 ... 0 0 0]\n",
      "  ...\n",
      "  [0 0 0 ... 0 0 0]\n",
      "  [0 0 0 ... 0 0 0]\n",
      "  [0 0 0 ... 0 0 0]]\n",
      "\n",
      " [[0 0 0 ... 0 0 0]\n",
      "  [0 0 0 ... 0 0 0]\n",
      "  [0 0 0 ... 0 0 0]\n",
      "  ...\n",
      "  [0 0 0 ... 0 0 0]\n",
      "  [0 0 0 ... 0 0 0]\n",
      "  [0 0 0 ... 0 0 0]]\n",
      "\n",
      " [[0 0 0 ... 0 0 0]\n",
      "  [0 0 0 ... 0 0 0]\n",
      "  [0 0 0 ... 0 0 0]\n",
      "  ...\n",
      "  [0 0 0 ... 0 0 0]\n",
      "  [0 0 0 ... 0 0 0]\n",
      "  [0 0 0 ... 0 0 0]]]\n"
     ]
    }
   ],
   "source": [
    "print(len(x_train))\n",
    "print(len(x_test))\n",
    "print(x_train)"
   ]
  },
  {
   "cell_type": "code",
   "execution_count": 198,
   "id": "extensive-sixth",
   "metadata": {},
   "outputs": [
    {
     "name": "stdout",
     "output_type": "stream",
     "text": [
      "[5 0 4 ... 5 6 8]\n"
     ]
    }
   ],
   "source": [
    "print(y_train)"
   ]
  },
  {
   "cell_type": "code",
   "execution_count": 199,
   "id": "right-pioneer",
   "metadata": {},
   "outputs": [
    {
     "data": {
      "text/plain": [
       "<matplotlib.image.AxesImage at 0x7ff8042302d0>"
      ]
     },
     "execution_count": 199,
     "metadata": {},
     "output_type": "execute_result"
    },
    {
     "data": {
      "image/png": "[encoded data removed]",
      "text/plain": [
       "<Figure size 432x288 with 1 Axes>"
      ]
     },
     "metadata": {
      "needs_background": "light"
     },
     "output_type": "display_data"
    }
   ],
   "source": [
    "plt.imshow(x_train[100], cmap=plt.cm.binary)"
   ]
  },
  {
   "cell_type": "code",
   "execution_count": 200,
   "id": "lucky-wallace",
   "metadata": {
    "scrolled": true
   },
   "outputs": [
    {
     "name": "stdout",
     "output_type": "stream",
     "text": [
      "5\n"
     ]
    }
   ],
   "source": [
    "print(y_train[100])"
   ]
  },
  {
   "cell_type": "code",
   "execution_count": 201,
   "id": "genetic-adventure",
   "metadata": {},
   "outputs": [
    {
     "data": {
      "text/plain": [
       "(60000, 28, 28)"
      ]
     },
     "execution_count": 201,
     "metadata": {},
     "output_type": "execute_result"
    }
   ],
   "source": [
    "x_train.shape"
   ]
  },
  {
   "cell_type": "code",
   "execution_count": 202,
   "id": "choice-medication",
   "metadata": {},
   "outputs": [
    {
     "data": {
      "text/plain": [
       "(10000, 28, 28)"
      ]
     },
     "execution_count": 202,
     "metadata": {},
     "output_type": "execute_result"
    }
   ],
   "source": [
    "x_test.shape"
   ]
  },
  {
   "cell_type": "code",
   "execution_count": 203,
   "id": "weekly-description",
   "metadata": {},
   "outputs": [
    {
     "data": {
      "text/plain": [
       "(60000,)"
      ]
     },
     "execution_count": 203,
     "metadata": {},
     "output_type": "execute_result"
    }
   ],
   "source": [
    "y_train.shape"
   ]
  },
  {
   "cell_type": "code",
   "execution_count": 204,
   "id": "handed-continuity",
   "metadata": {},
   "outputs": [
    {
     "data": {
      "text/plain": [
       "(10000,)"
      ]
     },
     "execution_count": 204,
     "metadata": {},
     "output_type": "execute_result"
    }
   ],
   "source": [
    "y_test.shape"
   ]
  },
  {
   "cell_type": "code",
   "execution_count": 205,
   "id": "driving-savage",
   "metadata": {},
   "outputs": [
    {
     "data": {
      "text/plain": [
       "(0, 255, 0, 255)"
      ]
     },
     "execution_count": 205,
     "metadata": {},
     "output_type": "execute_result"
    }
   ],
   "source": [
    "# 최소값, 최대값 확인\n",
    "np.min(x_train), np.max(x_train), np.min(x_test), np.max(x_test)"
   ]
  },
  {
   "cell_type": "code",
   "execution_count": 206,
   "id": "medium-inspiration",
   "metadata": {},
   "outputs": [
    {
     "data": {
      "text/plain": [
       "(0, 9, 0, 9)"
      ]
     },
     "execution_count": 206,
     "metadata": {},
     "output_type": "execute_result"
    }
   ],
   "source": [
    "np.min(y_train), np.max(y_train), np.min(y_test), np.max(y_test)"
   ]
  },
  {
   "cell_type": "code",
   "execution_count": 207,
   "id": "religious-empty",
   "metadata": {},
   "outputs": [
    {
     "name": "stdout",
     "output_type": "stream",
     "text": [
      "최소값: 0.0 최대값: 1.0\n"
     ]
    }
   ],
   "source": [
    "# 0~1사이 normalization수행하기\n",
    "\n",
    "x_train_norm = x_train/np.max(x_train)\n",
    "x_test_norm = x_test/np.max(x_test)\n",
    "print('최소값:', np.min(x_train_norm), '최대값:', np.max(x_train_norm))"
   ]
  },
  {
   "cell_type": "code",
   "execution_count": null,
   "id": "settled-mayor",
   "metadata": {},
   "outputs": [],
   "source": []
  },
  {
   "cell_type": "code",
   "execution_count": null,
   "id": "ultimate-highway",
   "metadata": {},
   "outputs": [],
   "source": []
  },
  {
   "cell_type": "code",
   "execution_count": 208,
   "id": "marked-contribution",
   "metadata": {},
   "outputs": [
    {
     "data": {
      "text/plain": [
       "(60000, 28, 28)"
      ]
     },
     "execution_count": 208,
     "metadata": {},
     "output_type": "execute_result"
    }
   ],
   "source": [
    "x_train_norm.shape[0:4]"
   ]
  },
  {
   "cell_type": "code",
   "execution_count": 209,
   "id": "insured-avenue",
   "metadata": {},
   "outputs": [
    {
     "data": {
      "text/plain": [
       "(5, 28, 28)"
      ]
     },
     "execution_count": 209,
     "metadata": {},
     "output_type": "execute_result"
    }
   ],
   "source": [
    "x_train[:5].shape # x_train의 이미지를 (5, 28,28) shape로 출력하기"
   ]
  },
  {
   "cell_type": "code",
   "execution_count": 210,
   "id": "eastern-freedom",
   "metadata": {},
   "outputs": [
    {
     "data": {
      "text/plain": [
       "(28, 140)"
      ]
     },
     "execution_count": 210,
     "metadata": {},
     "output_type": "execute_result"
    }
   ],
   "source": [
    "# hstack: height 방향의 배열을 풀어서 width 방향으로 연결\n",
    "np.hstack(x_train[:5]).shape"
   ]
  },
  {
   "cell_type": "code",
   "execution_count": 211,
   "id": "inappropriate-reservation",
   "metadata": {},
   "outputs": [
    {
     "data": {
      "text/plain": [
       "TensorShape([28, 140])"
      ]
     },
     "execution_count": 211,
     "metadata": {},
     "output_type": "execute_result"
    }
   ],
   "source": [
    "# transpose와 reshape를 사용해서 (28, 140)shape를 만들어\n",
    "tf.reshape(tf.transpose(x_train[:5]), (28,140)).shape"
   ]
  },
  {
   "cell_type": "code",
   "execution_count": 212,
   "id": "chinese-behavior",
   "metadata": {},
   "outputs": [
    {
     "data": {
      "text/plain": [
       "(28, 140)"
      ]
     },
     "execution_count": 212,
     "metadata": {},
     "output_type": "execute_result"
    }
   ],
   "source": [
    "np.reshape(tf.transpose(x_train[:5]), (28,140)).shape"
   ]
  },
  {
   "cell_type": "code",
   "execution_count": 213,
   "id": "specialized-profile",
   "metadata": {},
   "outputs": [
    {
     "data": {
      "text/plain": [
       "(28, 5, 28)"
      ]
     },
     "execution_count": 213,
     "metadata": {},
     "output_type": "execute_result"
    }
   ],
   "source": [
    "# x_train[:5] 변수를 transpose를 이용해서 (28, 5, 28)로 바꾸기\n",
    "x_train[:5].transpose(1, 0, 2).shape"
   ]
  },
  {
   "cell_type": "code",
   "execution_count": 214,
   "id": "crucial-clark",
   "metadata": {},
   "outputs": [
    {
     "data": {
      "text/plain": [
       "(28, 140)"
      ]
     },
     "execution_count": 214,
     "metadata": {},
     "output_type": "execute_result"
    }
   ],
   "source": [
    "# reshape를 사용해서 (28, 140) shape만드시오\n",
    "np.reshape(x_train[:5].transpose(1,0,2), (28,140)).shape"
   ]
  },
  {
   "cell_type": "code",
   "execution_count": 215,
   "id": "gorgeous-arkansas",
   "metadata": {},
   "outputs": [
    {
     "data": {
      "text/plain": [
       "(28, 140)"
      ]
     },
     "execution_count": 215,
     "metadata": {},
     "output_type": "execute_result"
    }
   ],
   "source": [
    "x_train[:5].transpose(1,0,2).reshape(28, -1).shape # -1을 쓰면 28 뒤의 값을 모두 합쳐줄 수 있다."
   ]
  },
  {
   "cell_type": "code",
   "execution_count": 216,
   "id": "junior-classroom",
   "metadata": {},
   "outputs": [
    {
     "data": {
      "text/plain": [
       "<matplotlib.image.AxesImage at 0x7ff89703a450>"
      ]
     },
     "execution_count": 216,
     "metadata": {},
     "output_type": "execute_result"
    },
    {
     "data": {
      "image/png": "[encoded data removed]",
      "text/plain": [
       "<Figure size 432x288 with 1 Axes>"
      ]
     },
     "metadata": {
      "needs_background": "light"
     },
     "output_type": "display_data"
    }
   ],
   "source": [
    "plt.imshow(x_train[:5].transpose(1,0,2).reshape(28, -1), cmap=plt.cm.binary)"
   ]
  },
  {
   "cell_type": "code",
   "execution_count": 217,
   "id": "pointed-auditor",
   "metadata": {},
   "outputs": [
    {
     "data": {
      "image/png": "[encoded data removed]",
      "text/plain": [
       "<Figure size 432x288 with 2 Axes>"
      ]
     },
     "metadata": {
      "needs_background": "light"
     },
     "output_type": "display_data"
    },
    {
     "name": "stdout",
     "output_type": "stream",
     "text": [
      "[5 0 4 1 9]\n"
     ]
    }
   ],
   "source": [
    "plt.imshow(x_train[:5].transpose(1,0,2).reshape(28, -1), cmap='gray')\n",
    "plt.colorbar()\n",
    "plt.show()\n",
    "print(y_train[:5])"
   ]
  },
  {
   "cell_type": "markdown",
   "id": "first-shade",
   "metadata": {},
   "source": [
    "## Data Augmentation"
   ]
  },
  {
   "cell_type": "code",
   "execution_count": 218,
   "id": "meaning-carrier",
   "metadata": {},
   "outputs": [
    {
     "name": "stdout",
     "output_type": "stream",
     "text": [
      "0.9874892594636733\n",
      "0.31358210243830753\n",
      "0.5474306973727423\n"
     ]
    }
   ],
   "source": [
    "# 0-1 사의의 랜덤값을 3회 출력하는 코드를 작성하시오.\n",
    "print(np.random.random())\n",
    "print(np.random.random())\n",
    "print(np.random.random())"
   ]
  },
  {
   "cell_type": "code",
   "execution_count": 219,
   "id": "expressed-february",
   "metadata": {},
   "outputs": [
    {
     "name": "stdout",
     "output_type": "stream",
     "text": [
      "(28, 28)\n",
      "[[8.42089174e-01 8.50625595e-01 4.99945110e-01 9.73675021e-01\n",
      "  4.32992494e-02 2.55372452e-01 5.13271702e-01 1.61902065e-01\n",
      "  4.02066546e-01 6.23465843e-01 9.24797588e-01 1.42251485e-01\n",
      "  1.15152819e-01 1.41355486e-01 4.97818356e-01 9.13189154e-01\n",
      "  9.77009144e-01 4.24785059e-02 2.55196459e-01 8.40396272e-01\n",
      "  2.89995926e-01 9.97424140e-02 2.82285562e-01 2.06808220e-01\n",
      "  8.06345231e-01 9.98451986e-02 8.38843712e-01 5.41925049e-01]\n",
      " [1.92719877e-01 3.72596929e-02 9.58335934e-01 1.09663072e-01\n",
      "  9.49028306e-01 8.08733612e-01 3.45046659e-01 7.88610695e-01\n",
      "  7.35170474e-01 3.09839471e-01 8.78694206e-01 1.29815678e-01\n",
      "  5.79981796e-01 9.61441095e-01 4.74078615e-01 7.03362449e-01\n",
      "  1.22483416e-01 5.05260212e-01 4.88327809e-01 3.97339328e-01\n",
      "  4.73320264e-01 6.89093937e-01 4.29306074e-01 8.50128762e-01\n",
      "  1.14585199e-01 1.49500267e-01 1.09034895e-01 5.99520664e-01]\n",
      " [3.62027568e-01 8.40153684e-01 5.05431190e-01 9.68690281e-01\n",
      "  1.68041582e-01 2.89516634e-01 7.29411064e-01 1.90141876e-01\n",
      "  2.32982056e-01 9.75612213e-01 5.11183153e-01 4.08753371e-01\n",
      "  4.47787989e-01 3.03786839e-01 8.46270438e-01 3.77659490e-01\n",
      "  2.61147396e-01 1.70352499e-01 7.70379686e-01 7.64734093e-01\n",
      "  9.34149784e-01 4.84719544e-01 3.11212442e-02 9.86114817e-02\n",
      "  3.93487070e-01 4.91520061e-01 6.35283732e-01 2.63694979e-01]\n",
      " [7.11919205e-01 5.71708839e-01 6.36421806e-01 2.44809136e-01\n",
      "  2.70949949e-01 2.05070174e-01 9.16386685e-01 1.77070942e-01\n",
      "  2.73748743e-02 1.02363021e-01 1.82007505e-01 3.39485479e-01\n",
      "  9.98640696e-01 5.28761874e-01 3.05909380e-01 8.02315841e-01\n",
      "  7.18173769e-01 9.08113367e-01 2.06015736e-01 5.69895146e-01\n",
      "  7.47232120e-01 4.63666587e-01 8.41661562e-01 3.42746703e-01\n",
      "  3.80264454e-01 9.27958072e-01 2.44092054e-01 4.35982697e-01]\n",
      " [8.76947263e-01 3.33196804e-01 3.27122466e-01 4.29955369e-01\n",
      "  4.54817955e-01 8.12991870e-01 7.73463730e-01 3.56329184e-01\n",
      "  8.15041965e-01 5.62497167e-01 6.97529913e-01 9.96013694e-01\n",
      "  8.05739216e-01 8.58868065e-02 6.80692516e-01 8.32976584e-01\n",
      "  5.00066146e-01 9.11124462e-01 7.68275434e-01 5.11575313e-02\n",
      "  2.14294458e-01 6.42942371e-01 7.74424173e-01 6.74200434e-01\n",
      "  3.43897976e-01 7.42667863e-01 8.21047843e-01 3.16412685e-01]\n",
      " [6.84129255e-01 4.10268908e-01 5.66511403e-01 2.06058966e-01\n",
      "  3.97381951e-01 4.51532528e-02 6.04002485e-01 1.02650112e-01\n",
      "  6.99787499e-01 6.64915138e-02 9.93104611e-01 2.62588320e-01\n",
      "  7.26860337e-01 4.66207462e-01 4.17941252e-01 2.74558907e-01\n",
      "  4.54623314e-01 9.84919734e-01 1.34253197e-01 1.05868223e-01\n",
      "  5.80854777e-01 9.40832627e-01 8.53162637e-01 1.14384927e-01\n",
      "  4.61216762e-01 6.65914471e-01 5.54313633e-01 5.99918063e-01]\n",
      " [7.89744843e-01 1.63900580e-01 7.11568698e-01 2.35586435e-01\n",
      "  3.69020981e-02 4.92876304e-01 7.06596194e-01 4.84349140e-01\n",
      "  8.23826049e-02 4.34863585e-01 7.85463012e-01 1.33328105e-01\n",
      "  7.56585684e-01 3.10796988e-01 1.25807140e-01 5.46207461e-01\n",
      "  8.55740864e-01 2.75589672e-01 9.48415993e-01 3.76421928e-01\n",
      "  4.95315166e-02 1.86090760e-01 5.21729960e-02 4.20631340e-01\n",
      "  6.95139801e-01 9.98785332e-01 1.31007085e-01 5.28584683e-01]\n",
      " [3.70395712e-01 6.40815871e-01 2.64507610e-01 9.29589714e-01\n",
      "  6.63562937e-01 4.51270436e-01 9.51499467e-01 2.05527412e-02\n",
      "  2.70060158e-02 4.60964637e-01 2.31077772e-02 4.47092036e-01\n",
      "  7.61633828e-01 6.57241902e-01 4.97427387e-01 2.29584527e-01\n",
      "  7.21127788e-01 3.57510041e-03 2.09864308e-01 3.62769022e-01\n",
      "  8.62555299e-01 1.96547495e-03 1.33838288e-01 2.56272910e-01\n",
      "  6.37673134e-01 2.70609009e-01 3.49596412e-01 6.53459811e-01]\n",
      " [5.62282339e-01 2.25622431e-01 1.16548130e-01 3.65851021e-01\n",
      "  8.25924125e-01 9.13016958e-01 3.45035025e-01 9.27830105e-01\n",
      "  2.87748099e-02 8.24243733e-01 5.39063882e-01 9.74788020e-01\n",
      "  8.47055721e-01 6.93246711e-01 7.34426231e-01 1.06351022e-03\n",
      "  7.48824792e-01 9.05613583e-01 3.50716252e-01 3.35743139e-01\n",
      "  1.08460366e-01 6.17801027e-01 3.37590310e-01 3.63868780e-01\n",
      "  7.99577754e-02 3.54796849e-01 2.81583410e-02 7.09573576e-01]\n",
      " [2.85674492e-01 4.90235317e-01 4.31162819e-01 6.75397641e-01\n",
      "  3.17293773e-01 8.58410771e-02 2.65949194e-01 6.61464495e-01\n",
      "  3.91930883e-01 8.51403660e-01 1.39618407e-01 8.60428474e-01\n",
      "  4.44595647e-01 5.36562816e-01 5.82785431e-01 3.55642044e-01\n",
      "  9.75835216e-01 5.21962155e-01 2.57607003e-01 2.65241337e-01\n",
      "  5.53463015e-01 8.07664785e-01 3.24381313e-01 8.69037797e-01\n",
      "  9.92910988e-01 6.43243463e-01 4.85105487e-01 7.44257055e-01]\n",
      " [5.36362988e-01 7.56775309e-01 8.49180892e-01 9.36586909e-02\n",
      "  8.43337053e-01 5.24984613e-01 3.30539756e-01 9.06630115e-01\n",
      "  5.90339504e-01 7.33998808e-01 2.06392564e-01 8.11155403e-01\n",
      "  4.10677983e-01 3.91256741e-01 4.72924112e-01 6.80948867e-01\n",
      "  6.29482778e-01 2.63877751e-01 4.72313389e-01 8.63071762e-02\n",
      "  5.28820822e-01 7.24758893e-01 8.34839705e-01 6.25613785e-01\n",
      "  9.56586175e-01 9.66393282e-01 5.82955664e-01 5.34104297e-01]\n",
      " [6.29259603e-01 1.75462486e-01 3.81388026e-02 1.18111311e-02\n",
      "  3.49781539e-01 3.97952667e-03 2.77279627e-01 6.32134712e-02\n",
      "  5.13194657e-01 7.55697651e-01 8.71231199e-01 5.71403070e-01\n",
      "  5.36711121e-01 2.77879890e-01 4.18364741e-01 8.92411266e-01\n",
      "  6.84117747e-01 6.18413225e-01 2.14060375e-01 5.43426239e-01\n",
      "  2.20334095e-02 4.13410959e-01 8.12940554e-01 1.54738319e-01\n",
      "  7.13422308e-01 6.16933182e-01 2.74957384e-02 4.87898842e-01]\n",
      " [8.16526636e-01 2.68505039e-01 5.64570070e-01 9.40366020e-01\n",
      "  6.61970919e-02 1.31153634e-01 5.00841204e-01 2.05995809e-01\n",
      "  3.94130124e-02 4.30543212e-01 2.00921566e-01 8.88168028e-01\n",
      "  4.85861633e-01 5.56626489e-01 5.58829527e-01 4.27550031e-01\n",
      "  2.27115060e-01 7.74395671e-01 4.70459090e-01 9.08574472e-01\n",
      "  8.38116016e-01 9.08783835e-01 8.55867030e-01 8.14864893e-01\n",
      "  3.87062207e-02 3.76445174e-01 6.40492956e-02 9.40333806e-01]\n",
      " [1.43681552e-01 5.50008882e-01 6.53394465e-01 4.04744073e-01\n",
      "  4.60743542e-01 5.54213342e-01 7.36930576e-01 4.83700200e-01\n",
      "  1.41384567e-01 8.35185744e-01 8.26765862e-01 5.60146277e-01\n",
      "  3.08579308e-01 1.69601889e-01 6.01951959e-01 1.59678448e-03\n",
      "  7.30577592e-01 9.76271246e-01 1.11849606e-01 9.32543152e-01\n",
      "  3.90186376e-01 6.02446761e-01 4.78794299e-01 3.14917366e-01\n",
      "  7.52681364e-01 5.21610693e-01 9.66887779e-01 3.32699196e-01]\n",
      " [9.50826913e-01 7.09868225e-01 4.79658975e-01 2.51230171e-01\n",
      "  6.79848842e-01 5.08390408e-01 3.98811184e-01 9.56034522e-01\n",
      "  1.86405700e-01 6.08004510e-01 1.72773732e-02 3.59241834e-01\n",
      "  6.41664800e-01 9.48103732e-01 9.41188987e-01 4.26598739e-01\n",
      "  8.78126169e-01 8.05794361e-01 4.83509212e-01 8.23749160e-01\n",
      "  8.68616568e-01 9.68303142e-01 4.95556024e-01 3.14645503e-01\n",
      "  4.91390643e-01 1.81148558e-01 9.42321459e-02 3.74954703e-01]\n",
      " [3.48496597e-01 4.99831924e-01 8.47765806e-01 6.03883550e-01\n",
      "  4.24266911e-01 6.74670934e-01 4.15912368e-01 8.35178580e-01\n",
      "  7.48951082e-02 1.73511061e-01 1.56870475e-02 7.91840005e-01\n",
      "  6.91160449e-01 5.84896370e-01 7.17491607e-01 2.08639475e-01\n",
      "  2.52421816e-01 8.50648203e-01 7.37494606e-02 8.67554191e-01\n",
      "  1.04663255e-03 2.14667714e-01 9.73927014e-01 2.26117027e-01\n",
      "  6.48710013e-01 2.23587631e-01 6.42058255e-01 6.51708560e-01]\n",
      " [4.50099276e-01 5.57285035e-01 4.90247886e-01 1.97604850e-01\n",
      "  9.93787877e-01 9.00871163e-01 9.99305262e-01 6.74429150e-01\n",
      "  3.01561605e-03 5.72028606e-02 8.36117478e-02 6.65000883e-01\n",
      "  1.01349101e-01 8.14402562e-01 9.63581163e-01 1.72912271e-01\n",
      "  8.29694024e-01 3.82929404e-01 4.73730702e-02 8.03240050e-01\n",
      "  5.65084164e-01 9.25245658e-01 2.94172483e-01 9.90978005e-01\n",
      "  7.42620478e-01 5.65857289e-01 1.22358123e-01 3.03930124e-01]\n",
      " [6.88333961e-01 4.00692541e-01 9.32523965e-01 4.43605298e-01\n",
      "  8.30771620e-01 1.35699052e-01 8.22760268e-01 7.31763331e-01\n",
      "  2.61158852e-01 9.37872901e-01 5.98379802e-01 4.98066171e-01\n",
      "  2.17513044e-01 9.36608384e-01 4.41365116e-01 2.85245552e-01\n",
      "  3.23627068e-01 7.00280592e-02 8.64033355e-01 5.36326640e-01\n",
      "  8.22007705e-01 3.60649867e-01 9.04446150e-01 3.59176256e-01\n",
      "  6.60636901e-01 7.76907479e-04 2.81947070e-01 7.41502720e-01]\n",
      " [3.15513310e-01 6.56882369e-01 4.43739318e-01 1.73805986e-01\n",
      "  7.34066114e-01 9.66652205e-01 1.43082167e-01 9.58700056e-01\n",
      "  1.63137932e-03 2.03333430e-02 8.06108616e-01 4.99662431e-01\n",
      "  9.28476085e-01 5.40032212e-01 8.69230703e-01 7.63192673e-01\n",
      "  2.59932827e-01 6.53906673e-01 8.18487484e-01 9.49952982e-01\n",
      "  4.31099450e-01 2.56863667e-01 4.15380406e-01 2.97467765e-01\n",
      "  5.20361540e-01 2.20825310e-01 1.39742659e-01 1.97843171e-02]\n",
      " [3.66571921e-01 6.09843028e-01 2.52388956e-01 1.69480268e-01\n",
      "  7.75891479e-01 4.78796212e-02 8.93843211e-02 6.72582185e-01\n",
      "  6.74139493e-01 8.37931938e-01 9.55281596e-01 8.04356358e-01\n",
      "  7.81034698e-01 2.04438921e-01 1.10980745e-01 7.85388111e-01\n",
      "  2.71989258e-02 1.95829382e-01 2.07552583e-01 9.90366391e-02\n",
      "  7.41648881e-01 2.43212325e-01 6.19083969e-01 1.18108340e-01\n",
      "  2.16463889e-01 4.85680528e-01 5.13356564e-01 9.56313634e-01]\n",
      " [3.28281788e-01 5.46086671e-01 9.22718421e-01 2.78947200e-01\n",
      "  3.34986589e-01 3.22786892e-02 1.76689911e-01 1.55393317e-01\n",
      "  3.99238625e-01 9.81286064e-01 7.30412538e-01 1.93664443e-01\n",
      "  6.94645701e-01 9.55203598e-02 1.12118476e-01 1.45930048e-01\n",
      "  7.47881273e-02 1.45532908e-01 1.00252322e-01 5.08967876e-01\n",
      "  8.33551828e-01 2.37286211e-01 4.70890904e-01 5.03270452e-01\n",
      "  2.90252890e-01 4.45592702e-01 5.89087876e-01 9.72917339e-01]\n",
      " [2.01918396e-01 5.62798563e-01 5.65835032e-01 1.45152018e-01\n",
      "  5.99993898e-02 7.47472594e-01 7.12644698e-01 6.03447044e-01\n",
      "  1.32347254e-01 6.22227602e-03 7.80908184e-01 3.83830659e-01\n",
      "  7.68521517e-01 6.50372293e-01 7.49508035e-02 1.92317666e-01\n",
      "  3.04462585e-02 6.53530580e-01 5.45241238e-01 4.04751547e-01\n",
      "  9.50014443e-01 3.56620612e-01 3.56657833e-01 8.51201412e-01\n",
      "  2.95037485e-01 6.61399950e-01 3.68153742e-01 1.69699589e-01]\n",
      " [7.68048061e-01 1.98638931e-02 2.97419381e-01 7.22575859e-01\n",
      "  8.14444300e-01 5.59240886e-02 6.30535594e-01 9.03309202e-02\n",
      "  5.53122360e-01 4.31417604e-01 5.53582861e-01 6.26046637e-01\n",
      "  5.46054041e-01 9.38515639e-01 3.99384055e-01 8.74620038e-03\n",
      "  5.54782713e-01 3.33214182e-01 7.10895631e-01 4.37300091e-01\n",
      "  8.92229274e-01 3.01521661e-01 9.86436221e-01 1.17405425e-01\n",
      "  9.69455975e-02 4.21858738e-01 8.53831188e-01 8.67797368e-01]\n",
      " [4.29618608e-01 3.99584508e-02 6.01295088e-01 2.09209097e-01\n",
      "  6.97773322e-01 4.86917146e-01 1.65948755e-01 9.96116245e-01\n",
      "  9.13857687e-01 5.45930863e-01 9.97431225e-01 7.53746719e-01\n",
      "  9.85921726e-01 4.91509885e-02 7.77973568e-01 4.30397479e-01\n",
      "  1.09425245e-01 6.27845497e-02 5.71746096e-01 2.97519781e-01\n",
      "  7.06119628e-01 7.26192712e-02 2.10297996e-01 4.71570438e-01\n",
      "  6.67564081e-01 2.39494203e-01 3.90751585e-01 6.72121163e-01]\n",
      " [7.68919217e-01 7.56353671e-01 2.81824051e-02 4.88902922e-01\n",
      "  6.10814785e-01 3.87451766e-01 9.88312011e-01 1.64732637e-01\n",
      "  4.58450574e-01 2.46262930e-02 4.10077037e-01 5.57837075e-01\n",
      "  7.85172618e-01 5.26269868e-01 7.65425929e-01 8.67250324e-01\n",
      "  8.30526870e-02 1.93435803e-01 8.76161131e-01 5.76066767e-01\n",
      "  9.02071340e-01 3.36775635e-01 7.04932174e-02 4.02347773e-01\n",
      "  4.17984287e-01 8.98841306e-01 1.00097575e-02 3.10733984e-01]\n",
      " [5.91338380e-01 9.33453487e-01 4.91831761e-01 3.63726821e-01\n",
      "  7.99162082e-01 5.81933918e-01 8.09082197e-01 9.07239975e-01\n",
      "  9.76240751e-01 9.79504171e-01 1.70601652e-01 4.92197759e-01\n",
      "  8.33056501e-01 4.23241993e-01 5.93361115e-02 9.40582820e-01\n",
      "  9.18549887e-01 8.59205940e-01 2.47593736e-02 2.25026586e-01\n",
      "  3.74717037e-02 8.70019835e-01 4.66083512e-01 8.98725459e-01\n",
      "  3.02765067e-01 7.47292468e-01 3.05061719e-01 6.86093402e-01]\n",
      " [2.40760481e-02 4.62676919e-01 3.31905371e-02 5.69732888e-01\n",
      "  7.83559475e-01 9.09518056e-02 8.04694706e-02 1.08166991e-01\n",
      "  3.71428644e-02 9.56188144e-01 8.74632137e-01 3.74073678e-01\n",
      "  9.57335892e-01 3.04488022e-01 2.78357096e-03 2.12441603e-01\n",
      "  1.41831231e-01 3.03098631e-01 9.73696207e-01 2.40505573e-01\n",
      "  2.56365066e-01 5.59705055e-01 2.54661592e-01 9.65384579e-01\n",
      "  3.52116295e-01 1.04774974e-02 1.89916640e-02 9.30625051e-01]\n",
      " [9.23645484e-01 9.18304141e-01 2.87576111e-01 4.12376512e-01\n",
      "  5.98338691e-01 6.83127157e-01 8.86565701e-01 3.30833056e-01\n",
      "  5.33636401e-01 7.35686430e-01 6.85474829e-01 9.53919270e-01\n",
      "  3.07000482e-01 5.13297344e-01 9.80107486e-01 3.64125386e-01\n",
      "  4.79681037e-01 1.64847476e-01 2.07414661e-01 8.82360441e-01\n",
      "  9.46566116e-01 5.66792042e-01 4.75882943e-01 6.18318904e-01\n",
      "  8.12693290e-01 9.89781023e-01 5.21026454e-02 5.17786599e-01]]\n"
     ]
    }
   ],
   "source": [
    "# np.random.random 함수와 shape 파라매터를 이용하여 (28, 28)의 랜덤 노이즈를 생성하는 코드를 작성하시오.\n",
    "print(np.random.random((28,28)).shape)\n",
    "print(np.random.random((28,28)))"
   ]
  },
  {
   "cell_type": "code",
   "execution_count": 220,
   "id": "preliminary-kernel",
   "metadata": {},
   "outputs": [
    {
     "data": {
      "image/png": "[encoded data removed]",
      "text/plain": [
       "<Figure size 432x288 with 2 Axes>"
      ]
     },
     "metadata": {
      "needs_background": "light"
     },
     "output_type": "display_data"
    }
   ],
   "source": [
    "plt.imshow(np.random.random((28,28)), cmap='gray')\n",
    "plt.colorbar()\n",
    "plt.show()"
   ]
  },
  {
   "cell_type": "code",
   "execution_count": 221,
   "id": "indoor-organic",
   "metadata": {},
   "outputs": [
    {
     "name": "stdout",
     "output_type": "stream",
     "text": [
      "[0.1087001]\n",
      "[-0.05697804]\n",
      "[-0.01477968]\n"
     ]
    }
   ],
   "source": [
    "# 가우시안 노이즈 함수를 사용하여 평균 0, 표준편차 0.1, 사이즈 1로 랜덤 값을 3번 출력하세요.\n",
    "print(np.random.normal(0.0,0.1,1))\n",
    "print(np.random.normal(0.0,0.1,1))\n",
    "print(np.random.normal(0.0,0.1,1))"
   ]
  },
  {
   "cell_type": "code",
   "execution_count": 222,
   "id": "instrumental-armstrong",
   "metadata": {},
   "outputs": [
    {
     "name": "stdout",
     "output_type": "stream",
     "text": [
      "[3.05150007]\n",
      "[3.1811891]\n",
      "[3.230143]\n"
     ]
    }
   ],
   "source": [
    "print(np.random.normal(3.0,0.1,1))\n",
    "print(np.random.normal(3.0,0.1,1))\n",
    "print(np.random.normal(3.0,0.1,1))"
   ]
  },
  {
   "cell_type": "code",
   "execution_count": 223,
   "id": "purple-survivor",
   "metadata": {},
   "outputs": [],
   "source": [
    "# x_train[5]와 가우시안 노이즈 (28, 28)을 더한 뒤 noisy_image 변수에 할당하는 코드를 작성하세요. mu = 0.5, std = 0.1\n",
    "noisy_image = x_train_norm[5] + np.random.normal(loc=0.5,scale=0.1, size=(28,28))"
   ]
  },
  {
   "cell_type": "code",
   "execution_count": 224,
   "id": "single-munich",
   "metadata": {},
   "outputs": [
    {
     "data": {
      "text/plain": [
       "(28, 28)"
      ]
     },
     "execution_count": 224,
     "metadata": {},
     "output_type": "execute_result"
    }
   ],
   "source": [
    "noisy_image.shape"
   ]
  },
  {
   "cell_type": "code",
   "execution_count": 225,
   "id": "religious-canberra",
   "metadata": {},
   "outputs": [
    {
     "data": {
      "text/plain": [
       "<matplotlib.colorbar.Colorbar at 0x7ff896e87310>"
      ]
     },
     "execution_count": 225,
     "metadata": {},
     "output_type": "execute_result"
    },
    {
     "data": {
      "image/png": "[encoded data removed]",
      "text/plain": [
       "<Figure size 432x288 with 2 Axes>"
      ]
     },
     "metadata": {
      "needs_background": "light"
     },
     "output_type": "display_data"
    }
   ],
   "source": [
    "plt.imshow(noisy_image, cmap='gray')\n",
    "plt.colorbar()"
   ]
  },
  {
   "cell_type": "code",
   "execution_count": 226,
   "id": "greek-enemy",
   "metadata": {},
   "outputs": [
    {
     "data": {
      "text/plain": [
       "<matplotlib.colorbar.Colorbar at 0x7ff896dae090>"
      ]
     },
     "execution_count": 226,
     "metadata": {},
     "output_type": "execute_result"
    },
    {
     "data": {
      "image/png": "[encoded data removed]",
      "text/plain": [
       "<Figure size 432x288 with 2 Axes>"
      ]
     },
     "metadata": {
      "needs_background": "light"
     },
     "output_type": "display_data"
    }
   ],
   "source": [
    "# max가 1을 초과하지 않게 noisy_image를 수정한 뒤 plt로 출력해보세요.\n",
    "noisy_image[noisy_image>1.0]=1.0\n",
    "plt.imshow(noisy_image, cmap='gray')\n",
    "plt.colorbar()"
   ]
  },
  {
   "cell_type": "markdown",
   "id": "collected-handy",
   "metadata": {},
   "source": [
    "### train_noisy_image와 test_nosiy_images를 생성하는 코드를 작성하세요."
   ]
  },
  {
   "cell_type": "code",
   "execution_count": 227,
   "id": "celtic-malawi",
   "metadata": {},
   "outputs": [],
   "source": [
    "train_noisy_image = x_train_norm + np.random.normal(0.5,0.1, (28,28))\n",
    "train_noisy_image[train_noisy_image > 1.0] = 1.0"
   ]
  },
  {
   "cell_type": "code",
   "execution_count": 228,
   "id": "black-thanksgiving",
   "metadata": {},
   "outputs": [],
   "source": [
    "test_noisy_image = x_test_norm + np.random.normal(0.5,0.1, (28,28))\n",
    "test_noisy_image[test_noisy_image > 1.0] = 1.0"
   ]
  },
  {
   "cell_type": "code",
   "execution_count": 229,
   "id": "needed-vacation",
   "metadata": {},
   "outputs": [
    {
     "data": {
      "text/plain": [
       "<matplotlib.image.AxesImage at 0x7ff896ca4450>"
      ]
     },
     "execution_count": 229,
     "metadata": {},
     "output_type": "execute_result"
    },
    {
     "data": {
      "image/png": "[encoded data removed]",
      "text/plain": [
       "<Figure size 432x288 with 1 Axes>"
      ]
     },
     "metadata": {
      "needs_background": "light"
     },
     "output_type": "display_data"
    }
   ],
   "source": [
    "plt.imshow(train_noisy_image[:10].transpose((1,0,2)).reshape(28,-1), cmap='gray')"
   ]
  },
  {
   "cell_type": "code",
   "execution_count": 230,
   "id": "registered-boulder",
   "metadata": {},
   "outputs": [
    {
     "data": {
      "text/plain": [
       "<matplotlib.image.AxesImage at 0x7ff896c8a5d0>"
      ]
     },
     "execution_count": 230,
     "metadata": {},
     "output_type": "execute_result"
    },
    {
     "data": {
      "image/png": "[encoded data removed]",
      "text/plain": [
       "<Figure size 432x288 with 1 Axes>"
      ]
     },
     "metadata": {
      "needs_background": "light"
     },
     "output_type": "display_data"
    }
   ],
   "source": [
    "plt.imshow(test_noisy_image[:10].transpose((1,0,2)).reshape(28,-1), cmap='gray')"
   ]
  },
  {
   "cell_type": "code",
   "execution_count": 231,
   "id": "immune-thong",
   "metadata": {},
   "outputs": [
    {
     "name": "stdout",
     "output_type": "stream",
     "text": [
      "(60000, 10) (10000, 10)\n"
     ]
    }
   ],
   "source": [
    "# train/test labels에 onehot encoding을 적용하여 shape을 (배치사이즈,) 에서 (배치사이즈, 클래스 개수)로 변경하는 코드를 작성하세요.\n",
    "train_label = to_categorical(y_train, 10)\n",
    "test_label = to_categorical(y_test, 10)\n",
    "print(train_label.shape, test_label.shape)"
   ]
  },
  {
   "cell_type": "code",
   "execution_count": 232,
   "id": "greatest-asthma",
   "metadata": {},
   "outputs": [
    {
     "data": {
      "text/plain": [
       "(60000, 10)"
      ]
     },
     "execution_count": 232,
     "metadata": {},
     "output_type": "execute_result"
    }
   ],
   "source": [
    "train_label.shape"
   ]
  },
  {
   "cell_type": "code",
   "execution_count": 233,
   "id": "historic-yugoslavia",
   "metadata": {},
   "outputs": [
    {
     "data": {
      "text/plain": [
       "(10000, 10)"
      ]
     },
     "execution_count": 233,
     "metadata": {},
     "output_type": "execute_result"
    }
   ],
   "source": [
    "test_label.shape"
   ]
  },
  {
   "cell_type": "markdown",
   "id": "under-increase",
   "metadata": {},
   "source": []
  },
  {
   "cell_type": "markdown",
   "id": "balanced-employment",
   "metadata": {},
   "source": [
    "## 모델 만들기"
   ]
  },
  {
   "cell_type": "markdown",
   "id": "standard-crack",
   "metadata": {},
   "source": [
    "model=keras.models.Sequential()\n",
    "model.add(keras.layers.Conv2D(16, (3,3), activation='relu', input_shape=(28,28,1)))\n",
    "model.add(keras.layers.MaxPool2D(2,2))\n",
    "model.add(keras.layers.Conv2D(32, (3,3), activation='relu'))\n",
    "model.add(keras.layers.MaxPooling2D((2,2)))\n",
    "model.add(keras.layers.Flatten())\n",
    "model.add(keras.layers.Dense(32, activation='relu'))\n",
    "model.add(keras.layers.Dense(10, activation='softmax'))"
   ]
  },
  {
   "cell_type": "markdown",
   "id": "english-memorial",
   "metadata": {},
   "source": [
    "model.summary()"
   ]
  },
  {
   "cell_type": "code",
   "execution_count": 234,
   "id": "endless-people",
   "metadata": {},
   "outputs": [],
   "source": [
    "from keras.layers import SimpleRNN\n",
    "from keras.layers import Dense, Input\n",
    "from keras.models import Model\n",
    "\n",
    "inputs = Input(shape=(28, 28))\n",
    "x1 = SimpleRNN(64, activation=\"tanh\")(inputs)\n",
    "x2 = Dense(10, activation=\"softmax\")(x1)\n",
    "model = Model(inputs, x2)"
   ]
  },
  {
   "cell_type": "code",
   "execution_count": 235,
   "id": "alleged-yorkshire",
   "metadata": {},
   "outputs": [
    {
     "name": "stdout",
     "output_type": "stream",
     "text": [
      "Model: \"model_1\"\n",
      "_________________________________________________________________\n",
      "Layer (type)                 Output Shape              Param #   \n",
      "=================================================================\n",
      "input_2 (InputLayer)         [(None, 28, 28)]          0         \n",
      "_________________________________________________________________\n",
      "simple_rnn_1 (SimpleRNN)     (None, 64)                5952      \n",
      "_________________________________________________________________\n",
      "dense_3 (Dense)              (None, 10)                650       \n",
      "=================================================================\n",
      "Total params: 6,602\n",
      "Trainable params: 6,602\n",
      "Non-trainable params: 0\n",
      "_________________________________________________________________\n"
     ]
    }
   ],
   "source": [
    "model.summary()"
   ]
  },
  {
   "cell_type": "code",
   "execution_count": 236,
   "id": "expanded-minimum",
   "metadata": {},
   "outputs": [
    {
     "name": "stdout",
     "output_type": "stream",
     "text": [
      "Epoch 1/5\n",
      "1875/1875 [==============================] - 11s 6ms/step - loss: 0.6488 - accuracy: 0.7902\n",
      "Epoch 2/5\n",
      "1875/1875 [==============================] - 11s 6ms/step - loss: 0.3280 - accuracy: 0.9003\n",
      "Epoch 3/5\n",
      "1875/1875 [==============================] - 11s 6ms/step - loss: 0.2652 - accuracy: 0.9201\n",
      "Epoch 4/5\n",
      "1875/1875 [==============================] - 11s 6ms/step - loss: 0.2404 - accuracy: 0.9295\n",
      "Epoch 5/5\n",
      "1875/1875 [==============================] - 11s 6ms/step - loss: 0.2181 - accuracy: 0.9353\n"
     ]
    }
   ],
   "source": [
    "model.compile(optimizer='adam',\n",
    "             loss='categorical_crossentropy',\n",
    "             metrics = [\"accuracy\"])\n",
    "hist = model.fit(train_noisy_image, train_label, epochs=5)"
   ]
  },
  {
   "cell_type": "code",
   "execution_count": 237,
   "id": "systematic-petersburg",
   "metadata": {},
   "outputs": [
    {
     "data": {
      "image/png": "[encoded data removed]",
      "text/plain": [
       "<Figure size 432x288 with 1 Axes>"
      ]
     },
     "metadata": {
      "needs_background": "light"
     },
     "output_type": "display_data"
    }
   ],
   "source": [
    "plt.plot(hist.history['accuracy'], label = 'accuracy')\n",
    "plt.plot(hist.history['loss'], label='loss')\n",
    "#plt.plot(hist.history['val_accuracy'], label='val_accuracy')\n",
    "#plt.plot(hist.history['val_loss'], label='val_loss')\n",
    "plt.legend(loc='upper left')\n",
    "plt.show()"
   ]
  },
  {
   "cell_type": "code",
   "execution_count": 238,
   "id": "framed-circumstances",
   "metadata": {},
   "outputs": [
    {
     "name": "stdout",
     "output_type": "stream",
     "text": [
      "model.predict() 결과 :  [0.03734944 0.04781098 0.0046355  0.00296971 0.03778369 0.00677845\n",
      " 0.01364268 0.50487167 0.00199626 0.34216166]\n",
      "model이 추론한 가장 가능성이 높은 결과 :  7\n",
      "실제 데이터의 라벨 :  7\n"
     ]
    }
   ],
   "source": [
    "predicted_result = model.predict(x_test)\n",
    "predicted_labels = np.argmax(predicted_result, axis=1)\n",
    "\n",
    "idx = 0\n",
    "print('model.predict() 결과 : ', predicted_result[idx])\n",
    "print('model이 추론한 가장 가능성이 높은 결과 : ', predicted_labels[idx])\n",
    "print('실제 데이터의 라벨 : ', y_test[idx])"
   ]
  },
  {
   "cell_type": "code",
   "execution_count": null,
   "id": "brief-distribution",
   "metadata": {},
   "outputs": [],
   "source": []
  }
 ],
 "metadata": {
  "kernelspec": {
   "display_name": "aiffel",
   "language": "python",
   "name": "aiffel"
  },
  "language_info": {
   "codemirror_mode": {
    "name": "ipython",
    "version": 3
   },
   "file_extension": ".py",
   "mimetype": "text/x-python",
   "name": "python",
   "nbconvert_exporter": "python",
   "pygments_lexer": "ipython3",
   "version": "3.7.6"
  }
 },
 "nbformat": 4,
 "nbformat_minor": 5
}
