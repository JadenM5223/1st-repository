{
 "cells": [
  {
   "cell_type": "markdown",
   "id": "75d890ca",
   "metadata": {},
   "source": [
    "## 정수 계산하기"
   ]
  },
  {
   "cell_type": "code",
   "execution_count": 1,
   "id": "1161c40e",
   "metadata": {},
   "outputs": [
    {
     "data": {
      "text/plain": [
       "2"
      ]
     },
     "execution_count": 1,
     "metadata": {},
     "output_type": "execute_result"
    }
   ],
   "source": [
    "1 + 1"
   ]
  },
  {
   "cell_type": "code",
   "execution_count": 4,
   "id": "08dcf958",
   "metadata": {},
   "outputs": [
    {
     "name": "stdout",
     "output_type": "stream",
     "text": [
      "-1\n",
      "4\n"
     ]
    }
   ],
   "source": [
    "print(1 - 2);print(2 * 2)"
   ]
  },
  {
   "cell_type": "code",
   "execution_count": 5,
   "id": "7262c52d",
   "metadata": {},
   "outputs": [
    {
     "data": {
      "text/plain": [
       "2.5"
      ]
     },
     "execution_count": 5,
     "metadata": {},
     "output_type": "execute_result"
    }
   ],
   "source": [
    "5 / 2"
   ]
  },
  {
   "cell_type": "code",
   "execution_count": 6,
   "id": "4317e206",
   "metadata": {},
   "outputs": [
    {
     "data": {
      "text/plain": [
       "2.0"
      ]
     },
     "execution_count": 6,
     "metadata": {},
     "output_type": "execute_result"
    }
   ],
   "source": [
    "4 / 2"
   ]
  },
  {
   "cell_type": "markdown",
   "id": "30771e8c",
   "metadata": {},
   "source": [
    "### 나눗셈 후 소수점 이하를 버리는 // 연산자"
   ]
  },
  {
   "cell_type": "code",
   "execution_count": 7,
   "id": "c8a1ecc2",
   "metadata": {},
   "outputs": [
    {
     "data": {
      "text/plain": [
       "2"
      ]
     },
     "execution_count": 7,
     "metadata": {},
     "output_type": "execute_result"
    }
   ],
   "source": [
    "5//2"
   ]
  },
  {
   "cell_type": "code",
   "execution_count": 8,
   "id": "b37e293b",
   "metadata": {},
   "outputs": [
    {
     "data": {
      "text/plain": [
       "2"
      ]
     },
     "execution_count": 8,
     "metadata": {},
     "output_type": "execute_result"
    }
   ],
   "source": [
    "4 // 2"
   ]
  },
  {
   "cell_type": "markdown",
   "id": "b0809aca",
   "metadata": {},
   "source": [
    "실수에 // 연산자를 사용하면 결과는 실수가 나오며 소수점 이하는 버린다."
   ]
  },
  {
   "cell_type": "code",
   "execution_count": 9,
   "id": "d79f2523",
   "metadata": {},
   "outputs": [
    {
     "data": {
      "text/plain": [
       "2.0"
      ]
     },
     "execution_count": 9,
     "metadata": {},
     "output_type": "execute_result"
    }
   ],
   "source": [
    "5.5 // 2"
   ]
  },
  {
   "cell_type": "code",
   "execution_count": 10,
   "id": "a210a245",
   "metadata": {},
   "outputs": [
    {
     "data": {
      "text/plain": [
       "2.0"
      ]
     },
     "execution_count": 10,
     "metadata": {},
     "output_type": "execute_result"
    }
   ],
   "source": [
    "4 // 2.0"
   ]
  },
  {
   "cell_type": "markdown",
   "id": "acd3e71d",
   "metadata": {},
   "source": [
    "### 나눗셈 후 나머지를 구하는 % 연산자"
   ]
  },
  {
   "cell_type": "code",
   "execution_count": 11,
   "id": "20a7c946",
   "metadata": {},
   "outputs": [
    {
     "data": {
      "text/plain": [
       "1"
      ]
     },
     "execution_count": 11,
     "metadata": {},
     "output_type": "execute_result"
    }
   ],
   "source": [
    "5 % 2"
   ]
  },
  {
   "cell_type": "markdown",
   "id": "987a18fd",
   "metadata": {},
   "source": [
    "###  거듭제곱을 구하는 ** 연산자"
   ]
  },
  {
   "cell_type": "code",
   "execution_count": 12,
   "id": "7a60305e",
   "metadata": {},
   "outputs": [
    {
     "data": {
      "text/plain": [
       "1024"
      ]
     },
     "execution_count": 12,
     "metadata": {},
     "output_type": "execute_result"
    }
   ],
   "source": [
    "2 ** 10"
   ]
  },
  {
   "cell_type": "markdown",
   "id": "d573984d",
   "metadata": {},
   "source": [
    "### 값을 정수로 만들기"
   ]
  },
  {
   "cell_type": "code",
   "execution_count": 13,
   "id": "490a3cb2",
   "metadata": {},
   "outputs": [
    {
     "data": {
      "text/plain": [
       "3"
      ]
     },
     "execution_count": 13,
     "metadata": {},
     "output_type": "execute_result"
    }
   ],
   "source": [
    "int(3.3)"
   ]
  },
  {
   "cell_type": "code",
   "execution_count": 14,
   "id": "2ca5395f",
   "metadata": {},
   "outputs": [
    {
     "data": {
      "text/plain": [
       "2"
      ]
     },
     "execution_count": 14,
     "metadata": {},
     "output_type": "execute_result"
    }
   ],
   "source": [
    "int(5 / 2)"
   ]
  },
  {
   "cell_type": "code",
   "execution_count": 15,
   "id": "3d78a9e0",
   "metadata": {},
   "outputs": [
    {
     "data": {
      "text/plain": [
       "10"
      ]
     },
     "execution_count": 15,
     "metadata": {},
     "output_type": "execute_result"
    }
   ],
   "source": [
    "int('10')"
   ]
  },
  {
   "cell_type": "markdown",
   "id": "19293c16",
   "metadata": {},
   "source": [
    "### 객체의 자료형 알아내기"
   ]
  },
  {
   "cell_type": "code",
   "execution_count": 16,
   "id": "cf5db3c8",
   "metadata": {},
   "outputs": [
    {
     "data": {
      "text/plain": [
       "int"
      ]
     },
     "execution_count": 16,
     "metadata": {},
     "output_type": "execute_result"
    }
   ],
   "source": [
    "type(10)"
   ]
  },
  {
   "cell_type": "markdown",
   "id": "2bfc039d",
   "metadata": {},
   "source": []
  },
  {
   "cell_type": "markdown",
   "id": "28c648dd",
   "metadata": {},
   "source": [
    "## 실수 계산하기"
   ]
  },
  {
   "cell_type": "code",
   "execution_count": 17,
   "id": "bedf4af6",
   "metadata": {},
   "outputs": [
    {
     "data": {
      "text/plain": [
       "5.6"
      ]
     },
     "execution_count": 17,
     "metadata": {},
     "output_type": "execute_result"
    }
   ],
   "source": [
    "3.5 + 2.1"
   ]
  },
  {
   "cell_type": "code",
   "execution_count": 18,
   "id": "fd62b392",
   "metadata": {},
   "outputs": [
    {
     "data": {
      "text/plain": [
       "1.5999999999999996"
      ]
     },
     "execution_count": 18,
     "metadata": {},
     "output_type": "execute_result"
    }
   ],
   "source": [
    "4.3 - 2.7"
   ]
  },
  {
   "cell_type": "code",
   "execution_count": 19,
   "id": "3c63aad5",
   "metadata": {},
   "outputs": [
    {
     "data": {
      "text/plain": [
       "4.65"
      ]
     },
     "execution_count": 19,
     "metadata": {},
     "output_type": "execute_result"
    }
   ],
   "source": [
    "1.5 * 3.1"
   ]
  },
  {
   "cell_type": "markdown",
   "id": "67d95fcb",
   "metadata": {},
   "source": [
    "### 실수와 정수를 함께 계산하기"
   ]
  },
  {
   "cell_type": "code",
   "execution_count": 20,
   "id": "8cf9367a",
   "metadata": {},
   "outputs": [
    {
     "data": {
      "text/plain": [
       "9.2"
      ]
     },
     "execution_count": 20,
     "metadata": {},
     "output_type": "execute_result"
    }
   ],
   "source": [
    "4.2 + 5"
   ]
  },
  {
   "cell_type": "markdown",
   "id": "b475ba5d",
   "metadata": {},
   "source": [
    "정수와 실수를 함께 계산하면 표현 범위가 넓은 실수로 계산 된다."
   ]
  },
  {
   "cell_type": "markdown",
   "id": "57ebb172",
   "metadata": {},
   "source": [
    "### 값을 실수로 만들기"
   ]
  },
  {
   "cell_type": "code",
   "execution_count": 21,
   "id": "eb9197a2",
   "metadata": {},
   "outputs": [
    {
     "data": {
      "text/plain": [
       "5.0"
      ]
     },
     "execution_count": 21,
     "metadata": {},
     "output_type": "execute_result"
    }
   ],
   "source": [
    "float(5)"
   ]
  },
  {
   "cell_type": "code",
   "execution_count": 22,
   "id": "fce19bce",
   "metadata": {},
   "outputs": [
    {
     "data": {
      "text/plain": [
       "3.0"
      ]
     },
     "execution_count": 22,
     "metadata": {},
     "output_type": "execute_result"
    }
   ],
   "source": [
    "float(1 + 2)"
   ]
  },
  {
   "cell_type": "markdown",
   "id": "650e36f6",
   "metadata": {},
   "source": []
  },
  {
   "cell_type": "markdown",
   "id": "b32b6dd4",
   "metadata": {},
   "source": [
    "## 연습 문제"
   ]
  },
  {
   "cell_type": "code",
   "execution_count": 24,
   "id": "a3b42d83",
   "metadata": {},
   "outputs": [
    {
     "data": {
      "text/plain": [
       "17"
      ]
     },
     "execution_count": 24,
     "metadata": {},
     "output_type": "execute_result"
    }
   ],
   "source": [
    "7 + (10 - 5) * 2"
   ]
  },
  {
   "cell_type": "code",
   "execution_count": 25,
   "id": "276eee2e",
   "metadata": {},
   "outputs": [
    {
     "data": {
      "text/plain": [
       "7"
      ]
     },
     "execution_count": 25,
     "metadata": {},
     "output_type": "execute_result"
    }
   ],
   "source": [
    "int(0.2467 * 12 + 4.159)"
   ]
  },
  {
   "cell_type": "code",
   "execution_count": 31,
   "id": "e88a1389",
   "metadata": {},
   "outputs": [
    {
     "data": {
      "text/plain": [
       "7"
      ]
     },
     "execution_count": 31,
     "metadata": {},
     "output_type": "execute_result"
    }
   ],
   "source": [
    "m = 12\n",
    "int(0.2467 * m + 4.159)"
   ]
  },
  {
   "cell_type": "code",
   "execution_count": 33,
   "id": "4b1bbe84",
   "metadata": {},
   "outputs": [
    {
     "name": "stdout",
     "output_type": "stream",
     "text": [
      "스킬 피해량:  286.2\n"
     ]
    }
   ],
   "source": [
    "AP = 102\n",
    "print('스킬 피해량: ', AP * 0.6 + 225)"
   ]
  },
  {
   "cell_type": "code",
   "execution_count": null,
   "id": "047bd896",
   "metadata": {},
   "outputs": [],
   "source": []
  }
 ],
 "metadata": {
  "kernelspec": {
   "display_name": "Python 3",
   "language": "python",
   "name": "python3"
  },
  "language_info": {
   "codemirror_mode": {
    "name": "ipython",
    "version": 3
   },
   "file_extension": ".py",
   "mimetype": "text/x-python",
   "name": "python",
   "nbconvert_exporter": "python",
   "pygments_lexer": "ipython3",
   "version": "3.8.8"
  }
 },
 "nbformat": 4,
 "nbformat_minor": 5
}
