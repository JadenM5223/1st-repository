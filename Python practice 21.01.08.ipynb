{
 "cells": [
  {
   "cell_type": "markdown",
   "metadata": {},
   "source": [
    "# $$Python-practice$$"
   ]
  },
  {
   "cell_type": "markdown",
   "metadata": {},
   "source": []
  },
  {
   "cell_type": "markdown",
   "metadata": {},
   "source": [
    "### $숫자처리함수$"
   ]
  },
  {
   "cell_type": "code",
   "execution_count": 3,
   "metadata": {},
   "outputs": [
    {
     "name": "stdout",
     "output_type": "stream",
     "text": [
      "5\n",
      "16\n",
      "12\n",
      "5\n",
      "3\n",
      "5\n"
     ]
    }
   ],
   "source": [
    "# 절대값 abs\n",
    "print (abs(-5))\n",
    "\n",
    "# pow 첫번째 인자를 두번째 인자만큼 제곱\n",
    "print (pow(4, 2))\n",
    "\n",
    "# 최대값 max\n",
    "print (max (5, 12))\n",
    "\n",
    "# 최소값 min\n",
    "print (min (5, 12))\n",
    "\n",
    "# 반올림 round\n",
    "print (round(3.14))\n",
    "print (round(4.78))"
   ]
  },
  {
   "cell_type": "code",
   "execution_count": 8,
   "metadata": {},
   "outputs": [
    {
     "name": "stdout",
     "output_type": "stream",
     "text": [
      "4\n",
      "4\n",
      "4.0\n"
     ]
    }
   ],
   "source": [
    "# math library 가져오기\n",
    "from math import * \n",
    "#math 라이브러리에 있는 모든 것을 가져온다.\n",
    "\n",
    "# 내림 floor\n",
    "print (floor(4.99))\n",
    "\n",
    "# 올림 ceil\n",
    "print (ceil(3.14))\n",
    "\n",
    "# 제곱근 sqrt\n",
    "print (sqrt(16))"
   ]
  },
  {
   "cell_type": "markdown",
   "metadata": {},
   "source": []
  },
  {
   "cell_type": "markdown",
   "metadata": {},
   "source": [
    "### $랜덤함수$"
   ]
  },
  {
   "cell_type": "code",
   "execution_count": 35,
   "metadata": {},
   "outputs": [
    {
     "name": "stdout",
     "output_type": "stream",
     "text": [
      "0.16462068767806337\n",
      "0.6125359906880434\n",
      "1\n",
      "8\n",
      "39\n",
      "26\n"
     ]
    }
   ],
   "source": [
    "# 랜덤함수는 무작위로 숫자를 뽑아줌\n",
    "\n",
    "# 랜덤함수 가져오기\n",
    "from random import * #실행할 때마다 다른 수를 출력한다.\n",
    "\n",
    "print (random())\n",
    "# 0.0 ~ 1.0 미만의 임의의 값을 생성한다.\n",
    "\n",
    "print (random()*10)\n",
    "# 0.0 ~ 10.0 미만의 임의의 값을 생성한다.\n",
    "\n",
    "print (int(random()*10))\n",
    "# int 함수로 random 함수를 감싸주면 정수만 생성한다.\n",
    "\n",
    "print (int(random()*10)+1)\n",
    "# 1 ~ 10 이하의 임의의 값을 생성한다.\n",
    "\n",
    "print (int(random()*45)+1)\n",
    "# 1 ~ 45 이하의 임의의 값을 생성한다.\n",
    "\n",
    "\n",
    "\n",
    "# randrange - 랜덤함수보다 편하게 값을 생성해주는 함수\n",
    "\n",
    "print (randrange(1,46))\n",
    "# 1 ~ 46 미만의 임의의 값을 생성한다."
   ]
  },
  {
   "cell_type": "markdown",
   "metadata": {},
   "source": []
  },
  {
   "cell_type": "markdown",
   "metadata": {},
   "source": [
    "### $Quiz$"
   ]
  },
  {
   "cell_type": "markdown",
   "metadata": {},
   "source": [
    "당신은 최근에 코딩 스터디 모임을 새로 만들었습니다.  \n",
    "월 4회 스터디를 하는데 3번은 온라인으로, 1번은 오프라인으로 하기로 했습니다.  \n",
    "아래 조건에 맞는 **오프라인 모임** 날짜를 정해주는 프로그램을 작성하시오."
   ]
  },
  {
   "cell_type": "markdown",
   "metadata": {},
   "source": [
    "**조건1**: 랜덤으로 날짜를 뽑아야 함  \n",
    "**조건2**: 월별 날짜는 다름을 감안하여 최소 일수인 28 이내로 정함  \n",
    "**조건3**: 매월 1~3일은 스터디 준비를 해야 하므로 제외\n",
    "\n",
    "-출력문\n",
    "오프라인 스터디 모임은 매월 x일로 정해졌습니다"
   ]
  },
  {
   "cell_type": "code",
   "execution_count": 64,
   "metadata": {},
   "outputs": [
    {
     "name": "stdout",
     "output_type": "stream",
     "text": [
      "오프라인 스터디 모임은 매월 4 일로 정해졌습니다\n"
     ]
    }
   ],
   "source": [
    "from random import *\n",
    "\n",
    "date = randrange(4, 29)\n",
    "\n",
    "\n",
    "\n",
    "print (\"오프라인 스터디 모임은 매월 \"+ str(date) +\" 일로 정해졌습니다\")\n",
    "\n",
    "\n"
   ]
  },
  {
   "cell_type": "markdown",
   "metadata": {},
   "source": []
  },
  {
   "cell_type": "markdown",
   "metadata": {},
   "source": [
    "### $문자열$"
   ]
  },
  {
   "cell_type": "code",
   "execution_count": 67,
   "metadata": {},
   "outputs": [
    {
     "name": "stdout",
     "output_type": "stream",
     "text": [
      "나는 소년입니다.\n",
      "파이썬은 어렵습니다\n",
      "\n",
      "나는 주냉이고\n",
      "파이썬은 어렵지만\n",
      "한번 배워보겠습니다.\n"
     ]
    }
   ],
   "source": [
    "sentence = '나는 소년입니다.'\n",
    "\n",
    "print (sentence)\n",
    "\n",
    "sentence2 = '파이썬은 어렵습니다'\n",
    "\n",
    "print (sentence2)\n",
    "\n",
    "sentence3 = \"\"\"\n",
    "나는 주냉이고\n",
    "파이썬은 어렵지만\n",
    "한번 배워보겠습니다.\"\"\"\n",
    "# 큰 따옴표 3개를 사용하면 여려줄을 한번에 출력할 수 있다.\n",
    "\n",
    "print (sentence3)"
   ]
  },
  {
   "cell_type": "markdown",
   "metadata": {},
   "source": []
  },
  {
   "cell_type": "markdown",
   "metadata": {},
   "source": [
    "### $슬라이싱$"
   ]
  },
  {
   "cell_type": "code",
   "execution_count": 74,
   "metadata": {},
   "outputs": [
    {
     "name": "stdout",
     "output_type": "stream",
     "text": [
      "성별:1\n",
      "연도:97\n",
      "월일:0102\n",
      "뒤 7자리:1234567\n"
     ]
    }
   ],
   "source": [
    "jumin = \"970102-1234567\"\n",
    "\n",
    "# 슬라이싱 - 필요한 정보만 잘라서 출력한다.\n",
    "\n",
    "print (\"성별:\" + jumin[7]) #jumin 데이터의 7번째 정보를 가져온다.\n",
    "\n",
    "print (\"연도:\" + jumin[0:2]) # 0번째부터 2번째 직전값까지 가져온다.\n",
    "\n",
    "print (\"월일:\" + jumin[2:6])\n",
    "\n",
    "print (\"뒤 7자리:\" + jumin[-7:]) # 맨 뒤에서 7번째부터 끝까지 출력"
   ]
  },
  {
   "cell_type": "markdown",
   "metadata": {},
   "source": []
  },
  {
   "cell_type": "markdown",
   "metadata": {},
   "source": [
    "### $문자열처리함수$"
   ]
  },
  {
   "cell_type": "code",
   "execution_count": 83,
   "metadata": {},
   "outputs": [
    {
     "name": "stdout",
     "output_type": "stream",
     "text": [
      "python is amazing\n",
      "PYTHON IS AMAZING\n",
      "True\n",
      "False\n",
      "17\n",
      "Java is Amazing\n"
     ]
    }
   ],
   "source": [
    "python = \"Python is Amazing\"\n",
    "\n",
    "# lower - 대문자를 소문자로 바꿔서 출력한다.\n",
    "print (python.lower())\n",
    "\n",
    "# upper - 소문자를 대문자로 바꿔서 출력한다.\n",
    "print (python.upper())\n",
    "\n",
    "\n",
    "print (python[0].isupper()) # 파이썬 문자열의 0번째 데이터가 대문자이면 True를 출력. 아니면 False\n",
    "\n",
    "print (python[0].islower()) # 파이썬 문자열의 1번째 데이터가 소문자이면 True를 출력. 아니면 False\n",
    "\n",
    "# len - 입력된 변수(문자열)의 전체 길이를 출력\n",
    "print (len(python))\n",
    "\n",
    "# replace - 선택한 변수(문자)를 바꿔서 출력\n",
    "print (python.replace(\"Python\", \"Java\")) # 문자열의 Python이란 글자를 Java로 교체"
   ]
  },
  {
   "cell_type": "code",
   "execution_count": 91,
   "metadata": {},
   "outputs": [
    {
     "name": "stdout",
     "output_type": "stream",
     "text": [
      "7\n",
      "14\n",
      "2\n"
     ]
    }
   ],
   "source": [
    "# index함수를 사용해서 어떤 문자가 어느 위치에 있는지 확인 할 수 있다.\n",
    "\n",
    "index = python.index(\"i\") # \"i\"라는 문자가 어느 위치에 있는지 확인\n",
    "print (index)\n",
    "\n",
    "index = python.index(\"i\", + index +1) #앞에서 찾은 문자의 다음(+1)부터 해당 문자를 찾아서 출력\n",
    "print (index)\n",
    "\n",
    "# count - 입력된 변수에서 해당 문자가 총 몇번 등장하는지 계산\n",
    "print (python.count(\"n\"))"
   ]
  },
  {
   "cell_type": "markdown",
   "metadata": {},
   "source": []
  },
  {
   "cell_type": "markdown",
   "metadata": {},
   "source": [
    "### $문자열포맷$"
   ]
  },
  {
   "cell_type": "code",
   "execution_count": 102,
   "metadata": {},
   "outputs": [
    {
     "name": "stdout",
     "output_type": "stream",
     "text": [
      "나는 30살입니다.\n",
      "나는 파이썬을 좋아합니다!\n",
      "Apple은 A로 시작해요\n",
      "나는 민트색과 보라색을 좋아해요!\n"
     ]
    }
   ],
   "source": [
    "#문자열을 구성하는 방법들\n",
    "\n",
    "## 방법1 - % 사용\n",
    "\n",
    "print (\"나는 %d살입니다.\" % 30) # d 자리에는 정수만 올 수 있다.\n",
    "\n",
    "print (\"나는 %s을 좋아합니다!\" % \"파이썬\") \n",
    "\n",
    "print (\"Apple은 %c로 시작해요\" % \"A\")\n",
    "\n",
    "# % s를 쓰면 변수의 성질과 상관없이 다 불러 들일 수 있다.\n",
    "\n",
    "print (\"나는 %s색과 %s색을 좋아해요!\" % (\"민트\", \"보라\")) # 변수를 여러개 불러 올 수도 있다."
   ]
  },
  {
   "cell_type": "code",
   "execution_count": 103,
   "metadata": {},
   "outputs": [
    {
     "name": "stdout",
     "output_type": "stream",
     "text": [
      "나는 자전거와 애 타기를 즐겨합니다\n",
      "나는 자전거와 애 타기를 즐겨합니다\n",
      "나는 애와 자전거 타기를 즐겨합니다\n"
     ]
    }
   ],
   "source": [
    "## 방법2 - {}, .format 사용\n",
    "\n",
    "print (\"나는 {}와 {} 타기를 즐겨합니다\" .format(\"자전거\", \"애\"))\n",
    "\n",
    "print (\"나는 {0}와 {1} 타기를 즐겨합니다\" .format(\"자전거\", \"애\")) # {} 속에 순서를 입력하면 변수의 순서별로 출력된다.\n",
    "\n",
    "print (\"나는 {1}와 {0} 타기를 즐겨합니다\" .format(\"자전거\", \"애\"))"
   ]
  },
  {
   "cell_type": "code",
   "execution_count": 104,
   "metadata": {},
   "outputs": [
    {
     "name": "stdout",
     "output_type": "stream",
     "text": [
      "나는 주냉이며, 10살만 어려지고 싶다.\n"
     ]
    }
   ],
   "source": [
    "### 방법3\n",
    "\n",
    "print (\"나는 {name}며, {age}살만 어려지고 싶다.\".format(name = \"주냉이\", age = 10)) # 변수를 설정해 {} 속에 변수명을 입력해 출력할 수 있다."
   ]
  },
  {
   "cell_type": "code",
   "execution_count": 105,
   "metadata": {},
   "outputs": [
    {
     "name": "stdout",
     "output_type": "stream",
     "text": [
      "나는 주냉이며, 10살만 어려지고 싶다.\n"
     ]
    }
   ],
   "source": [
    "## 방법4\n",
    "\n",
    "age = 10\n",
    "name = \"주냉이\"\n",
    "\n",
    "print (f\"나는 {name}며, {age}살만 어려지고 싶다.\") \n",
    "# 변수를 미리 설정하고 문자열 앞에 f를 입력하고 문자열을 입력하면 문자열 내 {}속에 입력된 변수가 출력된다."
   ]
  }
 ],
 "metadata": {
  "kernelspec": {
   "display_name": "Python 3",
   "language": "python",
   "name": "python3"
  },
  "language_info": {
   "codemirror_mode": {
    "name": "ipython",
    "version": 3
   },
   "file_extension": ".py",
   "mimetype": "text/x-python",
   "name": "python",
   "nbconvert_exporter": "python",
   "pygments_lexer": "ipython3",
   "version": "3.7.9"
  }
 },
 "nbformat": 4,
 "nbformat_minor": 4
}
