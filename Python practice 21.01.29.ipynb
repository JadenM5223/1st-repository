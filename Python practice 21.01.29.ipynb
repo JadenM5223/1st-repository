{
 "cells": [
  {
   "cell_type": "markdown",
   "metadata": {},
   "source": [
    "# Python 연습문제"
   ]
  },
  {
   "cell_type": "code",
   "execution_count": 4,
   "metadata": {},
   "outputs": [
    {
     "name": "stdout",
     "output_type": "stream",
     "text": [
      "B\n",
      "b\n"
     ]
    }
   ],
   "source": [
    "# 문제121 사용자로부터 문자 한 개를 입력 받고, 소문자일 경우 대문자로, 대문자 일 경우, 소문자로 변경해서 출력하라.\n",
    "user = input(\"\")\n",
    "if user.islower():\n",
    "    print (user.upper())\n",
    "else:\n",
    "    print (user.lower())"
   ]
  },
  {
   "cell_type": "code",
   "execution_count": 6,
   "metadata": {},
   "outputs": [
    {
     "name": "stdout",
     "output_type": "stream",
     "text": [
      "score: 65\n",
      "grade is B\n"
     ]
    }
   ],
   "source": [
    "# 문제122 점수 구간에 해당하는 학점이 아래와 같이 정의되어 있다. 사용자로부터 score를 입력받아 학점을 출력하라.\n",
    "\n",
    "#점수\t학점\n",
    "#81~100\tA\n",
    "#61~80\tB\n",
    "#41~60\tC\n",
    "#21~40\tD\n",
    "#0~20\tE\n",
    "\n",
    "score = input(\"score: \")\n",
    "score = int(score)\n",
    "if 81 <= score <= 100:\n",
    "    print(\"grade is A\")\n",
    "elif 61 <= score <= 80:\n",
    "    print(\"grade is B\")\n",
    "elif 41 <= score <= 60:\n",
    "    print(\"grade is C\")\n",
    "elif 21 <= score <= 40:\n",
    "    print(\"grade is D\")\n",
    "else:\n",
    "    print(\"grade is E\")"
   ]
  },
  {
   "cell_type": "code",
   "execution_count": 11,
   "metadata": {},
   "outputs": [
    {
     "name": "stdout",
     "output_type": "stream",
     "text": [
      "입력: 100 달러\n",
      "116700.0 원\n"
     ]
    }
   ],
   "source": [
    "# 문제123 사용자로부터 달러, 엔, 유로, 또는 위안 금액을 입력받은 후 이를 원으로 변환하는 프로그램을 작성하라. \n",
    "# 각 통화별 환율은 다음과 같다. \n",
    "# 사용자는 100 달러, 1000 엔, 13 유로, 100 위안과 같이 금액과 통화명 사이에 공백을 넣어 입력한다고 가정한다.\n",
    "환율 = {\"달러\": 1167, \n",
    "        \"엔\": 1.096, \n",
    "        \"유로\": 1268, \n",
    "        \"위안\": 171}\n",
    "user = input(\"입력: \")\n",
    "num, currency = user.split()\n",
    "print(float(num) * 환율[currency], \"원\")"
   ]
  },
  {
   "cell_type": "code",
   "execution_count": 12,
   "metadata": {},
   "outputs": [
    {
     "name": "stdout",
     "output_type": "stream",
     "text": [
      "input number1: 12\n",
      "input number2: 32\n",
      "input number3: 54\n",
      "54\n"
     ]
    }
   ],
   "source": [
    "# 문제124 사용자로부터 세 개의 숫자를 입력 받은 후 가장 큰 숫자를 출력하라.\n",
    "num1 = input(\"input number1: \")\n",
    "num2 = input(\"input number2: \")\n",
    "num3 = input(\"input number3: \")\n",
    "num1 = int(num1)\n",
    "num2 = int(num2)\n",
    "num3 = int(num3)\n",
    "\n",
    "if num1 > num2 and num1 > num3:\n",
    "    print(num1)\n",
    "elif num2 > num1 and num2 > num3:\n",
    "    print(num2)\n",
    "else:\n",
    "    print(num3)"
   ]
  },
  {
   "cell_type": "code",
   "execution_count": 16,
   "metadata": {},
   "outputs": [
    {
     "name": "stdout",
     "output_type": "stream",
     "text": [
      "휴대전화 번호 입력: 01135795223\n",
      "당신은 알수없음 사용자입니다.\n"
     ]
    }
   ],
   "source": [
    "# 문제125 휴대폰 번호 앞자리에 따라 통신사는 아래와 같이 구분된다. 사용자로부터 휴대전화 번호를 입력 받고, 통신사를 출력하는 프로그램을 작성하라.\n",
    "\n",
    "# 번호\t통신사\n",
    "# 011\tSKT\n",
    "# 016\tKT\n",
    "# 019\tLGU\n",
    "# 010\t알수없음\n",
    "number = input(\"휴대전화 번호 입력: \")\n",
    "num = number.split(\"-\")[0]\n",
    "if num == \"011\":\n",
    "    com = \"SKT\"\n",
    "elif num == \"016\":\n",
    "    com = \"KT\"\n",
    "elif num == \"019\":\n",
    "    com = \"LGU\"\n",
    "else:\n",
    "    com = \"알수없음\"\n",
    "print(f\"당신은 {com} 사용자입니다.\")"
   ]
  },
  {
   "cell_type": "code",
   "execution_count": 17,
   "metadata": {},
   "outputs": [
    {
     "name": "stdout",
     "output_type": "stream",
     "text": [
      "우편번호: 010\n",
      "강북구\n"
     ]
    }
   ],
   "source": [
    "# 문제126 우편번호는 5자리로 구성되는데, 앞의 세자리는 구를 나타낸다. 예를들어, 강북구의 경우 010, 011, 012 세 자리로 시작한다.\n",
    "우편번호 = input(\"우편번호: \")\n",
    "우편번호 = 우편번호[:3]\n",
    "if 우편번호 in [\"010\", \"011\", \"012\"]:\n",
    "    print(\"강북구\")\n",
    "elif 우편번호 in [\"014\", \"015\", \"016\"]:\n",
    "    print(\"도봉구\")\n",
    "else:\n",
    "    print(\"노원구\")"
   ]
  },
  {
   "cell_type": "code",
   "execution_count": 22,
   "metadata": {},
   "outputs": [
    {
     "name": "stdout",
     "output_type": "stream",
     "text": [
      "주민등록번호: 920811-1842619\n",
      "남자\n"
     ]
    }
   ],
   "source": [
    "# 문제127 주민등록번호 뒷 자리 7자리 중 첫째 자리는 성별을 나타내는데, 1, 3은 남자 2, 4는 여자를 의미한다. \n",
    "# 사용자로부터 13자리의 주민등록번호를 입력 받은 후 성별 (남자, 여자)를 출력하는 프로그램을 작성하라.\n",
    "주민번호 = input(\"주민등록번호: \")\n",
    "주민번호 = 주민번호.split(\"-\")[1]\n",
    "if 주민번호[0] == \"1\" or 주민번호[0] == \"3\":\n",
    "    print(\"남자\")\n",
    "else:\n",
    "    print(\"여자\")"
   ]
  },
  {
   "cell_type": "code",
   "execution_count": 23,
   "metadata": {},
   "outputs": [
    {
     "name": "stdout",
     "output_type": "stream",
     "text": [
      "주민등록번호: 920811-1842619\n",
      "서울이 아닙니다.\n"
     ]
    }
   ],
   "source": [
    "# 문제128 주민등록번호의 뒷 자리 7자리 중 두번째와 세번째는 지역코드를 의미한다. \n",
    "# 주민 등록 번호를 입력 받은 후 출생지가 서울인지 아닌지 판단하는 코드를 작성하라\n",
    "주민번호 = input(\"주민등록번호: \")\n",
    "뒷자리 = 주민번호.split(\"-\")[1]\n",
    "if 0 <= int(뒷자리[1:3]) <= 8:\n",
    "    print(\"서울입니다.\")\n",
    "else:\n",
    "    print(\"서울이 아닙니다.\")"
   ]
  },
  {
   "cell_type": "code",
   "execution_count": 24,
   "metadata": {},
   "outputs": [
    {
     "name": "stdout",
     "output_type": "stream",
     "text": [
      "주민등록번호: 920811-1842619\n",
      "유효한 주민등록번호입니다.\n"
     ]
    }
   ],
   "source": [
    "# 문제129 다음과 같이 사용자로부터 주민등록번호를 입력받은 후 주민등록번호가 유효한지를 출력하는 프로그램을 작성하라.\n",
    "num = input(\"주민등록번호: \")\n",
    "계산1 = int(num[0]) * 2 + int(num[1]) * 3 + int(num[2]) * 4 + int(num[3]) * 5 + int(num[4]) * 6 + \\\n",
    "        int(num[5]) * 7 + int(num[7]) * 8 + int(num[8]) * 9 + int(num[9]) * 2 + int(num[10])* 3 + \\\n",
    "        int(num[11])* 4 + int(num[12]) * 5\n",
    "계산2 = 11 - (계산1 % 11)\n",
    "계산3 = str(계산2)\n",
    "\n",
    "if num[-1] == 계산3[-1]:\n",
    "    print(\"유효한 주민등록번호입니다.\")\n",
    "else:\n",
    "    print(\"유효하지 않은 주민등록번호입니다.\")"
   ]
  },
  {
   "cell_type": "code",
   "execution_count": 25,
   "metadata": {},
   "outputs": [
    {
     "name": "stdout",
     "output_type": "stream",
     "text": [
      "상승장\n"
     ]
    }
   ],
   "source": [
    "# 문제130 아래 코드는 비트코인의 가격 정보를 딕셔너리로 가져오는 코드이다.\n",
    "# btc 딕셔너리 안에는 시가, 종가, 최고가, 최저가 등이 저장되어 있다. \n",
    "# 최고가와 최저가의 차이를 변동폭으로 정의할 때 (시가 + 변동폭)이 최고가 보다 높을 경우 \"상승장\", 그렇지 않은 경우 \"하락장\" 문자열을 출력하라.\n",
    "import requests\n",
    "btc = requests.get(\"https://api.bithumb.com/public/ticker/\").json()['data']\n",
    "\n",
    "변동폭 = float(btc['max_price']) - float(btc['min_price'])\n",
    "시가 = float(btc['opening_price'])\n",
    "최고가 = float(btc['max_price'])\n",
    "\n",
    "if (시가+변동폭) > 최고가:\n",
    "    print(\"상승장\")\n",
    "else:\n",
    "    print(\"하락장\")"
   ]
  },
  {
   "cell_type": "code",
   "execution_count": null,
   "metadata": {},
   "outputs": [],
   "source": []
  }
 ],
 "metadata": {
  "kernelspec": {
   "display_name": "Python 3",
   "language": "python",
   "name": "python3"
  },
  "language_info": {
   "codemirror_mode": {
    "name": "ipython",
    "version": 3
   },
   "file_extension": ".py",
   "mimetype": "text/x-python",
   "name": "python",
   "nbconvert_exporter": "python",
   "pygments_lexer": "ipython3",
   "version": "3.7.9"
  }
 },
 "nbformat": 4,
 "nbformat_minor": 4
}
