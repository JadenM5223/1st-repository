{
 "cells": [
  {
   "cell_type": "markdown",
   "metadata": {},
   "source": [
    "## if문"
   ]
  },
  {
   "cell_type": "code",
   "execution_count": 3,
   "metadata": {},
   "outputs": [
    {
     "name": "stdout",
     "output_type": "stream",
     "text": [
      "오 돈 좀 있네\n"
     ]
    }
   ],
   "source": [
    "pocket = ['paper', 'cellphone', 'money']\n",
    "if 'money' in pocket:\n",
    "    print (\"오 돈 좀 있네\")\n",
    "else:\n",
    "    print(\"절로 안가나\")"
   ]
  },
  {
   "cell_type": "code",
   "execution_count": 4,
   "metadata": {},
   "outputs": [
    {
     "name": "stdout",
     "output_type": "stream",
     "text": [
      "오 돈 좀 있네\n"
     ]
    }
   ],
   "source": [
    "pocket = ['paper', 'cellphone', 'money']\n",
    "if 'mone' or 'money' in pocket:\n",
    "    print (\"오 돈 좀 있네\")\n",
    "else:\n",
    "    print(\"절로 안가나\")"
   ]
  },
  {
   "cell_type": "code",
   "execution_count": 5,
   "metadata": {},
   "outputs": [
    {
     "name": "stdout",
     "output_type": "stream",
     "text": [
      "그거라도 맡겨\n"
     ]
    }
   ],
   "source": [
    "pocket = ['paper', 'cellphone', 'money']\n",
    "if 'mone' in pocket:\n",
    "    print (\"오 돈 좀 있네\")\n",
    "elif 'cellphone' in pocket:\n",
    "    print(\"그거라도 맡겨\")\n",
    "else:\n",
    "    print(\"절로 안가나\")"
   ]
  },
  {
   "cell_type": "markdown",
   "metadata": {},
   "source": [
    "## while문"
   ]
  },
  {
   "cell_type": "code",
   "execution_count": 8,
   "metadata": {},
   "outputs": [
    {
     "name": "stdout",
     "output_type": "stream",
     "text": [
      "나무를 1번 찍었습니다\n",
      "나무를 2번 찍었습니다\n",
      "나무를 3번 찍었습니다\n",
      "나무를 4번 찍었습니다\n",
      "나무를 5번 찍었습니다\n",
      "나무를 6번 찍었습니다\n",
      "나무를 7번 찍었습니다\n",
      "나무를 8번 찍었습니다\n",
      "나무를 9번 찍었습니다\n",
      "나무를 10번 찍었습니다\n",
      "아이고 나 죽소\n"
     ]
    }
   ],
   "source": [
    "treehit = 0\n",
    "while treehit < 10:\n",
    "    treehit += 1\n",
    "    print(\"나무를 %s번 찍었습니다\" % treehit)\n",
    "    if treehit == 10:\n",
    "        print(\"아이고 나 죽소\")\n",
    "        break"
   ]
  },
  {
   "cell_type": "code",
   "execution_count": 9,
   "metadata": {},
   "outputs": [],
   "source": [
    "prompt = '''\n",
    "1. add\n",
    "2. del\n",
    "3. list\n",
    "4. quit\n",
    "\n",
    "Enter number: '''"
   ]
  },
  {
   "cell_type": "code",
   "execution_count": 10,
   "metadata": {},
   "outputs": [
    {
     "name": "stdout",
     "output_type": "stream",
     "text": [
      "\n",
      "1. add\n",
      "2. del\n",
      "3. list\n",
      "4. quit\n",
      "\n",
      "Enter number: \n",
      "1\n",
      "\n",
      "1. add\n",
      "2. del\n",
      "3. list\n",
      "4. quit\n",
      "\n",
      "Enter number: \n",
      "2\n",
      "\n",
      "1. add\n",
      "2. del\n",
      "3. list\n",
      "4. quit\n",
      "\n",
      "Enter number: \n",
      "3\n",
      "\n",
      "1. add\n",
      "2. del\n",
      "3. list\n",
      "4. quit\n",
      "\n",
      "Enter number: \n",
      "4\n"
     ]
    }
   ],
   "source": [
    "number = 0\n",
    "while number != 4:\n",
    "    print(prompt)\n",
    "    number = int(input())"
   ]
  },
  {
   "cell_type": "code",
   "execution_count": 11,
   "metadata": {},
   "outputs": [
    {
     "name": "stdout",
     "output_type": "stream",
     "text": [
      "아나 들고가라\n",
      "커피가 9잔 남았습니다\n",
      "아나 들고가라\n",
      "커피가 8잔 남았습니다\n",
      "아나 들고가라\n",
      "커피가 7잔 남았습니다\n",
      "아나 들고가라\n",
      "커피가 6잔 남았습니다\n",
      "아나 들고가라\n",
      "커피가 5잔 남았습니다\n",
      "아나 들고가라\n",
      "커피가 4잔 남았습니다\n",
      "아나 들고가라\n",
      "커피가 3잔 남았습니다\n",
      "아나 들고가라\n",
      "커피가 2잔 남았습니다\n",
      "아나 들고가라\n",
      "커피가 1잔 남았습니다\n",
      "아나 들고가라\n",
      "커피가 0잔 남았습니다\n",
      "없어. 돌아가.\n"
     ]
    }
   ],
   "source": [
    "coffee = 10\n",
    "money = 300\n",
    "while money:\n",
    "    print(\"아나 들고가라\")\n",
    "    coffee -= 1\n",
    "    print(\"커피가 %s잔 남았습니다\" % coffee)\n",
    "    if coffee == 0:\n",
    "        print(\"없어. 돌아가.\")\n",
    "        break"
   ]
  },
  {
   "cell_type": "code",
   "execution_count": 13,
   "metadata": {},
   "outputs": [
    {
     "name": "stdout",
     "output_type": "stream",
     "text": [
      "1\n",
      "3\n",
      "5\n",
      "7\n",
      "9\n"
     ]
    }
   ],
   "source": [
    "a = 0\n",
    "while a < 10:\n",
    "    a += 1\n",
    "    if a % 2 == 0: continue\n",
    "    print(a)"
   ]
  },
  {
   "cell_type": "code",
   "execution_count": 17,
   "metadata": {},
   "outputs": [
    {
     "ename": "SyntaxError",
     "evalue": "invalid syntax (<ipython-input-17-1b350c719ef9>, line 9)",
     "output_type": "error",
     "traceback": [
      "\u001b[0;36m  File \u001b[0;32m\"<ipython-input-17-1b350c719ef9>\"\u001b[0;36m, line \u001b[0;32m9\u001b[0m\n\u001b[0;31m    coffee = coffee -1\u001b[0m\n\u001b[0m         ^\u001b[0m\n\u001b[0;31mSyntaxError\u001b[0m\u001b[0;31m:\u001b[0m invalid syntax\n"
     ]
    }
   ],
   "source": [
    "coffee = 10\n",
    "while True:\n",
    "    money = int(input(\"돈을 넣어 주세요: \"))\n",
    "    if money == 300:\n",
    "        print (\"커피를 줍니다\")\n",
    "        coffee = coffee -1\n",
    "    elif money > 300:\n",
    "        print(\"거스름돈 %s를 주고 커피를 줍니다\" % (money-300)\n",
    "        coffee = coffee -1\n",
    "    else:    \n",
    "        print(\"돈을 다시 돌려주고 커피를 주지 않습니다.\")\n",
    "        print(\"남은 커피의 양은 %d개 입니다.\" % coffee)\n",
    "    if coffee == 0:\n",
    "        print(\"없어. 돌아가\")\n",
    "        break"
   ]
  },
  {
   "cell_type": "code",
   "execution_count": 18,
   "metadata": {},
   "outputs": [
    {
     "name": "stdout",
     "output_type": "stream",
     "text": [
      "돈을 넣어 주세요: 400\n",
      "거스름돈 100를 주고 커피를 줍니다.\n",
      "돈을 넣어 주세요: 200\n",
      "돈을 다시 돌려주고 커피를 주지 않습니다.\n",
      "남은 커피의 양은 9개 입니다.\n",
      "돈을 넣어 주세요: 400\n",
      "거스름돈 100를 주고 커피를 줍니다.\n",
      "돈을 넣어 주세요: 400\n",
      "거스름돈 100를 주고 커피를 줍니다.\n",
      "돈을 넣어 주세요: 400\n",
      "거스름돈 100를 주고 커피를 줍니다.\n",
      "돈을 넣어 주세요: 400\n",
      "거스름돈 100를 주고 커피를 줍니다.\n",
      "돈을 넣어 주세요: 400\n",
      "거스름돈 100를 주고 커피를 줍니다.\n",
      "돈을 넣어 주세요: 400\n",
      "거스름돈 100를 주고 커피를 줍니다.\n",
      "돈을 넣어 주세요: 400\n",
      "거스름돈 100를 주고 커피를 줍니다.\n",
      "돈을 넣어 주세요: 400\n",
      "거스름돈 100를 주고 커피를 줍니다.\n",
      "돈을 넣어 주세요: 400\n",
      "거스름돈 100를 주고 커피를 줍니다.\n",
      "커피가 다 떨어졌습니다. 판매를 중지 합니다.\n"
     ]
    }
   ],
   "source": [
    "coffee = 10\n",
    "while True:\n",
    "    money = int(input(\"돈을 넣어 주세요: \"))\n",
    "    if money == 300:\n",
    "        print(\"커피를 줍니다.\")\n",
    "        coffee = coffee -1\n",
    "    elif money > 300:\n",
    "        print(\"거스름돈 %d를 주고 커피를 줍니다.\" % (money -300))\n",
    "        coffee = coffee -1\n",
    "    else:\n",
    "        print(\"돈을 다시 돌려주고 커피를 주지 않습니다.\")\n",
    "        print(\"남은 커피의 양은 %d개 입니다.\" % coffee)\n",
    "    if coffee == 0:\n",
    "        print(\"커피가 다 떨어졌습니다. 판매를 중지 합니다.\")\n",
    "        break"
   ]
  },
  {
   "cell_type": "markdown",
   "metadata": {},
   "source": [
    "### for문"
   ]
  },
  {
   "cell_type": "code",
   "execution_count": 19,
   "metadata": {},
   "outputs": [
    {
     "name": "stdout",
     "output_type": "stream",
     "text": [
      "one\n",
      "two\n",
      "three\n"
     ]
    }
   ],
   "source": [
    "test_list = ['one', 'two', 'three'] \n",
    "for k in test_list:\n",
    "    print(k)"
   ]
  },
  {
   "cell_type": "code",
   "execution_count": 22,
   "metadata": {},
   "outputs": [
    {
     "name": "stdout",
     "output_type": "stream",
     "text": [
      "3\n",
      "7\n",
      "11\n"
     ]
    }
   ],
   "source": [
    "a = [(1,2), (3,4), (5,6)]\n",
    "for (first,last) in a:\n",
    "    print (first + last)"
   ]
  },
  {
   "cell_type": "code",
   "execution_count": 24,
   "metadata": {},
   "outputs": [
    {
     "name": "stdout",
     "output_type": "stream",
     "text": [
      "1번 학생은 합격입니다.\n",
      "2번 학생은 불합격입니다\n",
      "3번 학생은 합격입니다.\n",
      "4번 학생은 불합격입니다\n",
      "5번 학생은 합격입니다.\n"
     ]
    }
   ],
   "source": [
    "marks = [90, 25, 67, 45, 80]\n",
    "\n",
    "number = 0\n",
    "for k in marks:\n",
    "    number += 1\n",
    "    if k >= 60:\n",
    "        print (\"%s번 학생은 합격입니다.\" % number)\n",
    "    else:\n",
    "        print (\"%s번 학생은 불합격입니다\" % number)"
   ]
  },
  {
   "cell_type": "code",
   "execution_count": 27,
   "metadata": {},
   "outputs": [
    {
     "name": "stdout",
     "output_type": "stream",
     "text": [
      "1번 학생은 합격입니다.\n",
      "3번 학생은 합격입니다.\n",
      "5번 학생은 합격입니다.\n"
     ]
    }
   ],
   "source": [
    "marks = [90, 25, 67, 45, 80]\n",
    "\n",
    "number = 0\n",
    "for k in marks:\n",
    "    number += 1\n",
    "    if k < 60: \n",
    "        continue\n",
    "    print(\"%s번 학생은 합격입니다.\" % number)"
   ]
  },
  {
   "cell_type": "code",
   "execution_count": null,
   "metadata": {},
   "outputs": [],
   "source": []
  }
 ],
 "metadata": {
  "kernelspec": {
   "display_name": "Python 3",
   "language": "python",
   "name": "python3"
  },
  "language_info": {
   "codemirror_mode": {
    "name": "ipython",
    "version": 3
   },
   "file_extension": ".py",
   "mimetype": "text/x-python",
   "name": "python",
   "nbconvert_exporter": "python",
   "pygments_lexer": "ipython3",
   "version": "3.7.9"
  }
 },
 "nbformat": 4,
 "nbformat_minor": 4
}
